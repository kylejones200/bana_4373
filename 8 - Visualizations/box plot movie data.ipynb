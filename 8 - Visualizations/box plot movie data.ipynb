{
 "cells": [
  {
   "cell_type": "code",
   "execution_count": 84,
   "metadata": {},
   "outputs": [],
   "source": [
    "import pandas as pd\n",
    "import seaborn as sns\n",
    "import numpy as np\n",
    "\n",
    "df = pd.read_excel(\"/Users/jnesnky/BANA_3363/Excel and inclass Demonstrations/Regression/moviedataRAW.xlsx\")"
   ]
  },
  {
   "cell_type": "code",
   "execution_count": 85,
   "metadata": {},
   "outputs": [
    {
     "data": {
      "text/html": [
       "<div>\n",
       "<style scoped>\n",
       "    .dataframe tbody tr th:only-of-type {\n",
       "        vertical-align: middle;\n",
       "    }\n",
       "\n",
       "    .dataframe tbody tr th {\n",
       "        vertical-align: top;\n",
       "    }\n",
       "\n",
       "    .dataframe thead th {\n",
       "        text-align: right;\n",
       "    }\n",
       "</style>\n",
       "<table border=\"1\" class=\"dataframe\">\n",
       "  <thead>\n",
       "    <tr style=\"text-align: right;\">\n",
       "      <th></th>\n",
       "      <th>title</th>\n",
       "      <th>lead</th>\n",
       "      <th>tickets</th>\n",
       "      <th>runtime</th>\n",
       "      <th>sequel</th>\n",
       "      <th>type</th>\n",
       "      <th>genre</th>\n",
       "      <th>domestic_rev</th>\n",
       "      <th>intl_rev</th>\n",
       "      <th>totalrev</th>\n",
       "      <th>...</th>\n",
       "      <th>rating</th>\n",
       "      <th>budget</th>\n",
       "      <th>sex</th>\n",
       "      <th>RT_Rating</th>\n",
       "      <th>CPI</th>\n",
       "      <th>real_budget</th>\n",
       "      <th>real_rev</th>\n",
       "      <th>lnRealBudget</th>\n",
       "      <th>lnRealRev</th>\n",
       "      <th>return</th>\n",
       "    </tr>\n",
       "  </thead>\n",
       "  <tbody>\n",
       "    <tr>\n",
       "      <td>0</td>\n",
       "      <td>Exorcist The</td>\n",
       "      <td>von Sydow Max</td>\n",
       "      <td>115.744634</td>\n",
       "      <td>121</td>\n",
       "      <td>no</td>\n",
       "      <td>Fantasy</td>\n",
       "      <td>Horror</td>\n",
       "      <td>204.9</td>\n",
       "      <td>197.9</td>\n",
       "      <td>402.8</td>\n",
       "      <td>...</td>\n",
       "      <td>R</td>\n",
       "      <td>12.0</td>\n",
       "      <td>Male</td>\n",
       "      <td>86</td>\n",
       "      <td>44.425</td>\n",
       "      <td>64.016657</td>\n",
       "      <td>2148.825796</td>\n",
       "      <td>4.159143</td>\n",
       "      <td>7.672677</td>\n",
       "      <td>33.566667</td>\n",
       "    </tr>\n",
       "    <tr>\n",
       "      <td>1</td>\n",
       "      <td>Good Will Hunting</td>\n",
       "      <td>Williams Robin</td>\n",
       "      <td>29.531565</td>\n",
       "      <td>126</td>\n",
       "      <td>no</td>\n",
       "      <td>Contemporary Fiction</td>\n",
       "      <td>Drama</td>\n",
       "      <td>138.3</td>\n",
       "      <td>87.5</td>\n",
       "      <td>225.8</td>\n",
       "      <td>...</td>\n",
       "      <td>R</td>\n",
       "      <td>10.0</td>\n",
       "      <td>Male</td>\n",
       "      <td>97</td>\n",
       "      <td>160.525</td>\n",
       "      <td>14.763744</td>\n",
       "      <td>333.365339</td>\n",
       "      <td>2.692174</td>\n",
       "      <td>5.809239</td>\n",
       "      <td>22.580000</td>\n",
       "    </tr>\n",
       "    <tr>\n",
       "      <td>2</td>\n",
       "      <td>Fatal Attraction</td>\n",
       "      <td>Douglas Michael</td>\n",
       "      <td>37.730126</td>\n",
       "      <td>120</td>\n",
       "      <td>no</td>\n",
       "      <td>Contemporary Fiction</td>\n",
       "      <td>Thriller</td>\n",
       "      <td>148.5</td>\n",
       "      <td>163.5</td>\n",
       "      <td>312.0</td>\n",
       "      <td>...</td>\n",
       "      <td>R</td>\n",
       "      <td>14.0</td>\n",
       "      <td>Female</td>\n",
       "      <td>78</td>\n",
       "      <td>113.617</td>\n",
       "      <td>29.202760</td>\n",
       "      <td>650.804369</td>\n",
       "      <td>3.374263</td>\n",
       "      <td>6.478209</td>\n",
       "      <td>22.285714</td>\n",
       "    </tr>\n",
       "    <tr>\n",
       "      <td>3</td>\n",
       "      <td>Back to the Future</td>\n",
       "      <td>Fox Michael J</td>\n",
       "      <td>57.700364</td>\n",
       "      <td>116</td>\n",
       "      <td>no</td>\n",
       "      <td>Science Fiction</td>\n",
       "      <td>Adventure</td>\n",
       "      <td>212.3</td>\n",
       "      <td>173.3</td>\n",
       "      <td>385.6</td>\n",
       "      <td>...</td>\n",
       "      <td>PG</td>\n",
       "      <td>19.0</td>\n",
       "      <td>Male</td>\n",
       "      <td>96</td>\n",
       "      <td>107.600</td>\n",
       "      <td>41.848559</td>\n",
       "      <td>849.305502</td>\n",
       "      <td>3.734057</td>\n",
       "      <td>6.744419</td>\n",
       "      <td>20.294737</td>\n",
       "    </tr>\n",
       "    <tr>\n",
       "      <td>4</td>\n",
       "      <td>Courageous</td>\n",
       "      <td>Kendrick Alex</td>\n",
       "      <td>4.353138</td>\n",
       "      <td>129</td>\n",
       "      <td>no</td>\n",
       "      <td>Contemporary Fiction</td>\n",
       "      <td>Drama</td>\n",
       "      <td>34.5</td>\n",
       "      <td>0.7</td>\n",
       "      <td>35.2</td>\n",
       "      <td>...</td>\n",
       "      <td>PG-13</td>\n",
       "      <td>2.0</td>\n",
       "      <td>Male</td>\n",
       "      <td>30</td>\n",
       "      <td>224.923</td>\n",
       "      <td>2.107343</td>\n",
       "      <td>37.089244</td>\n",
       "      <td>0.745428</td>\n",
       "      <td>3.613327</td>\n",
       "      <td>17.600000</td>\n",
       "    </tr>\n",
       "  </tbody>\n",
       "</table>\n",
       "<p>5 rows × 23 columns</p>\n",
       "</div>"
      ],
      "text/plain": [
       "                title             lead     tickets  runtime sequel  \\\n",
       "0        Exorcist The    von Sydow Max  115.744634      121     no   \n",
       "1   Good Will Hunting   Williams Robin   29.531565      126     no   \n",
       "2    Fatal Attraction  Douglas Michael   37.730126      120     no   \n",
       "3  Back to the Future    Fox Michael J   57.700364      116     no   \n",
       "4          Courageous    Kendrick Alex    4.353138      129     no   \n",
       "\n",
       "                   type      genre  domestic_rev  intl_rev  totalrev  ...  \\\n",
       "0               Fantasy     Horror         204.9     197.9     402.8  ...   \n",
       "1  Contemporary Fiction      Drama         138.3      87.5     225.8  ...   \n",
       "2  Contemporary Fiction   Thriller         148.5     163.5     312.0  ...   \n",
       "3       Science Fiction  Adventure         212.3     173.3     385.6  ...   \n",
       "4  Contemporary Fiction      Drama          34.5       0.7      35.2  ...   \n",
       "\n",
       "   rating  budget     sex RT_Rating      CPI real_budget     real_rev  \\\n",
       "0       R    12.0    Male        86   44.425   64.016657  2148.825796   \n",
       "1       R    10.0    Male        97  160.525   14.763744   333.365339   \n",
       "2       R    14.0  Female        78  113.617   29.202760   650.804369   \n",
       "3      PG    19.0    Male        96  107.600   41.848559   849.305502   \n",
       "4   PG-13     2.0    Male        30  224.923    2.107343    37.089244   \n",
       "\n",
       "   lnRealBudget  lnRealRev     return  \n",
       "0      4.159143   7.672677  33.566667  \n",
       "1      2.692174   5.809239  22.580000  \n",
       "2      3.374263   6.478209  22.285714  \n",
       "3      3.734057   6.744419  20.294737  \n",
       "4      0.745428   3.613327  17.600000  \n",
       "\n",
       "[5 rows x 23 columns]"
      ]
     },
     "execution_count": 85,
     "metadata": {},
     "output_type": "execute_result"
    }
   ],
   "source": [
    "df.head()"
   ]
  },
  {
   "cell_type": "code",
   "execution_count": 86,
   "metadata": {},
   "outputs": [],
   "source": [
    "df = df[df[\"genre\"] != \"Horror\"]"
   ]
  },
  {
   "cell_type": "code",
   "execution_count": 88,
   "metadata": {},
   "outputs": [],
   "source": [
    "def violinplot(x, y, df):\n",
    "    \n",
    "    ax = sns.violinplot(x=x, y=y,\n",
    "                    data=df, palette=\"muted\", inner=\"quartile\", cut=0)\n",
    "\n",
    "    ax.axhline(np.mean(df[y]), ls='--')\n",
    "    \n",
    "    return ax"
   ]
  },
  {
   "cell_type": "code",
   "execution_count": 89,
   "metadata": {},
   "outputs": [
    {
     "data": {
      "text/plain": [
       "<matplotlib.axes._subplots.AxesSubplot at 0x125bafc90>"
      ]
     },
     "execution_count": 89,
     "metadata": {},
     "output_type": "execute_result"
    },
    {
     "data": {
      "image/png": "[encoded data removed]",
      "text/plain": [
       "<Figure size 432x288 with 1 Axes>"
      ]
     },
     "metadata": {
      "needs_background": "light"
     },
     "output_type": "display_data"
    }
   ],
   "source": [
    "violinplot(x= \"genre\", y=\"real_rev\", df = df)"
   ]
  },
  {
   "cell_type": "code",
   "execution_count": 90,
   "metadata": {},
   "outputs": [
    {
     "data": {
      "text/plain": [
       "<matplotlib.axes._subplots.AxesSubplot at 0x125cbb410>"
      ]
     },
     "execution_count": 90,
     "metadata": {},
     "output_type": "execute_result"
    },
    {
     "data": {
      "image/png": "[encoded data removed]",
      "text/plain": [
       "<Figure size 432x288 with 1 Axes>"
      ]
     },
     "metadata": {
      "needs_background": "light"
     },
     "output_type": "display_data"
    }
   ],
   "source": [
    "violinplot(x= \"genre\", y=\"return\", df = df)"
   ]
  },
  {
   "cell_type": "code",
   "execution_count": 92,
   "metadata": {},
   "outputs": [
    {
     "data": {
      "text/plain": [
       "<matplotlib.lines.Line2D at 0x1257a9b10>"
      ]
     },
     "execution_count": 92,
     "metadata": {},
     "output_type": "execute_result"
    },
    {
     "data": {
      "image/png": "[encoded data removed]",
      "text/plain": [
       "<Figure size 432x288 with 1 Axes>"
      ]
     },
     "metadata": {
      "needs_background": "light"
     },
     "output_type": "display_data"
    }
   ],
   "source": [
    "\n",
    "ax = sns.distplot(df[df[\"genre\"]==\"Comedy\"][\"return\"])\n",
    "\n",
    "ax.set_title(\"Comedy returns\")\n",
    "ax.axvline(np.mean(df[\"return\"]), ls='--')\n",
    "ax.axvline(np.mean(df[df[\"genre\"]==\"Comedy\"][\"return\"]), ls='-', color='r')"
   ]
  },
  {
   "cell_type": "code",
   "execution_count": 82,
   "metadata": {},
   "outputs": [],
   "source": [
    "\n",
    "def ci(df, cat, choice, col):\n",
    "    global_mean = np.mean(df[col])\n",
    "    choice_mean = np.mean(df[df[cat]==choice][col])\n",
    "    choice_stdev = np.std(df[df[cat]==choice][col])\n",
    "    choice_len = len(df[df[cat]==choice])\n",
    "    lower = choice_mean - 1.96*(choice_stdev / np.sqrt(choice_len))\n",
    "    upper = choice_mean + 1.96*(choice_stdev / np.sqrt(choice_len))\n",
    "    \n",
    "    c = [True if lower < np.mean(df[col]) < upper else False]\n",
    "\n",
    "    \n",
    "    return lower, upper, global_mean, c"
   ]
  },
  {
   "cell_type": "code",
   "execution_count": 83,
   "metadata": {},
   "outputs": [
    {
     "data": {
      "text/plain": [
       "(3.4692314354045415, 4.7053010624553835, 3.8258608489936807, [True])"
      ]
     },
     "execution_count": 83,
     "metadata": {},
     "output_type": "execute_result"
    }
   ],
   "source": [
    "ci(df = df, cat = \"genre\", choice = \"Comedy\", col=\"return\")"
   ]
  },
  {
   "cell_type": "code",
   "execution_count": 56,
   "metadata": {},
   "outputs": [
    {
     "data": {
      "text/plain": [
       "<matplotlib.lines.Line2D at 0x125ae3e10>"
      ]
     },
     "execution_count": 56,
     "metadata": {},
     "output_type": "execute_result"
    },
    {
     "data": {
      "image/png": "[encoded data removed]",
      "text/plain": [
       "<Figure size 432x288 with 1 Axes>"
      ]
     },
     "metadata": {
      "needs_background": "light"
     },
     "output_type": "display_data"
    }
   ],
   "source": [
    "\n",
    "ax = sns.distplot(df[\"return\"])\n",
    "\n",
    "ax.set_title(\"All Movie Returns\")\n",
    "ax.axvline(np.mean(df[\"return\"]), ls='--')\n"
   ]
  },
  {
   "cell_type": "code",
   "execution_count": 57,
   "metadata": {},
   "outputs": [
    {
     "ename": "NameError",
     "evalue": "name 'x' is not defined",
     "output_type": "error",
     "traceback": [
      "\u001b[0;31m---------------------------------------------------------------------------\u001b[0m",
      "\u001b[0;31mNameError\u001b[0m                                 Traceback (most recent call last)",
      "\u001b[0;32m<ipython-input-57-6fcf9dfbd479>\u001b[0m in \u001b[0;36m<module>\u001b[0;34m\u001b[0m\n\u001b[0;32m----> 1\u001b[0;31m \u001b[0mx\u001b[0m\u001b[0;34m\u001b[0m\u001b[0;34m\u001b[0m\u001b[0m\n\u001b[0m",
      "\u001b[0;31mNameError\u001b[0m: name 'x' is not defined"
     ]
    }
   ],
   "source": [
    "x"
   ]
  },
  {
   "cell_type": "code",
   "execution_count": null,
   "metadata": {},
   "outputs": [],
   "source": []
  },
  {
   "cell_type": "code",
   "execution_count": null,
   "metadata": {},
   "outputs": [],
   "source": []
  }
 ],
 "metadata": {
  "kernelspec": {
   "display_name": "Python 3",
   "language": "python",
   "name": "python3"
  },
  "language_info": {
   "codemirror_mode": {
    "name": "ipython",
    "version": 3
   },
   "file_extension": ".py",
   "mimetype": "text/x-python",
   "name": "python",
   "nbconvert_exporter": "python",
   "pygments_lexer": "ipython3",
   "version": "3.8.8"
  },
  "toc": {
   "base_numbering": 1,
   "nav_menu": {},
   "number_sections": true,
   "sideBar": true,
   "skip_h1_title": false,
   "title_cell": "Table of Contents",
   "title_sidebar": "Contents",
   "toc_cell": false,
   "toc_position": {},
   "toc_section_display": true,
   "toc_window_display": false
  }
 },
 "nbformat": 4,
 "nbformat_minor": 2
}
