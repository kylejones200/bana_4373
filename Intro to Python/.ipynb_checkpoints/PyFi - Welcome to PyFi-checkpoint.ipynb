{
 "cells": [
  {
   "cell_type": "markdown",
   "metadata": {},
   "source": [
    "# Course introduction\n",
    "\n",
    "## Am I ready to take this course?\n",
    "Some programming experience will help, but is not required. If you have no programming experience, we strongly encourage you use some of the many free online training materials. \n",
    "\n",
    "There are lots of online resource that you can use to supplement things we learn in class. Some examples are:\n",
    "[Codecademy Python course](https://www.codecademy.com/catalog/language/python)\n",
    "[python.org Tutorial](https://docs.python.org/3/tutorial/)\n",
    "[software carpentry](https://software-carpentry.org/)\n",
    "Google (Just type in your question and follow the first stackoverflow link. This is surprisingly effective; do this first.)\n",
    "\n",
    "## What computational resources do I need for class?\n",
    "Each particpant has a sandbox AWS environment to use. You can execute the code as we present in class. You don't need to download anything.\n",
    "\n",
    "## How is this for finance specifically?\n",
    "The goal of this class is to provide an introduction to Python using examples from Finance. To get started, we will cover general topics that are no specific to the Energy Sector or Finance to build a foundation. As we progress in the course, we will use examples that come from real financial analytics tasks. If you have any topics you would like to cover, please let us know, and we will do our best to accommodate.\n",
    "\n",
    "# Class setup\n",
    "## Class format\n",
    "We will present the concepts and code in class. Participants are encouraged to follow along and execute the code in their own sandbox and participate in exercises. Each course module has interactive exercises, so you can learn by running code snippets as we go and ask questions.\n",
    "\n",
    "## Course materials\n",
    "The course materials are available in the class repository. The materials is primarily in the form of Jupyter notebooks with additional materials such as data in supplementary folders. \n",
    "\n",
    "\n",
    "# Jupyter notebooks\n",
    "Jupyter notebooks are file format that lets us combine code and comments. The text can be plain or formatted with Markdown. Jupyter can run code in more than 40 languages but we will only use Python for this course.\n",
    "\n",
    "Create a new notebook\n",
    "Start up your local notebook server in your new repo and create a new Jupyter notebook from the local server page.\n",
    "\n",
    "## Choose syntax for a cell\n",
    "Notebooks are built of cells. Cells can have multiple built-in formats including code or text. You can select the desired format from a dropdown menu at the top. Select \"Markdown\" for writing text and \"code\" for writing code. \n",
    "\n",
    "## Move between cells\n",
    "To run a given cell, type [shift-enter]. You can run all of the cells with \"Cell\" > \"Run all\". You can see in additional options in the \"Cell\" menu.\n",
    "\n",
    "## Homework\n",
    "We will do the exercises in class. The sandbox environment will be available to you throughout the course, so you can easily go back and review modules we have covered. You can also edit the models and see how that changes the outcome. If you \"break\" something, we can always reboot with a clean version. "
   ]
  },
  {
   "cell_type": "markdown",
   "metadata": {},
   "source": [
    "# About your instructors\n",
    "\n",
    "## Kyle Jones\n",
    "\n",
    "Kyle Jones is a Principal Solutions Architect for Amazon Web Services (AWS) specializing in the Energy Sector. Prior to joining AWS, Kyle was the lead architect for ExxonMobil's upstream data science and analytics platforms. He taught weekly classes at ExxonMobil on Python, R, and data science. \n",
    "\n",
    "Outside of AWS, Kyle is a lecturer in economics and business analytics at a local university. He holds a doctorate in systems engineering from George Washington University and a masters in applied economics from Harvard University. He is based in Houston, Texas. \n",
    "\n",
    "## Kevin Wang\n",
    "\n",
    "Kevin Wang is an Associate Solutions Architect for Amazon Web Services (AWS) specializing in the Energy Sector.\n",
    "\n",
    "Kevin holds a bachelors degree in Finance with a minor in computer science from the University of Texas, Austin. He is based in Seatle, Washington. "
   ]
  },
  {
   "cell_type": "code",
   "execution_count": null,
   "metadata": {},
   "outputs": [],
   "source": []
  }
 ],
 "metadata": {
  "kernelspec": {
   "display_name": "Python 3",
   "language": "python",
   "name": "python3"
  },
  "language_info": {
   "codemirror_mode": {
    "name": "ipython",
    "version": 3
   },
   "file_extension": ".py",
   "mimetype": "text/x-python",
   "name": "python",
   "nbconvert_exporter": "python",
   "pygments_lexer": "ipython3",
   "version": "3.7.4"
  },
  "toc": {
   "base_numbering": 1,
   "nav_menu": {},
   "number_sections": true,
   "sideBar": true,
   "skip_h1_title": false,
   "title_cell": "Table of Contents",
   "title_sidebar": "Contents",
   "toc_cell": false,
   "toc_position": {},
   "toc_section_display": true,
   "toc_window_display": false
  }
 },
 "nbformat": 4,
 "nbformat_minor": 2
}
