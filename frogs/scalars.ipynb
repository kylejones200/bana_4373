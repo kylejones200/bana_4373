{
 "cells": [
  {
   "cell_type": "code",
   "execution_count": 1,
   "id": "4503c79d",
   "metadata": {},
   "outputs": [],
   "source": [
    "import pandas as pd\n",
    "import seaborn as sns\n",
    "%matplotlib inline\n",
    "\n",
    "df = pd.read_excel(\"data/froggy1.xlsx\")"
   ]
  },
  {
   "cell_type": "code",
   "execution_count": 2,
   "id": "8935ff1c",
   "metadata": {},
   "outputs": [],
   "source": [
    "from sklearn.preprocessing import MinMaxScaler\n",
    "scaler = MinMaxScaler()\n",
    "df_minmax = scaler.fit_transform(df[[\"distance\",\"duration\",\"distance_3\",\"jump_n\"]])\n",
    "\n",
    "df_minmax = pd.DataFrame(df_minmax)"
   ]
  },
  {
   "cell_type": "code",
   "execution_count": 3,
   "id": "8c319b28",
   "metadata": {},
   "outputs": [
    {
     "data": {
      "text/html": [
       "<div>\n",
       "<style scoped>\n",
       "    .dataframe tbody tr th:only-of-type {\n",
       "        vertical-align: middle;\n",
       "    }\n",
       "\n",
       "    .dataframe tbody tr th {\n",
       "        vertical-align: top;\n",
       "    }\n",
       "\n",
       "    .dataframe thead th {\n",
       "        text-align: right;\n",
       "    }\n",
       "</style>\n",
       "<table border=\"1\" class=\"dataframe\">\n",
       "  <thead>\n",
       "    <tr style=\"text-align: right;\">\n",
       "      <th></th>\n",
       "      <th>0</th>\n",
       "      <th>1</th>\n",
       "      <th>2</th>\n",
       "      <th>3</th>\n",
       "    </tr>\n",
       "  </thead>\n",
       "  <tbody>\n",
       "    <tr>\n",
       "      <th>0</th>\n",
       "      <td>0.755073</td>\n",
       "      <td>0.636358</td>\n",
       "      <td>0.0</td>\n",
       "      <td>0.000000</td>\n",
       "    </tr>\n",
       "    <tr>\n",
       "      <th>1</th>\n",
       "      <td>0.807535</td>\n",
       "      <td>0.781819</td>\n",
       "      <td>0.0</td>\n",
       "      <td>0.111111</td>\n",
       "    </tr>\n",
       "    <tr>\n",
       "      <th>2</th>\n",
       "      <td>0.000000</td>\n",
       "      <td>0.000000</td>\n",
       "      <td>0.0</td>\n",
       "      <td>0.222222</td>\n",
       "    </tr>\n",
       "    <tr>\n",
       "      <th>3</th>\n",
       "      <td>0.123569</td>\n",
       "      <td>0.472722</td>\n",
       "      <td>0.0</td>\n",
       "      <td>0.000000</td>\n",
       "    </tr>\n",
       "    <tr>\n",
       "      <th>4</th>\n",
       "      <td>0.000000</td>\n",
       "      <td>0.000000</td>\n",
       "      <td>0.0</td>\n",
       "      <td>0.111111</td>\n",
       "    </tr>\n",
       "  </tbody>\n",
       "</table>\n",
       "</div>"
      ],
      "text/plain": [
       "          0         1    2         3\n",
       "0  0.755073  0.636358  0.0  0.000000\n",
       "1  0.807535  0.781819  0.0  0.111111\n",
       "2  0.000000  0.000000  0.0  0.222222\n",
       "3  0.123569  0.472722  0.0  0.000000\n",
       "4  0.000000  0.000000  0.0  0.111111"
      ]
     },
     "execution_count": 3,
     "metadata": {},
     "output_type": "execute_result"
    }
   ],
   "source": [
    "df_minmax.head()"
   ]
  },
  {
   "cell_type": "code",
   "execution_count": 4,
   "id": "0428c2f8",
   "metadata": {},
   "outputs": [
    {
     "data": {
      "text/html": [
       "<div>\n",
       "<style scoped>\n",
       "    .dataframe tbody tr th:only-of-type {\n",
       "        vertical-align: middle;\n",
       "    }\n",
       "\n",
       "    .dataframe tbody tr th {\n",
       "        vertical-align: top;\n",
       "    }\n",
       "\n",
       "    .dataframe thead th {\n",
       "        text-align: right;\n",
       "    }\n",
       "</style>\n",
       "<table border=\"1\" class=\"dataframe\">\n",
       "  <thead>\n",
       "    <tr style=\"text-align: right;\">\n",
       "      <th></th>\n",
       "      <th>distance</th>\n",
       "      <th>duration</th>\n",
       "      <th>distance_3</th>\n",
       "      <th>jump_n</th>\n",
       "      <th>frog_type</th>\n",
       "      <th>distance_3_off</th>\n",
       "      <th>distance_rel</th>\n",
       "      <th>day</th>\n",
       "      <th>angle_01</th>\n",
       "      <th>angle_10</th>\n",
       "      <th>angle_00</th>\n",
       "      <th>velocity_01</th>\n",
       "      <th>velocity_10</th>\n",
       "      <th>velocity_00</th>\n",
       "      <th>Pro</th>\n",
       "    </tr>\n",
       "  </thead>\n",
       "  <tbody>\n",
       "    <tr>\n",
       "      <th>0</th>\n",
       "      <td>165.950</td>\n",
       "      <td>0.58333</td>\n",
       "      <td>0.0</td>\n",
       "      <td>1</td>\n",
       "      <td>pro</td>\n",
       "      <td>-1.0</td>\n",
       "      <td>1.0000</td>\n",
       "      <td>1.0</td>\n",
       "      <td>28.855643</td>\n",
       "      <td>24.900565</td>\n",
       "      <td>33.030448</td>\n",
       "      <td>3.711031</td>\n",
       "      <td>3.876228</td>\n",
       "      <td>3.599155</td>\n",
       "      <td>1</td>\n",
       "    </tr>\n",
       "    <tr>\n",
       "      <th>1</th>\n",
       "      <td>177.480</td>\n",
       "      <td>0.71667</td>\n",
       "      <td>0.0</td>\n",
       "      <td>2</td>\n",
       "      <td>pro</td>\n",
       "      <td>-1.0</td>\n",
       "      <td>1.0695</td>\n",
       "      <td>1.0</td>\n",
       "      <td>41.441581</td>\n",
       "      <td>37.196463</td>\n",
       "      <td>45.625174</td>\n",
       "      <td>3.680306</td>\n",
       "      <td>3.700908</td>\n",
       "      <td>3.702692</td>\n",
       "      <td>1</td>\n",
       "    </tr>\n",
       "    <tr>\n",
       "      <th>2</th>\n",
       "      <td>0.000</td>\n",
       "      <td>0.00000</td>\n",
       "      <td>0.0</td>\n",
       "      <td>3</td>\n",
       "      <td>pro</td>\n",
       "      <td>-1.0</td>\n",
       "      <td>0.0000</td>\n",
       "      <td>1.0</td>\n",
       "      <td>NaN</td>\n",
       "      <td>NaN</td>\n",
       "      <td>NaN</td>\n",
       "      <td>NaN</td>\n",
       "      <td>NaN</td>\n",
       "      <td>NaN</td>\n",
       "      <td>1</td>\n",
       "    </tr>\n",
       "    <tr>\n",
       "      <th>3</th>\n",
       "      <td>27.158</td>\n",
       "      <td>0.43333</td>\n",
       "      <td>0.0</td>\n",
       "      <td>1</td>\n",
       "      <td>pro</td>\n",
       "      <td>-1.0</td>\n",
       "      <td>1.0000</td>\n",
       "      <td>1.0</td>\n",
       "      <td>NaN</td>\n",
       "      <td>NaN</td>\n",
       "      <td>NaN</td>\n",
       "      <td>NaN</td>\n",
       "      <td>NaN</td>\n",
       "      <td>NaN</td>\n",
       "      <td>1</td>\n",
       "    </tr>\n",
       "    <tr>\n",
       "      <th>4</th>\n",
       "      <td>0.000</td>\n",
       "      <td>0.00000</td>\n",
       "      <td>0.0</td>\n",
       "      <td>2</td>\n",
       "      <td>pro</td>\n",
       "      <td>-1.0</td>\n",
       "      <td>0.0000</td>\n",
       "      <td>1.0</td>\n",
       "      <td>NaN</td>\n",
       "      <td>NaN</td>\n",
       "      <td>NaN</td>\n",
       "      <td>NaN</td>\n",
       "      <td>NaN</td>\n",
       "      <td>NaN</td>\n",
       "      <td>1</td>\n",
       "    </tr>\n",
       "  </tbody>\n",
       "</table>\n",
       "</div>"
      ],
      "text/plain": [
       "   distance  duration  distance_3  jump_n frog_type  distance_3_off  \\\n",
       "0   165.950   0.58333         0.0       1       pro            -1.0   \n",
       "1   177.480   0.71667         0.0       2       pro            -1.0   \n",
       "2     0.000   0.00000         0.0       3       pro            -1.0   \n",
       "3    27.158   0.43333         0.0       1       pro            -1.0   \n",
       "4     0.000   0.00000         0.0       2       pro            -1.0   \n",
       "\n",
       "   distance_rel  day   angle_01   angle_10   angle_00  velocity_01  \\\n",
       "0        1.0000  1.0  28.855643  24.900565  33.030448     3.711031   \n",
       "1        1.0695  1.0  41.441581  37.196463  45.625174     3.680306   \n",
       "2        0.0000  1.0        NaN        NaN        NaN          NaN   \n",
       "3        1.0000  1.0        NaN        NaN        NaN          NaN   \n",
       "4        0.0000  1.0        NaN        NaN        NaN          NaN   \n",
       "\n",
       "   velocity_10  velocity_00  Pro  \n",
       "0     3.876228     3.599155    1  \n",
       "1     3.700908     3.702692    1  \n",
       "2          NaN          NaN    1  \n",
       "3          NaN          NaN    1  \n",
       "4          NaN          NaN    1  "
      ]
     },
     "execution_count": 4,
     "metadata": {},
     "output_type": "execute_result"
    }
   ],
   "source": [
    "df.head()"
   ]
  },
  {
   "cell_type": "code",
   "execution_count": null,
   "id": "3e0cceac",
   "metadata": {},
   "outputs": [],
   "source": []
  },
  {
   "cell_type": "code",
   "execution_count": null,
   "id": "f6589135",
   "metadata": {},
   "outputs": [],
   "source": [
    "data"
   ]
  },
  {
   "cell_type": "code",
   "execution_count": 5,
   "id": "2d225f49",
   "metadata": {},
   "outputs": [],
   "source": [
    "from sklearn.preprocessing import StandardScaler\n",
    "scaler = StandardScaler()\n",
    "df_standard = scaler.fit_transform(df[[\"distance\",\"duration\",\"distance_3\",\"jump_n\"]])\n",
    "\n",
    "df_standard = pd.DataFrame(df_standard)"
   ]
  },
  {
   "cell_type": "code",
   "execution_count": 6,
   "id": "99ba3d84",
   "metadata": {},
   "outputs": [
    {
     "data": {
      "text/html": [
       "<div>\n",
       "<style scoped>\n",
       "    .dataframe tbody tr th:only-of-type {\n",
       "        vertical-align: middle;\n",
       "    }\n",
       "\n",
       "    .dataframe tbody tr th {\n",
       "        vertical-align: top;\n",
       "    }\n",
       "\n",
       "    .dataframe thead th {\n",
       "        text-align: right;\n",
       "    }\n",
       "</style>\n",
       "<table border=\"1\" class=\"dataframe\">\n",
       "  <thead>\n",
       "    <tr style=\"text-align: right;\">\n",
       "      <th></th>\n",
       "      <th>0</th>\n",
       "      <th>1</th>\n",
       "      <th>2</th>\n",
       "      <th>3</th>\n",
       "    </tr>\n",
       "  </thead>\n",
       "  <tbody>\n",
       "    <tr>\n",
       "      <th>0</th>\n",
       "      <td>0.810478</td>\n",
       "      <td>0.283667</td>\n",
       "      <td>-0.490959</td>\n",
       "      <td>-1.148587</td>\n",
       "    </tr>\n",
       "    <tr>\n",
       "      <th>1</th>\n",
       "      <td>1.031685</td>\n",
       "      <td>1.066744</td>\n",
       "      <td>-0.490959</td>\n",
       "      <td>-0.421386</td>\n",
       "    </tr>\n",
       "    <tr>\n",
       "      <th>2</th>\n",
       "      <td>-2.373331</td>\n",
       "      <td>-3.142104</td>\n",
       "      <td>-0.490959</td>\n",
       "      <td>0.305816</td>\n",
       "    </tr>\n",
       "    <tr>\n",
       "      <th>3</th>\n",
       "      <td>-1.852295</td>\n",
       "      <td>-0.597251</td>\n",
       "      <td>-0.490959</td>\n",
       "      <td>-1.148587</td>\n",
       "    </tr>\n",
       "    <tr>\n",
       "      <th>4</th>\n",
       "      <td>-2.373331</td>\n",
       "      <td>-3.142104</td>\n",
       "      <td>-0.490959</td>\n",
       "      <td>-0.421386</td>\n",
       "    </tr>\n",
       "  </tbody>\n",
       "</table>\n",
       "</div>"
      ],
      "text/plain": [
       "          0         1         2         3\n",
       "0  0.810478  0.283667 -0.490959 -1.148587\n",
       "1  1.031685  1.066744 -0.490959 -0.421386\n",
       "2 -2.373331 -3.142104 -0.490959  0.305816\n",
       "3 -1.852295 -0.597251 -0.490959 -1.148587\n",
       "4 -2.373331 -3.142104 -0.490959 -0.421386"
      ]
     },
     "execution_count": 6,
     "metadata": {},
     "output_type": "execute_result"
    }
   ],
   "source": [
    "df_standard.head()"
   ]
  },
  {
   "cell_type": "code",
   "execution_count": 7,
   "id": "07cc1d90",
   "metadata": {},
   "outputs": [
    {
     "data": {
      "text/plain": [
       "<AxesSubplot:>"
      ]
     },
     "execution_count": 7,
     "metadata": {},
     "output_type": "execute_result"
    },
    {
     "data": {
      "image/png": "[encoded data removed]",
      "text/plain": [
       "<Figure size 432x288 with 1 Axes>"
      ]
     },
     "metadata": {
      "needs_background": "light"
     },
     "output_type": "display_data"
    }
   ],
   "source": [
    "df_standard[0].hist()"
   ]
  },
  {
   "cell_type": "code",
   "execution_count": 8,
   "id": "39b30adb",
   "metadata": {},
   "outputs": [
    {
     "data": {
      "text/plain": [
       "<AxesSubplot:>"
      ]
     },
     "execution_count": 8,
     "metadata": {},
     "output_type": "execute_result"
    },
    {
     "data": {
      "image/png": "[encoded data removed]",
      "text/plain": [
       "<Figure size 432x288 with 1 Axes>"
      ]
     },
     "metadata": {
      "needs_background": "light"
     },
     "output_type": "display_data"
    }
   ],
   "source": [
    "df_minmax[0].hist()"
   ]
  },
  {
   "cell_type": "code",
   "execution_count": 10,
   "id": "5992e6fd",
   "metadata": {},
   "outputs": [
    {
     "data": {
      "text/plain": [
       "<AxesSubplot:>"
      ]
     },
     "execution_count": 10,
     "metadata": {},
     "output_type": "execute_result"
    },
    {
     "data": {
      "image/png": "[encoded data removed]",
      "text/plain": [
       "<Figure size 432x288 with 1 Axes>"
      ]
     },
     "metadata": {
      "needs_background": "light"
     },
     "output_type": "display_data"
    }
   ],
   "source": [
    "df[\"distance\"].hist()"
   ]
  },
  {
   "cell_type": "code",
   "execution_count": null,
   "id": "f65229c1",
   "metadata": {},
   "outputs": [],
   "source": []
  }
 ],
 "metadata": {
  "kernelspec": {
   "display_name": "Python 3",
   "language": "python",
   "name": "python3"
  },
  "language_info": {
   "codemirror_mode": {
    "name": "ipython",
    "version": 3
   },
   "file_extension": ".py",
   "mimetype": "text/x-python",
   "name": "python",
   "nbconvert_exporter": "python",
   "pygments_lexer": "ipython3",
   "version": "3.8.8"
  }
 },
 "nbformat": 4,
 "nbformat_minor": 5
}
