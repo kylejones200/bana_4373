{
 "cells": [
  {
   "cell_type": "markdown",
   "metadata": {},
   "source": [
    "Developed by Kyle Jones to show natural language processing"
   ]
  },
  {
   "cell_type": "code",
   "execution_count": null,
   "metadata": {},
   "outputs": [],
   "source": [
    "We use BeautifulSoup to scrape a website "
   ]
  },
  {
   "cell_type": "code",
   "execution_count": null,
   "metadata": {},
   "outputs": [],
   "source": [
    "from bs4 import BeautifulSoup\n",
    "from requests.packages import urllib3"
   ]
  },
  {
   "cell_type": "code",
   "execution_count": null,
   "metadata": {},
   "outputs": [],
   "source": [
    "target = \"https://www.gutenberg.org/files/5200/5200-h/5200-h.htm\"\n",
    "\n",
    "http = urllib3.PoolManager()\n",
    "r = urllib3.PoolManager().request('GET', target)\n",
    "r"
   ]
  },
  {
   "cell_type": "code",
   "execution_count": null,
   "metadata": {},
   "outputs": [],
   "source": [
    "soup = BeautifulSoup(r.data, \"html.parser\")\n",
    "\n",
    "text = soup.get_text()\n",
    "\n",
    "file = open(\"metamorphosis.txt\",\"w\") \n",
    "file.write(text) \n",
    "file.close() "
   ]
  },
  {
   "cell_type": "code",
   "execution_count": 4,
   "metadata": {},
   "outputs": [
    {
     "name": "stderr",
     "output_type": "stream",
     "text": [
      "[nltk_data] Downloading package stopwords to\n",
      "[nltk_data]     /Users/jnesnky/nltk_data...\n",
      "[nltk_data]   Unzipping corpora/stopwords.zip.\n"
     ]
    }
   ],
   "source": [
    "'''\n",
    "NLTK (natural langaugage took kit) is a large library and you must download all the components for to use it. Start with:\n",
    "    import nltk\n",
    "    nltk.download()\n",
    "This will open a separate GUI where you can select what to download - recommend that you download everything\n",
    "'''\n",
    "import nltk \n",
    "from nltk.tokenize import sent_tokenize, word_tokenize, RegexpTokenizer \n",
    "nltk.download('stopwords')\n",
    "from nltk.corpus import stopwords\n",
    "import re #regular expressions module\n",
    "\n",
    "\n",
    "%matplotlib inline \n",
    "\n",
    "import matplotlib\n",
    "import numpy as np\n",
    "import matplotlib.pyplot as plt"
   ]
  },
  {
   "cell_type": "code",
   "execution_count": 6,
   "metadata": {},
   "outputs": [],
   "source": [
    "# load text\n",
    "filename = 'metamorphosis.txt' #text of Franz Kafka's Metamorphosis - from Project Gutenberg\n",
    "file = open(filename, 'rt') #open and reads file to memory\n",
    "text = file.read().lower() #converts all text to lower case\n",
    "file.close()"
   ]
  },
  {
   "cell_type": "code",
   "execution_count": 7,
   "metadata": {},
   "outputs": [
    {
     "name": "stdout",
     "output_type": "stream",
     "text": [
      "['project', 'gutenberg', 'ebook', 'metamorphosis', 'franz', 'kafka', 'body', 'margin', 'left', '20', 'margin', 'right', '20', 'text', 'align', 'justify', 'h1', 'h2', 'h3', 'h4', 'h5', 'text', 'align', 'center', 'font', 'style', 'normal', 'font', 'weight', 'normal', 'line', 'height', '1', '5', 'margin', 'top', '5em', 'margin', 'bottom', '5em', 'h1', 'font', 'size', '300', 'margin', 'top', '0', '6em', 'margin', 'bottom', '0', '6em', 'letter', 'spacing', '0', '12em', 'word', 'spacing', '0', '2em', 'text', 'indent', '0em', 'h2', 'font', 'size', '150', 'margin', 'top', '2em', 'margin', 'bottom', '1em', 'h3', 'font', 'size', '130', 'margin', 'top', '1em', 'h4', 'font', 'size', '120', 'h5', 'font', 'size', '110', 'break', 'page', 'break', 'avoid', 'epubs', 'div', 'chapter', 'page', 'break', 'always', 'margin', 'top']\n"
     ]
    }
   ],
   "source": [
    "stopWords = set(stopwords.words('english')) #sets words to be removed like \"is\", \"by\", and \"the\"\n",
    "tokenizer = RegexpTokenizer(r'\\w+') #removes punctuation\n",
    "words=tokenizer.tokenize(text) #splits text by word \n",
    "wordsFiltered = []\n",
    " \n",
    "for w in words: #loops over words and removes words that apear on the \"stopWords\" list\n",
    "    if w not in stopWords:\n",
    "        wordsFiltered.append(w)\n",
    " \n",
    "print(wordsFiltered[:100])"
   ]
  },
  {
   "cell_type": "code",
   "execution_count": null,
   "metadata": {},
   "outputs": [],
   "source": []
  },
  {
   "cell_type": "code",
   "execution_count": 8,
   "metadata": {},
   "outputs": [
    {
     "data": {
      "image/png": "[encoded data removed]",
      "text/plain": [
       "<Figure size 432x288 with 1 Axes>"
      ]
     },
     "metadata": {
      "needs_background": "light"
     },
     "output_type": "display_data"
    },
    {
     "data": {
      "text/plain": [
       "<matplotlib.axes._subplots.AxesSubplot at 0x12b468c90>"
      ]
     },
     "execution_count": 8,
     "metadata": {},
     "output_type": "execute_result"
    }
   ],
   "source": [
    "fd = nltk.FreqDist(wordsFiltered)\n",
    "fd.plot(30,cumulative=False)"
   ]
  },
  {
   "cell_type": "code",
   "execution_count": null,
   "metadata": {
    "collapsed": true
   },
   "outputs": [],
   "source": []
  }
 ],
 "metadata": {
  "kernelspec": {
   "display_name": "Python 3",
   "language": "python",
   "name": "python3"
  },
  "language_info": {
   "codemirror_mode": {
    "name": "ipython",
    "version": 3
   },
   "file_extension": ".py",
   "mimetype": "text/x-python",
   "name": "python",
   "nbconvert_exporter": "python",
   "pygments_lexer": "ipython3",
   "version": "3.8.8"
  },
  "toc": {
   "base_numbering": 1,
   "nav_menu": {},
   "number_sections": true,
   "sideBar": true,
   "skip_h1_title": false,
   "title_cell": "Table of Contents",
   "title_sidebar": "Contents",
   "toc_cell": false,
   "toc_position": {},
   "toc_section_display": true,
   "toc_window_display": false
  }
 },
 "nbformat": 4,
 "nbformat_minor": 2
}
