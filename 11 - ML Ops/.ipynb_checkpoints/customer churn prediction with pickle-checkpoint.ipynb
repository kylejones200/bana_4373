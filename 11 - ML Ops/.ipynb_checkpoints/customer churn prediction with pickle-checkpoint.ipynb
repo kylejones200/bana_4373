{
 "cells": [
  {
   "cell_type": "code",
   "execution_count": 1,
   "id": "9cd3a77d",
   "metadata": {},
   "outputs": [],
   "source": [
    "import pandas as pd\n",
    "\n",
    "df = pd.read_csv(\"data/2020 telco churn data.csv\")"
   ]
  },
  {
   "cell_type": "code",
   "execution_count": 2,
   "id": "4274ab8c",
   "metadata": {},
   "outputs": [],
   "source": [
    "convert_to_binary = [\"international_plan\", \"voice_mail_plan\", \"churn\"]\n",
    "for i in convert_to_binary:\n",
    "    df[i] = df[i].map({\"no\":0, \"yes\": 1})"
   ]
  },
  {
   "cell_type": "code",
   "execution_count": 3,
   "id": "0cc20740",
   "metadata": {},
   "outputs": [],
   "source": [
    "cols_to_mean = ['account_length','number_vmail_messages', \n",
    "       'total_day_calls', 'total_eve_calls','number_customer_service_calls']\n",
    "\n",
    "for col in cols_to_mean:\n",
    "    mean = df[col].mean()\n",
    "    df[col] = [1 if i > mean else 0 for i in df[col]]"
   ]
  },
  {
   "cell_type": "code",
   "execution_count": 4,
   "id": "6aa8a901",
   "metadata": {},
   "outputs": [],
   "source": [
    "cols_to_drop = [\"state\", \"area_code\", \"total_day_minutes\", \"total_night_charge\", \"total_intl_minutes\", \"total_intl_charge\", 'total_day_charge', 'total_eve_minutes', \"total_intl_calls\", \"total_eve_charge\", \"total_eve_charge\", \"total_night_minutes\", \"total_night_calls\"]\n",
    "df.drop(cols_to_drop, axis = 1, inplace=True)"
   ]
  },
  {
   "cell_type": "code",
   "execution_count": 5,
   "id": "bfee9b39",
   "metadata": {},
   "outputs": [
    {
     "data": {
      "text/html": [
       "<div>\n",
       "<style scoped>\n",
       "    .dataframe tbody tr th:only-of-type {\n",
       "        vertical-align: middle;\n",
       "    }\n",
       "\n",
       "    .dataframe tbody tr th {\n",
       "        vertical-align: top;\n",
       "    }\n",
       "\n",
       "    .dataframe thead th {\n",
       "        text-align: right;\n",
       "    }\n",
       "</style>\n",
       "<table border=\"1\" class=\"dataframe\">\n",
       "  <thead>\n",
       "    <tr style=\"text-align: right;\">\n",
       "      <th></th>\n",
       "      <th>account_length</th>\n",
       "      <th>international_plan</th>\n",
       "      <th>voice_mail_plan</th>\n",
       "      <th>number_vmail_messages</th>\n",
       "      <th>total_day_calls</th>\n",
       "      <th>total_eve_calls</th>\n",
       "      <th>number_customer_service_calls</th>\n",
       "      <th>churn</th>\n",
       "    </tr>\n",
       "  </thead>\n",
       "  <tbody>\n",
       "    <tr>\n",
       "      <th>0</th>\n",
       "      <td>1</td>\n",
       "      <td>0</td>\n",
       "      <td>1</td>\n",
       "      <td>1</td>\n",
       "      <td>1</td>\n",
       "      <td>1</td>\n",
       "      <td>0</td>\n",
       "      <td>0</td>\n",
       "    </tr>\n",
       "    <tr>\n",
       "      <th>1</th>\n",
       "      <td>1</td>\n",
       "      <td>0</td>\n",
       "      <td>0</td>\n",
       "      <td>0</td>\n",
       "      <td>1</td>\n",
       "      <td>1</td>\n",
       "      <td>0</td>\n",
       "      <td>0</td>\n",
       "    </tr>\n",
       "    <tr>\n",
       "      <th>2</th>\n",
       "      <td>0</td>\n",
       "      <td>1</td>\n",
       "      <td>0</td>\n",
       "      <td>0</td>\n",
       "      <td>0</td>\n",
       "      <td>0</td>\n",
       "      <td>1</td>\n",
       "      <td>0</td>\n",
       "    </tr>\n",
       "    <tr>\n",
       "      <th>3</th>\n",
       "      <td>0</td>\n",
       "      <td>1</td>\n",
       "      <td>0</td>\n",
       "      <td>0</td>\n",
       "      <td>1</td>\n",
       "      <td>1</td>\n",
       "      <td>1</td>\n",
       "      <td>0</td>\n",
       "    </tr>\n",
       "    <tr>\n",
       "      <th>4</th>\n",
       "      <td>1</td>\n",
       "      <td>0</td>\n",
       "      <td>1</td>\n",
       "      <td>1</td>\n",
       "      <td>0</td>\n",
       "      <td>1</td>\n",
       "      <td>1</td>\n",
       "      <td>0</td>\n",
       "    </tr>\n",
       "  </tbody>\n",
       "</table>\n",
       "</div>"
      ],
      "text/plain": [
       "   account_length  international_plan  voice_mail_plan  number_vmail_messages  \\\n",
       "0               1                   0                1                      1   \n",
       "1               1                   0                0                      0   \n",
       "2               0                   1                0                      0   \n",
       "3               0                   1                0                      0   \n",
       "4               1                   0                1                      1   \n",
       "\n",
       "   total_day_calls  total_eve_calls  number_customer_service_calls  churn  \n",
       "0                1                1                              0      0  \n",
       "1                1                1                              0      0  \n",
       "2                0                0                              1      0  \n",
       "3                1                1                              1      0  \n",
       "4                0                1                              1      0  "
      ]
     },
     "execution_count": 5,
     "metadata": {},
     "output_type": "execute_result"
    }
   ],
   "source": [
    "df.head()"
   ]
  },
  {
   "cell_type": "code",
   "execution_count": 6,
   "id": "c28a6729",
   "metadata": {},
   "outputs": [
    {
     "data": {
      "text/plain": [
       "['model.pkl']"
      ]
     },
     "execution_count": 6,
     "metadata": {},
     "output_type": "execute_result"
    }
   ],
   "source": [
    "# Importing the required Python libraries\n",
    "import numpy as np\n",
    "import pandas as pd\n",
    "from sklearn.ensemble import RandomForestClassifier\n",
    "import joblib\n",
    "\n",
    "df=df.dropna()\n",
    "X = df.drop(\"churn\", axis = 1)  \n",
    "Y = df['churn'] \n",
    "\n",
    "# Create and train RF classifier (max depth intentionally long for demo purposes)\n",
    "clf = RandomForestClassifier(max_depth=10)\n",
    "clf.fit(X, Y)\n",
    "\n",
    "# Save model\n",
    "joblib.dump(clf, 'model.pkl') "
   ]
  },
  {
   "cell_type": "code",
   "execution_count": 7,
   "id": "7d789489",
   "metadata": {},
   "outputs": [],
   "source": [
    "input_df = pd.DataFrame([0,1,0,0,1,1,1]).T"
   ]
  },
  {
   "cell_type": "code",
   "execution_count": 8,
   "id": "914c8361",
   "metadata": {},
   "outputs": [],
   "source": [
    "model = joblib.load('model.pkl')\n",
    "arr_results = model.predict(input_df)"
   ]
  },
  {
   "cell_type": "code",
   "execution_count": 9,
   "id": "799fcbe8",
   "metadata": {},
   "outputs": [
    {
     "data": {
      "text/plain": [
       "array([1])"
      ]
     },
     "execution_count": 9,
     "metadata": {},
     "output_type": "execute_result"
    }
   ],
   "source": [
    "arr_results"
   ]
  }
 ],
 "metadata": {
  "kernelspec": {
   "display_name": "Python 3",
   "language": "python",
   "name": "python3"
  },
  "language_info": {
   "codemirror_mode": {
    "name": "ipython",
    "version": 3
   },
   "file_extension": ".py",
   "mimetype": "text/x-python",
   "name": "python",
   "nbconvert_exporter": "python",
   "pygments_lexer": "ipython3",
   "version": "3.8.8"
  }
 },
 "nbformat": 4,
 "nbformat_minor": 5
}
