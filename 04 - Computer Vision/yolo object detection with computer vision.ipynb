{
 "cells": [
  {
   "cell_type": "markdown",
   "metadata": {},
   "source": [
    "# Computer vision with Yolo and Webcam\n",
    "\n",
    "This project uses the Yolo trained model for object recognitition. It uses the webcam video feed to apply the model in real time. \n",
    "\n",
    "This version won't work properly on myBinder. You need to run this on your local computer so it connects properly to your webcam. "
   ]
  },
  {
   "cell_type": "code",
   "execution_count": null,
   "metadata": {},
   "outputs": [],
   "source": [
    "! pip install -r requirements.txt"
   ]
  },
  {
   "cell_type": "markdown",
   "metadata": {},
   "source": [
    "# Downloading the pretrained model\n",
    "\n",
    "This will download a file with the computer vision model that can identify more than 200 objects. \n"
   ]
  },
  {
   "cell_type": "code",
   "execution_count": null,
   "metadata": {},
   "outputs": [],
   "source": [
    "import wget\n",
    "\n",
    "url = \"https://github.com/OlafenwaMoses/ImageAI/releases/download/1.0/yolo.h5\"\n",
    "\n",
    "modelpath = wget.download(url)"
   ]
  },
  {
   "cell_type": "code",
   "execution_count": null,
   "metadata": {},
   "outputs": [],
   "source": [
    "from imageai import Detection\n",
    "yolo = Detection.ObjectDetection()\n",
    "yolo.setModelTypeAsYOLOv3()\n",
    "yolo.setModelPath(modelpath)\n",
    "yolo.loadModel()\n",
    "\n",
    "import cv2\n",
    "cam = cv2.VideoCapture(1) #0=front-cam, 1=back-cam\n",
    "cam.set(cv2.CAP_PROP_FRAME_WIDTH, 1300)\n",
    "cam.set(cv2.CAP_PROP_FRAME_HEIGHT, 1500)"
   ]
  },
  {
   "cell_type": "markdown",
   "metadata": {},
   "source": [
    "# See it in action\n",
    "\n",
    "The next block of code will turn on your webcam and apply the object detection model. It will place a \"bounding box\" around objects that it recognizes."
   ]
  },
  {
   "cell_type": "code",
   "execution_count": null,
   "metadata": {},
   "outputs": [],
   "source": [
    "while True:\n",
    "    ## read frames\n",
    "    ret, img = cam.read()\n",
    "    ## predict yolo\n",
    "    img, preds = yolo.detectCustomObjectsFromImage(input_image=img, \n",
    "                      custom_objects=None, input_type=\"array\",\n",
    "                      output_type=\"array\",\n",
    "                      minimum_percentage_probability=70,\n",
    "                      display_percentage_probability=False,\n",
    "                      display_object_name=True)\n",
    "    ## display predictions\n",
    "    cv2.imshow(\"\", img)\n",
    "    ## press q or Esc to quit    \n",
    "    if (cv2.waitKey(1) & 0xFF == ord(\"q\")) or (cv2.waitKey(1)==27):\n",
    "        break\n",
    "## close camera\n",
    "cam.release()\n",
    "cv2.destroyAllWindows()"
   ]
  },
  {
   "cell_type": "code",
   "execution_count": null,
   "metadata": {},
   "outputs": [],
   "source": []
  }
 ],
 "metadata": {
  "kernelspec": {
   "display_name": "Python 3",
   "language": "python",
   "name": "python3"
  },
  "language_info": {
   "codemirror_mode": {
    "name": "ipython",
    "version": 3
   },
   "file_extension": ".py",
   "mimetype": "text/x-python",
   "name": "python",
   "nbconvert_exporter": "python",
   "pygments_lexer": "ipython3",
   "version": "3.7.4"
  },
  "toc": {
   "base_numbering": 1,
   "nav_menu": {},
   "number_sections": true,
   "sideBar": true,
   "skip_h1_title": false,
   "title_cell": "Table of Contents",
   "title_sidebar": "Contents",
   "toc_cell": false,
   "toc_position": {},
   "toc_section_display": true,
   "toc_window_display": false
  }
 },
 "nbformat": 4,
 "nbformat_minor": 2
}
