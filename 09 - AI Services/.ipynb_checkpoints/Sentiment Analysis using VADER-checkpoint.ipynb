{
 "cells": [
  {
   "cell_type": "markdown",
   "id": "e8d05134",
   "metadata": {},
   "source": [
    "# Sentiment Analysis using VADER"
   ]
  },
  {
   "cell_type": "code",
   "execution_count": 3,
   "id": "77fa1194",
   "metadata": {},
   "outputs": [
    {
     "name": "stderr",
     "output_type": "stream",
     "text": [
      "[nltk_data] Downloading package vader_lexicon to\n",
      "[nltk_data]     /Users/Kyle/nltk_data...\n"
     ]
    }
   ],
   "source": [
    "import nltk\n",
    "nltk.download('vader_lexicon')\n",
    "from nltk.sentiment.vader import SentimentIntensityAnalyzer\n",
    "\n",
    "sid = SentimentIntensityAnalyzer()"
   ]
  },
  {
   "cell_type": "code",
   "execution_count": 38,
   "id": "32a6aba9",
   "metadata": {},
   "outputs": [
    {
     "name": "stdout",
     "output_type": "stream",
     "text": [
      "{'neg': 0.0, 'neu': 0.508, 'pos': 0.492, 'compound': 0.4404}\n"
     ]
    }
   ],
   "source": [
    "# Example \n",
    "\n",
    "text = 'This was a good movie.'\n",
    "vader_scores = sid.polarity_scores(text)\n",
    "\n",
    "print(vader_scores)"
   ]
  },
  {
   "cell_type": "markdown",
   "id": "c57be077",
   "metadata": {},
   "source": [
    "Data comes from more than 34,000 customer reviews available on [Kaggle](https://www.kaggle.com/datafiniti/consumer-reviews-of-amazon-products/version/5?select=1429_1.csv). We use the rating, text, and title columns.  "
   ]
  },
  {
   "cell_type": "code",
   "execution_count": 6,
   "id": "f0eb99e8",
   "metadata": {},
   "outputs": [],
   "source": [
    "import pandas as pd\n",
    "\n",
    "df = pd.read_csv(\"data/review_data.csv\") "
   ]
  },
  {
   "cell_type": "code",
   "execution_count": 13,
   "id": "45e01c59",
   "metadata": {},
   "outputs": [
    {
     "data": {
      "text/html": [
       "<div>\n",
       "<style scoped>\n",
       "    .dataframe tbody tr th:only-of-type {\n",
       "        vertical-align: middle;\n",
       "    }\n",
       "\n",
       "    .dataframe tbody tr th {\n",
       "        vertical-align: top;\n",
       "    }\n",
       "\n",
       "    .dataframe thead th {\n",
       "        text-align: right;\n",
       "    }\n",
       "</style>\n",
       "<table border=\"1\" class=\"dataframe\">\n",
       "  <thead>\n",
       "    <tr style=\"text-align: right;\">\n",
       "      <th></th>\n",
       "      <th>reviews.rating</th>\n",
       "      <th>reviews.text</th>\n",
       "      <th>reviews.title</th>\n",
       "    </tr>\n",
       "  </thead>\n",
       "  <tbody>\n",
       "    <tr>\n",
       "      <th>0</th>\n",
       "      <td>5.0</td>\n",
       "      <td>This product so far has not disappointed. My c...</td>\n",
       "      <td>Kindle</td>\n",
       "    </tr>\n",
       "    <tr>\n",
       "      <th>1</th>\n",
       "      <td>5.0</td>\n",
       "      <td>great for beginner or experienced person. Boug...</td>\n",
       "      <td>very fast</td>\n",
       "    </tr>\n",
       "    <tr>\n",
       "      <th>2</th>\n",
       "      <td>5.0</td>\n",
       "      <td>Inexpensive tablet for him to use and learn on...</td>\n",
       "      <td>Beginner tablet for our 9 year old son.</td>\n",
       "    </tr>\n",
       "    <tr>\n",
       "      <th>3</th>\n",
       "      <td>4.0</td>\n",
       "      <td>I've had my Fire HD 8 two weeks now and I love...</td>\n",
       "      <td>Good!!!</td>\n",
       "    </tr>\n",
       "    <tr>\n",
       "      <th>4</th>\n",
       "      <td>5.0</td>\n",
       "      <td>I bought this for my grand daughter when she c...</td>\n",
       "      <td>Fantastic Tablet for kids</td>\n",
       "    </tr>\n",
       "  </tbody>\n",
       "</table>\n",
       "</div>"
      ],
      "text/plain": [
       "   reviews.rating                                       reviews.text  \\\n",
       "0             5.0  This product so far has not disappointed. My c...   \n",
       "1             5.0  great for beginner or experienced person. Boug...   \n",
       "2             5.0  Inexpensive tablet for him to use and learn on...   \n",
       "3             4.0  I've had my Fire HD 8 two weeks now and I love...   \n",
       "4             5.0  I bought this for my grand daughter when she c...   \n",
       "\n",
       "                             reviews.title  \n",
       "0                                   Kindle  \n",
       "1                                very fast  \n",
       "2  Beginner tablet for our 9 year old son.  \n",
       "3                                  Good!!!  \n",
       "4                Fantastic Tablet for kids  "
      ]
     },
     "execution_count": 13,
     "metadata": {},
     "output_type": "execute_result"
    }
   ],
   "source": [
    "df.head()"
   ]
  },
  {
   "cell_type": "markdown",
   "id": "4679f752",
   "metadata": {},
   "source": [
    "There are two ways to apply this code to each item in the data frame. \n",
    "1. Using `.apply()` and an anonymous function (`lambda`). Traditional approach to applying a function to a data frame. \n",
    "2. List comprehension. Slightly faster and more \"Pythonic\".\n",
    "\n",
    "In both cases, we need to convert all the text in the column to `str`. "
   ]
  },
  {
   "cell_type": "code",
   "execution_count": 40,
   "id": "7dbb6681",
   "metadata": {},
   "outputs": [
    {
     "name": "stdout",
     "output_type": "stream",
     "text": [
      "CPU times: user 16.3 s, sys: 83.4 ms, total: 16.4 s\n",
      "Wall time: 16.5 s\n"
     ]
    }
   ],
   "source": [
    "%%time\n",
    "\n",
    "# Option 1\n",
    "df['scores_apply'] = df[\"reviews.text\"].apply(lambda text: sid.polarity_scores(str(text)))"
   ]
  },
  {
   "cell_type": "code",
   "execution_count": 41,
   "id": "b8f08be2",
   "metadata": {},
   "outputs": [
    {
     "name": "stdout",
     "output_type": "stream",
     "text": [
      "CPU times: user 16.1 s, sys: 66.5 ms, total: 16.2 s\n",
      "Wall time: 16.2 s\n"
     ]
    }
   ],
   "source": [
    "%%time\n",
    "\n",
    "# Option 2\n",
    "df['scores_list_comprehension'] = [sid.polarity_scores(str(i)) for i in df[\"reviews.text\"]]"
   ]
  },
  {
   "cell_type": "code",
   "execution_count": 23,
   "id": "69b1182d",
   "metadata": {},
   "outputs": [
    {
     "data": {
      "text/html": [
       "<div>\n",
       "<style scoped>\n",
       "    .dataframe tbody tr th:only-of-type {\n",
       "        vertical-align: middle;\n",
       "    }\n",
       "\n",
       "    .dataframe tbody tr th {\n",
       "        vertical-align: top;\n",
       "    }\n",
       "\n",
       "    .dataframe thead th {\n",
       "        text-align: right;\n",
       "    }\n",
       "</style>\n",
       "<table border=\"1\" class=\"dataframe\">\n",
       "  <thead>\n",
       "    <tr style=\"text-align: right;\">\n",
       "      <th></th>\n",
       "      <th>reviews.rating</th>\n",
       "      <th>reviews.text</th>\n",
       "      <th>reviews.title</th>\n",
       "      <th>scores</th>\n",
       "    </tr>\n",
       "  </thead>\n",
       "  <tbody>\n",
       "    <tr>\n",
       "      <th>0</th>\n",
       "      <td>5.0</td>\n",
       "      <td>This product so far has not disappointed. My c...</td>\n",
       "      <td>Kindle</td>\n",
       "      <td>{'neg': 0.0, 'neu': 0.599, 'pos': 0.401, 'comp...</td>\n",
       "    </tr>\n",
       "    <tr>\n",
       "      <th>1</th>\n",
       "      <td>5.0</td>\n",
       "      <td>great for beginner or experienced person. Boug...</td>\n",
       "      <td>very fast</td>\n",
       "      <td>{'neg': 0.0, 'neu': 0.483, 'pos': 0.517, 'comp...</td>\n",
       "    </tr>\n",
       "    <tr>\n",
       "      <th>2</th>\n",
       "      <td>5.0</td>\n",
       "      <td>Inexpensive tablet for him to use and learn on...</td>\n",
       "      <td>Beginner tablet for our 9 year old son.</td>\n",
       "      <td>{'neg': 0.0, 'neu': 0.896, 'pos': 0.104, 'comp...</td>\n",
       "    </tr>\n",
       "    <tr>\n",
       "      <th>3</th>\n",
       "      <td>4.0</td>\n",
       "      <td>I've had my Fire HD 8 two weeks now and I love...</td>\n",
       "      <td>Good!!!</td>\n",
       "      <td>{'neg': 0.036, 'neu': 0.683, 'pos': 0.281, 'co...</td>\n",
       "    </tr>\n",
       "    <tr>\n",
       "      <th>4</th>\n",
       "      <td>5.0</td>\n",
       "      <td>I bought this for my grand daughter when she c...</td>\n",
       "      <td>Fantastic Tablet for kids</td>\n",
       "      <td>{'neg': 0.0, 'neu': 0.914, 'pos': 0.086, 'comp...</td>\n",
       "    </tr>\n",
       "  </tbody>\n",
       "</table>\n",
       "</div>"
      ],
      "text/plain": [
       "   reviews.rating                                       reviews.text  \\\n",
       "0             5.0  This product so far has not disappointed. My c...   \n",
       "1             5.0  great for beginner or experienced person. Boug...   \n",
       "2             5.0  Inexpensive tablet for him to use and learn on...   \n",
       "3             4.0  I've had my Fire HD 8 two weeks now and I love...   \n",
       "4             5.0  I bought this for my grand daughter when she c...   \n",
       "\n",
       "                             reviews.title  \\\n",
       "0                                   Kindle   \n",
       "1                                very fast   \n",
       "2  Beginner tablet for our 9 year old son.   \n",
       "3                                  Good!!!   \n",
       "4                Fantastic Tablet for kids   \n",
       "\n",
       "                                              scores  \n",
       "0  {'neg': 0.0, 'neu': 0.599, 'pos': 0.401, 'comp...  \n",
       "1  {'neg': 0.0, 'neu': 0.483, 'pos': 0.517, 'comp...  \n",
       "2  {'neg': 0.0, 'neu': 0.896, 'pos': 0.104, 'comp...  \n",
       "3  {'neg': 0.036, 'neu': 0.683, 'pos': 0.281, 'co...  \n",
       "4  {'neg': 0.0, 'neu': 0.914, 'pos': 0.086, 'comp...  "
      ]
     },
     "execution_count": 23,
     "metadata": {},
     "output_type": "execute_result"
    }
   ],
   "source": [
    "df.head()"
   ]
  },
  {
   "cell_type": "markdown",
   "id": "1166f824",
   "metadata": {},
   "source": [
    "We now have two new columns that contain a dictionary of the Vader Polarity scores. We need to extract the dictionary and move this into columns so we can use the data using `scores = df['scores'].apply(pd.Series)` then use `pd.concat()` to join the `scores` data frame with the origional data frame."
   ]
  },
  {
   "cell_type": "code",
   "execution_count": 83,
   "id": "d3f3f502",
   "metadata": {},
   "outputs": [
    {
     "data": {
      "text/html": [
       "<div>\n",
       "<style scoped>\n",
       "    .dataframe tbody tr th:only-of-type {\n",
       "        vertical-align: middle;\n",
       "    }\n",
       "\n",
       "    .dataframe tbody tr th {\n",
       "        vertical-align: top;\n",
       "    }\n",
       "\n",
       "    .dataframe thead th {\n",
       "        text-align: right;\n",
       "    }\n",
       "</style>\n",
       "<table border=\"1\" class=\"dataframe\">\n",
       "  <thead>\n",
       "    <tr style=\"text-align: right;\">\n",
       "      <th></th>\n",
       "      <th>reviews.rating</th>\n",
       "      <th>reviews.text</th>\n",
       "      <th>reviews.title</th>\n",
       "      <th>scores</th>\n",
       "      <th>scores_apply</th>\n",
       "      <th>scores_list</th>\n",
       "      <th>scores_list_str</th>\n",
       "      <th>B</th>\n",
       "      <th>neg</th>\n",
       "      <th>neu</th>\n",
       "      <th>pos</th>\n",
       "      <th>compound</th>\n",
       "      <th>neg</th>\n",
       "      <th>neu</th>\n",
       "      <th>pos</th>\n",
       "      <th>compound</th>\n",
       "      <th>Category</th>\n",
       "    </tr>\n",
       "  </thead>\n",
       "  <tbody>\n",
       "    <tr>\n",
       "      <th>0</th>\n",
       "      <td>5.0</td>\n",
       "      <td>This product so far has not disappointed. My c...</td>\n",
       "      <td>Kindle</td>\n",
       "      <td>{'neg': 0.0, 'neu': 0.599, 'pos': 0.401, 'comp...</td>\n",
       "      <td>{'neg': 0.0, 'neu': 0.599, 'pos': 0.401, 'comp...</td>\n",
       "      <td>{'neg': 0.0, 'neu': 0.599, 'pos': 0.401, 'comp...</td>\n",
       "      <td>This product so far has not disappointed. My c...</td>\n",
       "      <td>5.0</td>\n",
       "      <td>0.000</td>\n",
       "      <td>0.599</td>\n",
       "      <td>0.401</td>\n",
       "      <td>0.9194</td>\n",
       "      <td>0.000</td>\n",
       "      <td>0.599</td>\n",
       "      <td>0.401</td>\n",
       "      <td>0.9194</td>\n",
       "      <td>5.0</td>\n",
       "    </tr>\n",
       "    <tr>\n",
       "      <th>1</th>\n",
       "      <td>5.0</td>\n",
       "      <td>great for beginner or experienced person. Boug...</td>\n",
       "      <td>very fast</td>\n",
       "      <td>{'neg': 0.0, 'neu': 0.483, 'pos': 0.517, 'comp...</td>\n",
       "      <td>{'neg': 0.0, 'neu': 0.483, 'pos': 0.517, 'comp...</td>\n",
       "      <td>{'neg': 0.0, 'neu': 0.483, 'pos': 0.517, 'comp...</td>\n",
       "      <td>great for beginner or experienced person. Boug...</td>\n",
       "      <td>5.0</td>\n",
       "      <td>0.000</td>\n",
       "      <td>0.483</td>\n",
       "      <td>0.517</td>\n",
       "      <td>0.8934</td>\n",
       "      <td>0.000</td>\n",
       "      <td>0.483</td>\n",
       "      <td>0.517</td>\n",
       "      <td>0.8934</td>\n",
       "      <td>5.0</td>\n",
       "    </tr>\n",
       "    <tr>\n",
       "      <th>2</th>\n",
       "      <td>5.0</td>\n",
       "      <td>Inexpensive tablet for him to use and learn on...</td>\n",
       "      <td>Beginner tablet for our 9 year old son.</td>\n",
       "      <td>{'neg': 0.0, 'neu': 0.896, 'pos': 0.104, 'comp...</td>\n",
       "      <td>{'neg': 0.0, 'neu': 0.896, 'pos': 0.104, 'comp...</td>\n",
       "      <td>{'neg': 0.0, 'neu': 0.896, 'pos': 0.104, 'comp...</td>\n",
       "      <td>Inexpensive tablet for him to use and learn on...</td>\n",
       "      <td>5.0</td>\n",
       "      <td>0.000</td>\n",
       "      <td>0.896</td>\n",
       "      <td>0.104</td>\n",
       "      <td>0.4404</td>\n",
       "      <td>0.000</td>\n",
       "      <td>0.896</td>\n",
       "      <td>0.104</td>\n",
       "      <td>0.4404</td>\n",
       "      <td>5.0</td>\n",
       "    </tr>\n",
       "    <tr>\n",
       "      <th>3</th>\n",
       "      <td>4.0</td>\n",
       "      <td>I've had my Fire HD 8 two weeks now and I love...</td>\n",
       "      <td>Good!!!</td>\n",
       "      <td>{'neg': 0.036, 'neu': 0.683, 'pos': 0.281, 'co...</td>\n",
       "      <td>{'neg': 0.036, 'neu': 0.683, 'pos': 0.281, 'co...</td>\n",
       "      <td>{'neg': 0.036, 'neu': 0.683, 'pos': 0.281, 'co...</td>\n",
       "      <td>I've had my Fire HD 8 two weeks now and I love...</td>\n",
       "      <td>4.0</td>\n",
       "      <td>0.036</td>\n",
       "      <td>0.683</td>\n",
       "      <td>0.281</td>\n",
       "      <td>0.9884</td>\n",
       "      <td>0.036</td>\n",
       "      <td>0.683</td>\n",
       "      <td>0.281</td>\n",
       "      <td>0.9884</td>\n",
       "      <td>4.0</td>\n",
       "    </tr>\n",
       "    <tr>\n",
       "      <th>4</th>\n",
       "      <td>5.0</td>\n",
       "      <td>I bought this for my grand daughter when she c...</td>\n",
       "      <td>Fantastic Tablet for kids</td>\n",
       "      <td>{'neg': 0.0, 'neu': 0.914, 'pos': 0.086, 'comp...</td>\n",
       "      <td>{'neg': 0.0, 'neu': 0.914, 'pos': 0.086, 'comp...</td>\n",
       "      <td>{'neg': 0.0, 'neu': 0.914, 'pos': 0.086, 'comp...</td>\n",
       "      <td>I bought this for my grand daughter when she c...</td>\n",
       "      <td>5.0</td>\n",
       "      <td>0.000</td>\n",
       "      <td>0.914</td>\n",
       "      <td>0.086</td>\n",
       "      <td>0.7876</td>\n",
       "      <td>0.000</td>\n",
       "      <td>0.914</td>\n",
       "      <td>0.086</td>\n",
       "      <td>0.7876</td>\n",
       "      <td>5.0</td>\n",
       "    </tr>\n",
       "  </tbody>\n",
       "</table>\n",
       "</div>"
      ],
      "text/plain": [
       "   reviews.rating                                       reviews.text  \\\n",
       "0             5.0  This product so far has not disappointed. My c...   \n",
       "1             5.0  great for beginner or experienced person. Boug...   \n",
       "2             5.0  Inexpensive tablet for him to use and learn on...   \n",
       "3             4.0  I've had my Fire HD 8 two weeks now and I love...   \n",
       "4             5.0  I bought this for my grand daughter when she c...   \n",
       "\n",
       "                             reviews.title  \\\n",
       "0                                   Kindle   \n",
       "1                                very fast   \n",
       "2  Beginner tablet for our 9 year old son.   \n",
       "3                                  Good!!!   \n",
       "4                Fantastic Tablet for kids   \n",
       "\n",
       "                                              scores  \\\n",
       "0  {'neg': 0.0, 'neu': 0.599, 'pos': 0.401, 'comp...   \n",
       "1  {'neg': 0.0, 'neu': 0.483, 'pos': 0.517, 'comp...   \n",
       "2  {'neg': 0.0, 'neu': 0.896, 'pos': 0.104, 'comp...   \n",
       "3  {'neg': 0.036, 'neu': 0.683, 'pos': 0.281, 'co...   \n",
       "4  {'neg': 0.0, 'neu': 0.914, 'pos': 0.086, 'comp...   \n",
       "\n",
       "                                        scores_apply  \\\n",
       "0  {'neg': 0.0, 'neu': 0.599, 'pos': 0.401, 'comp...   \n",
       "1  {'neg': 0.0, 'neu': 0.483, 'pos': 0.517, 'comp...   \n",
       "2  {'neg': 0.0, 'neu': 0.896, 'pos': 0.104, 'comp...   \n",
       "3  {'neg': 0.036, 'neu': 0.683, 'pos': 0.281, 'co...   \n",
       "4  {'neg': 0.0, 'neu': 0.914, 'pos': 0.086, 'comp...   \n",
       "\n",
       "                                         scores_list  \\\n",
       "0  {'neg': 0.0, 'neu': 0.599, 'pos': 0.401, 'comp...   \n",
       "1  {'neg': 0.0, 'neu': 0.483, 'pos': 0.517, 'comp...   \n",
       "2  {'neg': 0.0, 'neu': 0.896, 'pos': 0.104, 'comp...   \n",
       "3  {'neg': 0.036, 'neu': 0.683, 'pos': 0.281, 'co...   \n",
       "4  {'neg': 0.0, 'neu': 0.914, 'pos': 0.086, 'comp...   \n",
       "\n",
       "                                     scores_list_str    B    neg    neu  \\\n",
       "0  This product so far has not disappointed. My c...  5.0  0.000  0.599   \n",
       "1  great for beginner or experienced person. Boug...  5.0  0.000  0.483   \n",
       "2  Inexpensive tablet for him to use and learn on...  5.0  0.000  0.896   \n",
       "3  I've had my Fire HD 8 two weeks now and I love...  4.0  0.036  0.683   \n",
       "4  I bought this for my grand daughter when she c...  5.0  0.000  0.914   \n",
       "\n",
       "     pos  compound    neg    neu    pos  compound Category  \n",
       "0  0.401    0.9194  0.000  0.599  0.401    0.9194      5.0  \n",
       "1  0.517    0.8934  0.000  0.483  0.517    0.8934      5.0  \n",
       "2  0.104    0.4404  0.000  0.896  0.104    0.4404      5.0  \n",
       "3  0.281    0.9884  0.036  0.683  0.281    0.9884      4.0  \n",
       "4  0.086    0.7876  0.000  0.914  0.086    0.7876      5.0  "
      ]
     },
     "execution_count": 83,
     "metadata": {},
     "output_type": "execute_result"
    }
   ],
   "source": [
    "df = pd.concat([df, df['scores_list_comprehension'].apply(pd.Series)], axis=1)\n",
    "df[\"Category\"] = df[\"reviews.rating\"].astype(\"category\")\n",
    "df.head()"
   ]
  }
 ],
 "metadata": {
  "kernelspec": {
   "display_name": "Python 3",
   "language": "python",
   "name": "python3"
  },
  "language_info": {
   "codemirror_mode": {
    "name": "ipython",
    "version": 3
   },
   "file_extension": ".py",
   "mimetype": "text/x-python",
   "name": "python",
   "nbconvert_exporter": "python",
   "pygments_lexer": "ipython3",
   "version": "3.8.8"
  }
 },
 "nbformat": 4,
 "nbformat_minor": 5
}
