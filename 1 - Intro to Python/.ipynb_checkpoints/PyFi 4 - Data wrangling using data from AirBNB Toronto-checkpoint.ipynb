{
 "cells": [
  {
   "cell_type": "markdown",
   "metadata": {},
   "source": [
    "# Analysis in practice\n",
    "\n",
    "This notebook applies the concepts we learned in class to an real dataset about current lists on AirBNB. "
   ]
  },
  {
   "cell_type": "markdown",
   "metadata": {},
   "source": [
    "## Manipulate and clean data\n",
    "\n",
    "Data is often \"dirty\" and needs to be cleaned up before we can analyze it. Excel can do some of this but one limitation to Excel is that there is no audit trail for the transformations that have been applied to the data. This can lead to issues with reproducing the results later. It also leads to \"magic numbers\" which are values like `40` or `120` that appear in calculations but have no clear origin - they appear like magic and are hard to traceback to an origin. \n",
    "\n",
    "# Tutorial Overview\n",
    "In this module, we will:\n",
    "1. import a file into a DataFrame\n",
    "2. remove extra characters in a column and recast the column as numeric\n",
    "3. plot the data as boxplots and histograms\n",
    "4. pivot ant cross-tabulate the data\n",
    "5. apply statistical techniques like ANOVA and regression to explore relationships in the data"
   ]
  },
  {
   "cell_type": "markdown",
   "metadata": {},
   "source": [
    "We begin by importing pandas and numpy and reading in the dataset. Now we have a Pandas DataFrame with the data. You'll notice this throws an error. Pandas automatically sets the data type for the columns during the import.  Some of the columns are mixed which will create issues for our analysis. "
   ]
  },
  {
   "cell_type": "code",
   "execution_count": 1,
   "metadata": {},
   "outputs": [
    {
     "name": "stderr",
     "output_type": "stream",
     "text": [
      "/opt/anaconda3/lib/python3.7/site-packages/IPython/core/interactiveshell.py:3058: DtypeWarning: Columns (61,62,95) have mixed types. Specify dtype option on import or set low_memory=False.\n",
      "  interactivity=interactivity, compiler=compiler, result=result)\n"
     ]
    }
   ],
   "source": [
    "import pandas as pd\n",
    "import numpy as np\n",
    "\n",
    "df = pd.read_csv('data/AirBNB Toronto.csv')"
   ]
  },
  {
   "cell_type": "code",
   "execution_count": 110,
   "metadata": {},
   "outputs": [
    {
     "data": {
      "text/html": [
       "<div>\n",
       "<style scoped>\n",
       "    .dataframe tbody tr th:only-of-type {\n",
       "        vertical-align: middle;\n",
       "    }\n",
       "\n",
       "    .dataframe tbody tr th {\n",
       "        vertical-align: top;\n",
       "    }\n",
       "\n",
       "    .dataframe thead th {\n",
       "        text-align: right;\n",
       "    }\n",
       "</style>\n",
       "<table border=\"1\" class=\"dataframe\">\n",
       "  <thead>\n",
       "    <tr style=\"text-align: right;\">\n",
       "      <th></th>\n",
       "      <th>id</th>\n",
       "      <th>listing_url</th>\n",
       "      <th>scrape_id</th>\n",
       "      <th>last_scraped</th>\n",
       "      <th>name</th>\n",
       "      <th>summary</th>\n",
       "      <th>space</th>\n",
       "      <th>description</th>\n",
       "      <th>experiences_offered</th>\n",
       "      <th>neighborhood_overview</th>\n",
       "      <th>...</th>\n",
       "      <th>instant_bookable</th>\n",
       "      <th>is_business_travel_ready</th>\n",
       "      <th>cancellation_policy</th>\n",
       "      <th>require_guest_profile_picture</th>\n",
       "      <th>require_guest_phone_verification</th>\n",
       "      <th>calculated_host_listings_count</th>\n",
       "      <th>calculated_host_listings_count_entire_homes</th>\n",
       "      <th>calculated_host_listings_count_private_rooms</th>\n",
       "      <th>calculated_host_listings_count_shared_rooms</th>\n",
       "      <th>reviews_per_month</th>\n",
       "    </tr>\n",
       "  </thead>\n",
       "  <tbody>\n",
       "    <tr>\n",
       "      <td>0</td>\n",
       "      <td>1419</td>\n",
       "      <td>https://www.airbnb.com/rooms/1419</td>\n",
       "      <td>20200409152508</td>\n",
       "      <td>2020-04-10</td>\n",
       "      <td>Beautiful home in amazing area!</td>\n",
       "      <td>This large, family home is located in one of T...</td>\n",
       "      <td>Visit Toronto with this fabulous furnished hom...</td>\n",
       "      <td>This large, family home is located in one of T...</td>\n",
       "      <td>none</td>\n",
       "      <td>The apartment is located in the Ossington stri...</td>\n",
       "      <td>...</td>\n",
       "      <td>f</td>\n",
       "      <td>f</td>\n",
       "      <td>strict_14_with_grace_period</td>\n",
       "      <td>f</td>\n",
       "      <td>f</td>\n",
       "      <td>1</td>\n",
       "      <td>1</td>\n",
       "      <td>0</td>\n",
       "      <td>0</td>\n",
       "      <td>0.12</td>\n",
       "    </tr>\n",
       "    <tr>\n",
       "      <td>1</td>\n",
       "      <td>8077</td>\n",
       "      <td>https://www.airbnb.com/rooms/8077</td>\n",
       "      <td>20200409152508</td>\n",
       "      <td>2020-04-11</td>\n",
       "      <td>Downtown Harbourfront Private Room</td>\n",
       "      <td>Guest room in a luxury condo with access to al...</td>\n",
       "      <td>My husband and I are both artists. I give pain...</td>\n",
       "      <td>Guest room in a luxury condo with access to al...</td>\n",
       "      <td>none</td>\n",
       "      <td>NaN</td>\n",
       "      <td>...</td>\n",
       "      <td>t</td>\n",
       "      <td>f</td>\n",
       "      <td>strict_14_with_grace_period</td>\n",
       "      <td>f</td>\n",
       "      <td>t</td>\n",
       "      <td>2</td>\n",
       "      <td>1</td>\n",
       "      <td>1</td>\n",
       "      <td>0</td>\n",
       "      <td>1.30</td>\n",
       "    </tr>\n",
       "    <tr>\n",
       "      <td>2</td>\n",
       "      <td>12604</td>\n",
       "      <td>https://www.airbnb.com/rooms/12604</td>\n",
       "      <td>20200409152508</td>\n",
       "      <td>2020-04-10</td>\n",
       "      <td>Seaton Village Parlour Bedroom</td>\n",
       "      <td>Comfortable sofa bed in airy main floor parlour.</td>\n",
       "      <td>Family of 4 (2 kids)  plus a friendly dog open...</td>\n",
       "      <td>Comfortable sofa bed in airy main floor parlou...</td>\n",
       "      <td>none</td>\n",
       "      <td>NaN</td>\n",
       "      <td>...</td>\n",
       "      <td>f</td>\n",
       "      <td>f</td>\n",
       "      <td>moderate</td>\n",
       "      <td>f</td>\n",
       "      <td>f</td>\n",
       "      <td>1</td>\n",
       "      <td>0</td>\n",
       "      <td>1</td>\n",
       "      <td>0</td>\n",
       "      <td>NaN</td>\n",
       "    </tr>\n",
       "    <tr>\n",
       "      <td>3</td>\n",
       "      <td>23691</td>\n",
       "      <td>https://www.airbnb.com/rooms/23691</td>\n",
       "      <td>20200409152508</td>\n",
       "      <td>2020-04-11</td>\n",
       "      <td>Queen Bedroom close to downtown</td>\n",
       "      <td>NaN</td>\n",
       "      <td>Nestled in the middle of a quiet residential n...</td>\n",
       "      <td>Nestled in the middle of a quiet residential n...</td>\n",
       "      <td>none</td>\n",
       "      <td>NaN</td>\n",
       "      <td>...</td>\n",
       "      <td>t</td>\n",
       "      <td>f</td>\n",
       "      <td>strict_14_with_grace_period</td>\n",
       "      <td>f</td>\n",
       "      <td>f</td>\n",
       "      <td>2</td>\n",
       "      <td>0</td>\n",
       "      <td>2</td>\n",
       "      <td>0</td>\n",
       "      <td>1.81</td>\n",
       "    </tr>\n",
       "    <tr>\n",
       "      <td>4</td>\n",
       "      <td>26654</td>\n",
       "      <td>https://www.airbnb.com/rooms/26654</td>\n",
       "      <td>20200409152508</td>\n",
       "      <td>2020-04-10</td>\n",
       "      <td>World Class downtown @CN Tower Theatre MTCC ga...</td>\n",
       "      <td>CN Tower, TIFF Bell Lightbox, Metro Convention...</td>\n",
       "      <td>Welcome to 5***** Living - Bohemian decor~ in ...</td>\n",
       "      <td>CN Tower, TIFF Bell Lightbox, Metro Convention...</td>\n",
       "      <td>none</td>\n",
       "      <td>There's a reason they call it the Entertainmen...</td>\n",
       "      <td>...</td>\n",
       "      <td>f</td>\n",
       "      <td>f</td>\n",
       "      <td>strict_14_with_grace_period</td>\n",
       "      <td>f</td>\n",
       "      <td>f</td>\n",
       "      <td>5</td>\n",
       "      <td>5</td>\n",
       "      <td>0</td>\n",
       "      <td>0</td>\n",
       "      <td>0.35</td>\n",
       "    </tr>\n",
       "  </tbody>\n",
       "</table>\n",
       "<p>5 rows × 106 columns</p>\n",
       "</div>"
      ],
      "text/plain": [
       "      id                         listing_url       scrape_id last_scraped  \\\n",
       "0   1419   https://www.airbnb.com/rooms/1419  20200409152508   2020-04-10   \n",
       "1   8077   https://www.airbnb.com/rooms/8077  20200409152508   2020-04-11   \n",
       "2  12604  https://www.airbnb.com/rooms/12604  20200409152508   2020-04-10   \n",
       "3  23691  https://www.airbnb.com/rooms/23691  20200409152508   2020-04-11   \n",
       "4  26654  https://www.airbnb.com/rooms/26654  20200409152508   2020-04-10   \n",
       "\n",
       "                                                name  \\\n",
       "0                    Beautiful home in amazing area!   \n",
       "1                 Downtown Harbourfront Private Room   \n",
       "2                     Seaton Village Parlour Bedroom   \n",
       "3                    Queen Bedroom close to downtown   \n",
       "4  World Class downtown @CN Tower Theatre MTCC ga...   \n",
       "\n",
       "                                             summary  \\\n",
       "0  This large, family home is located in one of T...   \n",
       "1  Guest room in a luxury condo with access to al...   \n",
       "2   Comfortable sofa bed in airy main floor parlour.   \n",
       "3                                                NaN   \n",
       "4  CN Tower, TIFF Bell Lightbox, Metro Convention...   \n",
       "\n",
       "                                               space  \\\n",
       "0  Visit Toronto with this fabulous furnished hom...   \n",
       "1  My husband and I are both artists. I give pain...   \n",
       "2  Family of 4 (2 kids)  plus a friendly dog open...   \n",
       "3  Nestled in the middle of a quiet residential n...   \n",
       "4  Welcome to 5***** Living - Bohemian decor~ in ...   \n",
       "\n",
       "                                         description experiences_offered  \\\n",
       "0  This large, family home is located in one of T...                none   \n",
       "1  Guest room in a luxury condo with access to al...                none   \n",
       "2  Comfortable sofa bed in airy main floor parlou...                none   \n",
       "3  Nestled in the middle of a quiet residential n...                none   \n",
       "4  CN Tower, TIFF Bell Lightbox, Metro Convention...                none   \n",
       "\n",
       "                               neighborhood_overview  ... instant_bookable  \\\n",
       "0  The apartment is located in the Ossington stri...  ...                f   \n",
       "1                                                NaN  ...                t   \n",
       "2                                                NaN  ...                f   \n",
       "3                                                NaN  ...                t   \n",
       "4  There's a reason they call it the Entertainmen...  ...                f   \n",
       "\n",
       "  is_business_travel_ready          cancellation_policy  \\\n",
       "0                        f  strict_14_with_grace_period   \n",
       "1                        f  strict_14_with_grace_period   \n",
       "2                        f                     moderate   \n",
       "3                        f  strict_14_with_grace_period   \n",
       "4                        f  strict_14_with_grace_period   \n",
       "\n",
       "  require_guest_profile_picture require_guest_phone_verification  \\\n",
       "0                             f                                f   \n",
       "1                             f                                t   \n",
       "2                             f                                f   \n",
       "3                             f                                f   \n",
       "4                             f                                f   \n",
       "\n",
       "   calculated_host_listings_count  \\\n",
       "0                               1   \n",
       "1                               2   \n",
       "2                               1   \n",
       "3                               2   \n",
       "4                               5   \n",
       "\n",
       "   calculated_host_listings_count_entire_homes  \\\n",
       "0                                            1   \n",
       "1                                            1   \n",
       "2                                            0   \n",
       "3                                            0   \n",
       "4                                            5   \n",
       "\n",
       "  calculated_host_listings_count_private_rooms  \\\n",
       "0                                            0   \n",
       "1                                            1   \n",
       "2                                            1   \n",
       "3                                            2   \n",
       "4                                            0   \n",
       "\n",
       "   calculated_host_listings_count_shared_rooms  reviews_per_month  \n",
       "0                                            0               0.12  \n",
       "1                                            0               1.30  \n",
       "2                                            0                NaN  \n",
       "3                                            0               1.81  \n",
       "4                                            0               0.35  \n",
       "\n",
       "[5 rows x 106 columns]"
      ]
     },
     "execution_count": 110,
     "metadata": {},
     "output_type": "execute_result"
    }
   ],
   "source": [
    "# you can see the DataFrame is large - it has 106 columns. \n",
    "# We won't need all of these so you could drop the columns you don't need. \n",
    "\n",
    "df.head()"
   ]
  },
  {
   "cell_type": "code",
   "execution_count": 3,
   "metadata": {},
   "outputs": [],
   "source": [
    "cols_to_drop = ['listing_url','scrape_id','last_scraped']\n",
    "df.drop(cols_to_drop, axis=1, inplace=True)"
   ]
  },
  {
   "cell_type": "code",
   "execution_count": 111,
   "metadata": {},
   "outputs": [
    {
     "data": {
      "text/plain": [
       "count      22425\n",
       "unique       534\n",
       "top       $99.00\n",
       "freq         950\n",
       "Name: price, dtype: object"
      ]
     },
     "execution_count": 111,
     "metadata": {},
     "output_type": "execute_result"
    }
   ],
   "source": [
    "# Let's look at the column for price. We want to see how the values are distributed.\n",
    "\n",
    "df['price'].describe()"
   ]
  },
  {
   "cell_type": "code",
   "execution_count": 112,
   "metadata": {},
   "outputs": [
    {
     "ename": "KeyError",
     "evalue": "\"None of [Index(['price'], dtype='object')] are in the [columns]\"",
     "output_type": "error",
     "traceback": [
      "\u001b[0;31m---------------------------------------------------------------------------\u001b[0m",
      "\u001b[0;31mKeyError\u001b[0m                                  Traceback (most recent call last)",
      "\u001b[0;32m<ipython-input-112-232150201d49>\u001b[0m in \u001b[0;36m<module>\u001b[0;34m\u001b[0m\n\u001b[1;32m      1\u001b[0m \u001b[0;31m# The \"describe\" method didn't seem to work. Let's try to plot 'price' using a boxplot and histogram. Why doesn't this work?\u001b[0m\u001b[0;34m\u001b[0m\u001b[0;34m\u001b[0m\u001b[0;34m\u001b[0m\u001b[0m\n\u001b[0;32m----> 2\u001b[0;31m \u001b[0mdf\u001b[0m\u001b[0;34m.\u001b[0m\u001b[0mboxplot\u001b[0m\u001b[0;34m(\u001b[0m\u001b[0mcolumn\u001b[0m\u001b[0;34m=\u001b[0m\u001b[0;34m[\u001b[0m\u001b[0;34m'price'\u001b[0m\u001b[0;34m]\u001b[0m\u001b[0;34m)\u001b[0m\u001b[0;34m\u001b[0m\u001b[0;34m\u001b[0m\u001b[0m\n\u001b[0m",
      "\u001b[0;32m/opt/anaconda3/lib/python3.7/site-packages/pandas/plotting/_core.py\u001b[0m in \u001b[0;36mboxplot_frame\u001b[0;34m(self, column, by, ax, fontsize, rot, grid, figsize, layout, return_type, **kwds)\u001b[0m\n\u001b[1;32m    418\u001b[0m         \u001b[0mlayout\u001b[0m\u001b[0;34m=\u001b[0m\u001b[0mlayout\u001b[0m\u001b[0;34m,\u001b[0m\u001b[0;34m\u001b[0m\u001b[0;34m\u001b[0m\u001b[0m\n\u001b[1;32m    419\u001b[0m         \u001b[0mreturn_type\u001b[0m\u001b[0;34m=\u001b[0m\u001b[0mreturn_type\u001b[0m\u001b[0;34m,\u001b[0m\u001b[0;34m\u001b[0m\u001b[0;34m\u001b[0m\u001b[0m\n\u001b[0;32m--> 420\u001b[0;31m         \u001b[0;34m**\u001b[0m\u001b[0mkwds\u001b[0m\u001b[0;34m\u001b[0m\u001b[0;34m\u001b[0m\u001b[0m\n\u001b[0m\u001b[1;32m    421\u001b[0m     )\n\u001b[1;32m    422\u001b[0m \u001b[0;34m\u001b[0m\u001b[0m\n",
      "\u001b[0;32m/opt/anaconda3/lib/python3.7/site-packages/pandas/plotting/_matplotlib/boxplot.py\u001b[0m in \u001b[0;36mboxplot_frame\u001b[0;34m(self, column, by, ax, fontsize, rot, grid, figsize, layout, return_type, **kwds)\u001b[0m\n\u001b[1;32m    353\u001b[0m         \u001b[0mlayout\u001b[0m\u001b[0;34m=\u001b[0m\u001b[0mlayout\u001b[0m\u001b[0;34m,\u001b[0m\u001b[0;34m\u001b[0m\u001b[0;34m\u001b[0m\u001b[0m\n\u001b[1;32m    354\u001b[0m         \u001b[0mreturn_type\u001b[0m\u001b[0;34m=\u001b[0m\u001b[0mreturn_type\u001b[0m\u001b[0;34m,\u001b[0m\u001b[0;34m\u001b[0m\u001b[0;34m\u001b[0m\u001b[0m\n\u001b[0;32m--> 355\u001b[0;31m         \u001b[0;34m**\u001b[0m\u001b[0mkwds\u001b[0m\u001b[0;34m\u001b[0m\u001b[0;34m\u001b[0m\u001b[0m\n\u001b[0m\u001b[1;32m    356\u001b[0m     )\n\u001b[1;32m    357\u001b[0m     \u001b[0mplt\u001b[0m\u001b[0;34m.\u001b[0m\u001b[0mdraw_if_interactive\u001b[0m\u001b[0;34m(\u001b[0m\u001b[0;34m)\u001b[0m\u001b[0;34m\u001b[0m\u001b[0;34m\u001b[0m\u001b[0m\n",
      "\u001b[0;32m/opt/anaconda3/lib/python3.7/site-packages/pandas/plotting/_matplotlib/boxplot.py\u001b[0m in \u001b[0;36mboxplot\u001b[0;34m(data, column, by, ax, fontsize, rot, grid, figsize, layout, return_type, **kwds)\u001b[0m\n\u001b[1;32m    318\u001b[0m             \u001b[0mcolumns\u001b[0m \u001b[0;34m=\u001b[0m \u001b[0mdata\u001b[0m\u001b[0;34m.\u001b[0m\u001b[0mcolumns\u001b[0m\u001b[0;34m\u001b[0m\u001b[0;34m\u001b[0m\u001b[0m\n\u001b[1;32m    319\u001b[0m         \u001b[0;32melse\u001b[0m\u001b[0;34m:\u001b[0m\u001b[0;34m\u001b[0m\u001b[0;34m\u001b[0m\u001b[0m\n\u001b[0;32m--> 320\u001b[0;31m             \u001b[0mdata\u001b[0m \u001b[0;34m=\u001b[0m \u001b[0mdata\u001b[0m\u001b[0;34m[\u001b[0m\u001b[0mcolumns\u001b[0m\u001b[0;34m]\u001b[0m\u001b[0;34m\u001b[0m\u001b[0;34m\u001b[0m\u001b[0m\n\u001b[0m\u001b[1;32m    321\u001b[0m \u001b[0;34m\u001b[0m\u001b[0m\n\u001b[1;32m    322\u001b[0m         \u001b[0mresult\u001b[0m \u001b[0;34m=\u001b[0m \u001b[0mplot_group\u001b[0m\u001b[0;34m(\u001b[0m\u001b[0mcolumns\u001b[0m\u001b[0;34m,\u001b[0m \u001b[0mdata\u001b[0m\u001b[0;34m.\u001b[0m\u001b[0mvalues\u001b[0m\u001b[0;34m.\u001b[0m\u001b[0mT\u001b[0m\u001b[0;34m,\u001b[0m \u001b[0max\u001b[0m\u001b[0;34m)\u001b[0m\u001b[0;34m\u001b[0m\u001b[0;34m\u001b[0m\u001b[0m\n",
      "\u001b[0;32m/opt/anaconda3/lib/python3.7/site-packages/pandas/core/frame.py\u001b[0m in \u001b[0;36m__getitem__\u001b[0;34m(self, key)\u001b[0m\n\u001b[1;32m   2984\u001b[0m             \u001b[0;32mif\u001b[0m \u001b[0mis_iterator\u001b[0m\u001b[0;34m(\u001b[0m\u001b[0mkey\u001b[0m\u001b[0;34m)\u001b[0m\u001b[0;34m:\u001b[0m\u001b[0;34m\u001b[0m\u001b[0;34m\u001b[0m\u001b[0m\n\u001b[1;32m   2985\u001b[0m                 \u001b[0mkey\u001b[0m \u001b[0;34m=\u001b[0m \u001b[0mlist\u001b[0m\u001b[0;34m(\u001b[0m\u001b[0mkey\u001b[0m\u001b[0;34m)\u001b[0m\u001b[0;34m\u001b[0m\u001b[0;34m\u001b[0m\u001b[0m\n\u001b[0;32m-> 2986\u001b[0;31m             \u001b[0mindexer\u001b[0m \u001b[0;34m=\u001b[0m \u001b[0mself\u001b[0m\u001b[0;34m.\u001b[0m\u001b[0mloc\u001b[0m\u001b[0;34m.\u001b[0m\u001b[0m_convert_to_indexer\u001b[0m\u001b[0;34m(\u001b[0m\u001b[0mkey\u001b[0m\u001b[0;34m,\u001b[0m \u001b[0maxis\u001b[0m\u001b[0;34m=\u001b[0m\u001b[0;36m1\u001b[0m\u001b[0;34m,\u001b[0m \u001b[0mraise_missing\u001b[0m\u001b[0;34m=\u001b[0m\u001b[0;32mTrue\u001b[0m\u001b[0;34m)\u001b[0m\u001b[0;34m\u001b[0m\u001b[0;34m\u001b[0m\u001b[0m\n\u001b[0m\u001b[1;32m   2987\u001b[0m \u001b[0;34m\u001b[0m\u001b[0m\n\u001b[1;32m   2988\u001b[0m         \u001b[0;31m# take() does not accept boolean indexers\u001b[0m\u001b[0;34m\u001b[0m\u001b[0;34m\u001b[0m\u001b[0;34m\u001b[0m\u001b[0m\n",
      "\u001b[0;32m/opt/anaconda3/lib/python3.7/site-packages/pandas/core/indexing.py\u001b[0m in \u001b[0;36m_convert_to_indexer\u001b[0;34m(self, obj, axis, is_setter, raise_missing)\u001b[0m\n\u001b[1;32m   1283\u001b[0m                 \u001b[0;31m# When setting, missing keys are not allowed, even with .loc:\u001b[0m\u001b[0;34m\u001b[0m\u001b[0;34m\u001b[0m\u001b[0;34m\u001b[0m\u001b[0m\n\u001b[1;32m   1284\u001b[0m                 \u001b[0mkwargs\u001b[0m \u001b[0;34m=\u001b[0m \u001b[0;34m{\u001b[0m\u001b[0;34m\"raise_missing\"\u001b[0m\u001b[0;34m:\u001b[0m \u001b[0;32mTrue\u001b[0m \u001b[0;32mif\u001b[0m \u001b[0mis_setter\u001b[0m \u001b[0;32melse\u001b[0m \u001b[0mraise_missing\u001b[0m\u001b[0;34m}\u001b[0m\u001b[0;34m\u001b[0m\u001b[0;34m\u001b[0m\u001b[0m\n\u001b[0;32m-> 1285\u001b[0;31m                 \u001b[0;32mreturn\u001b[0m \u001b[0mself\u001b[0m\u001b[0;34m.\u001b[0m\u001b[0m_get_listlike_indexer\u001b[0m\u001b[0;34m(\u001b[0m\u001b[0mobj\u001b[0m\u001b[0;34m,\u001b[0m \u001b[0maxis\u001b[0m\u001b[0;34m,\u001b[0m \u001b[0;34m**\u001b[0m\u001b[0mkwargs\u001b[0m\u001b[0;34m)\u001b[0m\u001b[0;34m[\u001b[0m\u001b[0;36m1\u001b[0m\u001b[0;34m]\u001b[0m\u001b[0;34m\u001b[0m\u001b[0;34m\u001b[0m\u001b[0m\n\u001b[0m\u001b[1;32m   1286\u001b[0m         \u001b[0;32melse\u001b[0m\u001b[0;34m:\u001b[0m\u001b[0;34m\u001b[0m\u001b[0;34m\u001b[0m\u001b[0m\n\u001b[1;32m   1287\u001b[0m             \u001b[0;32mtry\u001b[0m\u001b[0;34m:\u001b[0m\u001b[0;34m\u001b[0m\u001b[0;34m\u001b[0m\u001b[0m\n",
      "\u001b[0;32m/opt/anaconda3/lib/python3.7/site-packages/pandas/core/indexing.py\u001b[0m in \u001b[0;36m_get_listlike_indexer\u001b[0;34m(self, key, axis, raise_missing)\u001b[0m\n\u001b[1;32m   1090\u001b[0m \u001b[0;34m\u001b[0m\u001b[0m\n\u001b[1;32m   1091\u001b[0m         self._validate_read_indexer(\n\u001b[0;32m-> 1092\u001b[0;31m             \u001b[0mkeyarr\u001b[0m\u001b[0;34m,\u001b[0m \u001b[0mindexer\u001b[0m\u001b[0;34m,\u001b[0m \u001b[0mo\u001b[0m\u001b[0;34m.\u001b[0m\u001b[0m_get_axis_number\u001b[0m\u001b[0;34m(\u001b[0m\u001b[0maxis\u001b[0m\u001b[0;34m)\u001b[0m\u001b[0;34m,\u001b[0m \u001b[0mraise_missing\u001b[0m\u001b[0;34m=\u001b[0m\u001b[0mraise_missing\u001b[0m\u001b[0;34m\u001b[0m\u001b[0;34m\u001b[0m\u001b[0m\n\u001b[0m\u001b[1;32m   1093\u001b[0m         )\n\u001b[1;32m   1094\u001b[0m         \u001b[0;32mreturn\u001b[0m \u001b[0mkeyarr\u001b[0m\u001b[0;34m,\u001b[0m \u001b[0mindexer\u001b[0m\u001b[0;34m\u001b[0m\u001b[0;34m\u001b[0m\u001b[0m\n",
      "\u001b[0;32m/opt/anaconda3/lib/python3.7/site-packages/pandas/core/indexing.py\u001b[0m in \u001b[0;36m_validate_read_indexer\u001b[0;34m(self, key, indexer, axis, raise_missing)\u001b[0m\n\u001b[1;32m   1175\u001b[0m                 raise KeyError(\n\u001b[1;32m   1176\u001b[0m                     \"None of [{key}] are in the [{axis}]\".format(\n\u001b[0;32m-> 1177\u001b[0;31m                         \u001b[0mkey\u001b[0m\u001b[0;34m=\u001b[0m\u001b[0mkey\u001b[0m\u001b[0;34m,\u001b[0m \u001b[0maxis\u001b[0m\u001b[0;34m=\u001b[0m\u001b[0mself\u001b[0m\u001b[0;34m.\u001b[0m\u001b[0mobj\u001b[0m\u001b[0;34m.\u001b[0m\u001b[0m_get_axis_name\u001b[0m\u001b[0;34m(\u001b[0m\u001b[0maxis\u001b[0m\u001b[0;34m)\u001b[0m\u001b[0;34m\u001b[0m\u001b[0;34m\u001b[0m\u001b[0m\n\u001b[0m\u001b[1;32m   1178\u001b[0m                     )\n\u001b[1;32m   1179\u001b[0m                 )\n",
      "\u001b[0;31mKeyError\u001b[0m: \"None of [Index(['price'], dtype='object')] are in the [columns]\""
     ]
    },
    {
     "data": {
      "image/png": "[encoded data removed]",
      "text/plain": [
       "<Figure size 432x288 with 1 Axes>"
      ]
     },
     "metadata": {
      "needs_background": "light"
     },
     "output_type": "display_data"
    }
   ],
   "source": [
    "# The \"describe\" method didn't seem to work. Let's try to plot 'price' using a boxplot and histogram. Why doesn't this work?\n",
    "df.boxplot(column=['price'])"
   ]
  },
  {
   "cell_type": "code",
   "execution_count": 113,
   "metadata": {},
   "outputs": [
    {
     "data": {
      "text/plain": [
       "<matplotlib.axes._subplots.AxesSubplot at 0x12489bc90>"
      ]
     },
     "execution_count": 113,
     "metadata": {},
     "output_type": "execute_result"
    },
    {
     "data": {
      "image/png": "[encoded data removed]",
      "text/plain": [
       "<Figure size 432x288 with 1 Axes>"
      ]
     },
     "metadata": {
      "needs_background": "light"
     },
     "output_type": "display_data"
    }
   ],
   "source": [
    "# What is this histograph showing us?\n",
    "df['price'].hist()"
   ]
  },
  {
   "cell_type": "markdown",
   "metadata": {},
   "source": [
    "When Pandas imported 'price', it determined this variable was a string, not a number because it included the dollar sign and commas. \n",
    "\n",
    "We need to remove \"$\" and \",\" and then recast this column as a number (floating point since it has decimals). We can quickly fix the issues with price and continue our analysis. It is very common for datasets to have issues like this."
   ]
  },
  {
   "cell_type": "code",
   "execution_count": 133,
   "metadata": {},
   "outputs": [],
   "source": [
    "df['price'] = df['price'].str.replace('$', '')\n",
    "df['price'] = df['price'].str.replace(',', '').astype(float)"
   ]
  },
  {
   "cell_type": "code",
   "execution_count": 117,
   "metadata": {},
   "outputs": [
    {
     "data": {
      "text/plain": [
       "<matplotlib.axes._subplots.AxesSubplot at 0x1c2be47f10>"
      ]
     },
     "execution_count": 117,
     "metadata": {},
     "output_type": "execute_result"
    },
    {
     "data": {
      "image/png": "[encoded data removed]",
      "text/plain": [
       "<Figure size 432x288 with 1 Axes>"
      ]
     },
     "metadata": {
      "needs_background": "light"
     },
     "output_type": "display_data"
    }
   ],
   "source": [
    "# Now that we have the price as a number, we can make a boxplot. \n",
    "\n",
    "df.boxplot(column=['price'])"
   ]
  },
  {
   "cell_type": "code",
   "execution_count": 106,
   "metadata": {},
   "outputs": [
    {
     "data": {
      "text/plain": [
       "<matplotlib.axes._subplots.AxesSubplot at 0x1c2f37d7d0>"
      ]
     },
     "execution_count": 106,
     "metadata": {},
     "output_type": "execute_result"
    },
    {
     "data": {
      "image/png": "[encoded data removed]",
      "text/plain": [
       "<Figure size 432x288 with 1 Axes>"
      ]
     },
     "metadata": {
      "needs_background": "light"
     },
     "output_type": "display_data"
    }
   ],
   "source": [
    "# The boxplot is hard to read because there are so many extreme values. Let's focus just on the values less than  or equal to $300.\n",
    "\n",
    "df[df['price']<=300].boxplot(column=['price'])"
   ]
  },
  {
   "cell_type": "code",
   "execution_count": 107,
   "metadata": {},
   "outputs": [
    {
     "data": {
      "text/plain": [
       "<matplotlib.axes._subplots.AxesSubplot at 0x1c2f336050>"
      ]
     },
     "execution_count": 107,
     "metadata": {},
     "output_type": "execute_result"
    },
    {
     "data": {
      "image/png": "[encoded data removed]",
      "text/plain": [
       "<Figure size 432x288 with 1 Axes>"
      ]
     },
     "metadata": {
      "needs_background": "light"
     },
     "output_type": "display_data"
    }
   ],
   "source": [
    "# And we can make a histogram of the same distribution. \n",
    "\n",
    "df[df['price']<=300]['price'].hist()"
   ]
  },
  {
   "cell_type": "markdown",
   "metadata": {},
   "source": [
    "At this point, we might want to save the cleaned DataFrame as a CSV so we don't need to repeat those steps. We have cleaned the price column, now let's do some analysis. "
   ]
  },
  {
   "cell_type": "code",
   "execution_count": 118,
   "metadata": {},
   "outputs": [
    {
     "data": {
      "text/plain": [
       "<matplotlib.axes._subplots.AxesSubplot at 0x1c2c5252d0>"
      ]
     },
     "execution_count": 118,
     "metadata": {},
     "output_type": "execute_result"
    },
    {
     "data": {
      "image/png": "[encoded data removed]",
      "text/plain": [
       "<Figure size 432x288 with 1 Axes>"
      ]
     },
     "metadata": {
      "needs_background": "light"
     },
     "output_type": "display_data"
    }
   ],
   "source": [
    "# We wonder if being part of the AirBNB \"superhost\" program is worth it. Let's look at the distribuition of rental prices separated by if the host is a superhost or not. \n",
    "\n",
    "df[df['price']<301].boxplot(column=['price'], by = 'host_is_superhost')"
   ]
  },
  {
   "cell_type": "code",
   "execution_count": 134,
   "metadata": {},
   "outputs": [
    {
     "data": {
      "text/html": [
       "<div>\n",
       "<style scoped>\n",
       "    .dataframe tbody tr th:only-of-type {\n",
       "        vertical-align: middle;\n",
       "    }\n",
       "\n",
       "    .dataframe tbody tr th {\n",
       "        vertical-align: top;\n",
       "    }\n",
       "\n",
       "    .dataframe thead th {\n",
       "        text-align: right;\n",
       "    }\n",
       "</style>\n",
       "<table border=\"1\" class=\"dataframe\">\n",
       "  <thead>\n",
       "    <tr style=\"text-align: right;\">\n",
       "      <th>host_is_superhost</th>\n",
       "      <th>False</th>\n",
       "      <th>True</th>\n",
       "    </tr>\n",
       "  </thead>\n",
       "  <tbody>\n",
       "    <tr>\n",
       "      <td>price</td>\n",
       "      <td>143.370045</td>\n",
       "      <td>143.939685</td>\n",
       "    </tr>\n",
       "  </tbody>\n",
       "</table>\n",
       "</div>"
      ],
      "text/plain": [
       "host_is_superhost       False       True \n",
       "price              143.370045  143.939685"
      ]
     },
     "execution_count": 134,
     "metadata": {},
     "output_type": "execute_result"
    }
   ],
   "source": [
    "# Adding a pivot table to look at the difference in price between superhosts and non-superhosts. The dataset uses \"t\" and \"f\" but lets change them to boolean values\n",
    "bool_map = {'t': True, 'f': False}\n",
    "df['host_is_superhost'] = df['host_is_superhost'].map(bool_map)\n",
    "\n",
    "pd.pivot_table(df, values = 'price', columns = 'host_is_superhost', aggfunc='mean')"
   ]
  },
  {
   "cell_type": "code",
   "execution_count": 135,
   "metadata": {},
   "outputs": [
    {
     "data": {
      "text/plain": [
       "Ttest_indResult(statistic=0.14155977023038302, pvalue=0.88742901748445)"
      ]
     },
     "execution_count": 135,
     "metadata": {},
     "output_type": "execute_result"
    }
   ],
   "source": [
    "# We can use SciPy to test if the difference between superhosts/non-super hosts is statistically significant\n",
    "\n",
    "from scipy import stats\n",
    "\n",
    "stats.ttest_ind(df[df['host_is_superhost']==True]['price'], df[df['host_is_superhost']==False]['price'])"
   ]
  },
  {
   "cell_type": "markdown",
   "metadata": {},
   "source": [
    "## Conclusion\n",
    "\n",
    "There is not evidence to indicate that the true mean rental price is different between superhosts and non-superhosts. (We fail to reject the null hypothesis.)"
   ]
  },
  {
   "cell_type": "markdown",
   "metadata": {},
   "source": [
    "# Bed_type and Price\n",
    "\n",
    "Let's see if the kind of bed offered is correlated with price. "
   ]
  },
  {
   "cell_type": "code",
   "execution_count": 43,
   "metadata": {},
   "outputs": [
    {
     "data": {
      "text/plain": [
       "<matplotlib.axes._subplots.AxesSubplot at 0x1268c5050>"
      ]
     },
     "execution_count": 43,
     "metadata": {},
     "output_type": "execute_result"
    },
    {
     "data": {
      "image/png": "[encoded data removed]",
      "text/plain": [
       "<Figure size 432x288 with 1 Axes>"
      ]
     },
     "metadata": {
      "needs_background": "light"
     },
     "output_type": "display_data"
    }
   ],
   "source": [
    "# Let's look at bed type and see if that makes a difference.\n",
    "\n",
    "df[df['price']<301].boxplot(column=['price'], by = 'bed_type')"
   ]
  },
  {
   "cell_type": "code",
   "execution_count": 51,
   "metadata": {},
   "outputs": [
    {
     "name": "stdout",
     "output_type": "stream",
     "text": [
      "                sum_sq       df         F    PR(>F)\n",
      "bed_type  9.093674e+05      4.0  3.086357  0.014978\n",
      "Residual  1.651463e+09  22420.0       NaN       NaN\n"
     ]
    }
   ],
   "source": [
    "# since there are more than two groups we need to use ANOVA instead of a t-test. The StatsModels library can help.\n",
    "\n",
    "import statsmodels.api as sm\n",
    "from statsmodels.formula.api import ols\n",
    "\n",
    "mod = ols('price ~ bed_type', data=df).fit()\n",
    "                \n",
    "aov_table = sm.stats.anova_lm(mod, typ=2)\n",
    "print(aov_table)"
   ]
  },
  {
   "cell_type": "code",
   "execution_count": 52,
   "metadata": {},
   "outputs": [
    {
     "data": {
      "text/html": [
       "<table class=\"simpletable\">\n",
       "<caption>OLS Regression Results</caption>\n",
       "<tr>\n",
       "  <th>Dep. Variable:</th>          <td>price</td>      <th>  R-squared:         </th>  <td>   0.001</td>  \n",
       "</tr>\n",
       "<tr>\n",
       "  <th>Model:</th>                   <td>OLS</td>       <th>  Adj. R-squared:    </th>  <td>   0.000</td>  \n",
       "</tr>\n",
       "<tr>\n",
       "  <th>Method:</th>             <td>Least Squares</td>  <th>  F-statistic:       </th>  <td>   3.086</td>  \n",
       "</tr>\n",
       "<tr>\n",
       "  <th>Date:</th>             <td>Wed, 29 Apr 2020</td> <th>  Prob (F-statistic):</th>   <td>0.0150</td>   \n",
       "</tr>\n",
       "<tr>\n",
       "  <th>Time:</th>                 <td>14:41:17</td>     <th>  Log-Likelihood:    </th> <td>-1.5748e+05</td>\n",
       "</tr>\n",
       "<tr>\n",
       "  <th>No. Observations:</th>      <td> 22425</td>      <th>  AIC:               </th>  <td>3.150e+05</td> \n",
       "</tr>\n",
       "<tr>\n",
       "  <th>Df Residuals:</th>          <td> 22420</td>      <th>  BIC:               </th>  <td>3.150e+05</td> \n",
       "</tr>\n",
       "<tr>\n",
       "  <th>Df Model:</th>              <td>     4</td>      <th>                     </th>      <td> </td>     \n",
       "</tr>\n",
       "<tr>\n",
       "  <th>Covariance Type:</th>      <td>nonrobust</td>    <th>                     </th>      <td> </td>     \n",
       "</tr>\n",
       "</table>\n",
       "<table class=\"simpletable\">\n",
       "<tr>\n",
       "              <td></td>                 <th>coef</th>     <th>std err</th>      <th>t</th>      <th>P>|t|</th>  <th>[0.025</th>    <th>0.975]</th>  \n",
       "</tr>\n",
       "<tr>\n",
       "  <th>Intercept</th>                 <td>   77.6429</td> <td>   51.291</td> <td>    1.514</td> <td> 0.130</td> <td>  -22.890</td> <td>  178.176</td>\n",
       "</tr>\n",
       "<tr>\n",
       "  <th>bed_type[T.Couch]</th>         <td>  115.3571</td> <td>   72.536</td> <td>    1.590</td> <td> 0.112</td> <td>  -26.818</td> <td>  257.532</td>\n",
       "</tr>\n",
       "<tr>\n",
       "  <th>bed_type[T.Futon]</th>         <td>   -5.8053</td> <td>   57.099</td> <td>   -0.102</td> <td> 0.919</td> <td> -117.723</td> <td>  106.113</td>\n",
       "</tr>\n",
       "<tr>\n",
       "  <th>bed_type[T.Pull-out Sofa]</th> <td>   26.7681</td> <td>   60.330</td> <td>    0.444</td> <td> 0.657</td> <td>  -91.484</td> <td>  145.020</td>\n",
       "</tr>\n",
       "<tr>\n",
       "  <th>bed_type[T.Real Bed]</th>      <td>   66.4169</td> <td>   51.323</td> <td>    1.294</td> <td> 0.196</td> <td>  -34.180</td> <td>  167.013</td>\n",
       "</tr>\n",
       "</table>\n",
       "<table class=\"simpletable\">\n",
       "<tr>\n",
       "  <th>Omnibus:</th>       <td>57150.485</td> <th>  Durbin-Watson:     </th>    <td>   1.956</td>   \n",
       "</tr>\n",
       "<tr>\n",
       "  <th>Prob(Omnibus):</th>  <td> 0.000</td>   <th>  Jarque-Bera (JB):  </th> <td>1291101764.910</td>\n",
       "</tr>\n",
       "<tr>\n",
       "  <th>Skew:</th>           <td>28.673</td>   <th>  Prob(JB):          </th>    <td>    0.00</td>   \n",
       "</tr>\n",
       "<tr>\n",
       "  <th>Kurtosis:</th>      <td>1177.092</td>  <th>  Cond. No.          </th>    <td>    92.2</td>   \n",
       "</tr>\n",
       "</table><br/><br/>Warnings:<br/>[1] Standard Errors assume that the covariance matrix of the errors is correctly specified."
      ],
      "text/plain": [
       "<class 'statsmodels.iolib.summary.Summary'>\n",
       "\"\"\"\n",
       "                            OLS Regression Results                            \n",
       "==============================================================================\n",
       "Dep. Variable:                  price   R-squared:                       0.001\n",
       "Model:                            OLS   Adj. R-squared:                  0.000\n",
       "Method:                 Least Squares   F-statistic:                     3.086\n",
       "Date:                Wed, 29 Apr 2020   Prob (F-statistic):             0.0150\n",
       "Time:                        14:41:17   Log-Likelihood:            -1.5748e+05\n",
       "No. Observations:               22425   AIC:                         3.150e+05\n",
       "Df Residuals:                   22420   BIC:                         3.150e+05\n",
       "Df Model:                           4                                         \n",
       "Covariance Type:            nonrobust                                         \n",
       "=============================================================================================\n",
       "                                coef    std err          t      P>|t|      [0.025      0.975]\n",
       "---------------------------------------------------------------------------------------------\n",
       "Intercept                    77.6429     51.291      1.514      0.130     -22.890     178.176\n",
       "bed_type[T.Couch]           115.3571     72.536      1.590      0.112     -26.818     257.532\n",
       "bed_type[T.Futon]            -5.8053     57.099     -0.102      0.919    -117.723     106.113\n",
       "bed_type[T.Pull-out Sofa]    26.7681     60.330      0.444      0.657     -91.484     145.020\n",
       "bed_type[T.Real Bed]         66.4169     51.323      1.294      0.196     -34.180     167.013\n",
       "==============================================================================\n",
       "Omnibus:                    57150.485   Durbin-Watson:                   1.956\n",
       "Prob(Omnibus):                  0.000   Jarque-Bera (JB):       1291101764.910\n",
       "Skew:                          28.673   Prob(JB):                         0.00\n",
       "Kurtosis:                    1177.092   Cond. No.                         92.2\n",
       "==============================================================================\n",
       "\n",
       "Warnings:\n",
       "[1] Standard Errors assume that the covariance matrix of the errors is correctly specified.\n",
       "\"\"\""
      ]
     },
     "execution_count": 52,
     "metadata": {},
     "output_type": "execute_result"
    }
   ],
   "source": [
    "# When StatsModels does the ANOVA, it also does a linear regression. We can see the results by calling the summary method on the model\n",
    "\n",
    "mod.summary()"
   ]
  },
  {
   "cell_type": "markdown",
   "metadata": {},
   "source": [
    "## Conclusion\n",
    "\n",
    "None of the bed_types is statistically significant. If we want to predict 'price', we need to use other features. "
   ]
  },
  {
   "cell_type": "markdown",
   "metadata": {},
   "source": [
    "# Amenities and Price\n",
    "\n",
    "Each property offers a variety of amenities. The data is hard to analyze, so let's clean it up."
   ]
  },
  {
   "cell_type": "code",
   "execution_count": 72,
   "metadata": {},
   "outputs": [
    {
     "data": {
      "text/plain": [
       "0    {TV,Internet,Wifi,\"Air conditioning\",Kitchen,\"...\n",
       "1    {TV,\"Cable TV\",Internet,Wifi,\"Air conditioning...\n",
       "2    {Internet,Wifi,\"Pets live on this property\",Ca...\n",
       "3    {Internet,Wifi,\"Air conditioning\",Kitchen,\"Fre...\n",
       "4    {TV,\"Cable TV\",Internet,Wifi,\"Air conditioning...\n",
       "Name: amenities, dtype: object"
      ]
     },
     "execution_count": 72,
     "metadata": {},
     "output_type": "execute_result"
    }
   ],
   "source": [
    "# Maybe amenities would be useful. There is a column for amenities but it is a JSON object. Let's pull some values from the column.\n",
    "\n",
    "df['amenities'].head()"
   ]
  },
  {
   "cell_type": "markdown",
   "metadata": {},
   "source": [
    "Let's convert this to a format we can use by making dummy variables for key terms. We want to do analysis with these columns, so we convert the boolean values to integers.\n",
    "\n",
    "We create the \"watch_words\" list to hold the amenities we want to examine. This list could be a single amenity or a long list. It is important that we convert the column to lowercase before searching for the watch word so we don't miss different spellings such as \"WIFI\", \"Wifi\", \"WiFi\", or \"wifi\"."
   ]
  },
  {
   "cell_type": "code",
   "execution_count": 69,
   "metadata": {},
   "outputs": [],
   "source": [
    "watch_words = ['wifi', 'internet', 'cable tv', 'dog', 'cat']\n",
    "\n",
    "for i in watch_words: \n",
    "    df[i] = df['amenities'].str.lower().str.contains(i)\n",
    "\n",
    "df[['wifi', 'internet', 'cable tv', 'dog', 'cat']]=df[['wifi', 'internet', 'cable tv', 'dog', 'cat']].astype(int)"
   ]
  },
  {
   "cell_type": "code",
   "execution_count": 73,
   "metadata": {},
   "outputs": [
    {
     "data": {
      "text/html": [
       "<div>\n",
       "<style scoped>\n",
       "    .dataframe tbody tr th:only-of-type {\n",
       "        vertical-align: middle;\n",
       "    }\n",
       "\n",
       "    .dataframe tbody tr th {\n",
       "        vertical-align: top;\n",
       "    }\n",
       "\n",
       "    .dataframe thead th {\n",
       "        text-align: right;\n",
       "    }\n",
       "</style>\n",
       "<table border=\"1\" class=\"dataframe\">\n",
       "  <thead>\n",
       "    <tr style=\"text-align: right;\">\n",
       "      <th></th>\n",
       "      <th>wifi</th>\n",
       "      <th>internet</th>\n",
       "      <th>cable tv</th>\n",
       "      <th>dog</th>\n",
       "      <th>cat</th>\n",
       "    </tr>\n",
       "  </thead>\n",
       "  <tbody>\n",
       "    <tr>\n",
       "      <td>count</td>\n",
       "      <td>22425.000000</td>\n",
       "      <td>22425.000000</td>\n",
       "      <td>22425.000000</td>\n",
       "      <td>22425.000000</td>\n",
       "      <td>22425.000000</td>\n",
       "    </tr>\n",
       "    <tr>\n",
       "      <td>mean</td>\n",
       "      <td>0.980736</td>\n",
       "      <td>0.190323</td>\n",
       "      <td>0.211460</td>\n",
       "      <td>0.018328</td>\n",
       "      <td>0.015786</td>\n",
       "    </tr>\n",
       "    <tr>\n",
       "      <td>std</td>\n",
       "      <td>0.137455</td>\n",
       "      <td>0.392565</td>\n",
       "      <td>0.408353</td>\n",
       "      <td>0.134137</td>\n",
       "      <td>0.124649</td>\n",
       "    </tr>\n",
       "    <tr>\n",
       "      <td>min</td>\n",
       "      <td>0.000000</td>\n",
       "      <td>0.000000</td>\n",
       "      <td>0.000000</td>\n",
       "      <td>0.000000</td>\n",
       "      <td>0.000000</td>\n",
       "    </tr>\n",
       "    <tr>\n",
       "      <td>25%</td>\n",
       "      <td>1.000000</td>\n",
       "      <td>0.000000</td>\n",
       "      <td>0.000000</td>\n",
       "      <td>0.000000</td>\n",
       "      <td>0.000000</td>\n",
       "    </tr>\n",
       "    <tr>\n",
       "      <td>50%</td>\n",
       "      <td>1.000000</td>\n",
       "      <td>0.000000</td>\n",
       "      <td>0.000000</td>\n",
       "      <td>0.000000</td>\n",
       "      <td>0.000000</td>\n",
       "    </tr>\n",
       "    <tr>\n",
       "      <td>75%</td>\n",
       "      <td>1.000000</td>\n",
       "      <td>0.000000</td>\n",
       "      <td>0.000000</td>\n",
       "      <td>0.000000</td>\n",
       "      <td>0.000000</td>\n",
       "    </tr>\n",
       "    <tr>\n",
       "      <td>max</td>\n",
       "      <td>1.000000</td>\n",
       "      <td>1.000000</td>\n",
       "      <td>1.000000</td>\n",
       "      <td>1.000000</td>\n",
       "      <td>1.000000</td>\n",
       "    </tr>\n",
       "  </tbody>\n",
       "</table>\n",
       "</div>"
      ],
      "text/plain": [
       "               wifi      internet      cable tv           dog           cat\n",
       "count  22425.000000  22425.000000  22425.000000  22425.000000  22425.000000\n",
       "mean       0.980736      0.190323      0.211460      0.018328      0.015786\n",
       "std        0.137455      0.392565      0.408353      0.134137      0.124649\n",
       "min        0.000000      0.000000      0.000000      0.000000      0.000000\n",
       "25%        1.000000      0.000000      0.000000      0.000000      0.000000\n",
       "50%        1.000000      0.000000      0.000000      0.000000      0.000000\n",
       "75%        1.000000      0.000000      0.000000      0.000000      0.000000\n",
       "max        1.000000      1.000000      1.000000      1.000000      1.000000"
      ]
     },
     "execution_count": 73,
     "metadata": {},
     "output_type": "execute_result"
    }
   ],
   "source": [
    "df[['wifi', 'internet', 'cable tv', 'dog', 'cat']].describe()"
   ]
  },
  {
   "cell_type": "markdown",
   "metadata": {},
   "source": [
    "## Conclusion\n",
    "\n",
    "We have additional factors we can use for analysis. It looks like almost all properties have wifi and only a few allow dogs or cats. "
   ]
  },
  {
   "cell_type": "markdown",
   "metadata": {},
   "source": [
    "# Dogs and/or Cats versus Price\n",
    "\n",
    "Let's use pivot tables to look at how the price changes for properties that allow dogs and/or cats."
   ]
  },
  {
   "cell_type": "code",
   "execution_count": 82,
   "metadata": {},
   "outputs": [
    {
     "data": {
      "text/html": [
       "<div>\n",
       "<style scoped>\n",
       "    .dataframe tbody tr th:only-of-type {\n",
       "        vertical-align: middle;\n",
       "    }\n",
       "\n",
       "    .dataframe tbody tr th {\n",
       "        vertical-align: top;\n",
       "    }\n",
       "\n",
       "    .dataframe thead th {\n",
       "        text-align: right;\n",
       "    }\n",
       "</style>\n",
       "<table border=\"1\" class=\"dataframe\">\n",
       "  <thead>\n",
       "    <tr style=\"text-align: right;\">\n",
       "      <th>dog</th>\n",
       "      <th>0</th>\n",
       "      <th>1</th>\n",
       "    </tr>\n",
       "    <tr>\n",
       "      <th>cat</th>\n",
       "      <th></th>\n",
       "      <th></th>\n",
       "    </tr>\n",
       "  </thead>\n",
       "  <tbody>\n",
       "    <tr>\n",
       "      <td>0</td>\n",
       "      <td>144.350085</td>\n",
       "      <td>128.133540</td>\n",
       "    </tr>\n",
       "    <tr>\n",
       "      <td>1</td>\n",
       "      <td>97.558491</td>\n",
       "      <td>136.224719</td>\n",
       "    </tr>\n",
       "  </tbody>\n",
       "</table>\n",
       "</div>"
      ],
      "text/plain": [
       "dog           0           1\n",
       "cat                        \n",
       "0    144.350085  128.133540\n",
       "1     97.558491  136.224719"
      ]
     },
     "execution_count": 82,
     "metadata": {},
     "output_type": "execute_result"
    }
   ],
   "source": [
    "# Do properties that allow dogs and/or cats have a higher price? Let's do a pivot table to see\n",
    "\n",
    "pd.pivot_table(df, values= 'price', columns = 'dog', index = 'cat', aggfunc=\"mean\")"
   ]
  },
  {
   "cell_type": "code",
   "execution_count": 85,
   "metadata": {},
   "outputs": [
    {
     "data": {
      "text/html": [
       "<div>\n",
       "<style scoped>\n",
       "    .dataframe tbody tr th:only-of-type {\n",
       "        vertical-align: middle;\n",
       "    }\n",
       "\n",
       "    .dataframe tbody tr th {\n",
       "        vertical-align: top;\n",
       "    }\n",
       "\n",
       "    .dataframe thead th {\n",
       "        text-align: right;\n",
       "    }\n",
       "</style>\n",
       "<table border=\"1\" class=\"dataframe\">\n",
       "  <thead>\n",
       "    <tr style=\"text-align: right;\">\n",
       "      <th>dog</th>\n",
       "      <th>0</th>\n",
       "      <th>1</th>\n",
       "      <th>All</th>\n",
       "    </tr>\n",
       "    <tr>\n",
       "      <th>cat</th>\n",
       "      <th></th>\n",
       "      <th></th>\n",
       "      <th></th>\n",
       "    </tr>\n",
       "  </thead>\n",
       "  <tbody>\n",
       "    <tr>\n",
       "      <td>0</td>\n",
       "      <td>21749</td>\n",
       "      <td>322</td>\n",
       "      <td>22071</td>\n",
       "    </tr>\n",
       "    <tr>\n",
       "      <td>1</td>\n",
       "      <td>265</td>\n",
       "      <td>89</td>\n",
       "      <td>354</td>\n",
       "    </tr>\n",
       "    <tr>\n",
       "      <td>All</td>\n",
       "      <td>22014</td>\n",
       "      <td>411</td>\n",
       "      <td>22425</td>\n",
       "    </tr>\n",
       "  </tbody>\n",
       "</table>\n",
       "</div>"
      ],
      "text/plain": [
       "dog      0    1    All\n",
       "cat                   \n",
       "0    21749  322  22071\n",
       "1      265   89    354\n",
       "All  22014  411  22425"
      ]
     },
     "execution_count": 85,
     "metadata": {},
     "output_type": "execute_result"
    }
   ],
   "source": [
    "#how many properties are there that allow dogs or cats? Let's change the aggfunc from mean to count. We also add a summary column called \"All\"\n",
    "\n",
    "pd.pivot_table(df, values= 'price', columns = 'dog', index = 'cat', aggfunc=\"count\", margins=True)"
   ]
  },
  {
   "cell_type": "code",
   "execution_count": 87,
   "metadata": {},
   "outputs": [
    {
     "data": {
      "text/html": [
       "<div>\n",
       "<style scoped>\n",
       "    .dataframe tbody tr th:only-of-type {\n",
       "        vertical-align: middle;\n",
       "    }\n",
       "\n",
       "    .dataframe tbody tr th {\n",
       "        vertical-align: top;\n",
       "    }\n",
       "\n",
       "    .dataframe thead th {\n",
       "        text-align: right;\n",
       "    }\n",
       "</style>\n",
       "<table border=\"1\" class=\"dataframe\">\n",
       "  <thead>\n",
       "    <tr style=\"text-align: right;\">\n",
       "      <th>dog</th>\n",
       "      <th>0</th>\n",
       "      <th>1</th>\n",
       "    </tr>\n",
       "    <tr>\n",
       "      <th>cat</th>\n",
       "      <th></th>\n",
       "      <th></th>\n",
       "    </tr>\n",
       "  </thead>\n",
       "  <tbody>\n",
       "    <tr>\n",
       "      <td>0</td>\n",
       "      <td>0.969855</td>\n",
       "      <td>0.014359</td>\n",
       "    </tr>\n",
       "    <tr>\n",
       "      <td>1</td>\n",
       "      <td>0.011817</td>\n",
       "      <td>0.003969</td>\n",
       "    </tr>\n",
       "  </tbody>\n",
       "</table>\n",
       "</div>"
      ],
      "text/plain": [
       "dog         0         1\n",
       "cat                    \n",
       "0    0.969855  0.014359\n",
       "1    0.011817  0.003969"
      ]
     },
     "execution_count": 87,
     "metadata": {},
     "output_type": "execute_result"
    }
   ],
   "source": [
    "# the pivot gave us total count, but what we want to know is a percentage of the total. Since we don't care about price, we can use crosstab\n",
    "\n",
    "pd.crosstab(df['cat'], df['dog'], normalize=True)"
   ]
  },
  {
   "cell_type": "code",
   "execution_count": 88,
   "metadata": {},
   "outputs": [],
   "source": [
    "# Nice. So less than 1% of the properties allow both dogs and cats. "
   ]
  },
  {
   "cell_type": "markdown",
   "metadata": {},
   "source": [
    "# Regression with Dogs and Cats versus Price\n",
    "\n",
    "We can look at the interaction effect of allowing both dogs and cats using a regression. We will use StatsModels for the regressions because the structure is easier to read and understand than Scikit-Learn's regression methods."
   ]
  },
  {
   "cell_type": "code",
   "execution_count": 89,
   "metadata": {},
   "outputs": [
    {
     "data": {
      "text/html": [
       "<table class=\"simpletable\">\n",
       "<caption>OLS Regression Results</caption>\n",
       "<tr>\n",
       "  <th>Dep. Variable:</th>          <td>price</td>      <th>  R-squared:         </th>  <td>   0.000</td>  \n",
       "</tr>\n",
       "<tr>\n",
       "  <th>Model:</th>                   <td>OLS</td>       <th>  Adj. R-squared:    </th>  <td>   0.000</td>  \n",
       "</tr>\n",
       "<tr>\n",
       "  <th>Method:</th>             <td>Least Squares</td>  <th>  F-statistic:       </th>  <td>   2.967</td>  \n",
       "</tr>\n",
       "<tr>\n",
       "  <th>Date:</th>             <td>Wed, 29 Apr 2020</td> <th>  Prob (F-statistic):</th>   <td>0.0307</td>   \n",
       "</tr>\n",
       "<tr>\n",
       "  <th>Time:</th>                 <td>15:04:24</td>     <th>  Log-Likelihood:    </th> <td>-1.5748e+05</td>\n",
       "</tr>\n",
       "<tr>\n",
       "  <th>No. Observations:</th>      <td> 22425</td>      <th>  AIC:               </th>  <td>3.150e+05</td> \n",
       "</tr>\n",
       "<tr>\n",
       "  <th>Df Residuals:</th>          <td> 22421</td>      <th>  BIC:               </th>  <td>3.150e+05</td> \n",
       "</tr>\n",
       "<tr>\n",
       "  <th>Df Model:</th>              <td>     3</td>      <th>                     </th>      <td> </td>     \n",
       "</tr>\n",
       "<tr>\n",
       "  <th>Covariance Type:</th>      <td>nonrobust</td>    <th>                     </th>      <td> </td>     \n",
       "</tr>\n",
       "</table>\n",
       "<table class=\"simpletable\">\n",
       "<tr>\n",
       "      <td></td>         <th>coef</th>     <th>std err</th>      <th>t</th>      <th>P>|t|</th>  <th>[0.025</th>    <th>0.975]</th>  \n",
       "</tr>\n",
       "<tr>\n",
       "  <th>Intercept</th> <td>  144.3501</td> <td>    1.840</td> <td>   78.433</td> <td> 0.000</td> <td>  140.743</td> <td>  147.957</td>\n",
       "</tr>\n",
       "<tr>\n",
       "  <th>cat</th>       <td>  -46.7916</td> <td>   16.774</td> <td>   -2.789</td> <td> 0.005</td> <td>  -79.671</td> <td>  -13.913</td>\n",
       "</tr>\n",
       "<tr>\n",
       "  <th>dog</th>       <td>  -16.2165</td> <td>   15.237</td> <td>   -1.064</td> <td> 0.287</td> <td>  -46.082</td> <td>   13.649</td>\n",
       "</tr>\n",
       "<tr>\n",
       "  <th>cat:dog</th>   <td>   54.8828</td> <td>   36.577</td> <td>    1.500</td> <td> 0.134</td> <td>  -16.811</td> <td>  126.577</td>\n",
       "</tr>\n",
       "</table>\n",
       "<table class=\"simpletable\">\n",
       "<tr>\n",
       "  <th>Omnibus:</th>       <td>57144.234</td> <th>  Durbin-Watson:     </th>    <td>   1.956</td>   \n",
       "</tr>\n",
       "<tr>\n",
       "  <th>Prob(Omnibus):</th>  <td> 0.000</td>   <th>  Jarque-Bera (JB):  </th> <td>1290053654.528</td>\n",
       "</tr>\n",
       "<tr>\n",
       "  <th>Skew:</th>           <td>28.665</td>   <th>  Prob(JB):          </th>    <td>    0.00</td>   \n",
       "</tr>\n",
       "<tr>\n",
       "  <th>Kurtosis:</th>      <td>1176.615</td>  <th>  Cond. No.          </th>    <td>    21.0</td>   \n",
       "</tr>\n",
       "</table><br/><br/>Warnings:<br/>[1] Standard Errors assume that the covariance matrix of the errors is correctly specified."
      ],
      "text/plain": [
       "<class 'statsmodels.iolib.summary.Summary'>\n",
       "\"\"\"\n",
       "                            OLS Regression Results                            \n",
       "==============================================================================\n",
       "Dep. Variable:                  price   R-squared:                       0.000\n",
       "Model:                            OLS   Adj. R-squared:                  0.000\n",
       "Method:                 Least Squares   F-statistic:                     2.967\n",
       "Date:                Wed, 29 Apr 2020   Prob (F-statistic):             0.0307\n",
       "Time:                        15:04:24   Log-Likelihood:            -1.5748e+05\n",
       "No. Observations:               22425   AIC:                         3.150e+05\n",
       "Df Residuals:                   22421   BIC:                         3.150e+05\n",
       "Df Model:                           3                                         \n",
       "Covariance Type:            nonrobust                                         \n",
       "==============================================================================\n",
       "                 coef    std err          t      P>|t|      [0.025      0.975]\n",
       "------------------------------------------------------------------------------\n",
       "Intercept    144.3501      1.840     78.433      0.000     140.743     147.957\n",
       "cat          -46.7916     16.774     -2.789      0.005     -79.671     -13.913\n",
       "dog          -16.2165     15.237     -1.064      0.287     -46.082      13.649\n",
       "cat:dog       54.8828     36.577      1.500      0.134     -16.811     126.577\n",
       "==============================================================================\n",
       "Omnibus:                    57144.234   Durbin-Watson:                   1.956\n",
       "Prob(Omnibus):                  0.000   Jarque-Bera (JB):       1290053654.528\n",
       "Skew:                          28.665   Prob(JB):                         0.00\n",
       "Kurtosis:                    1176.615   Cond. No.                         21.0\n",
       "==============================================================================\n",
       "\n",
       "Warnings:\n",
       "[1] Standard Errors assume that the covariance matrix of the errors is correctly specified.\n",
       "\"\"\""
      ]
     },
     "execution_count": 89,
     "metadata": {},
     "output_type": "execute_result"
    }
   ],
   "source": [
    "# we can see how dogs or cats effect price with a regression\n",
    "\n",
    "mod = ols('price ~ cat*dog', data=df).fit()\n",
    "                \n",
    "mod.summary()"
   ]
  },
  {
   "cell_type": "markdown",
   "metadata": {},
   "source": [
    "## Conclusion\n",
    "\n",
    "Allowing dogs and cats is associated with a $54.88 increase in price. This effect is not statistically significant."
   ]
  },
  {
   "cell_type": "markdown",
   "metadata": {},
   "source": [
    "# Sentiment analysis\n",
    "\n",
    "Let's try something more advanced. We have the description of each property. Let's seen if the sentiment of the description is correlated with price. We will use the \"Vader\" sentiment analysis library which is pre-trained for social media text and emojiis. "
   ]
  },
  {
   "cell_type": "code",
   "execution_count": 92,
   "metadata": {},
   "outputs": [],
   "source": [
    "from vaderSentiment.vaderSentiment import SentimentIntensityAnalyzer\n",
    "\n",
    "analyzer = SentimentIntensityAnalyzer()\n",
    "#Add VADER metrics to dataframe\n",
    "df['desc'] = df['description'].astype(str)\n",
    "#Add VADER metrics to dataframe\n",
    "df['compound'] = [analyzer.polarity_scores(v)['compound'] for v in df['desc']]\n",
    "df['neg'] = [analyzer.polarity_scores(v)['neg'] for v in df['desc']]\n",
    "df['neu'] = [analyzer.polarity_scores(v)['neu'] for v in df['desc']]\n",
    "df['pos'] = [analyzer.polarity_scores(v)['pos'] for v in df['desc']]"
   ]
  },
  {
   "cell_type": "markdown",
   "metadata": {},
   "source": [
    "## Regression with Sentiment Analysis Polarity Scores"
   ]
  },
  {
   "cell_type": "code",
   "execution_count": 95,
   "metadata": {},
   "outputs": [
    {
     "data": {
      "text/html": [
       "<table class=\"simpletable\">\n",
       "<caption>OLS Regression Results</caption>\n",
       "<tr>\n",
       "  <th>Dep. Variable:</th>          <td>price</td>      <th>  R-squared:         </th>  <td>   0.001</td>  \n",
       "</tr>\n",
       "<tr>\n",
       "  <th>Model:</th>                   <td>OLS</td>       <th>  Adj. R-squared:    </th>  <td>   0.001</td>  \n",
       "</tr>\n",
       "<tr>\n",
       "  <th>Method:</th>             <td>Least Squares</td>  <th>  F-statistic:       </th>  <td>   4.726</td>  \n",
       "</tr>\n",
       "<tr>\n",
       "  <th>Date:</th>             <td>Wed, 29 Apr 2020</td> <th>  Prob (F-statistic):</th>  <td>0.000823</td>  \n",
       "</tr>\n",
       "<tr>\n",
       "  <th>Time:</th>                 <td>15:14:35</td>     <th>  Log-Likelihood:    </th> <td>-1.5747e+05</td>\n",
       "</tr>\n",
       "<tr>\n",
       "  <th>No. Observations:</th>      <td> 22425</td>      <th>  AIC:               </th>  <td>3.150e+05</td> \n",
       "</tr>\n",
       "<tr>\n",
       "  <th>Df Residuals:</th>          <td> 22420</td>      <th>  BIC:               </th>  <td>3.150e+05</td> \n",
       "</tr>\n",
       "<tr>\n",
       "  <th>Df Model:</th>              <td>     4</td>      <th>                     </th>      <td> </td>     \n",
       "</tr>\n",
       "<tr>\n",
       "  <th>Covariance Type:</th>      <td>nonrobust</td>    <th>                     </th>      <td> </td>     \n",
       "</tr>\n",
       "</table>\n",
       "<table class=\"simpletable\">\n",
       "<tr>\n",
       "      <td></td>         <th>coef</th>     <th>std err</th>      <th>t</th>      <th>P>|t|</th>  <th>[0.025</th>    <th>0.975]</th>  \n",
       "</tr>\n",
       "<tr>\n",
       "  <th>Intercept</th> <td>-3707.6239</td> <td> 5924.737</td> <td>   -0.626</td> <td> 0.531</td> <td>-1.53e+04</td> <td> 7905.274</td>\n",
       "</tr>\n",
       "<tr>\n",
       "  <th>compound</th>  <td>   18.7541</td> <td>    7.632</td> <td>    2.457</td> <td> 0.014</td> <td>    3.794</td> <td>   33.714</td>\n",
       "</tr>\n",
       "<tr>\n",
       "  <th>neg</th>       <td> 3709.4422</td> <td> 5923.812</td> <td>    0.626</td> <td> 0.531</td> <td>-7901.643</td> <td> 1.53e+04</td>\n",
       "</tr>\n",
       "<tr>\n",
       "  <th>neu</th>       <td> 3832.9482</td> <td> 5924.699</td> <td>    0.647</td> <td> 0.518</td> <td>-7779.876</td> <td> 1.54e+04</td>\n",
       "</tr>\n",
       "<tr>\n",
       "  <th>pos</th>       <td> 3862.2829</td> <td> 5924.847</td> <td>    0.652</td> <td> 0.514</td> <td>-7750.831</td> <td> 1.55e+04</td>\n",
       "</tr>\n",
       "</table>\n",
       "<table class=\"simpletable\">\n",
       "<tr>\n",
       "  <th>Omnibus:</th>       <td>57167.551</td> <th>  Durbin-Watson:     </th>    <td>   1.956</td>   \n",
       "</tr>\n",
       "<tr>\n",
       "  <th>Prob(Omnibus):</th>  <td> 0.000</td>   <th>  Jarque-Bera (JB):  </th> <td>1293768079.924</td>\n",
       "</tr>\n",
       "<tr>\n",
       "  <th>Skew:</th>           <td>28.695</td>   <th>  Prob(JB):          </th>    <td>    0.00</td>   \n",
       "</tr>\n",
       "<tr>\n",
       "  <th>Kurtosis:</th>      <td>1178.305</td>  <th>  Cond. No.          </th>    <td>1.02e+04</td>   \n",
       "</tr>\n",
       "</table><br/><br/>Warnings:<br/>[1] Standard Errors assume that the covariance matrix of the errors is correctly specified.<br/>[2] The condition number is large, 1.02e+04. This might indicate that there are<br/>strong multicollinearity or other numerical problems."
      ],
      "text/plain": [
       "<class 'statsmodels.iolib.summary.Summary'>\n",
       "\"\"\"\n",
       "                            OLS Regression Results                            \n",
       "==============================================================================\n",
       "Dep. Variable:                  price   R-squared:                       0.001\n",
       "Model:                            OLS   Adj. R-squared:                  0.001\n",
       "Method:                 Least Squares   F-statistic:                     4.726\n",
       "Date:                Wed, 29 Apr 2020   Prob (F-statistic):           0.000823\n",
       "Time:                        15:14:35   Log-Likelihood:            -1.5747e+05\n",
       "No. Observations:               22425   AIC:                         3.150e+05\n",
       "Df Residuals:                   22420   BIC:                         3.150e+05\n",
       "Df Model:                           4                                         \n",
       "Covariance Type:            nonrobust                                         \n",
       "==============================================================================\n",
       "                 coef    std err          t      P>|t|      [0.025      0.975]\n",
       "------------------------------------------------------------------------------\n",
       "Intercept  -3707.6239   5924.737     -0.626      0.531   -1.53e+04    7905.274\n",
       "compound      18.7541      7.632      2.457      0.014       3.794      33.714\n",
       "neg         3709.4422   5923.812      0.626      0.531   -7901.643    1.53e+04\n",
       "neu         3832.9482   5924.699      0.647      0.518   -7779.876    1.54e+04\n",
       "pos         3862.2829   5924.847      0.652      0.514   -7750.831    1.55e+04\n",
       "==============================================================================\n",
       "Omnibus:                    57167.551   Durbin-Watson:                   1.956\n",
       "Prob(Omnibus):                  0.000   Jarque-Bera (JB):       1293768079.924\n",
       "Skew:                          28.695   Prob(JB):                         0.00\n",
       "Kurtosis:                    1178.305   Cond. No.                     1.02e+04\n",
       "==============================================================================\n",
       "\n",
       "Warnings:\n",
       "[1] Standard Errors assume that the covariance matrix of the errors is correctly specified.\n",
       "[2] The condition number is large, 1.02e+04. This might indicate that there are\n",
       "strong multicollinearity or other numerical problems.\n",
       "\"\"\""
      ]
     },
     "execution_count": 95,
     "metadata": {},
     "output_type": "execute_result"
    }
   ],
   "source": [
    "# Now that we have new features for sentiment, we can regress those against price to see if there is an association\n",
    "\n",
    "from statsmodels.formula.api import ols\n",
    "\n",
    "mod = ols('price ~ compound + neg + neu + pos', data=df).fit()\n",
    "mod.summary()"
   ]
  },
  {
   "cell_type": "markdown",
   "metadata": {},
   "source": [
    "## Conclusion\n",
    "\n",
    "The only one that is statistically significant is the compound score. Let's drop the others and try again. The compound score ranges from [-1, 1]. Like a correlation value, the strength of the relationship increases as you approach the extremes.\n",
    "\n",
    "## Compound Polarity Score versus Price"
   ]
  },
  {
   "cell_type": "code",
   "execution_count": 96,
   "metadata": {},
   "outputs": [
    {
     "data": {
      "text/html": [
       "<table class=\"simpletable\">\n",
       "<caption>OLS Regression Results</caption>\n",
       "<tr>\n",
       "  <th>Dep. Variable:</th>          <td>price</td>      <th>  R-squared:         </th>  <td>   0.001</td>  \n",
       "</tr>\n",
       "<tr>\n",
       "  <th>Model:</th>                   <td>OLS</td>       <th>  Adj. R-squared:    </th>  <td>   0.001</td>  \n",
       "</tr>\n",
       "<tr>\n",
       "  <th>Method:</th>             <td>Least Squares</td>  <th>  F-statistic:       </th>  <td>   16.30</td>  \n",
       "</tr>\n",
       "<tr>\n",
       "  <th>Date:</th>             <td>Wed, 29 Apr 2020</td> <th>  Prob (F-statistic):</th>  <td>5.43e-05</td>  \n",
       "</tr>\n",
       "<tr>\n",
       "  <th>Time:</th>                 <td>15:15:28</td>     <th>  Log-Likelihood:    </th> <td>-1.5748e+05</td>\n",
       "</tr>\n",
       "<tr>\n",
       "  <th>No. Observations:</th>      <td> 22425</td>      <th>  AIC:               </th>  <td>3.150e+05</td> \n",
       "</tr>\n",
       "<tr>\n",
       "  <th>Df Residuals:</th>          <td> 22423</td>      <th>  BIC:               </th>  <td>3.150e+05</td> \n",
       "</tr>\n",
       "<tr>\n",
       "  <th>Df Model:</th>              <td>     1</td>      <th>                     </th>      <td> </td>     \n",
       "</tr>\n",
       "<tr>\n",
       "  <th>Covariance Type:</th>      <td>nonrobust</td>    <th>                     </th>      <td> </td>     \n",
       "</tr>\n",
       "</table>\n",
       "<table class=\"simpletable\">\n",
       "<tr>\n",
       "      <td></td>         <th>coef</th>     <th>std err</th>      <th>t</th>      <th>P>|t|</th>  <th>[0.025</th>    <th>0.975]</th>  \n",
       "</tr>\n",
       "<tr>\n",
       "  <th>Intercept</th> <td>  123.5104</td> <td>    5.280</td> <td>   23.391</td> <td> 0.000</td> <td>  113.161</td> <td>  133.860</td>\n",
       "</tr>\n",
       "<tr>\n",
       "  <th>compound</th>  <td>   24.4557</td> <td>    6.058</td> <td>    4.037</td> <td> 0.000</td> <td>   12.582</td> <td>   36.329</td>\n",
       "</tr>\n",
       "</table>\n",
       "<table class=\"simpletable\">\n",
       "<tr>\n",
       "  <th>Omnibus:</th>       <td>57174.181</td> <th>  Durbin-Watson:     </th>    <td>   1.956</td>   \n",
       "</tr>\n",
       "<tr>\n",
       "  <th>Prob(Omnibus):</th>  <td> 0.000</td>   <th>  Jarque-Bera (JB):  </th> <td>1294913111.229</td>\n",
       "</tr>\n",
       "<tr>\n",
       "  <th>Skew:</th>           <td>28.704</td>   <th>  Prob(JB):          </th>    <td>    0.00</td>   \n",
       "</tr>\n",
       "<tr>\n",
       "  <th>Kurtosis:</th>      <td>1178.825</td>  <th>  Cond. No.          </th>    <td>    5.71</td>   \n",
       "</tr>\n",
       "</table><br/><br/>Warnings:<br/>[1] Standard Errors assume that the covariance matrix of the errors is correctly specified."
      ],
      "text/plain": [
       "<class 'statsmodels.iolib.summary.Summary'>\n",
       "\"\"\"\n",
       "                            OLS Regression Results                            \n",
       "==============================================================================\n",
       "Dep. Variable:                  price   R-squared:                       0.001\n",
       "Model:                            OLS   Adj. R-squared:                  0.001\n",
       "Method:                 Least Squares   F-statistic:                     16.30\n",
       "Date:                Wed, 29 Apr 2020   Prob (F-statistic):           5.43e-05\n",
       "Time:                        15:15:28   Log-Likelihood:            -1.5748e+05\n",
       "No. Observations:               22425   AIC:                         3.150e+05\n",
       "Df Residuals:                   22423   BIC:                         3.150e+05\n",
       "Df Model:                           1                                         \n",
       "Covariance Type:            nonrobust                                         \n",
       "==============================================================================\n",
       "                 coef    std err          t      P>|t|      [0.025      0.975]\n",
       "------------------------------------------------------------------------------\n",
       "Intercept    123.5104      5.280     23.391      0.000     113.161     133.860\n",
       "compound      24.4557      6.058      4.037      0.000      12.582      36.329\n",
       "==============================================================================\n",
       "Omnibus:                    57174.181   Durbin-Watson:                   1.956\n",
       "Prob(Omnibus):                  0.000   Jarque-Bera (JB):       1294913111.229\n",
       "Skew:                          28.704   Prob(JB):                         0.00\n",
       "Kurtosis:                    1178.825   Cond. No.                         5.71\n",
       "==============================================================================\n",
       "\n",
       "Warnings:\n",
       "[1] Standard Errors assume that the covariance matrix of the errors is correctly specified.\n",
       "\"\"\""
      ]
     },
     "execution_count": 96,
     "metadata": {},
     "output_type": "execute_result"
    }
   ],
   "source": [
    "mod = ols('price ~ compound', data=df).fit()\n",
    "mod.summary()"
   ]
  },
  {
   "cell_type": "markdown",
   "metadata": {},
   "source": [
    "##  Conclusion\n",
    "\n",
    "The coefficient is statistically significant. But it is still hard to interpret. A 0.1 unit increase in compound polarity score is associated with a $2.45 increase in price.\n",
    "\n",
    "While this method cannot impute causality, we can hypothesis that if the market is functioning appropriately and the prices reflect what people are willing/able to pay, then the tone of the description matters. "
   ]
  },
  {
   "cell_type": "markdown",
   "metadata": {},
   "source": [
    "# Room Type versus Price\n",
    "\n",
    "Let's compare the price of different room types. Properties are rented as either the Entire home/apt, Hotel room, Private Room, or Shared Room. "
   ]
  },
  {
   "cell_type": "code",
   "execution_count": 98,
   "metadata": {},
   "outputs": [
    {
     "data": {
      "text/plain": [
       "count               22425\n",
       "unique                  4\n",
       "top       Entire home/apt\n",
       "freq                14450\n",
       "Name: room_type, dtype: object"
      ]
     },
     "execution_count": 98,
     "metadata": {},
     "output_type": "execute_result"
    }
   ],
   "source": [
    "df['room_type'].describe()"
   ]
  },
  {
   "cell_type": "code",
   "execution_count": 102,
   "metadata": {},
   "outputs": [
    {
     "data": {
      "text/plain": [
       "<matplotlib.axes._subplots.AxesSubplot at 0x1248cf750>"
      ]
     },
     "execution_count": 102,
     "metadata": {},
     "output_type": "execute_result"
    },
    {
     "data": {
      "image/png": "[encoded data removed]",
      "text/plain": [
       "<Figure size 432x288 with 1 Axes>"
      ]
     },
     "metadata": {
      "needs_background": "light"
     },
     "output_type": "display_data"
    }
   ],
   "source": [
    "df[df['price']<=300].boxplot('price', by = 'room_type')"
   ]
  },
  {
   "cell_type": "code",
   "execution_count": 103,
   "metadata": {},
   "outputs": [
    {
     "data": {
      "text/html": [
       "<table class=\"simpletable\">\n",
       "<caption>OLS Regression Results</caption>\n",
       "<tr>\n",
       "  <th>Dep. Variable:</th>          <td>price</td>      <th>  R-squared:         </th>  <td>   0.037</td>  \n",
       "</tr>\n",
       "<tr>\n",
       "  <th>Model:</th>                   <td>OLS</td>       <th>  Adj. R-squared:    </th>  <td>   0.037</td>  \n",
       "</tr>\n",
       "<tr>\n",
       "  <th>Method:</th>             <td>Least Squares</td>  <th>  F-statistic:       </th>  <td>   284.7</td>  \n",
       "</tr>\n",
       "<tr>\n",
       "  <th>Date:</th>             <td>Wed, 29 Apr 2020</td> <th>  Prob (F-statistic):</th>  <td>2.14e-181</td> \n",
       "</tr>\n",
       "<tr>\n",
       "  <th>Time:</th>                 <td>15:25:17</td>     <th>  Log-Likelihood:    </th> <td>-1.5707e+05</td>\n",
       "</tr>\n",
       "<tr>\n",
       "  <th>No. Observations:</th>      <td> 22425</td>      <th>  AIC:               </th>  <td>3.141e+05</td> \n",
       "</tr>\n",
       "<tr>\n",
       "  <th>Df Residuals:</th>          <td> 22421</td>      <th>  BIC:               </th>  <td>3.142e+05</td> \n",
       "</tr>\n",
       "<tr>\n",
       "  <th>Df Model:</th>              <td>     3</td>      <th>                     </th>      <td> </td>     \n",
       "</tr>\n",
       "<tr>\n",
       "  <th>Covariance Type:</th>      <td>nonrobust</td>    <th>                     </th>      <td> </td>     \n",
       "</tr>\n",
       "</table>\n",
       "<table class=\"simpletable\">\n",
       "<tr>\n",
       "              <td></td>                 <th>coef</th>     <th>std err</th>      <th>t</th>      <th>P>|t|</th>  <th>[0.025</th>    <th>0.975]</th>  \n",
       "</tr>\n",
       "<tr>\n",
       "  <th>Intercept</th>                 <td>  182.0510</td> <td>    2.217</td> <td>   82.133</td> <td> 0.000</td> <td>  177.706</td> <td>  186.396</td>\n",
       "</tr>\n",
       "<tr>\n",
       "  <th>room_type[T.Hotel room]</th>   <td>  -53.2256</td> <td>   33.642</td> <td>   -1.582</td> <td> 0.114</td> <td> -119.166</td> <td>   12.715</td>\n",
       "</tr>\n",
       "<tr>\n",
       "  <th>room_type[T.Private room]</th> <td> -107.7159</td> <td>    3.790</td> <td>  -28.422</td> <td> 0.000</td> <td> -115.144</td> <td> -100.287</td>\n",
       "</tr>\n",
       "<tr>\n",
       "  <th>room_type[T.Shared room]</th>  <td> -128.1810</td> <td>   13.505</td> <td>   -9.491</td> <td> 0.000</td> <td> -154.653</td> <td> -101.709</td>\n",
       "</tr>\n",
       "</table>\n",
       "<table class=\"simpletable\">\n",
       "<tr>\n",
       "  <th>Omnibus:</th>       <td>58186.818</td> <th>  Durbin-Watson:     </th>    <td>   1.962</td>   \n",
       "</tr>\n",
       "<tr>\n",
       "  <th>Prob(Omnibus):</th>  <td> 0.000</td>   <th>  Jarque-Bera (JB):  </th> <td>1466701270.215</td>\n",
       "</tr>\n",
       "<tr>\n",
       "  <th>Skew:</th>           <td>30.018</td>   <th>  Prob(JB):          </th>    <td>    0.00</td>   \n",
       "</tr>\n",
       "<tr>\n",
       "  <th>Kurtosis:</th>      <td>1254.443</td>  <th>  Cond. No.          </th>    <td>    20.2</td>   \n",
       "</tr>\n",
       "</table><br/><br/>Warnings:<br/>[1] Standard Errors assume that the covariance matrix of the errors is correctly specified."
      ],
      "text/plain": [
       "<class 'statsmodels.iolib.summary.Summary'>\n",
       "\"\"\"\n",
       "                            OLS Regression Results                            \n",
       "==============================================================================\n",
       "Dep. Variable:                  price   R-squared:                       0.037\n",
       "Model:                            OLS   Adj. R-squared:                  0.037\n",
       "Method:                 Least Squares   F-statistic:                     284.7\n",
       "Date:                Wed, 29 Apr 2020   Prob (F-statistic):          2.14e-181\n",
       "Time:                        15:25:17   Log-Likelihood:            -1.5707e+05\n",
       "No. Observations:               22425   AIC:                         3.141e+05\n",
       "Df Residuals:                   22421   BIC:                         3.142e+05\n",
       "Df Model:                           3                                         \n",
       "Covariance Type:            nonrobust                                         \n",
       "=============================================================================================\n",
       "                                coef    std err          t      P>|t|      [0.025      0.975]\n",
       "---------------------------------------------------------------------------------------------\n",
       "Intercept                   182.0510      2.217     82.133      0.000     177.706     186.396\n",
       "room_type[T.Hotel room]     -53.2256     33.642     -1.582      0.114    -119.166      12.715\n",
       "room_type[T.Private room]  -107.7159      3.790    -28.422      0.000    -115.144    -100.287\n",
       "room_type[T.Shared room]   -128.1810     13.505     -9.491      0.000    -154.653    -101.709\n",
       "==============================================================================\n",
       "Omnibus:                    58186.818   Durbin-Watson:                   1.962\n",
       "Prob(Omnibus):                  0.000   Jarque-Bera (JB):       1466701270.215\n",
       "Skew:                          30.018   Prob(JB):                         0.00\n",
       "Kurtosis:                    1254.443   Cond. No.                         20.2\n",
       "==============================================================================\n",
       "\n",
       "Warnings:\n",
       "[1] Standard Errors assume that the covariance matrix of the errors is correctly specified.\n",
       "\"\"\""
      ]
     },
     "execution_count": 103,
     "metadata": {},
     "output_type": "execute_result"
    }
   ],
   "source": [
    "# StatsModels will automatically factor (i.e. unpack) this categorical variable for us. \n",
    "\n",
    "mod = ols('price ~ room_type', data=df).fit()\n",
    "mod.summary()"
   ]
  },
  {
   "cell_type": "markdown",
   "metadata": {},
   "source": [
    "StatsModels automatically set one of the categories to be the reference category. We can easily define the ref category using the Patsy Library."
   ]
  },
  {
   "cell_type": "code",
   "execution_count": 105,
   "metadata": {},
   "outputs": [
    {
     "data": {
      "text/html": [
       "<table class=\"simpletable\">\n",
       "<caption>OLS Regression Results</caption>\n",
       "<tr>\n",
       "  <th>Dep. Variable:</th>          <td>price</td>      <th>  R-squared:         </th>  <td>   0.037</td>  \n",
       "</tr>\n",
       "<tr>\n",
       "  <th>Model:</th>                   <td>OLS</td>       <th>  Adj. R-squared:    </th>  <td>   0.037</td>  \n",
       "</tr>\n",
       "<tr>\n",
       "  <th>Method:</th>             <td>Least Squares</td>  <th>  F-statistic:       </th>  <td>   284.7</td>  \n",
       "</tr>\n",
       "<tr>\n",
       "  <th>Date:</th>             <td>Wed, 29 Apr 2020</td> <th>  Prob (F-statistic):</th>  <td>2.14e-181</td> \n",
       "</tr>\n",
       "<tr>\n",
       "  <th>Time:</th>                 <td>15:32:06</td>     <th>  Log-Likelihood:    </th> <td>-1.5707e+05</td>\n",
       "</tr>\n",
       "<tr>\n",
       "  <th>No. Observations:</th>      <td> 22425</td>      <th>  AIC:               </th>  <td>3.141e+05</td> \n",
       "</tr>\n",
       "<tr>\n",
       "  <th>Df Residuals:</th>          <td> 22421</td>      <th>  BIC:               </th>  <td>3.142e+05</td> \n",
       "</tr>\n",
       "<tr>\n",
       "  <th>Df Model:</th>              <td>     3</td>      <th>                     </th>      <td> </td>     \n",
       "</tr>\n",
       "<tr>\n",
       "  <th>Covariance Type:</th>      <td>nonrobust</td>    <th>                     </th>      <td> </td>     \n",
       "</tr>\n",
       "</table>\n",
       "<table class=\"simpletable\">\n",
       "<tr>\n",
       "                                   <td></td>                                     <th>coef</th>     <th>std err</th>      <th>t</th>      <th>P>|t|</th>  <th>[0.025</th>    <th>0.975]</th>  \n",
       "</tr>\n",
       "<tr>\n",
       "  <th>Intercept</th>                                                          <td>  128.8254</td> <td>   33.569</td> <td>    3.838</td> <td> 0.000</td> <td>   63.028</td> <td>  194.623</td>\n",
       "</tr>\n",
       "<tr>\n",
       "  <th>C(room_type, Treatment(reference=\"Hotel room\"))[T.Entire home/apt]</th> <td>   53.2256</td> <td>   33.642</td> <td>    1.582</td> <td> 0.114</td> <td>  -12.715</td> <td>  119.166</td>\n",
       "</tr>\n",
       "<tr>\n",
       "  <th>C(room_type, Treatment(reference=\"Hotel room\"))[T.Private room]</th>    <td>  -54.4903</td> <td>   33.709</td> <td>   -1.616</td> <td> 0.106</td> <td> -120.563</td> <td>   11.582</td>\n",
       "</tr>\n",
       "<tr>\n",
       "  <th>C(room_type, Treatment(reference=\"Hotel room\"))[T.Shared room]</th>     <td>  -74.9554</td> <td>   36.116</td> <td>   -2.075</td> <td> 0.038</td> <td> -145.745</td> <td>   -4.166</td>\n",
       "</tr>\n",
       "</table>\n",
       "<table class=\"simpletable\">\n",
       "<tr>\n",
       "  <th>Omnibus:</th>       <td>58186.818</td> <th>  Durbin-Watson:     </th>    <td>   1.962</td>   \n",
       "</tr>\n",
       "<tr>\n",
       "  <th>Prob(Omnibus):</th>  <td> 0.000</td>   <th>  Jarque-Bera (JB):  </th> <td>1466701270.215</td>\n",
       "</tr>\n",
       "<tr>\n",
       "  <th>Skew:</th>           <td>30.018</td>   <th>  Prob(JB):          </th>    <td>    0.00</td>   \n",
       "</tr>\n",
       "<tr>\n",
       "  <th>Kurtosis:</th>      <td>1254.443</td>  <th>  Cond. No.          </th>    <td>    47.2</td>   \n",
       "</tr>\n",
       "</table><br/><br/>Warnings:<br/>[1] Standard Errors assume that the covariance matrix of the errors is correctly specified."
      ],
      "text/plain": [
       "<class 'statsmodels.iolib.summary.Summary'>\n",
       "\"\"\"\n",
       "                            OLS Regression Results                            \n",
       "==============================================================================\n",
       "Dep. Variable:                  price   R-squared:                       0.037\n",
       "Model:                            OLS   Adj. R-squared:                  0.037\n",
       "Method:                 Least Squares   F-statistic:                     284.7\n",
       "Date:                Wed, 29 Apr 2020   Prob (F-statistic):          2.14e-181\n",
       "Time:                        15:32:06   Log-Likelihood:            -1.5707e+05\n",
       "No. Observations:               22425   AIC:                         3.141e+05\n",
       "Df Residuals:                   22421   BIC:                         3.142e+05\n",
       "Df Model:                           3                                         \n",
       "Covariance Type:            nonrobust                                         \n",
       "======================================================================================================================================\n",
       "                                                                         coef    std err          t      P>|t|      [0.025      0.975]\n",
       "--------------------------------------------------------------------------------------------------------------------------------------\n",
       "Intercept                                                            128.8254     33.569      3.838      0.000      63.028     194.623\n",
       "C(room_type, Treatment(reference=\"Hotel room\"))[T.Entire home/apt]    53.2256     33.642      1.582      0.114     -12.715     119.166\n",
       "C(room_type, Treatment(reference=\"Hotel room\"))[T.Private room]      -54.4903     33.709     -1.616      0.106    -120.563      11.582\n",
       "C(room_type, Treatment(reference=\"Hotel room\"))[T.Shared room]       -74.9554     36.116     -2.075      0.038    -145.745      -4.166\n",
       "==============================================================================\n",
       "Omnibus:                    58186.818   Durbin-Watson:                   1.962\n",
       "Prob(Omnibus):                  0.000   Jarque-Bera (JB):       1466701270.215\n",
       "Skew:                          30.018   Prob(JB):                         0.00\n",
       "Kurtosis:                    1254.443   Cond. No.                         47.2\n",
       "==============================================================================\n",
       "\n",
       "Warnings:\n",
       "[1] Standard Errors assume that the covariance matrix of the errors is correctly specified.\n",
       "\"\"\""
      ]
     },
     "execution_count": 105,
     "metadata": {},
     "output_type": "execute_result"
    }
   ],
   "source": [
    "from patsy.contrasts import Treatment\n",
    "\n",
    "mod = ols('price ~ C(room_type, Treatment(reference=\"Hotel room\"))', data=df).fit()\n",
    "mod.summary()"
   ]
  },
  {
   "cell_type": "code",
   "execution_count": 137,
   "metadata": {},
   "outputs": [
    {
     "data": {
      "text/html": [
       "<table class=\"simpletable\">\n",
       "<caption>OLS Regression Results</caption>\n",
       "<tr>\n",
       "  <th>Dep. Variable:</th>          <td>price</td>      <th>  R-squared:         </th>  <td>   0.037</td>  \n",
       "</tr>\n",
       "<tr>\n",
       "  <th>Model:</th>                   <td>OLS</td>       <th>  Adj. R-squared:    </th>  <td>   0.036</td>  \n",
       "</tr>\n",
       "<tr>\n",
       "  <th>Method:</th>             <td>Least Squares</td>  <th>  F-statistic:       </th>  <td>   57.52</td>  \n",
       "</tr>\n",
       "<tr>\n",
       "  <th>Date:</th>             <td>Wed, 29 Apr 2020</td> <th>  Prob (F-statistic):</th>  <td>8.36e-171</td> \n",
       "</tr>\n",
       "<tr>\n",
       "  <th>Time:</th>                 <td>16:20:22</td>     <th>  Log-Likelihood:    </th> <td>-1.5706e+05</td>\n",
       "</tr>\n",
       "<tr>\n",
       "  <th>No. Observations:</th>      <td> 22425</td>      <th>  AIC:               </th>  <td>3.142e+05</td> \n",
       "</tr>\n",
       "<tr>\n",
       "  <th>Df Residuals:</th>          <td> 22409</td>      <th>  BIC:               </th>  <td>3.143e+05</td> \n",
       "</tr>\n",
       "<tr>\n",
       "  <th>Df Model:</th>              <td>    15</td>      <th>                     </th>      <td> </td>     \n",
       "</tr>\n",
       "<tr>\n",
       "  <th>Covariance Type:</th>      <td>nonrobust</td>    <th>                     </th>      <td> </td>     \n",
       "</tr>\n",
       "</table>\n",
       "<table class=\"simpletable\">\n",
       "<tr>\n",
       "                           <td></td>                              <th>coef</th>     <th>std err</th>      <th>t</th>      <th>P>|t|</th>  <th>[0.025</th>    <th>0.975]</th>  \n",
       "</tr>\n",
       "<tr>\n",
       "  <th>Intercept</th>                                           <td>  125.4286</td> <td>  100.714</td> <td>    1.245</td> <td> 0.213</td> <td>  -71.978</td> <td>  322.835</td>\n",
       "</tr>\n",
       "<tr>\n",
       "  <th>room_type[T.Hotel room]</th>                             <td>  -26.7770</td> <td>   16.822</td> <td>   -1.592</td> <td> 0.111</td> <td>  -59.750</td> <td>    6.196</td>\n",
       "</tr>\n",
       "<tr>\n",
       "  <th>room_type[T.Private room]</th>                           <td>  -64.0952</td> <td>  121.971</td> <td>   -0.525</td> <td> 0.599</td> <td> -303.167</td> <td>  174.976</td>\n",
       "</tr>\n",
       "<tr>\n",
       "  <th>room_type[T.Shared room]</th>                            <td>  -62.7619</td> <td>  148.247</td> <td>   -0.423</td> <td> 0.672</td> <td> -353.337</td> <td>  227.813</td>\n",
       "</tr>\n",
       "<tr>\n",
       "  <th>bed_type[T.Couch]</th>                                   <td>  129.9048</td> <td>  126.729</td> <td>    1.025</td> <td> 0.305</td> <td> -118.493</td> <td>  378.303</td>\n",
       "</tr>\n",
       "<tr>\n",
       "  <th>bed_type[T.Futon]</th>                                   <td>  -30.3798</td> <td>  108.973</td> <td>   -0.279</td> <td> 0.780</td> <td> -243.974</td> <td>  183.215</td>\n",
       "</tr>\n",
       "<tr>\n",
       "  <th>bed_type[T.Pull-out Sofa]</th>                           <td>   13.7820</td> <td>  109.598</td> <td>    0.126</td> <td> 0.900</td> <td> -201.039</td> <td>  228.603</td>\n",
       "</tr>\n",
       "<tr>\n",
       "  <th>bed_type[T.Real Bed]</th>                                <td>   56.9507</td> <td>  100.739</td> <td>    0.565</td> <td> 0.572</td> <td> -140.504</td> <td>  254.405</td>\n",
       "</tr>\n",
       "<tr>\n",
       "  <th>room_type[T.Hotel room]:bed_type[T.Couch]</th>           <td> 4.983e-15</td> <td> 2.29e-13</td> <td>    0.022</td> <td> 0.983</td> <td>-4.43e-13</td> <td> 4.53e-13</td>\n",
       "</tr>\n",
       "<tr>\n",
       "  <th>room_type[T.Private room]:bed_type[T.Couch]</th>         <td>  -10.2381</td> <td>  210.859</td> <td>   -0.049</td> <td> 0.961</td> <td> -423.537</td> <td>  403.061</td>\n",
       "</tr>\n",
       "<tr>\n",
       "  <th>room_type[T.Shared room]:bed_type[T.Couch]</th>          <td>  -54.3407</td> <td>  182.636</td> <td>   -0.298</td> <td> 0.766</td> <td> -412.320</td> <td>  303.639</td>\n",
       "</tr>\n",
       "<tr>\n",
       "  <th>room_type[T.Hotel room]:bed_type[T.Futon]</th>           <td>-1.737e-14</td> <td> 1.73e-13</td> <td>   -0.101</td> <td> 0.920</td> <td>-3.56e-13</td> <td> 3.21e-13</td>\n",
       "</tr>\n",
       "<tr>\n",
       "  <th>room_type[T.Private room]:bed_type[T.Futon]</th>         <td>   27.3450</td> <td>  132.923</td> <td>    0.206</td> <td> 0.837</td> <td> -233.193</td> <td>  287.883</td>\n",
       "</tr>\n",
       "<tr>\n",
       "  <th>room_type[T.Shared room]:bed_type[T.Futon]</th>          <td>   34.6020</td> <td>  177.759</td> <td>    0.195</td> <td> 0.846</td> <td> -313.818</td> <td>  383.022</td>\n",
       "</tr>\n",
       "<tr>\n",
       "  <th>room_type[T.Hotel room]:bed_type[T.Pull-out Sofa]</th>   <td>-1.117e-14</td> <td> 9.22e-14</td> <td>   -0.121</td> <td> 0.904</td> <td>-1.92e-13</td> <td> 1.69e-13</td>\n",
       "</tr>\n",
       "<tr>\n",
       "  <th>room_type[T.Private room]:bed_type[T.Pull-out Sofa]</th> <td>   -4.2353</td> <td>  139.948</td> <td>   -0.030</td> <td> 0.976</td> <td> -278.544</td> <td>  270.073</td>\n",
       "</tr>\n",
       "<tr>\n",
       "  <th>room_type[T.Shared room]:bed_type[T.Pull-out Sofa]</th>  <td>  -20.4486</td> <td>  175.915</td> <td>   -0.116</td> <td> 0.907</td> <td> -365.254</td> <td>  324.357</td>\n",
       "</tr>\n",
       "<tr>\n",
       "  <th>room_type[T.Hotel room]:bed_type[T.Real Bed]</th>        <td>  -26.7770</td> <td>   16.822</td> <td>   -1.592</td> <td> 0.111</td> <td>  -59.750</td> <td>    6.196</td>\n",
       "</tr>\n",
       "<tr>\n",
       "  <th>room_type[T.Private room]:bed_type[T.Real Bed]</th>      <td>  -43.8091</td> <td>  122.030</td> <td>   -0.359</td> <td> 0.720</td> <td> -282.997</td> <td>  195.379</td>\n",
       "</tr>\n",
       "<tr>\n",
       "  <th>room_type[T.Shared room]:bed_type[T.Real Bed]</th>       <td>  -69.3053</td> <td>  148.924</td> <td>   -0.465</td> <td> 0.642</td> <td> -361.206</td> <td>  222.596</td>\n",
       "</tr>\n",
       "</table>\n",
       "<table class=\"simpletable\">\n",
       "<tr>\n",
       "  <th>Omnibus:</th>       <td>58197.197</td> <th>  Durbin-Watson:     </th>    <td>   1.962</td>   \n",
       "</tr>\n",
       "<tr>\n",
       "  <th>Prob(Omnibus):</th>  <td> 0.000</td>   <th>  Jarque-Bera (JB):  </th> <td>1468669218.000</td>\n",
       "</tr>\n",
       "<tr>\n",
       "  <th>Skew:</th>           <td>30.031</td>   <th>  Prob(JB):          </th>    <td>    0.00</td>   \n",
       "</tr>\n",
       "<tr>\n",
       "  <th>Kurtosis:</th>      <td>1255.283</td>  <th>  Cond. No.          </th>    <td>1.41e+19</td>   \n",
       "</tr>\n",
       "</table><br/><br/>Warnings:<br/>[1] Standard Errors assume that the covariance matrix of the errors is correctly specified.<br/>[2] The smallest eigenvalue is 2.55e-34. This might indicate that there are<br/>strong multicollinearity problems or that the design matrix is singular."
      ],
      "text/plain": [
       "<class 'statsmodels.iolib.summary.Summary'>\n",
       "\"\"\"\n",
       "                            OLS Regression Results                            \n",
       "==============================================================================\n",
       "Dep. Variable:                  price   R-squared:                       0.037\n",
       "Model:                            OLS   Adj. R-squared:                  0.036\n",
       "Method:                 Least Squares   F-statistic:                     57.52\n",
       "Date:                Wed, 29 Apr 2020   Prob (F-statistic):          8.36e-171\n",
       "Time:                        16:20:22   Log-Likelihood:            -1.5706e+05\n",
       "No. Observations:               22425   AIC:                         3.142e+05\n",
       "Df Residuals:                   22409   BIC:                         3.143e+05\n",
       "Df Model:                          15                                         \n",
       "Covariance Type:            nonrobust                                         \n",
       "=======================================================================================================================\n",
       "                                                          coef    std err          t      P>|t|      [0.025      0.975]\n",
       "-----------------------------------------------------------------------------------------------------------------------\n",
       "Intercept                                             125.4286    100.714      1.245      0.213     -71.978     322.835\n",
       "room_type[T.Hotel room]                               -26.7770     16.822     -1.592      0.111     -59.750       6.196\n",
       "room_type[T.Private room]                             -64.0952    121.971     -0.525      0.599    -303.167     174.976\n",
       "room_type[T.Shared room]                              -62.7619    148.247     -0.423      0.672    -353.337     227.813\n",
       "bed_type[T.Couch]                                     129.9048    126.729      1.025      0.305    -118.493     378.303\n",
       "bed_type[T.Futon]                                     -30.3798    108.973     -0.279      0.780    -243.974     183.215\n",
       "bed_type[T.Pull-out Sofa]                              13.7820    109.598      0.126      0.900    -201.039     228.603\n",
       "bed_type[T.Real Bed]                                   56.9507    100.739      0.565      0.572    -140.504     254.405\n",
       "room_type[T.Hotel room]:bed_type[T.Couch]            4.983e-15   2.29e-13      0.022      0.983   -4.43e-13    4.53e-13\n",
       "room_type[T.Private room]:bed_type[T.Couch]           -10.2381    210.859     -0.049      0.961    -423.537     403.061\n",
       "room_type[T.Shared room]:bed_type[T.Couch]            -54.3407    182.636     -0.298      0.766    -412.320     303.639\n",
       "room_type[T.Hotel room]:bed_type[T.Futon]           -1.737e-14   1.73e-13     -0.101      0.920   -3.56e-13    3.21e-13\n",
       "room_type[T.Private room]:bed_type[T.Futon]            27.3450    132.923      0.206      0.837    -233.193     287.883\n",
       "room_type[T.Shared room]:bed_type[T.Futon]             34.6020    177.759      0.195      0.846    -313.818     383.022\n",
       "room_type[T.Hotel room]:bed_type[T.Pull-out Sofa]   -1.117e-14   9.22e-14     -0.121      0.904   -1.92e-13    1.69e-13\n",
       "room_type[T.Private room]:bed_type[T.Pull-out Sofa]    -4.2353    139.948     -0.030      0.976    -278.544     270.073\n",
       "room_type[T.Shared room]:bed_type[T.Pull-out Sofa]    -20.4486    175.915     -0.116      0.907    -365.254     324.357\n",
       "room_type[T.Hotel room]:bed_type[T.Real Bed]          -26.7770     16.822     -1.592      0.111     -59.750       6.196\n",
       "room_type[T.Private room]:bed_type[T.Real Bed]        -43.8091    122.030     -0.359      0.720    -282.997     195.379\n",
       "room_type[T.Shared room]:bed_type[T.Real Bed]         -69.3053    148.924     -0.465      0.642    -361.206     222.596\n",
       "==============================================================================\n",
       "Omnibus:                    58197.197   Durbin-Watson:                   1.962\n",
       "Prob(Omnibus):                  0.000   Jarque-Bera (JB):       1468669218.000\n",
       "Skew:                          30.031   Prob(JB):                         0.00\n",
       "Kurtosis:                    1255.283   Cond. No.                     1.41e+19\n",
       "==============================================================================\n",
       "\n",
       "Warnings:\n",
       "[1] Standard Errors assume that the covariance matrix of the errors is correctly specified.\n",
       "[2] The smallest eigenvalue is 2.55e-34. This might indicate that there are\n",
       "strong multicollinearity problems or that the design matrix is singular.\n",
       "\"\"\""
      ]
     },
     "execution_count": 137,
     "metadata": {},
     "output_type": "execute_result"
    }
   ],
   "source": [
    "# We can even do interaction effects for multiple categorical variables\n",
    "\n",
    "mod = ols('price ~ room_type*bed_type', data=df).fit()\n",
    "mod.summary()"
   ]
  },
  {
   "cell_type": "code",
   "execution_count": 139,
   "metadata": {},
   "outputs": [
    {
     "data": {
      "text/html": [
       "<table class=\"simpletable\">\n",
       "<caption>OLS Regression Results</caption>\n",
       "<tr>\n",
       "  <th>Dep. Variable:</th>          <td>price</td>      <th>  R-squared:         </th>  <td>   0.037</td>  \n",
       "</tr>\n",
       "<tr>\n",
       "  <th>Model:</th>                   <td>OLS</td>       <th>  Adj. R-squared:    </th>  <td>   0.036</td>  \n",
       "</tr>\n",
       "<tr>\n",
       "  <th>Method:</th>             <td>Least Squares</td>  <th>  F-statistic:       </th>  <td>   57.52</td>  \n",
       "</tr>\n",
       "<tr>\n",
       "  <th>Date:</th>             <td>Wed, 29 Apr 2020</td> <th>  Prob (F-statistic):</th>  <td>8.36e-171</td> \n",
       "</tr>\n",
       "<tr>\n",
       "  <th>Time:</th>                 <td>16:23:17</td>     <th>  Log-Likelihood:    </th> <td>-1.5706e+05</td>\n",
       "</tr>\n",
       "<tr>\n",
       "  <th>No. Observations:</th>      <td> 22425</td>      <th>  AIC:               </th>  <td>3.142e+05</td> \n",
       "</tr>\n",
       "<tr>\n",
       "  <th>Df Residuals:</th>          <td> 22409</td>      <th>  BIC:               </th>  <td>3.143e+05</td> \n",
       "</tr>\n",
       "<tr>\n",
       "  <th>Df Model:</th>              <td>    15</td>      <th>                     </th>      <td> </td>     \n",
       "</tr>\n",
       "<tr>\n",
       "  <th>Covariance Type:</th>      <td>nonrobust</td>    <th>                     </th>      <td> </td>     \n",
       "</tr>\n",
       "</table>\n",
       "<table class=\"simpletable\">\n",
       "<tr>\n",
       "                                                                 <td></td>                                                                   <th>coef</th>     <th>std err</th>      <th>t</th>      <th>P>|t|</th>  <th>[0.025</th>    <th>0.975]</th>  \n",
       "</tr>\n",
       "<tr>\n",
       "  <th>Intercept</th>                                                                                                                      <td>   66.8889</td> <td>   88.821</td> <td>    0.753</td> <td> 0.451</td> <td> -107.207</td> <td>  240.985</td>\n",
       "</tr>\n",
       "<tr>\n",
       "  <th>C(room_type, Treatment(reference=\"Shared room\"))[T.Entire home/apt]</th>                                                            <td>   28.1599</td> <td>   98.087</td> <td>    0.287</td> <td> 0.774</td> <td> -164.097</td> <td>  220.417</td>\n",
       "</tr>\n",
       "<tr>\n",
       "  <th>C(room_type, Treatment(reference=\"Shared room\"))[T.Hotel room]</th>                                                                 <td>   39.2566</td> <td>   18.188</td> <td>    2.158</td> <td> 0.031</td> <td>    3.607</td> <td>   74.906</td>\n",
       "</tr>\n",
       "<tr>\n",
       "  <th>C(room_type, Treatment(reference=\"Shared room\"))[T.Private room]</th>                                                               <td>   -8.5904</td> <td>   94.599</td> <td>   -0.091</td> <td> 0.928</td> <td> -194.011</td> <td>  176.831</td>\n",
       "</tr>\n",
       "<tr>\n",
       "  <th>C(bed_type, Treatment(reference=\"Futon\"))[T.Airbed]</th>                                                                            <td>   -4.2222</td> <td>  140.439</td> <td>   -0.030</td> <td> 0.976</td> <td> -279.493</td> <td>  271.048</td>\n",
       "</tr>\n",
       "<tr>\n",
       "  <th>C(bed_type, Treatment(reference=\"Futon\"))[T.Couch]</th>                                                                             <td>   71.3419</td> <td>  115.547</td> <td>    0.617</td> <td> 0.537</td> <td> -155.138</td> <td>  297.821</td>\n",
       "</tr>\n",
       "<tr>\n",
       "  <th>C(bed_type, Treatment(reference=\"Futon\"))[T.Pull-out Sofa]</th>                                                                     <td>  -10.8889</td> <td>  122.432</td> <td>   -0.089</td> <td> 0.929</td> <td> -250.864</td> <td>  229.086</td>\n",
       "</tr>\n",
       "<tr>\n",
       "  <th>C(bed_type, Treatment(reference=\"Futon\"))[T.Real Bed]</th>                                                                          <td>  -16.5767</td> <td>   89.919</td> <td>   -0.184</td> <td> 0.854</td> <td> -192.824</td> <td>  159.670</td>\n",
       "</tr>\n",
       "<tr>\n",
       "  <th>C(room_type, Treatment(reference=\"Shared room\"))[T.Entire home/apt]:C(bed_type, Treatment(reference=\"Futon\"))[T.Airbed]</th>        <td>   34.6020</td> <td>  177.759</td> <td>    0.195</td> <td> 0.846</td> <td> -313.818</td> <td>  383.022</td>\n",
       "</tr>\n",
       "<tr>\n",
       "  <th>C(room_type, Treatment(reference=\"Shared room\"))[T.Hotel room]:C(bed_type, Treatment(reference=\"Futon\"))[T.Airbed]</th>             <td> 7.458e-14</td> <td> 2.95e-13</td> <td>    0.253</td> <td> 0.801</td> <td>-5.04e-13</td> <td> 6.53e-13</td>\n",
       "</tr>\n",
       "<tr>\n",
       "  <th>C(room_type, Treatment(reference=\"Shared room\"))[T.Private room]:C(bed_type, Treatment(reference=\"Futon\"))[T.Airbed]</th>           <td>    7.2570</td> <td>  159.739</td> <td>    0.045</td> <td> 0.964</td> <td> -305.842</td> <td>  320.356</td>\n",
       "</tr>\n",
       "<tr>\n",
       "  <th>C(room_type, Treatment(reference=\"Shared room\"))[T.Entire home/apt]:C(bed_type, Treatment(reference=\"Futon\"))[T.Couch]</th>         <td>   88.9427</td> <td>  144.913</td> <td>    0.614</td> <td> 0.539</td> <td> -195.097</td> <td>  372.982</td>\n",
       "</tr>\n",
       "<tr>\n",
       "  <th>C(room_type, Treatment(reference=\"Shared room\"))[T.Hotel room]:C(bed_type, Treatment(reference=\"Futon\"))[T.Couch]</th>              <td> 1.718e-14</td> <td> 6.41e-14</td> <td>    0.268</td> <td> 0.789</td> <td>-1.08e-13</td> <td> 1.43e-13</td>\n",
       "</tr>\n",
       "<tr>\n",
       "  <th>C(room_type, Treatment(reference=\"Shared room\"))[T.Private room]:C(bed_type, Treatment(reference=\"Futon\"))[T.Couch]</th>            <td>   51.3596</td> <td>  195.137</td> <td>    0.263</td> <td> 0.792</td> <td> -331.123</td> <td>  433.842</td>\n",
       "</tr>\n",
       "<tr>\n",
       "  <th>C(room_type, Treatment(reference=\"Shared room\"))[T.Entire home/apt]:C(bed_type, Treatment(reference=\"Futon\"))[T.Pull-out Sofa]</th> <td>   55.0506</td> <td>  136.345</td> <td>    0.404</td> <td> 0.686</td> <td> -212.194</td> <td>  322.296</td>\n",
       "</tr>\n",
       "<tr>\n",
       "  <th>C(room_type, Treatment(reference=\"Shared room\"))[T.Hotel room]:C(bed_type, Treatment(reference=\"Futon\"))[T.Pull-out Sofa]</th>      <td>-5.873e-15</td> <td> 4.33e-14</td> <td>   -0.136</td> <td> 0.892</td> <td>-9.07e-14</td> <td> 7.89e-14</td>\n",
       "</tr>\n",
       "<tr>\n",
       "  <th>C(room_type, Treatment(reference=\"Shared room\"))[T.Private room]:C(bed_type, Treatment(reference=\"Futon\"))[T.Pull-out Sofa]</th>    <td>   23.4704</td> <td>  137.439</td> <td>    0.171</td> <td> 0.864</td> <td> -245.920</td> <td>  292.860</td>\n",
       "</tr>\n",
       "<tr>\n",
       "  <th>C(room_type, Treatment(reference=\"Shared room\"))[T.Entire home/apt]:C(bed_type, Treatment(reference=\"Futon\"))[T.Real Bed]</th>      <td>  103.9073</td> <td>   99.107</td> <td>    1.048</td> <td> 0.294</td> <td>  -90.349</td> <td>  298.163</td>\n",
       "</tr>\n",
       "<tr>\n",
       "  <th>C(room_type, Treatment(reference=\"Shared room\"))[T.Hotel room]:C(bed_type, Treatment(reference=\"Futon\"))[T.Real Bed]</th>           <td>   39.2566</td> <td>   18.188</td> <td>    2.158</td> <td> 0.031</td> <td>    3.607</td> <td>   74.906</td>\n",
       "</tr>\n",
       "<tr>\n",
       "  <th>C(room_type, Treatment(reference=\"Shared room\"))[T.Private room]:C(bed_type, Treatment(reference=\"Futon\"))[T.Real Bed]</th>         <td>   32.7532</td> <td>   95.680</td> <td>    0.342</td> <td> 0.732</td> <td> -154.787</td> <td>  220.293</td>\n",
       "</tr>\n",
       "</table>\n",
       "<table class=\"simpletable\">\n",
       "<tr>\n",
       "  <th>Omnibus:</th>       <td>58197.197</td> <th>  Durbin-Watson:     </th>    <td>   1.962</td>   \n",
       "</tr>\n",
       "<tr>\n",
       "  <th>Prob(Omnibus):</th>  <td> 0.000</td>   <th>  Jarque-Bera (JB):  </th> <td>1468669218.000</td>\n",
       "</tr>\n",
       "<tr>\n",
       "  <th>Skew:</th>           <td>30.031</td>   <th>  Prob(JB):          </th>    <td>    0.00</td>   \n",
       "</tr>\n",
       "<tr>\n",
       "  <th>Kurtosis:</th>      <td>1255.283</td>  <th>  Cond. No.          </th>    <td>1.04e+21</td>   \n",
       "</tr>\n",
       "</table><br/><br/>Warnings:<br/>[1] Standard Errors assume that the covariance matrix of the errors is correctly specified.<br/>[2] The smallest eigenvalue is 6.43e-38. This might indicate that there are<br/>strong multicollinearity problems or that the design matrix is singular."
      ],
      "text/plain": [
       "<class 'statsmodels.iolib.summary.Summary'>\n",
       "\"\"\"\n",
       "                            OLS Regression Results                            \n",
       "==============================================================================\n",
       "Dep. Variable:                  price   R-squared:                       0.037\n",
       "Model:                            OLS   Adj. R-squared:                  0.036\n",
       "Method:                 Least Squares   F-statistic:                     57.52\n",
       "Date:                Wed, 29 Apr 2020   Prob (F-statistic):          8.36e-171\n",
       "Time:                        16:23:17   Log-Likelihood:            -1.5706e+05\n",
       "No. Observations:               22425   AIC:                         3.142e+05\n",
       "Df Residuals:                   22409   BIC:                         3.143e+05\n",
       "Df Model:                          15                                         \n",
       "Covariance Type:            nonrobust                                         \n",
       "==================================================================================================================================================================================================\n",
       "                                                                                                                                     coef    std err          t      P>|t|      [0.025      0.975]\n",
       "--------------------------------------------------------------------------------------------------------------------------------------------------------------------------------------------------\n",
       "Intercept                                                                                                                         66.8889     88.821      0.753      0.451    -107.207     240.985\n",
       "C(room_type, Treatment(reference=\"Shared room\"))[T.Entire home/apt]                                                               28.1599     98.087      0.287      0.774    -164.097     220.417\n",
       "C(room_type, Treatment(reference=\"Shared room\"))[T.Hotel room]                                                                    39.2566     18.188      2.158      0.031       3.607      74.906\n",
       "C(room_type, Treatment(reference=\"Shared room\"))[T.Private room]                                                                  -8.5904     94.599     -0.091      0.928    -194.011     176.831\n",
       "C(bed_type, Treatment(reference=\"Futon\"))[T.Airbed]                                                                               -4.2222    140.439     -0.030      0.976    -279.493     271.048\n",
       "C(bed_type, Treatment(reference=\"Futon\"))[T.Couch]                                                                                71.3419    115.547      0.617      0.537    -155.138     297.821\n",
       "C(bed_type, Treatment(reference=\"Futon\"))[T.Pull-out Sofa]                                                                       -10.8889    122.432     -0.089      0.929    -250.864     229.086\n",
       "C(bed_type, Treatment(reference=\"Futon\"))[T.Real Bed]                                                                            -16.5767     89.919     -0.184      0.854    -192.824     159.670\n",
       "C(room_type, Treatment(reference=\"Shared room\"))[T.Entire home/apt]:C(bed_type, Treatment(reference=\"Futon\"))[T.Airbed]           34.6020    177.759      0.195      0.846    -313.818     383.022\n",
       "C(room_type, Treatment(reference=\"Shared room\"))[T.Hotel room]:C(bed_type, Treatment(reference=\"Futon\"))[T.Airbed]              7.458e-14   2.95e-13      0.253      0.801   -5.04e-13    6.53e-13\n",
       "C(room_type, Treatment(reference=\"Shared room\"))[T.Private room]:C(bed_type, Treatment(reference=\"Futon\"))[T.Airbed]               7.2570    159.739      0.045      0.964    -305.842     320.356\n",
       "C(room_type, Treatment(reference=\"Shared room\"))[T.Entire home/apt]:C(bed_type, Treatment(reference=\"Futon\"))[T.Couch]            88.9427    144.913      0.614      0.539    -195.097     372.982\n",
       "C(room_type, Treatment(reference=\"Shared room\"))[T.Hotel room]:C(bed_type, Treatment(reference=\"Futon\"))[T.Couch]               1.718e-14   6.41e-14      0.268      0.789   -1.08e-13    1.43e-13\n",
       "C(room_type, Treatment(reference=\"Shared room\"))[T.Private room]:C(bed_type, Treatment(reference=\"Futon\"))[T.Couch]               51.3596    195.137      0.263      0.792    -331.123     433.842\n",
       "C(room_type, Treatment(reference=\"Shared room\"))[T.Entire home/apt]:C(bed_type, Treatment(reference=\"Futon\"))[T.Pull-out Sofa]    55.0506    136.345      0.404      0.686    -212.194     322.296\n",
       "C(room_type, Treatment(reference=\"Shared room\"))[T.Hotel room]:C(bed_type, Treatment(reference=\"Futon\"))[T.Pull-out Sofa]      -5.873e-15   4.33e-14     -0.136      0.892   -9.07e-14    7.89e-14\n",
       "C(room_type, Treatment(reference=\"Shared room\"))[T.Private room]:C(bed_type, Treatment(reference=\"Futon\"))[T.Pull-out Sofa]       23.4704    137.439      0.171      0.864    -245.920     292.860\n",
       "C(room_type, Treatment(reference=\"Shared room\"))[T.Entire home/apt]:C(bed_type, Treatment(reference=\"Futon\"))[T.Real Bed]        103.9073     99.107      1.048      0.294     -90.349     298.163\n",
       "C(room_type, Treatment(reference=\"Shared room\"))[T.Hotel room]:C(bed_type, Treatment(reference=\"Futon\"))[T.Real Bed]              39.2566     18.188      2.158      0.031       3.607      74.906\n",
       "C(room_type, Treatment(reference=\"Shared room\"))[T.Private room]:C(bed_type, Treatment(reference=\"Futon\"))[T.Real Bed]            32.7532     95.680      0.342      0.732    -154.787     220.293\n",
       "==============================================================================\n",
       "Omnibus:                    58197.197   Durbin-Watson:                   1.962\n",
       "Prob(Omnibus):                  0.000   Jarque-Bera (JB):       1468669218.000\n",
       "Skew:                          30.031   Prob(JB):                         0.00\n",
       "Kurtosis:                    1255.283   Cond. No.                     1.04e+21\n",
       "==============================================================================\n",
       "\n",
       "Warnings:\n",
       "[1] Standard Errors assume that the covariance matrix of the errors is correctly specified.\n",
       "[2] The smallest eigenvalue is 6.43e-38. This might indicate that there are\n",
       "strong multicollinearity problems or that the design matrix is singular.\n",
       "\"\"\""
      ]
     },
     "execution_count": 139,
     "metadata": {},
     "output_type": "execute_result"
    }
   ],
   "source": [
    "# this is the same regression with defined reference groups\n",
    "\n",
    "mod = ols('price ~ C(room_type, Treatment(reference=\"Shared room\"))*C(bed_type, Treatment(reference=\"Futon\"))', data=df).fit()\n",
    "mod.summary()"
   ]
  },
  {
   "cell_type": "markdown",
   "metadata": {},
   "source": [
    "## Conclusion\n",
    "\n",
    "In this example the results are not statistically significant but the process is useful for comparing multiple categories and exploring their relationships. "
   ]
  },
  {
   "cell_type": "markdown",
   "metadata": {},
   "source": [
    "# Extensions\n",
    "\n",
    "This section lists some ideas for extending the tutorial that you may wish to explore.\n",
    "* Describe three examples when Pandas would be better than using Excel directly.\n",
    "\n",
    "# Further Reading\n",
    "This section provides more resources on the topic if you are looking to go deeper.\n",
    "\n",
    "## Books\n",
    "* Python for Data Analysis, by William McKinney. http://shop.oreilly.com/product/0636920023784.do\n",
    "\n",
    "## APIs\n",
    "* Pandas. https://pandas.pydata.org/\n",
    "\n",
    "## Articles\n",
    "* Getting started with Pandas in 5 minutes, on Towards Data Science. https://medium.com/bhavaniravi/python-pandas-tutorial-92018da85a33\n",
    "* My Pandas Cheat Sheet, on Towards Data Science. https://towardsdatascience.com/my-python-pandas-cheat-sheet-746b11e44368    \n",
    "\n",
    "# Summary\n",
    "\n",
    "In this tutorial, you worked with data from Fortune using Pandas. Specifically, you learned:\n",
    "1. import a file into a DataFrame\n",
    "2. remove extra characters in a column and recast the column as numeric\n",
    "3. plot the data as boxplots and histograms\n",
    "4. pivot ant cross-tabulate the data\n",
    "5. apply statistical techniques like ANOVA and regression to explore relationships in the data\n",
    "\n",
    "# Next\n",
    "\n",
    "In the next section, you will use Pandas to work with additional datasets. "
   ]
  },
  {
   "cell_type": "code",
   "execution_count": null,
   "metadata": {},
   "outputs": [],
   "source": []
  }
 ],
 "metadata": {
  "kernelspec": {
   "display_name": "Python 3",
   "language": "python",
   "name": "python3"
  },
  "language_info": {
   "codemirror_mode": {
    "name": "ipython",
    "version": 3
   },
   "file_extension": ".py",
   "mimetype": "text/x-python",
   "name": "python",
   "nbconvert_exporter": "python",
   "pygments_lexer": "ipython3",
   "version": "3.7.4"
  },
  "toc": {
   "base_numbering": 1,
   "nav_menu": {},
   "number_sections": true,
   "sideBar": true,
   "skip_h1_title": false,
   "title_cell": "Table of Contents",
   "title_sidebar": "Contents",
   "toc_cell": false,
   "toc_position": {},
   "toc_section_display": true,
   "toc_window_display": false
  }
 },
 "nbformat": 4,
 "nbformat_minor": 4
}
