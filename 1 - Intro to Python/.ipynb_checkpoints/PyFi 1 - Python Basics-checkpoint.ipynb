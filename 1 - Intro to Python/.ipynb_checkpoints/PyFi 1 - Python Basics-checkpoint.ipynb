{
 "cells": [
  {
   "cell_type": "markdown",
   "metadata": {},
   "source": [
    "# Summary\n",
    "\n",
    "Getting started is the hardest part of learning Python. This is the first lesson in a series of tutorials designed to introduce Python as a programming language and how it can be used for business analysis. \n",
    "\n",
    "After completing this tutorial, you will know:\n",
    "* The overall structure of Python as a programming language\n",
    "* How to do basic operations like addition and subtraction\n",
    "* The various data types available in Python\n",
    "* How to use loops and conditional statements\n",
    "\n",
    "## When to use Python\n",
    "\n",
    "Some use cases for Python:\n",
    "* Automating repetative tasks\n",
    " * Combining PDFs\n",
    " * Searching for text in files\n",
    " * Downloading information from the internet\n",
    " * Merging/updating spreadsheets\n",
    " * Sending emails\n",
    " * Aggregating multiple data sources\n",
    "* Data Analysis\n",
    " * Creating reproducible analyses and reports\n",
    " * Making visualizations and graphics\n",
    " * Interacting with databases and using SQL\n",
    " * Statistical analysis\n",
    " * Transforming data (e.g. pivot/filter/summarize)\n",
    "* More advanced use cases\n",
    " * Creating web pages\n",
    " * Machine learning / AI\n",
    " * Manipulating images / sound\n",
    "\n",
    "Let’s get started."
   ]
  },
  {
   "cell_type": "markdown",
   "metadata": {},
   "source": [
    "# Tutorial Overview\n",
    "This tutorial is divided into 5 parts:\n",
    "1. Introduction to Python\n",
    "2. Basic Operations\n",
    "3. Data Types\n",
    "4. Flow Control\n",
    "5. Exercises: Your turn!"
   ]
  },
  {
   "cell_type": "markdown",
   "metadata": {},
   "source": [
    "# Introduction to Python\n",
    "\n",
    "Python is a free open source scripting language. It is used for a wide range of tasks including website development and data analysis.\n",
    "\n",
    "Python is an \"object oriented\" language which means that the basic unit of everything in Python is an object. We manipulate objects with methods or functions. An object could be a sentence, a list of numbers, an image, a spreadsheet, or something else. \n",
    "\n",
    "Python is a multi-purpose programming language. It has been called the \"second-best language for everything.\" For example, R is better than Python for many statistics-focused tasks and JavaScript is better for web development than Python. However, if you only learn one language - Python is the best option. "
   ]
  },
  {
   "cell_type": "markdown",
   "metadata": {},
   "source": [
    "## How to use Python\n",
    "\n",
    "Python is free and open source, but most people work with Python through an Integrated Development Environment (IDE). This project is built in a Jupyter Notebook. This is just an interface for writing Python code. Some people prefer other interfaces such as PyCharm, Visual Basic Studio, or Spyder. \n",
    "\n",
    "Amazon SageMaker uses Jupyter Notebooks. "
   ]
  },
  {
   "cell_type": "markdown",
   "metadata": {},
   "source": [
    "Coding is a skill just like playing an instrument, cooking, or wood-carving. It takes practice to become proficient, especially to the point where you're making things that are pretty (continuing the comparison: the time needed to not just be flailing wildly at guitar strings, but instead making chords that fit together can literally be weeks or months just to reach basic proficiency). However, the key thing to remember is... all practice is good practice, and it's just software. You literally cannot harm your computer by writing bad python code that throws an error. You might accidentally shut it down by generating an infinite loop... but 'oh well, try again after it reboots.' **Be tenacious, practice a lot, and make cool things.** "
   ]
  },
  {
   "cell_type": "markdown",
   "metadata": {},
   "source": [
    "## What is Python?\n",
    "\n",
    "> Python is a widely used high-level programming language for general-purpose programming, created by Guido van Rossum and \n",
    "> first released in 1991. An interpreted language, Python has a design philosophy which emphasizes code readability \n",
    "> (notably using whitespace indentation to delimit code blocks rather than curly brackets or keywords), and a syntax which \n",
    "> allows programmers to express concepts in fewer lines of code than possible in languages such as C++ or Java. The language\n",
    "> provides constructs intended to enable writing clear programs on both a small and large scale.\n",
    "> \n",
    "> Python features a dynamic type system and automatic memory management and supports multiple programming paradigms, \n",
    "> including object-oriented, imperative, functional programming, and procedural styles. It has a large and comprehensive \n",
    "> standard library.\n",
    "> \n",
    "> -Wikipedia [https://en.wikipedia.org/wiki/Python_(programming_language)]"
   ]
  },
  {
   "cell_type": "markdown",
   "metadata": {},
   "source": [
    "## No, really, what is Python?\n",
    "\n",
    "> Python is used by a lot of people as a go-to coding language. It's interpreted, which means we don't have to muck around\n",
    "> with compilers like we do in other languages. Python's design emphasizes the ability to look at a code and understand it\n",
    "> without need for elaborate directions - and the idea is that we should always do things the simplest way. \n",
    "> \n",
    "> Python also has 'dynamic memory systems' which means that we don't have to keep track of all the memory usage like we do\n",
    "> in C-based languages. Python also allows for 'object-oriented programming' which is a more advanced topic we won't get to\n",
    "> today. Basically, Python is convenient because it's designed to be easy for the user to use."
   ]
  },
  {
   "cell_type": "markdown",
   "metadata": {},
   "source": [
    "## Why Python vs *another language*?\n",
    "\n",
    "- Clean, (relatively) straightforward syntax\n",
    "- “Batteries included”\n",
    "- Big community\n",
    "- Versatile\n",
    "\n",
    "> Programs must be written for people to read, and only incidentally for machines to execute.  \n",
    "—Abelson & Sussman, Structure and Interpretation of Computer Programs"
   ]
  },
  {
   "cell_type": "markdown",
   "metadata": {},
   "source": [
    "## Comments in code\n",
    "\n",
    "The hash sign is used for comments in Python. Anything following a hash sign will not be executed. \n",
    "\n",
    "You can also create a block of comments using triple quotation marks. In Python, you can use one quote mark or the double quote mark - so long as you are consistent."
   ]
  },
  {
   "cell_type": "code",
   "execution_count": null,
   "metadata": {},
   "outputs": [],
   "source": [
    "# https://github.com/rajathkmp/Python-Lectures"
   ]
  },
  {
   "cell_type": "code",
   "execution_count": null,
   "metadata": {},
   "outputs": [],
   "source": [
    "# jupyter notebooks are an interface for writing python code\n",
    "# it is NOT a website\n",
    "'''\n",
    "here is comment \n",
    "another comment \n",
    "'''"
   ]
  },
  {
   "cell_type": "markdown",
   "metadata": {},
   "source": [
    "# Basic Operations "
   ]
  },
  {
   "cell_type": "code",
   "execution_count": 2,
   "metadata": {},
   "outputs": [
    {
     "name": "stdout",
     "output_type": "stream",
     "text": [
      "Hello World\n"
     ]
    }
   ],
   "source": [
    "print('Hello World')\n",
    "\n",
    "# Run a cell in a Jupyter Notebook by either clicking the \"Run button\" or pressing `Shift`+`Enter`"
   ]
  },
  {
   "cell_type": "markdown",
   "metadata": {},
   "source": [
    "What just happened?  We told Python: \"Hey, I want you to print out the phrase 'Hello World'\" and it did."
   ]
  },
  {
   "cell_type": "markdown",
   "metadata": {},
   "source": [
    "### Assign values to variables"
   ]
  },
  {
   "cell_type": "markdown",
   "metadata": {},
   "source": [
    "A single equal sign is used to assign a value to an object.\n",
    "\n",
    "Two equal signs in a row is used to test equality. "
   ]
  },
  {
   "cell_type": "code",
   "execution_count": null,
   "metadata": {},
   "outputs": [],
   "source": [
    "x = 2\n",
    "y = 5\n",
    "\n",
    "x+y"
   ]
  },
  {
   "cell_type": "markdown",
   "metadata": {},
   "source": [
    "### Test if two variables are equal"
   ]
  },
  {
   "cell_type": "code",
   "execution_count": null,
   "metadata": {},
   "outputs": [],
   "source": [
    "x==y"
   ]
  },
  {
   "cell_type": "markdown",
   "metadata": {},
   "source": [
    "# Data Types"
   ]
  },
  {
   "cell_type": "markdown",
   "metadata": {},
   "source": [
    "## Numbers\n",
    "Integers and floating point numbers can be used interchangeably (in general)"
   ]
  },
  {
   "cell_type": "code",
   "execution_count": null,
   "metadata": {},
   "outputs": [],
   "source": [
    "val_int = 5\n",
    "val_float = 5.0\n",
    "\n",
    "print('The type of {0} is {1}'.format(val_int, type(val_int)))\n",
    "print('The type of {0} is {1}'.format(val_float, type(val_float)))"
   ]
  },
  {
   "cell_type": "markdown",
   "metadata": {},
   "source": [
    "## Strings\n",
    "A sting is a list of characters. It can be a random list of characters or words and sentences. There are special methods we can apply to strings such as manipulating the case or finding a letter. "
   ]
  },
  {
   "cell_type": "code",
   "execution_count": null,
   "metadata": {},
   "outputs": [],
   "source": [
    "a = 'Hello World'"
   ]
  },
  {
   "cell_type": "code",
   "execution_count": null,
   "metadata": {},
   "outputs": [],
   "source": [
    "a.upper()"
   ]
  },
  {
   "cell_type": "code",
   "execution_count": null,
   "metadata": {},
   "outputs": [],
   "source": [
    "# This will return the position of the letter 'W'. In Python (and most computer languages) counting begins with 0\n",
    "\n",
    "a.find('W')"
   ]
  },
  {
   "cell_type": "markdown",
   "metadata": {},
   "source": [
    "## Lists\n",
    "An object that stores any type of object in order. This is the storage structure to use most often. The list doesn't have to be the same kind of object. You can mix intergers, floats, and strings. However, lists are often used for computation in which case you want all the objects in a list to be the same. "
   ]
  },
  {
   "cell_type": "code",
   "execution_count": null,
   "metadata": {},
   "outputs": [],
   "source": [
    "mylist = [3,6,1,6,3,7,3,7,3,99,3,'alpha']\n",
    "mylist"
   ]
  },
  {
   "cell_type": "code",
   "execution_count": null,
   "metadata": {},
   "outputs": [],
   "source": [
    "# select 10th item (note 0-indexed)\n",
    "mylist[9]"
   ]
  },
  {
   "cell_type": "code",
   "execution_count": null,
   "metadata": {},
   "outputs": [],
   "source": [
    "# slicing list \n",
    "mylist[3:8]"
   ]
  },
  {
   "cell_type": "code",
   "execution_count": null,
   "metadata": {},
   "outputs": [],
   "source": [
    "list(range(10))"
   ]
  },
  {
   "cell_type": "code",
   "execution_count": null,
   "metadata": {},
   "outputs": [],
   "source": [
    "sum(list(range(10)))"
   ]
  },
  {
   "cell_type": "code",
   "execution_count": null,
   "metadata": {},
   "outputs": [],
   "source": [
    "# this will throw an error.  Why doesn't it work?\n",
    "sum(mylist)"
   ]
  },
  {
   "cell_type": "markdown",
   "metadata": {},
   "source": [
    "### Exercise: \n",
    "- Create a list of names of a few people on your team\n",
    "\n",
    "- Print the value of the first and third names in the list\n",
    "\n",
    "- Test if those two values are equal to each other (they are probably not)"
   ]
  },
  {
   "cell_type": "code",
   "execution_count": null,
   "metadata": {},
   "outputs": [],
   "source": [
    "### CODE FOR ABOVE EXERCISE ###\n",
    "\n",
    "\n",
    "\n"
   ]
  },
  {
   "cell_type": "markdown",
   "metadata": {},
   "source": [
    "## Dictionaries\n",
    "Dictionaries are key-value storage. Each item has a key (before the colon) and a value (after the colon). It can be used to store alias names, related objects, or even functions. Python uses dictionaries extensively but at the beginning these can be tough to use. "
   ]
  },
  {
   "cell_type": "code",
   "execution_count": null,
   "metadata": {},
   "outputs": [],
   "source": [
    "currency_map = {\n",
    "    'Canada': 'CAD', \n",
    "    'US': 'USD', \n",
    "    'United Kingdom': 'GBP', \n",
    "}\n",
    "\n",
    "currency_map"
   ]
  },
  {
   "cell_type": "code",
   "execution_count": null,
   "metadata": {},
   "outputs": [],
   "source": [
    "currency_map['Canada']"
   ]
  },
  {
   "cell_type": "code",
   "execution_count": null,
   "metadata": {},
   "outputs": [],
   "source": [
    "currency_map['China'] = 'CN'"
   ]
  },
  {
   "cell_type": "code",
   "execution_count": null,
   "metadata": {},
   "outputs": [],
   "source": [
    "currency_map['China']"
   ]
  },
  {
   "cell_type": "code",
   "execution_count": null,
   "metadata": {},
   "outputs": [],
   "source": [
    "restaurant_rating = {\n",
    "    \"fast\": 0,\n",
    "    \"Italian\": 3,\n",
    "    \"Tex-Mex\": 5\n",
    "}"
   ]
  },
  {
   "cell_type": "code",
   "execution_count": null,
   "metadata": {},
   "outputs": [],
   "source": [
    "# By convention, we use k for the dictionary key and v for the dictionary value\n",
    "\n",
    "for k, v in restaurant_rating.items():\n",
    "    print(\"I give {k} food a rating of {v}\".format(k=k, v=v))"
   ]
  },
  {
   "cell_type": "markdown",
   "metadata": {},
   "source": [
    "### Exercise:\n",
    "- What is the currency code for the United Kingdom? Print it.\n",
    "\n",
    "- Add a key-value pair to the dictionary that maps Japan to its currency (JPY)\n",
    "\n",
    "- Print the currency code for Japan."
   ]
  },
  {
   "cell_type": "code",
   "execution_count": null,
   "metadata": {},
   "outputs": [],
   "source": [
    "### CODE FOR ABOVE EXERCISE ###\n",
    "\n",
    "\n",
    "\n"
   ]
  },
  {
   "cell_type": "markdown",
   "metadata": {},
   "source": [
    "# Control Statements and Booleans"
   ]
  },
  {
   "cell_type": "markdown",
   "metadata": {},
   "source": [
    " ## IF Statement\n",
    "Notice the indentations (tabs) after the \"if\" and \"else\" lines.  Tabs are important in Python as their placement often affects how code is executed.  In an if statement, the tabs determine when the if/else sections end."
   ]
  },
  {
   "cell_type": "code",
   "execution_count": null,
   "metadata": {},
   "outputs": [],
   "source": [
    "x = 12\n",
    "if x > 10:\n",
    "    # this code is executed only if the condition is True\n",
    "    print(\"hello\")\n",
    "else:\n",
    "    # otherwise, this code is executed\n",
    "    print(\"world\")"
   ]
  },
  {
   "cell_type": "markdown",
   "metadata": {},
   "source": [
    "## For Loop"
   ]
  },
  {
   "cell_type": "code",
   "execution_count": null,
   "metadata": {},
   "outputs": [],
   "source": [
    "mylist = [3,6,1,6,3,7,3,7,3,99,3,'alpha']\n",
    "\n",
    "for e in mylist:\n",
    "    # this code executes multiple times, once for each element in the list\n",
    "    # on each iteration, the variable e changes to the next value\n",
    "    print(e)"
   ]
  },
  {
   "cell_type": "markdown",
   "metadata": {},
   "source": [
    "## List Comprehensions\n",
    "\n",
    "List comprehensions are a convention in Python that allows us to avoid writing loops or conditions. "
   ]
  },
  {
   "cell_type": "code",
   "execution_count": null,
   "metadata": {},
   "outputs": [],
   "source": [
    "# The above condition could be written as a list comprehension this way\n",
    "x = [12]\n",
    "print(\"{word}\".format(word = [\"hello\" if x > 10 else \"world\" for x in x]))\n",
    "\n",
    "# The For Loop would be written this way\n",
    "mylist = [3,6,1,6,3,7,3,7,3,99,3,'alpha']\n",
    "print(\"{item}\".format(item = mylist))"
   ]
  },
  {
   "cell_type": "markdown",
   "metadata": {},
   "source": [
    "## Functions\n",
    "Tabs are important again here.  Functions are defined based on the lines of code that are indented below the \"def\" line."
   ]
  },
  {
   "cell_type": "code",
   "execution_count": null,
   "metadata": {},
   "outputs": [],
   "source": [
    "def firstfunc():\n",
    "    print(\"Hello World!\")\n",
    "    print(\"This is my first function.\")"
   ]
  },
  {
   "cell_type": "code",
   "execution_count": null,
   "metadata": {},
   "outputs": [],
   "source": [
    "firstfunc()"
   ]
  },
  {
   "cell_type": "code",
   "execution_count": null,
   "metadata": {},
   "outputs": [],
   "source": [
    "def times(x,y):  # variables inside parenthesis are the \"parameters\"\n",
    "    z = x*y\n",
    "    return z\n",
    "\n",
    "# note that x and y are defined local to function (in its \"scope\")"
   ]
  },
  {
   "cell_type": "code",
   "execution_count": null,
   "metadata": {},
   "outputs": [],
   "source": [
    "# Why does this line error?\n",
    "a = times()"
   ]
  },
  {
   "cell_type": "code",
   "execution_count": null,
   "metadata": {},
   "outputs": [],
   "source": [
    "# run the function and capture the value it returns by assigning it to the variable c\n",
    "c = times(4,5)\n",
    "print(c)"
   ]
  },
  {
   "cell_type": "markdown",
   "metadata": {},
   "source": [
    "# Exercises: Your Turn!\n",
    "\n",
    "1) Create a string variable of your name and call it \"name\""
   ]
  },
  {
   "cell_type": "code",
   "execution_count": null,
   "metadata": {},
   "outputs": [],
   "source": []
  },
  {
   "cell_type": "markdown",
   "metadata": {},
   "source": [
    "2) Use a slice (square bracket notation [a:b]) on the string \"name\" to print only your first name"
   ]
  },
  {
   "cell_type": "code",
   "execution_count": null,
   "metadata": {},
   "outputs": [],
   "source": []
  },
  {
   "cell_type": "markdown",
   "metadata": {},
   "source": [
    "3) Create a list, named \"num\", of numbers between 1 and 10, inclusive"
   ]
  },
  {
   "cell_type": "code",
   "execution_count": null,
   "metadata": {},
   "outputs": [],
   "source": []
  },
  {
   "cell_type": "markdown",
   "metadata": {},
   "source": [
    "4) Calculate the sum of all numbers in \"num\" "
   ]
  },
  {
   "cell_type": "code",
   "execution_count": null,
   "metadata": {},
   "outputs": [],
   "source": []
  },
  {
   "cell_type": "markdown",
   "metadata": {},
   "source": [
    "5) Create a function called \"sum_numbers\" that returns the sum of the numbers in a list \n",
    "    (hint 1: parameter should be the list)\n",
    "    (hint 2: make sure you are returning the value, not just printing it)"
   ]
  },
  {
   "cell_type": "code",
   "execution_count": null,
   "metadata": {},
   "outputs": [],
   "source": []
  },
  {
   "cell_type": "markdown",
   "metadata": {},
   "source": [
    "6) Print only the even numbers in num \n",
    "    (hint: calculate remainder with '%')"
   ]
  },
  {
   "cell_type": "code",
   "execution_count": null,
   "metadata": {},
   "outputs": [],
   "source": []
  },
  {
   "cell_type": "markdown",
   "metadata": {},
   "source": [
    "7) Create a function \"product\" that finds the product of all numbers in a list"
   ]
  },
  {
   "cell_type": "code",
   "execution_count": null,
   "metadata": {},
   "outputs": [],
   "source": []
  },
  {
   "cell_type": "markdown",
   "metadata": {},
   "source": [
    "# Extensions\n",
    "\n",
    "This section lists some ideas for extending the tutorial that you may wish to explore.\n",
    "* Think of some of your recent job tasks. Would Python have helped with those tasks?"
   ]
  },
  {
   "cell_type": "markdown",
   "metadata": {},
   "source": [
    "# Further Reading\n",
    "This section provides more resources on the topic if you are looking to go deeper.\n",
    "\n",
    "## Books\n",
    "* Python for Data Analysis, by William McKinney. http://shop.oreilly.com/product/0636920023784.do\n",
    "* Python Data Science Handbook, by Jake VanderPlas. https://jakevdp.github.io/PythonDataScienceHandbook/\n",
    "* Data Science from Scratch in Python, by Joel Grus. https://github.com/joelgrus/data-science-from-scratch\n",
    "* Automate the boring stuff, by Al Sweigart. https://automatetheboringstuff.com/\n",
    "\n",
    "## Additional Tutorials\n",
    "* Python for Finance classes (covers beginner to intermediate). http://www.financeandpython.com/default.html\n",
    "* Programming Historian (range of trainings for Python, R, and other languages). https://programminghistorian.org/en/\n",
    "* Free training is available from a number of online groups, including: \n",
    " * [Udacity: Intro to Data Analysis](https://www.udacity.com/course/intro-to-data-analysis--ud170)\n",
    " * [LinkedIn Learning: Python: Data Analysis](https://www.linkedin.com/learning/python-data-analysis-2)\n",
    " * [Codeacademy](https://www.codecademy.com/catalog/language/python)\n",
    "* Other notebooks that introduce Python and Jupyter\n",
    " * [Python for Quantitative Economics](https://python-programming.quantecon.org/)\n",
    " * [Python for Science](https://github.com/barbagroup/Caminos/blob/master/2--Python_for_Science.ipynb)\n",
    " * [Core Python Programming Concepts](https://github.com/kthyng/python4geosciences/blob/master/materials/1_core.ipynb)"
   ]
  },
  {
   "cell_type": "markdown",
   "metadata": {},
   "source": [
    "# Summary\n",
    "\n",
    "In this tutorial, you were introduced to the Python programming language. Specifically, you learned:\n",
    "* The structure of Python as a programming language\n",
    "* How to do basic operations like addition and subtraction\n",
    "* The various data types available in Python\n",
    "* How to use loops and conditional statements"
   ]
  },
  {
   "cell_type": "markdown",
   "metadata": {},
   "source": [
    "**Python**\n",
    "\n",
    "* Python is a programming language that is optimized for readability by having minimal syntax.\n",
    "* Writing \"Pythonic\" code involves writing code that is more readable, for example, writing `for element in list` rather than `for i in range(len(list)):`. \n",
    "\n",
    "**Jupyter**\n",
    "\n",
    "* Jupyter Notebooks are environments that let you run snippets of code and see the results of executing those code snippets in real time.\n",
    "* They are great \"scratchpads\" or \"sandboxes\" for playing around with code, not for running code for production.\n",
    "\n",
    "**Data Types**\n",
    "\n",
    "* Lists are mutable data types that can store objects in sequence so that the elements can be accessed by index.\n",
    "* Tuples are immutable data types that can store objects in sequence - to change them, you would have to create a new tuple, rather than modifying them in place, since they are immutable.\n",
    "* Dictionaries allow you to store key-value pairs, so that you can then look up values by their keys. You can also iterate through dictionaries, but they are unordered.\n",
    "\n",
    "**Conditional statements (and booleans)**\n",
    "\n",
    "* Python contains the Boolean objects True and False as first class objects, meaning you can assign them to variables as in `a = True`, or even as in `a = x == 10`.\n",
    "* The syntax for only running certain code if a condition is true is: `if [Boolean variable/expression]:`\n",
    "* `if` statements can be extended to check additional conditions with `elif`. \n",
    "* `if` statements should always be closed with `else` conditions.\n",
    "\n",
    "**Iterating**\n",
    "\n",
    "* `for` loops involve iterating over an iterable object - lists, tuples, and dictionaries are all iterable - and doing some operation on each object. \n",
    "* The syntax for `for` loops is `for element in list`, where `element` is an object that can then be referred to within the `for` loop."
   ]
  },
  {
   "cell_type": "markdown",
   "metadata": {},
   "source": [
    "# Next\n",
    "\n",
    "In the next section, you will Python to do basic data analysis with the Pandas Library. "
   ]
  }
 ],
 "metadata": {
  "kernelspec": {
   "display_name": "Python 3",
   "language": "python",
   "name": "python3"
  },
  "language_info": {
   "codemirror_mode": {
    "name": "ipython",
    "version": 3
   },
   "file_extension": ".py",
   "mimetype": "text/x-python",
   "name": "python",
   "nbconvert_exporter": "python",
   "pygments_lexer": "ipython3",
   "version": "3.7.4"
  },
  "toc": {
   "base_numbering": 1,
   "nav_menu": {},
   "number_sections": true,
   "sideBar": true,
   "skip_h1_title": false,
   "title_cell": "Table of Contents",
   "title_sidebar": "Contents",
   "toc_cell": false,
   "toc_position": {},
   "toc_section_display": true,
   "toc_window_display": false
  }
 },
 "nbformat": 4,
 "nbformat_minor": 4
}
