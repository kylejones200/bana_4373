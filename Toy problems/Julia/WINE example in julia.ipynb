{
 "cells": [
  {
   "cell_type": "code",
   "execution_count": 62,
   "metadata": {},
   "outputs": [
    {
     "name": "stderr",
     "output_type": "stream",
     "text": [
      "\u001b[32m\u001b[1m  Resolving\u001b[22m\u001b[39m package versions...\n",
      "\u001b[32m\u001b[1m   Updating\u001b[22m\u001b[39m `~/.juliapro/JuliaPro_v1.4.1-1/environments/v1.4/Project.toml`\n",
      "\u001b[90m [no changes]\u001b[39m\n",
      "\u001b[32m\u001b[1m   Updating\u001b[22m\u001b[39m `~/.juliapro/JuliaPro_v1.4.1-1/environments/v1.4/Manifest.toml`\n",
      "\u001b[90m [no changes]\u001b[39m\n"
     ]
    }
   ],
   "source": [
    "Pkg.add([\"MLJLinearModels\", \"CSV\"])"
   ]
  },
  {
   "cell_type": "code",
   "execution_count": 1,
   "metadata": {},
   "outputs": [
    {
     "name": "stderr",
     "output_type": "stream",
     "text": [
      "┌ Info: Precompiling UrlDownload [856ac37a-3032-4c1c-9122-f86d88358c8b]\n",
      "└ @ Base loading.jl:1260\n"
     ]
    }
   ],
   "source": [
    "using HTTP\n",
    "using MLJ\n",
    "import DataFrames: DataFrame, describe\n",
    "using UrlDownload\n",
    "\n",
    "url = \"http://archive.ics.uci.edu/ml/machine-learning-databases/wine/wine.data\"\n",
    "header = [\"Class\", \"Alcool\", \"Malic acid\", \"Ash\", \"Alcalinity of ash\",\n",
    "          \"Magnesium\", \"Total phenols\", \"Flavanoids\",\n",
    "          \"Nonflavanoid phenols\", \"Proanthcyanins\", \"Color intensity\",\n",
    "          \"Hue\", \"OD280/OD315 of diluted wines\", \"Proline\"]\n",
    "data = urldownload(url, true, format=:CSV, header=header);"
   ]
  },
  {
   "cell_type": "code",
   "execution_count": 2,
   "metadata": {},
   "outputs": [
    {
     "data": {
      "text/html": [
       "<table class=\"data-frame\"><thead><tr><th></th><th>variable</th><th>mean</th><th>min</th><th>median</th><th>max</th><th>nunique</th><th>nmissing</th></tr><tr><th></th><th>Symbol</th><th>Float64</th><th>Real</th><th>Float64</th><th>Real</th><th>Nothing</th><th>Nothing</th></tr></thead><tbody><p>14 rows × 8 columns (omitted printing of 1 columns)</p><tr><th>1</th><td>Class</td><td>1.9382</td><td>1</td><td>2.0</td><td>3</td><td></td><td></td></tr><tr><th>2</th><td>Alcool</td><td>13.0006</td><td>11.03</td><td>13.05</td><td>14.83</td><td></td><td></td></tr><tr><th>3</th><td>Malic acid</td><td>2.33635</td><td>0.74</td><td>1.865</td><td>5.8</td><td></td><td></td></tr><tr><th>4</th><td>Ash</td><td>2.36652</td><td>1.36</td><td>2.36</td><td>3.23</td><td></td><td></td></tr><tr><th>5</th><td>Alcalinity of ash</td><td>19.4949</td><td>10.6</td><td>19.5</td><td>30.0</td><td></td><td></td></tr><tr><th>6</th><td>Magnesium</td><td>99.7416</td><td>70</td><td>98.0</td><td>162</td><td></td><td></td></tr><tr><th>7</th><td>Total phenols</td><td>2.29511</td><td>0.98</td><td>2.355</td><td>3.88</td><td></td><td></td></tr><tr><th>8</th><td>Flavanoids</td><td>2.02927</td><td>0.34</td><td>2.135</td><td>5.08</td><td></td><td></td></tr><tr><th>9</th><td>Nonflavanoid phenols</td><td>0.361854</td><td>0.13</td><td>0.34</td><td>0.66</td><td></td><td></td></tr><tr><th>10</th><td>Proanthcyanins</td><td>1.5909</td><td>0.41</td><td>1.555</td><td>3.58</td><td></td><td></td></tr><tr><th>11</th><td>Color intensity</td><td>5.05809</td><td>1.28</td><td>4.69</td><td>13.0</td><td></td><td></td></tr><tr><th>12</th><td>Hue</td><td>0.957449</td><td>0.48</td><td>0.965</td><td>1.71</td><td></td><td></td></tr><tr><th>13</th><td>OD280/OD315 of diluted wines</td><td>2.61169</td><td>1.27</td><td>2.78</td><td>4.0</td><td></td><td></td></tr><tr><th>14</th><td>Proline</td><td>746.893</td><td>278</td><td>673.5</td><td>1680</td><td></td><td></td></tr></tbody></table>"
      ],
      "text/latex": [
       "\\begin{tabular}{r|cccccccc}\n",
       "\t& variable & mean & min & median & max & nunique & nmissing & \\\\\n",
       "\t\\hline\n",
       "\t& Symbol & Float64 & Real & Float64 & Real & Nothing & Nothing & \\\\\n",
       "\t\\hline\n",
       "\t1 & Class & 1.9382 & 1 & 2.0 & 3 &  &  & $\\dots$ \\\\\n",
       "\t2 & Alcool & 13.0006 & 11.03 & 13.05 & 14.83 &  &  & $\\dots$ \\\\\n",
       "\t3 & Malic acid & 2.33635 & 0.74 & 1.865 & 5.8 &  &  & $\\dots$ \\\\\n",
       "\t4 & Ash & 2.36652 & 1.36 & 2.36 & 3.23 &  &  & $\\dots$ \\\\\n",
       "\t5 & Alcalinity of ash & 19.4949 & 10.6 & 19.5 & 30.0 &  &  & $\\dots$ \\\\\n",
       "\t6 & Magnesium & 99.7416 & 70 & 98.0 & 162 &  &  & $\\dots$ \\\\\n",
       "\t7 & Total phenols & 2.29511 & 0.98 & 2.355 & 3.88 &  &  & $\\dots$ \\\\\n",
       "\t8 & Flavanoids & 2.02927 & 0.34 & 2.135 & 5.08 &  &  & $\\dots$ \\\\\n",
       "\t9 & Nonflavanoid phenols & 0.361854 & 0.13 & 0.34 & 0.66 &  &  & $\\dots$ \\\\\n",
       "\t10 & Proanthcyanins & 1.5909 & 0.41 & 1.555 & 3.58 &  &  & $\\dots$ \\\\\n",
       "\t11 & Color intensity & 5.05809 & 1.28 & 4.69 & 13.0 &  &  & $\\dots$ \\\\\n",
       "\t12 & Hue & 0.957449 & 0.48 & 0.965 & 1.71 &  &  & $\\dots$ \\\\\n",
       "\t13 & OD280/OD315 of diluted wines & 2.61169 & 1.27 & 2.78 & 4.0 &  &  & $\\dots$ \\\\\n",
       "\t14 & Proline & 746.893 & 278 & 673.5 & 1680 &  &  & $\\dots$ \\\\\n",
       "\\end{tabular}\n"
      ],
      "text/plain": [
       "14×8 DataFrame. Omitted printing of 3 columns\n",
       "│ Row │ variable                     │ mean     │ min   │ median  │ max   │\n",
       "│     │ \u001b[90mSymbol\u001b[39m                       │ \u001b[90mFloat64\u001b[39m  │ \u001b[90mReal\u001b[39m  │ \u001b[90mFloat64\u001b[39m │ \u001b[90mReal\u001b[39m  │\n",
       "├─────┼──────────────────────────────┼──────────┼───────┼─────────┼───────┤\n",
       "│ 1   │ Class                        │ 1.9382   │ 1     │ 2.0     │ 3     │\n",
       "│ 2   │ Alcool                       │ 13.0006  │ 11.03 │ 13.05   │ 14.83 │\n",
       "│ 3   │ Malic acid                   │ 2.33635  │ 0.74  │ 1.865   │ 5.8   │\n",
       "│ 4   │ Ash                          │ 2.36652  │ 1.36  │ 2.36    │ 3.23  │\n",
       "│ 5   │ Alcalinity of ash            │ 19.4949  │ 10.6  │ 19.5    │ 30.0  │\n",
       "│ 6   │ Magnesium                    │ 99.7416  │ 70    │ 98.0    │ 162   │\n",
       "│ 7   │ Total phenols                │ 2.29511  │ 0.98  │ 2.355   │ 3.88  │\n",
       "│ 8   │ Flavanoids                   │ 2.02927  │ 0.34  │ 2.135   │ 5.08  │\n",
       "│ 9   │ Nonflavanoid phenols         │ 0.361854 │ 0.13  │ 0.34    │ 0.66  │\n",
       "│ 10  │ Proanthcyanins               │ 1.5909   │ 0.41  │ 1.555   │ 3.58  │\n",
       "│ 11  │ Color intensity              │ 5.05809  │ 1.28  │ 4.69    │ 13.0  │\n",
       "│ 12  │ Hue                          │ 0.957449 │ 0.48  │ 0.965   │ 1.71  │\n",
       "│ 13  │ OD280/OD315 of diluted wines │ 2.61169  │ 1.27  │ 2.78    │ 4.0   │\n",
       "│ 14  │ Proline                      │ 746.893  │ 278   │ 673.5   │ 1680  │"
      ]
     },
     "execution_count": 2,
     "metadata": {},
     "output_type": "execute_result"
    }
   ],
   "source": [
    "df = DataFrame(data)\n",
    "describe(df)"
   ]
  },
  {
   "cell_type": "code",
   "execution_count": 3,
   "metadata": {},
   "outputs": [],
   "source": [
    "y, X = unpack(df, ==(:Class), colname->true);"
   ]
  },
  {
   "cell_type": "code",
   "execution_count": 4,
   "metadata": {},
   "outputs": [
    {
     "data": {
      "text/plain": [
       "AbstractArray{Count,1}"
      ]
     },
     "execution_count": 4,
     "metadata": {},
     "output_type": "execute_result"
    }
   ],
   "source": [
    "scitype(y)"
   ]
  },
  {
   "cell_type": "markdown",
   "metadata": {},
   "source": [
    "# Differences\n",
    "\n",
    "Julia indexes at 1\n",
    "\n",
    "Julia instantiates a model, then makes a machine (Model + Data) then it creates a FIT object with the results\n",
    "\n",
    "Julia can run Python packages\n",
    "\n",
    "Julia uses \"end\" for conditionals\n",
    "\n",
    "Julia does not require \"return\" for functions\n",
    "\n",
    "Julia is not as developed. Julia error messages suck\n",
    "\n",
    "Julia is for sceintitic computing, not general computing \n",
    "\n",
    "Julia is static; data types are very important\n",
    "\n",
    "Not just data type, also scientific data type \n",
    "\n",
    "Julia is harder to install - lots of dependences = Juno (Julia IDE) is based on Atom. it is not the same as Anaconda - much harder to get started \n",
    "\n",
    "Model selection is controled by scitype! for both idenendent and dependent variables. \n",
    "\n",
    "In Julia, ' is not the same as \". ' is used for single characters only. \" is for strings.\n",
    "\n",
    "Julia is like python with numpy always on. \n",
    "\n",
    "Julia uses dot notation for matrix algebra\n",
    "\n",
    "warmup cost are high. "
   ]
  },
  {
   "cell_type": "code",
   "execution_count": 5,
   "metadata": {},
   "outputs": [],
   "source": [
    "yc = coerce(y, OrderedFactor);"
   ]
  },
  {
   "cell_type": "code",
   "execution_count": 6,
   "metadata": {},
   "outputs": [
    {
     "data": {
      "text/plain": [
       "Table{Union{AbstractArray{Continuous,1}, AbstractArray{Count,1}}}"
      ]
     },
     "execution_count": 6,
     "metadata": {},
     "output_type": "execute_result"
    }
   ],
   "source": [
    "scitype(X)"
   ]
  },
  {
   "cell_type": "code",
   "execution_count": 7,
   "metadata": {},
   "outputs": [
    {
     "data": {
      "text/plain": [
       "┌\u001b[0m──────────────────────────────\u001b[0m┬\u001b[0m─────────\u001b[0m┬\u001b[0m────────────\u001b[0m┐\u001b[0m\n",
       "│\u001b[0m\u001b[22m _.names                      \u001b[0m│\u001b[0m\u001b[22m _.types \u001b[0m│\u001b[0m\u001b[22m _.scitypes \u001b[0m│\u001b[0m\n",
       "├\u001b[0m──────────────────────────────\u001b[0m┼\u001b[0m─────────\u001b[0m┼\u001b[0m────────────\u001b[0m┤\u001b[0m\n",
       "│\u001b[0m Alcool                       \u001b[0m│\u001b[0m Float64 \u001b[0m│\u001b[0m Continuous \u001b[0m│\u001b[0m\n",
       "│\u001b[0m Malic acid                   \u001b[0m│\u001b[0m Float64 \u001b[0m│\u001b[0m Continuous \u001b[0m│\u001b[0m\n",
       "│\u001b[0m Ash                          \u001b[0m│\u001b[0m Float64 \u001b[0m│\u001b[0m Continuous \u001b[0m│\u001b[0m\n",
       "│\u001b[0m Alcalinity of ash            \u001b[0m│\u001b[0m Float64 \u001b[0m│\u001b[0m Continuous \u001b[0m│\u001b[0m\n",
       "│\u001b[0m Magnesium                    \u001b[0m│\u001b[0m Int64   \u001b[0m│\u001b[0m Count      \u001b[0m│\u001b[0m\n",
       "│\u001b[0m Total phenols                \u001b[0m│\u001b[0m Float64 \u001b[0m│\u001b[0m Continuous \u001b[0m│\u001b[0m\n",
       "│\u001b[0m Flavanoids                   \u001b[0m│\u001b[0m Float64 \u001b[0m│\u001b[0m Continuous \u001b[0m│\u001b[0m\n",
       "│\u001b[0m Nonflavanoid phenols         \u001b[0m│\u001b[0m Float64 \u001b[0m│\u001b[0m Continuous \u001b[0m│\u001b[0m\n",
       "│\u001b[0m Proanthcyanins               \u001b[0m│\u001b[0m Float64 \u001b[0m│\u001b[0m Continuous \u001b[0m│\u001b[0m\n",
       "│\u001b[0m Color intensity              \u001b[0m│\u001b[0m Float64 \u001b[0m│\u001b[0m Continuous \u001b[0m│\u001b[0m\n",
       "│\u001b[0m Hue                          \u001b[0m│\u001b[0m Float64 \u001b[0m│\u001b[0m Continuous \u001b[0m│\u001b[0m\n",
       "│\u001b[0m OD280/OD315 of diluted wines \u001b[0m│\u001b[0m Float64 \u001b[0m│\u001b[0m Continuous \u001b[0m│\u001b[0m\n",
       "│\u001b[0m Proline                      \u001b[0m│\u001b[0m Int64   \u001b[0m│\u001b[0m Count      \u001b[0m│\u001b[0m\n",
       "└\u001b[0m──────────────────────────────\u001b[0m┴\u001b[0m─────────\u001b[0m┴\u001b[0m────────────\u001b[0m┘\u001b[0m\n",
       "_.nrows = 178\n"
      ]
     },
     "execution_count": 7,
     "metadata": {},
     "output_type": "execute_result"
    }
   ],
   "source": [
    "schema(X)"
   ]
  },
  {
   "cell_type": "code",
   "execution_count": 8,
   "metadata": {},
   "outputs": [
    {
     "data": {
      "text/plain": [
       "5-element Array{Int64,1}:\n",
       " 1065\n",
       " 1050\n",
       " 1185\n",
       " 1480\n",
       "  735"
      ]
     },
     "execution_count": 8,
     "metadata": {},
     "output_type": "execute_result"
    }
   ],
   "source": [
    "X[1:5, :Proline]"
   ]
  },
  {
   "cell_type": "code",
   "execution_count": 9,
   "metadata": {},
   "outputs": [],
   "source": [
    "Xc = coerce(X, :Proline=>Continuous, :Magnesium=>Continuous);"
   ]
  },
  {
   "cell_type": "code",
   "execution_count": 10,
   "metadata": {},
   "outputs": [
    {
     "data": {
      "text/html": [
       "<table class=\"data-frame\"><thead><tr><th></th><th>variable</th><th>mean</th><th>std</th></tr><tr><th></th><th>Symbol</th><th>Float64</th><th>Float64</th></tr></thead><tbody><p>13 rows × 3 columns</p><tr><th>1</th><td>Alcool</td><td>13.0006</td><td>0.811827</td></tr><tr><th>2</th><td>Malic acid</td><td>2.33635</td><td>1.11715</td></tr><tr><th>3</th><td>Ash</td><td>2.36652</td><td>0.274344</td></tr><tr><th>4</th><td>Alcalinity of ash</td><td>19.4949</td><td>3.33956</td></tr><tr><th>5</th><td>Magnesium</td><td>99.7416</td><td>14.2825</td></tr><tr><th>6</th><td>Total phenols</td><td>2.29511</td><td>0.625851</td></tr><tr><th>7</th><td>Flavanoids</td><td>2.02927</td><td>0.998859</td></tr><tr><th>8</th><td>Nonflavanoid phenols</td><td>0.361854</td><td>0.124453</td></tr><tr><th>9</th><td>Proanthcyanins</td><td>1.5909</td><td>0.572359</td></tr><tr><th>10</th><td>Color intensity</td><td>5.05809</td><td>2.31829</td></tr><tr><th>11</th><td>Hue</td><td>0.957449</td><td>0.228572</td></tr><tr><th>12</th><td>OD280/OD315 of diluted wines</td><td>2.61169</td><td>0.70999</td></tr><tr><th>13</th><td>Proline</td><td>746.893</td><td>314.907</td></tr></tbody></table>"
      ],
      "text/latex": [
       "\\begin{tabular}{r|ccc}\n",
       "\t& variable & mean & std\\\\\n",
       "\t\\hline\n",
       "\t& Symbol & Float64 & Float64\\\\\n",
       "\t\\hline\n",
       "\t1 & Alcool & 13.0006 & 0.811827 \\\\\n",
       "\t2 & Malic acid & 2.33635 & 1.11715 \\\\\n",
       "\t3 & Ash & 2.36652 & 0.274344 \\\\\n",
       "\t4 & Alcalinity of ash & 19.4949 & 3.33956 \\\\\n",
       "\t5 & Magnesium & 99.7416 & 14.2825 \\\\\n",
       "\t6 & Total phenols & 2.29511 & 0.625851 \\\\\n",
       "\t7 & Flavanoids & 2.02927 & 0.998859 \\\\\n",
       "\t8 & Nonflavanoid phenols & 0.361854 & 0.124453 \\\\\n",
       "\t9 & Proanthcyanins & 1.5909 & 0.572359 \\\\\n",
       "\t10 & Color intensity & 5.05809 & 2.31829 \\\\\n",
       "\t11 & Hue & 0.957449 & 0.228572 \\\\\n",
       "\t12 & OD280/OD315 of diluted wines & 2.61169 & 0.70999 \\\\\n",
       "\t13 & Proline & 746.893 & 314.907 \\\\\n",
       "\\end{tabular}\n"
      ],
      "text/plain": [
       "13×3 DataFrame\n",
       "│ Row │ variable                     │ mean     │ std      │\n",
       "│     │ \u001b[90mSymbol\u001b[39m                       │ \u001b[90mFloat64\u001b[39m  │ \u001b[90mFloat64\u001b[39m  │\n",
       "├─────┼──────────────────────────────┼──────────┼──────────┤\n",
       "│ 1   │ Alcool                       │ 13.0006  │ 0.811827 │\n",
       "│ 2   │ Malic acid                   │ 2.33635  │ 1.11715  │\n",
       "│ 3   │ Ash                          │ 2.36652  │ 0.274344 │\n",
       "│ 4   │ Alcalinity of ash            │ 19.4949  │ 3.33956  │\n",
       "│ 5   │ Magnesium                    │ 99.7416  │ 14.2825  │\n",
       "│ 6   │ Total phenols                │ 2.29511  │ 0.625851 │\n",
       "│ 7   │ Flavanoids                   │ 2.02927  │ 0.998859 │\n",
       "│ 8   │ Nonflavanoid phenols         │ 0.361854 │ 0.124453 │\n",
       "│ 9   │ Proanthcyanins               │ 1.5909   │ 0.572359 │\n",
       "│ 10  │ Color intensity              │ 5.05809  │ 2.31829  │\n",
       "│ 11  │ Hue                          │ 0.957449 │ 0.228572 │\n",
       "│ 12  │ OD280/OD315 of diluted wines │ 2.61169  │ 0.70999  │\n",
       "│ 13  │ Proline                      │ 746.893  │ 314.907  │"
      ]
     },
     "execution_count": 10,
     "metadata": {},
     "output_type": "execute_result"
    }
   ],
   "source": [
    "describe(Xc, :mean, :std)"
   ]
  },
  {
   "cell_type": "code",
   "execution_count": 11,
   "metadata": {},
   "outputs": [],
   "source": [
    "@load KNNClassifier pkg=\"NearestNeighbors\"\n",
    "@load MultinomialClassifier pkg=\"MLJLinearModels\";\n",
    "\n",
    "@pipeline KnnPipe(std=Standardizer(), clf=KNNClassifier()) is_probabilistic=true\n",
    "@pipeline MnPipe(std=Standardizer(), clf=MultinomialClassifier()) is_probabilistic=true;"
   ]
  },
  {
   "cell_type": "code",
   "execution_count": 12,
   "metadata": {},
   "outputs": [],
   "source": [
    "train, test = partition(eachindex(yc), 0.8, shuffle=true, rng=111)\n",
    "Xtrain = selectrows(Xc, train)\n",
    "Xtest = selectrows(Xc, test)\n",
    "ytrain = selectrows(yc, train)\n",
    "ytest = selectrows(yc, test);"
   ]
  },
  {
   "cell_type": "code",
   "execution_count": 13,
   "metadata": {},
   "outputs": [
    {
     "data": {
      "text/plain": [
       "\u001b[34mMachine{MnPipe} @ 8…48\u001b[39m\n"
      ]
     },
     "execution_count": 13,
     "metadata": {},
     "output_type": "execute_result"
    }
   ],
   "source": [
    "knn = machine(KnnPipe(), Xtrain, ytrain)\n",
    "multi = machine(MnPipe(), Xtrain, ytrain)"
   ]
  },
  {
   "cell_type": "code",
   "execution_count": 14,
   "metadata": {},
   "outputs": [
    {
     "data": {
      "text/plain": [
       "0.0159"
      ]
     },
     "execution_count": 14,
     "metadata": {},
     "output_type": "execute_result"
    }
   ],
   "source": [
    "opts = (resampling=Holdout(fraction_train=0.9), measure=cross_entropy)\n",
    "res = evaluate!(knn; opts...)\n",
    "round(res.measurement[1], sigdigits=3)"
   ]
  },
  {
   "cell_type": "code",
   "execution_count": 15,
   "metadata": {},
   "outputs": [
    {
     "data": {
      "text/plain": [
       "0.0141"
      ]
     },
     "execution_count": 15,
     "metadata": {},
     "output_type": "execute_result"
    }
   ],
   "source": [
    "res = evaluate!(multi; opts...)\n",
    "round(res.measurement[1], sigdigits=3)"
   ]
  },
  {
   "cell_type": "code",
   "execution_count": 16,
   "metadata": {},
   "outputs": [
    {
     "name": "stdout",
     "output_type": "stream",
     "text": [
      "KNN mcr:  0.0352\n",
      "MNC mcr:  0.0\n"
     ]
    }
   ],
   "source": [
    "mcr_k = misclassification_rate(predict_mode(knn, Xtrain), ytrain)\n",
    "mcr_m = misclassification_rate(predict_mode(multi, Xtrain), ytrain)\n",
    "println(rpad(\"KNN mcr:\", 10), round(mcr_k, sigdigits=3))\n",
    "println(rpad(\"MNC mcr:\", 10), round(mcr_m, sigdigits=3))"
   ]
  },
  {
   "cell_type": "code",
   "execution_count": 17,
   "metadata": {},
   "outputs": [
    {
     "name": "stdout",
     "output_type": "stream",
     "text": [
      "  0.000006 seconds (1 allocation: 48 bytes)\n"
     ]
    },
    {
     "name": "stderr",
     "output_type": "stream",
     "text": [
      "┌ Info: Training \u001b[34mNodalMachine{Standardizer} @ 1…52\u001b[39m.\n",
      "└ @ MLJBase /Users/jnesnky/.juliapro/JuliaPro_v1.4.1-1/packages/MLJBase/O5b6j/src/machines.jl:187\n",
      "┌ Info: Training \u001b[34mNodalMachine{PCA} @ 1…98\u001b[39m.\n",
      "└ @ MLJBase /Users/jnesnky/.juliapro/JuliaPro_v1.4.1-1/packages/MLJBase/O5b6j/src/machines.jl:187\n"
     ]
    }
   ],
   "source": [
    "@time @load PCA\n",
    "\n",
    "pca = Xc |> Standardizer() |> PCA(maxoutdim=2)\n",
    "fit!(pca)\n",
    "W = pca(rows=train);"
   ]
  },
  {
   "cell_type": "code",
   "execution_count": 18,
   "metadata": {},
   "outputs": [
    {
     "name": "stderr",
     "output_type": "stream",
     "text": [
      "┌ Info: Precompiling PyPlot [d330b81b-6aea-500a-939a-2ce795aea3ee]\n",
      "└ @ Base loading.jl:1260\n",
      "ERROR: LoadError: LoadError: PyCall not properly installed. Please run Pkg.build(\"PyCall\")\n",
      "Stacktrace:\n",
      " [1] error(::String) at /Applications/JuliaPro-1.4.1-1.app/Contents/Resources/julia/Contents/Resources/julia/lib/julia/sys.dylib:?\n",
      " [2] top-level scope at /Users/jnesnky/.juliapro/JuliaPro_v1.4.1-1/packages/PyCall/zqDXB/src/startup.jl:44\n",
      " [3] include(::Module, ::String) at /Applications/JuliaPro-1.4.1-1.app/Contents/Resources/julia/Contents/Resources/julia/lib/julia/sys.dylib:?\n",
      " [4] include(::String) at /Users/jnesnky/.juliapro/JuliaPro_v1.4.1-1/packages/PyCall/zqDXB/src/PyCall.jl:1\n",
      " [5] top-level scope at /Users/jnesnky/.juliapro/JuliaPro_v1.4.1-1/packages/PyCall/zqDXB/src/PyCall.jl:34\n",
      " [6] include(::Module, ::String) at /Applications/JuliaPro-1.4.1-1.app/Contents/Resources/julia/Contents/Resources/julia/lib/julia/sys.dylib:?\n",
      " [7] top-level scope at none:2\n",
      " [8] eval at ./boot.jl:331 [inlined]\n",
      "in expression starting at /Users/jnesnky/.juliapro/JuliaPro_v1.4.1-1/packages/PyCall/zqDXB/src/startup.jl:41\n",
      "in expression starting at /Users/jnesnky/.juliapro/JuliaPro_v1.4.1-1/packages/PyCall/zqDXB/src/PyCall.jl:34\n",
      "ERROR: LoadError: Failed to precompile PyCall [438e738f-606a-5dbb-bf0a-cddfbfd45ab0] to /Users/jnesnky/.juliapro/JuliaPro_v1.4.1-1/compiled/v1.4/PyCall/GkzkC_WmDr6.ji.\n",
      "Stacktrace:\n",
      " [1] error(::String) at /Applications/JuliaPro-1.4.1-1.app/Contents/Resources/julia/Contents/Resources/julia/lib/julia/sys.dylib:?\n",
      " [2] compilecache(::Base.PkgId, ::String) at /Applications/JuliaPro-1.4.1-1.app/Contents/Resources/julia/Contents/Resources/julia/lib/julia/sys.dylib:?\n",
      " [3] _require(::Base.PkgId) at /Applications/JuliaPro-1.4.1-1.app/Contents/Resources/julia/Contents/Resources/julia/lib/julia/sys.dylib:?\n",
      " [4] require(::Base.PkgId) at /Applications/JuliaPro-1.4.1-1.app/Contents/Resources/julia/Contents/Resources/julia/lib/julia/sys.dylib:?\n",
      " [5] require(::Module, ::Symbol) at /Applications/JuliaPro-1.4.1-1.app/Contents/Resources/julia/Contents/Resources/julia/lib/julia/sys.dylib:?\n",
      " [6] include(::Module, ::String) at /Applications/JuliaPro-1.4.1-1.app/Contents/Resources/julia/Contents/Resources/julia/lib/julia/sys.dylib:?\n",
      " [7] top-level scope at none:2\n",
      " [8] eval at ./boot.jl:331 [inlined]\n",
      "in expression starting at /Users/jnesnky/.juliapro/JuliaPro_v1.4.1-1/packages/PyPlot/XHEG0/src/PyPlot.jl:4\n"
     ]
    },
    {
     "ename": "ErrorException",
     "evalue": "Failed to precompile PyPlot [d330b81b-6aea-500a-939a-2ce795aea3ee] to /Users/jnesnky/.juliapro/JuliaPro_v1.4.1-1/compiled/v1.4/PyPlot/oatAj_WmDr6.ji.",
     "output_type": "error",
     "traceback": [
      "Failed to precompile PyPlot [d330b81b-6aea-500a-939a-2ce795aea3ee] to /Users/jnesnky/.juliapro/JuliaPro_v1.4.1-1/compiled/v1.4/PyPlot/oatAj_WmDr6.ji.",
      "",
      "Stacktrace:",
      " [1] error(::String) at /Applications/JuliaPro-1.4.1-1.app/Contents/Resources/julia/Contents/Resources/julia/lib/julia/sys.dylib:?",
      " [2] compilecache(::Base.PkgId, ::String) at ./loading.jl:1272",
      " [3] _require(::Base.PkgId) at ./loading.jl:1029",
      " [4] require(::Base.PkgId) at ./loading.jl:927",
      " [5] require(::Module, ::Symbol) at ./loading.jl:922",
      " [6] top-level scope at In[18]:1"
     ]
    }
   ],
   "source": [
    "#### Does not work because PyPlot is not installed properly ####\n",
    "\n",
    "using PyPlot\n",
    "x1 = W.x1\n",
    "x2 = W.x2\n",
    "\n",
    "mask_1 = ytrain .== 1\n",
    "mask_2 = ytrain .== 2\n",
    "mask_3 = ytrain .== 3\n",
    "\n",
    "figure(figsize=(8, 6))\n",
    "plot(x1[mask_1], x2[mask_1], linestyle=\"none\", marker=\"o\", color=\"red\")\n",
    "plot(x1[mask_2], x2[mask_2], linestyle=\"none\", marker=\"o\", color=\"blue\")\n",
    "plot(x1[mask_3], x2[mask_3], linestyle=\"none\", marker=\"o\", color=\"magenta\")\n",
    "\n",
    "xlabel(\"PCA dimension 1\", fontsize=14)\n",
    "ylabel(\"PCA dimension 2\", fontsize=14)\n",
    "legend([\"Class 1\", \"Class 2\", \"Class 3\"], fontsize=12)\n",
    "xticks(fontsize=12)\n",
    "yticks(fontsize=12)"
   ]
  },
  {
   "cell_type": "code",
   "execution_count": 60,
   "metadata": {},
   "outputs": [
    {
     "name": "stdout",
     "output_type": "stream",
     "text": [
      "KNN mcr:  0.0833\n",
      "MNC mcr:  0.0556\n"
     ]
    }
   ],
   "source": [
    "perf_k = misclassification_rate(predict_mode(knn, Xtest), ytest)\n",
    "perf_m = misclassification_rate(predict_mode(multi, Xtest), ytest)\n",
    "println(rpad(\"KNN mcr:\", 10), round(perf_k, sigdigits=3))\n",
    "println(rpad(\"MNC mcr:\", 10), round(perf_m, sigdigits=3))"
   ]
  },
  {
   "cell_type": "code",
   "execution_count": null,
   "metadata": {},
   "outputs": [],
   "source": []
  }
 ],
 "metadata": {
  "kernelspec": {
   "display_name": "Julia 1.4.1",
   "language": "julia",
   "name": "julia-1.4"
  },
  "language_info": {
   "file_extension": ".jl",
   "mimetype": "application/julia",
   "name": "julia",
   "version": "1.4.1"
  },
  "toc": {
   "base_numbering": 1,
   "nav_menu": {},
   "number_sections": true,
   "sideBar": true,
   "skip_h1_title": false,
   "title_cell": "Table of Contents",
   "title_sidebar": "Contents",
   "toc_cell": false,
   "toc_position": {},
   "toc_section_display": true,
   "toc_window_display": false
  }
 },
 "nbformat": 4,
 "nbformat_minor": 2
}
