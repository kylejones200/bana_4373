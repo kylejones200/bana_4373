{
 "cells": [
  {
   "cell_type": "markdown",
   "metadata": {},
   "source": [
    "# Getting to know Pandas \n",
    "\n",
    "Pandas can be as simple or as complex as you need it to be. As an analysis toolkit, it's designed to be flexible and provide a wide range of functionality so that the same tool can be used for a variety of tasks. Because of this, it can be a little overwhelming at first. In this notebook we will introduce some of the essential pandas functionality and list a few best practices that will make learning pandas easier as you go.\n",
    "\n",
    "By now, you should be comfortable with:\n",
    "\n",
    "* Reading in a CSV file\n",
    "* Inspecting the first five rows of your data\n",
    "* Selecting columns / filtering rows\n",
    "* Creating new columns from existing columns\n",
    "\n",
    "\n",
    "## What's covered here\n",
    "\n",
    "In this notebook you will learn:\n",
    "\n",
    "* Basic indexing and working with dates\n",
    "* Reading data from multiple sources\n",
    "* Merging data (joins/vlookup)\n",
    "* Groupby, pivot_table, transform, melt\n",
    "\n",
    "Along the way, you will also learn pandas best practices in how to write your code. For further reading on mastering pandas syntax, [Minimally sufficient Pandas](https://medium.com/dunder-data/minimally-sufficient-pandas-a8e67f2a2428) is an excellent resource."
   ]
  },
  {
   "cell_type": "markdown",
   "metadata": {},
   "source": [
    "# Tutorial Overview\n",
    "This tutorial is divided into 4 parts:\n",
    "\n",
    "* Test your knowledge\n",
    "* Basic indexing\n",
    "* Slicing, merging, and grouping data\n",
    "* Exercises: Your turn!"
   ]
  },
  {
   "cell_type": "code",
   "execution_count": null,
   "metadata": {},
   "outputs": [],
   "source": [
    "import pandas as pd\n",
    "import numpy as np\n",
    "import matplotlib.pyplot as plt\n",
    "\n",
    "%matplotlib inline"
   ]
  },
  {
   "cell_type": "markdown",
   "metadata": {},
   "source": [
    "# Test your knowledge\n",
    "Before starting, try to complete the excercise below. \n",
    "\n",
    "Step 1: Choose a file to load"
   ]
  },
  {
   "cell_type": "code",
   "execution_count": null,
   "metadata": {},
   "outputs": [],
   "source": [
    "# we want to load the sales_fake.csv in the Support_Files directory\n",
    "directory = 'data/'\n",
    "## START YOUR CODE HERE\n",
    "file_name = 'sales_fake.csv'\n",
    "## END YOUR CODE HERE\n",
    "path = directory + file_name\n",
    "\n",
    "# check to make sure you have the right path\n",
    "print(path)"
   ]
  },
  {
   "cell_type": "markdown",
   "metadata": {},
   "source": [
    "Step 2: Read your file into a pandas data frame and view the top 5 rows"
   ]
  },
  {
   "cell_type": "code",
   "execution_count": null,
   "metadata": {},
   "outputs": [],
   "source": [
    "# remember, pandas has built-in methods for reading data. \n",
    "# If you can't remember which one to use, try pd.read<TAB> to view the available methods\n",
    "\n",
    "## START YOUR CODE HERE\n",
    "# read the csv\n",
    "df = \n",
    "# view the top 5 rows\n",
    "# remember, each dataframe also has built-in methods for working with the data.\n",
    "# if you can't remember which one to use, try df.<TAB> to view the available methods\n",
    "df\n",
    "## END YOUR CODE HERE"
   ]
  },
  {
   "cell_type": "markdown",
   "metadata": {},
   "source": [
    "# Basic Indexing\n",
    "\n",
    "Pandas dataframes are a collection of rows and columns, organized by an index. The index is analogous to row numbers in excel or primary keys in SQL. Understanding and working with indexes allows us to easily filter, group, and manipulate our data. Additionally, pandas understands different types of indexes. Most notably, pandas has a DatetimeIndex which makes working dates very easy.\n",
    "\n",
    "To begin, we will read in some data, inspect the index and set a new index. After that, we will explore the functionality with our new index"
   ]
  },
  {
   "cell_type": "code",
   "execution_count": null,
   "metadata": {},
   "outputs": [],
   "source": [
    "# use the same file from before\n",
    "df = pd.read_csv(path)"
   ]
  },
  {
   "cell_type": "code",
   "execution_count": null,
   "metadata": {},
   "outputs": [],
   "source": [
    "print(\"What type of index?\")\n",
    "print(\"-> \", df.index, \"\\n\")\n",
    "\n",
    "print(\"Inspect some values:\")\n",
    "print(\"-> \", df.index.values, \"\\n\")\n",
    "\n",
    "# show the first 5 rows\n",
    "df.head()"
   ]
  },
  {
   "cell_type": "markdown",
   "metadata": {},
   "source": [
    "If I know the index, I can pull rows by their index"
   ]
  },
  {
   "cell_type": "code",
   "execution_count": null,
   "metadata": {},
   "outputs": [],
   "source": [
    "print(df.loc[3])"
   ]
  },
  {
   "cell_type": "markdown",
   "metadata": {},
   "source": [
    "Or I can pull a whole range using `START:END` notation. This is known as \"Slicing\". For `[1:3]`, this means start index 1 and go up to 3 but don't include 3."
   ]
  },
  {
   "cell_type": "code",
   "execution_count": null,
   "metadata": {},
   "outputs": [],
   "source": [
    "print(df.loc[1:3])"
   ]
  },
  {
   "cell_type": "markdown",
   "metadata": {},
   "source": [
    "An integer index alone isn't particularly useful, so lets set a datetime index. Before we do that, we need to first understand data types in Python.\n",
    "\n",
    "Basic data types are `float`, `integer`, `string`. A more advanced data type that python understands is `datetimes`. This is similar to programs like excel which will automatically try to detect a date column and treat it differently than a string or an integer.\n",
    "\n",
    "Lets look at the data types in our current dataframe:"
   ]
  },
  {
   "cell_type": "code",
   "execution_count": null,
   "metadata": {},
   "outputs": [],
   "source": [
    "df.dtypes"
   ]
  },
  {
   "cell_type": "markdown",
   "metadata": {},
   "source": [
    "An object in python generally refers to a string or anything else that python wasn't able to automatically detect. As you can see, order_day and order_week are objects but we would like them to be dates."
   ]
  },
  {
   "cell_type": "code",
   "execution_count": null,
   "metadata": {},
   "outputs": [],
   "source": [
    "# make a list of columns you want to change\n",
    "columns_to_change = ['order_day']\n",
    "\n",
    "# go through each column and update its dtype using pandas built-in function\n",
    "for column in columns_to_change:\n",
    "    df[column] = pd.to_datetime(df[column])\n",
    "\n",
    "# check the output\n",
    "df.dtypes"
   ]
  },
  {
   "cell_type": "code",
   "execution_count": null,
   "metadata": {},
   "outputs": [],
   "source": [
    "# this gets me a whole new set of methods related to dates\n",
    "new_dt_column = df['order_day']\n",
    "df[\"day_name\"] = new_dt_column.dt.day_name()"
   ]
  },
  {
   "cell_type": "markdown",
   "metadata": {},
   "source": [
    "Now we have a column that pandas understands is a date. If you notice, our date column also matches our index, so instead of using the row index, let's index our data frame by date"
   ]
  },
  {
   "cell_type": "code",
   "execution_count": null,
   "metadata": {},
   "outputs": [],
   "source": [
    "df = df.set_index('order_day')\n",
    "df.head()"
   ]
  },
  {
   "cell_type": "markdown",
   "metadata": {},
   "source": [
    "Now, instead of a row number, we have a date for our index. Let's revisit our index methods"
   ]
  },
  {
   "cell_type": "code",
   "execution_count": null,
   "metadata": {},
   "outputs": [],
   "source": [
    "# get data for a particular date\n",
    "print(df.loc['2020-09-15'].head())\n",
    "# get data for a slice\n",
    "print(df.loc['2020-08-15':'2020-08-20'].head())\n",
    "# get data for a month\n",
    "print(df.loc['2020-07'].head())"
   ]
  },
  {
   "cell_type": "markdown",
   "metadata": {},
   "source": [
    "Now that our index knows about dates, we easily get some calendar view. For example, lets look at units by Month and Quarter:"
   ]
  },
  {
   "cell_type": "code",
   "execution_count": null,
   "metadata": {},
   "outputs": [],
   "source": [
    "print(df.resample('Q')['units'].sum()) \n",
    "print(df.resample('M')['units'].sum())"
   ]
  },
  {
   "cell_type": "markdown",
   "metadata": {},
   "source": [
    "# You try!\n",
    "\n",
    "Using the same dataframe above (you can make sure it's there by running all the cells up til now), complete the following questions to test your understanding:\n",
    "\n",
    "Step 1: create a new dataframe using the date index"
   ]
  },
  {
   "cell_type": "code",
   "execution_count": null,
   "metadata": {},
   "outputs": [],
   "source": [
    "# filter to data for November and December and save it to a new df called nov_to_dec\n",
    "nov_to_dec = \n",
    "\n",
    "nov_to_dec.head()"
   ]
  },
  {
   "cell_type": "markdown",
   "metadata": {},
   "source": [
    "Step 2: Re-index your new data frame by product_family"
   ]
  },
  {
   "cell_type": "code",
   "execution_count": null,
   "metadata": {},
   "outputs": [],
   "source": [
    "# hint: nov_to_dec.<TAB> will show you the available methods\n",
    "nov_to_dec_reindexed = \n",
    "\n",
    "nov_to_dec_reindexed.head()"
   ]
  },
  {
   "cell_type": "markdown",
   "metadata": {},
   "source": [
    "Step 3: Get the data only for \"Consumables\""
   ]
  },
  {
   "cell_type": "code",
   "execution_count": null,
   "metadata": {},
   "outputs": [],
   "source": [
    "# hint: remember, df.loc lets you grab data by index label\n",
    "nov_to_dec_consumables = \n",
    "\n",
    "nov_to_dec_consumables.head()"
   ]
  },
  {
   "cell_type": "markdown",
   "metadata": {},
   "source": [
    "Step 4: Sum units in nov_to_dec_consumables and divide it by all units in nov_to_dec. This tells you what percentage Consumables was of all product families in November and December"
   ]
  },
  {
   "cell_type": "code",
   "execution_count": null,
   "metadata": {},
   "outputs": [],
   "source": [
    "total_consumables_nov_to_dec = "
   ]
  },
  {
   "cell_type": "code",
   "execution_count": null,
   "metadata": {},
   "outputs": [],
   "source": [
    "# hint: we still have a dataframe indexed by date, nov_to_dec. Try using that\n",
    "total_units_nov_to_dec = "
   ]
  },
  {
   "cell_type": "code",
   "execution_count": null,
   "metadata": {},
   "outputs": [],
   "source": [
    "# run this cell\n",
    "\n",
    "print(\n",
    "    \"Consumables were {:.1%} of all units From November to December.\".format(\n",
    "        total_consumables_nov_to_dec / total_units_nov_to_dec\n",
    "    )\n",
    ")"
   ]
  },
  {
   "cell_type": "markdown",
   "metadata": {},
   "source": [
    "Normally, this isn't how you would go about getting an answer like this using pandas, but it does demonstrate how to easy it is to work with data using slices and indexes. We could have accomplished the same thing using special functions, filtering, or groupby's. Groupby is what we will cover next!"
   ]
  },
  {
   "cell_type": "markdown",
   "metadata": {},
   "source": [
    "# Groupby's and aggregations\n",
    "\n",
    "In the last example, we used resample to sum over units to see aggregations by different calendar dimensions. This highlights one of pandas most powerful features: **GroupBy**'s and **Aggregations**.\n",
    "\n",
    "GroupBy's provide a very flexible way to organize your data and Aggregations create summary views. GroupBy/Aggregate in pandas is much like pivot tables in excel, with lots of extras on top. Pandas also includes `pivot_table`, `melt`, and `transform` methods for shaping data.\n",
    "\n",
    "At a high level, a GroupBy is a logical way to split your data and then apply some operation to each split before returning the results. This is known as Split-Apply-Combine:"
   ]
  },
  {
   "cell_type": "markdown",
   "metadata": {},
   "source": [
    "To get the sum of units and OPS by each product_family, first create a groupby object (this is similar to a dataframe, except broken up into chunks as in the picture above).  Then, pick the columns you want to aggregate (units and ops in this case) and apply the .sum() method.  Pandas will automatically aggregate each product family \"chunk\" and combine them into a single dataframe.\n",
    "\n",
    "GroupBy is one of panda's most versatile features. Be sure to checkout panda's documentation on [Split-Apply-Combine](https://pandas.pydata.org/pandas-docs/stable/user_guide/groupby.html)"
   ]
  },
  {
   "cell_type": "code",
   "execution_count": null,
   "metadata": {},
   "outputs": [],
   "source": [
    "sales_by_product_family = df.groupby('product_family')[['units', 'ops']].sum()\n",
    "print(sales_by_product_family)"
   ]
  },
  {
   "cell_type": "markdown",
   "metadata": {},
   "source": [
    "In SQL, this is equivalent to:\n",
    "\n",
    "`SELECT\n",
    "    product_family\n",
    "    ,SUM(units) AS units\n",
    "    ,SUM(ops) AS ops\n",
    "FROM\n",
    "    df\n",
    "GROUP BY\n",
    "    product_family\n",
    ";`"
   ]
  },
  {
   "cell_type": "markdown",
   "metadata": {},
   "source": [
    "The above example involves using the .sum() method on a groupby object, but there is a more general approach that we recommend, using .aggregate().  In Python, and especially Pandas, there are many different ways to perform the same operation, and .aggregate() is a versatile method that can help narrow down your options."
   ]
  },
  {
   "cell_type": "code",
   "execution_count": null,
   "metadata": {},
   "outputs": [],
   "source": [
    "sales_by_product_family = df.groupby('product_family')[['units', 'ops']].aggregate('sum')\n",
    "print(sales_by_product_family)"
   ]
  },
  {
   "cell_type": "markdown",
   "metadata": {},
   "source": [
    "This is particularly helpful if you want to use different aggregate functions for different columns, which you'll see in the next couple of examples."
   ]
  },
  {
   "cell_type": "markdown",
   "metadata": {},
   "source": [
    "Next, let's look at gl units by quarter, using the .resample() method:"
   ]
  },
  {
   "cell_type": "code",
   "execution_count": null,
   "metadata": {},
   "outputs": [],
   "source": [
    "gl_by_qtr = df.groupby(['gl'])[['units','ops']].resample('Q').mean().head(20)\n",
    "gl_by_qtr"
   ]
  },
  {
   "cell_type": "markdown",
   "metadata": {},
   "source": [
    "Let's look at a more general case without using resample:"
   ]
  },
  {
   "cell_type": "code",
   "execution_count": null,
   "metadata": {},
   "outputs": [],
   "source": [
    "column_list = ['product_family']\n",
    "aggregations = {'units':['sum','mean'],'ops':['min','max', 'mean', 'std']}\n",
    "\n",
    "df.groupby(column_list).aggregate(aggregations)"
   ]
  },
  {
   "cell_type": "code",
   "execution_count": null,
   "metadata": {},
   "outputs": [],
   "source": [
    "def summarize_data(df, cols, aggs):\n",
    "    return df.groupby(cols).aggregate(aggs)\n",
    "\n",
    "column_list = ['product_family', df.index.quarter]\n",
    "aggregations = {'units':['min','max'],'ops':['sum','mean']}\n",
    "\n",
    "summarize_data(df, column_list, aggregations)"
   ]
  },
  {
   "cell_type": "markdown",
   "metadata": {},
   "source": [
    "# Pivot a dataframe using the .pivot_table() function"
   ]
  },
  {
   "cell_type": "markdown",
   "metadata": {},
   "source": [
    "Just as in Excel, we can pivot our data, which typically involves swapping rows with columns and applying an aggregate function:"
   ]
  },
  {
   "cell_type": "code",
   "execution_count": null,
   "metadata": {},
   "outputs": [],
   "source": [
    "df_pivot = pd.pivot_table(data=df, index=df.index, columns='product_family', values='units', aggfunc='sum')\n",
    "df_pivot.head()"
   ]
  },
  {
   "cell_type": "markdown",
   "metadata": {},
   "source": [
    "Here, the \"index\" argument determines the row grouping (just like \"rows\" in an Excel pivot table).  The \"columns\" and \"values\" arguments are also the same as their Excel counterparts."
   ]
  },
  {
   "cell_type": "markdown",
   "metadata": {},
   "source": [
    "Note: a dataframe's columns can have indices just like its rows can.  An unintended consequence of using .pivot_table() is that it adds an index to the new dataframe's columns, so we'll use the line below to undo this:"
   ]
  },
  {
   "cell_type": "code",
   "execution_count": null,
   "metadata": {},
   "outputs": [],
   "source": [
    "df_pivot.columns = list(df_pivot.columns)"
   ]
  },
  {
   "cell_type": "markdown",
   "metadata": {},
   "source": [
    "# Unpivot a dataframe using the .melt() function"
   ]
  },
  {
   "cell_type": "markdown",
   "metadata": {},
   "source": [
    "Now we'll essentially undo the pivot transformation we just applied. Reversing a pivot is difficult in Excel, but it's one line in Pandas with .melt(). This function doesn't work very well with indices, so first we'll reset the order_day index so it becomes a column again:"
   ]
  },
  {
   "cell_type": "code",
   "execution_count": null,
   "metadata": {},
   "outputs": [],
   "source": [
    "df_pivot = df_pivot.reset_index()\n",
    "df_pivot.head()"
   ]
  },
  {
   "cell_type": "code",
   "execution_count": null,
   "metadata": {},
   "outputs": [],
   "source": [
    "df_unpivot = pd.melt(frame=df_pivot, id_vars=['order_day'], value_name='units', var_name='product_family')\n",
    "\n",
    "# then set the index back to order_day\n",
    "df_unpivot = df_unpivot.set_index('order_day')\n",
    "\n",
    "df_unpivot.head()"
   ]
  },
  {
   "cell_type": "code",
   "execution_count": null,
   "metadata": {},
   "outputs": [],
   "source": [
    "df_unpivot.plot()"
   ]
  },
  {
   "cell_type": "code",
   "execution_count": null,
   "metadata": {},
   "outputs": [],
   "source": [
    "df.shape"
   ]
  },
  {
   "cell_type": "code",
   "execution_count": null,
   "metadata": {},
   "outputs": [],
   "source": [
    "df_unpivot.shape"
   ]
  },
  {
   "cell_type": "markdown",
   "metadata": {},
   "source": [
    "We have now unpivoted product_family so it is a column again.  Keep in mind we could have done this all in one line, including resetting and setting the index, but we broke it out into steps for illustration."
   ]
  },
  {
   "cell_type": "markdown",
   "metadata": {},
   "source": [
    "# Exercises: You try!"
   ]
  },
  {
   "cell_type": "markdown",
   "metadata": {},
   "source": [
    "1) What is the GL with the highest OPS? (_hint:_ you can use the df.groupby(cols).aggregate({} syntax)"
   ]
  },
  {
   "cell_type": "code",
   "execution_count": null,
   "metadata": {},
   "outputs": [],
   "source": []
  },
  {
   "cell_type": "markdown",
   "metadata": {},
   "source": [
    "2) What percentage of the Consumables OPS does Pantry have?"
   ]
  },
  {
   "cell_type": "code",
   "execution_count": null,
   "metadata": {},
   "outputs": [],
   "source": []
  },
  {
   "cell_type": "markdown",
   "metadata": {},
   "source": [
    "3) What date had the highest total OPS?"
   ]
  },
  {
   "cell_type": "code",
   "execution_count": null,
   "metadata": {},
   "outputs": [],
   "source": []
  },
  {
   "cell_type": "markdown",
   "metadata": {},
   "source": [
    "4) Create pivot table of OPS with gl as the row headers and order_day as the columns"
   ]
  },
  {
   "cell_type": "markdown",
   "metadata": {},
   "source": [
    "# Combining multiple data sets with pandas using Merge"
   ]
  },
  {
   "cell_type": "code",
   "execution_count": null,
   "metadata": {},
   "outputs": [],
   "source": [
    "import pandas as pd\n",
    "%matplotlib inline\n",
    "\n",
    "# define variables as much as possible\n",
    "# this makes your code more re-usable and readable\n",
    "# remember, a variable is where a value is stored, a string is the value\n",
    "# file_path: variable to tell me where to find the file\n",
    "# holidays_url: url for a list of holidays on github\n",
    "\n",
    "holidays_url = 'https://gist.githubusercontent.com/shivaas/4758439/raw/'\n"
   ]
  },
  {
   "cell_type": "code",
   "execution_count": null,
   "metadata": {},
   "outputs": [],
   "source": [
    "# show reading a file without a header\n",
    "holidays = pd.read_csv(holidays_url)\n",
    "holidays.head()"
   ]
  },
  {
   "cell_type": "code",
   "execution_count": null,
   "metadata": {},
   "outputs": [],
   "source": [
    "# passing in the file names \n",
    "holidays = pd.read_csv(holidays_url, header=None, names=['date','holiday'])\n",
    "\n",
    "# add in holiday date types\n",
    "holidays.head()\n",
    "holidays.dtypes"
   ]
  },
  {
   "cell_type": "code",
   "execution_count": null,
   "metadata": {},
   "outputs": [],
   "source": [
    "holidays['date'] = pd.to_datetime(holidays['date'])\n",
    "holidays = holidays.set_index('date')"
   ]
  },
  {
   "cell_type": "code",
   "execution_count": null,
   "metadata": {},
   "outputs": [],
   "source": [
    "sales_data_with_holidays = pd.merge(df, holidays, right_index=True, left_index=True, how='left')"
   ]
  },
  {
   "cell_type": "code",
   "execution_count": null,
   "metadata": {},
   "outputs": [],
   "source": [
    "# sales_data_with_holidays['holiday'] = sales_data_with_holidays['holiday'].fillna('No holiday')\n",
    "sales_data_with_holidays.columns"
   ]
  },
  {
   "cell_type": "code",
   "execution_count": null,
   "metadata": {},
   "outputs": [],
   "source": [
    "sales_data_with_holidays.head()"
   ]
  },
  {
   "cell_type": "code",
   "execution_count": null,
   "metadata": {},
   "outputs": [],
   "source": [
    "sales_data_with_holidays.head()"
   ]
  },
  {
   "cell_type": "markdown",
   "metadata": {},
   "source": [
    "# Extensions\n",
    "\n",
    "This section lists some ideas for extending the tutorial that you may wish to explore.\n",
    "* Describe three examples when Pandas would be better than using Excel directly.\n",
    "* Complete the next example that uses Pandas to clean a dataset. \n",
    "\n",
    "# Further Reading\n",
    "This section provides more resources on the topic if you are looking to go deeper.\n",
    "\n",
    "## Books\n",
    "* Python for Data Analysis, by William McKinney. http://shop.oreilly.com/product/0636920023784.do\n",
    "\n",
    "## APIs\n",
    "* Pandas. https://pandas.pydata.org/\n",
    "\n",
    "## Articles\n",
    "* Getting started with Pandas in 5 minutes, on Towards Data Science. https://medium.com/bhavaniravi/python-pandas-tutorial-92018da85a33\n",
    "* My Pandas Cheat Sheet, on Towards Data Science. https://towardsdatascience.com/my-python-pandas-cheat-sheet-746b11e44368\n",
    "    \n",
    "# Summary\n",
    "\n",
    "In this tutorial, you used Pandas for more advanced data analysis. Specifically, you learned:\n",
    "* Basic indexing and working with dates\n",
    "* Reading data from multiple sources\n",
    "* Merging data (joins/vlookup)\n",
    "* Groupby, pivot_table, transform, melt\n",
    "\n",
    "# Next\n",
    "\n",
    "In the next section, you will use Pandas to explore a dataset. "
   ]
  },
  {
   "cell_type": "code",
   "execution_count": null,
   "metadata": {},
   "outputs": [],
   "source": []
  }
 ],
 "metadata": {
  "kernelspec": {
   "display_name": "Python 3",
   "language": "python",
   "name": "python3"
  },
  "language_info": {
   "codemirror_mode": {
    "name": "ipython",
    "version": 3
   },
   "file_extension": ".py",
   "mimetype": "text/x-python",
   "name": "python",
   "nbconvert_exporter": "python",
   "pygments_lexer": "ipython3",
   "version": "3.8.8"
  },
  "toc": {
   "base_numbering": 1,
   "nav_menu": {},
   "number_sections": true,
   "sideBar": true,
   "skip_h1_title": false,
   "title_cell": "Table of Contents",
   "title_sidebar": "Contents",
   "toc_cell": false,
   "toc_position": {},
   "toc_section_display": true,
   "toc_window_display": false
  }
 },
 "nbformat": 4,
 "nbformat_minor": 4
}
