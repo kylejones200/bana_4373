{
 "cells": [
  {
   "cell_type": "markdown",
   "metadata": {},
   "source": [
    "# Getting to know Pandas \n",
    "\n",
    "Pandas can be as simple or as complex as you need it to be. As an analysis toolkit, it's designed to be flexible and provide a wide range of functionality so that the same tool can be used for a variety of tasks. Because of this, it can be a little overwhelming at first. In this notebook we will introduce some of the essential pandas functionality and list a few best practices that will make learning pandas easier as you go.\n",
    "\n",
    "By now, you should be comfortable with:\n",
    "\n",
    "* Reading in a CSV file\n",
    "* Inspecting the first five rows of your data\n",
    "* Selecting columns / filtering rows\n",
    "* Creating new columns from existing columns\n",
    "\n",
    "\n",
    "## What's covered here\n",
    "\n",
    "In this notebook you will learn:\n",
    "\n",
    "* Basic indexing and working with dates\n",
    "* Reading data from multiple sources\n",
    "* Merging data (joins/vlookup)\n",
    "* Groupby, pivot_table, transform, melt\n",
    "\n",
    "Along the way, you will also learn pandas best practices in how to write your code. For further reading on mastering pandas syntax, [Minimally sufficient Pandas](https://medium.com/dunder-data/minimally-sufficient-pandas-a8e67f2a2428) is an excellent resource."
   ]
  },
  {
   "cell_type": "markdown",
   "metadata": {},
   "source": [
    "# Tutorial Overview\n",
    "This tutorial is divided into 4 parts:\n",
    "\n",
    "* Test your knowledge\n",
    "* Basic indexing\n",
    "* Slicing, merging, and grouping data\n",
    "* Exercises: Your turn!"
   ]
  },
  {
   "cell_type": "code",
   "execution_count": 12,
   "metadata": {},
   "outputs": [],
   "source": [
    "import pandas as pd\n",
    "import numpy as np\n",
    "import matplotlib.pyplot as plt\n",
    "\n",
    "%matplotlib inline"
   ]
  },
  {
   "cell_type": "markdown",
   "metadata": {},
   "source": [
    "# Test your knowledge\n",
    "Before starting, try to complete the excercise below. \n",
    "\n",
    "Step 1: Choose a file to load"
   ]
  },
  {
   "cell_type": "code",
   "execution_count": 13,
   "metadata": {},
   "outputs": [
    {
     "name": "stdout",
     "output_type": "stream",
     "text": [
      "data/sales_fake.csv\n"
     ]
    }
   ],
   "source": [
    "# we want to load the sales_fake.csv in the Support_Files directory\n",
    "directory = 'data/'\n",
    "## START YOUR CODE HERE\n",
    "file_name = 'sales_fake.csv'\n",
    "## END YOUR CODE HERE\n",
    "path = directory + file_name\n",
    "\n",
    "# check to make sure you have the right path\n",
    "print(path)"
   ]
  },
  {
   "cell_type": "markdown",
   "metadata": {},
   "source": [
    "Step 2: Read your file into a pandas data frame and view the top 5 rows"
   ]
  },
  {
   "cell_type": "code",
   "execution_count": null,
   "metadata": {},
   "outputs": [],
   "source": [
    "# remember, pandas has built-in methods for reading data. \n",
    "# If you can't remember which one to use, try pd.read<TAB> to view the available methods\n",
    "\n",
    "## START YOUR CODE HERE\n",
    "# read the csv\n",
    "df = \n",
    "# view the top 5 rows\n",
    "# remember, each dataframe also has built-in methods for working with the data.\n",
    "# if you can't remember which one to use, try df.<TAB> to view the available methods\n",
    "df\n",
    "## END YOUR CODE HERE"
   ]
  },
  {
   "cell_type": "markdown",
   "metadata": {},
   "source": [
    "# Basic Indexing\n",
    "\n",
    "Pandas dataframes are a collection of rows and columns, organized by an index. The index is analogous to row numbers in excel or primary keys in SQL. Understanding and working with indexes allows us to easily filter, group, and manipulate our data. Additionally, pandas understands different types of indexes. Most notably, pandas has a DatetimeIndex which makes working dates very easy.\n",
    "\n",
    "To begin, we will read in some data, inspect the index and set a new index. After that, we will explore the functionality with our new index"
   ]
  },
  {
   "cell_type": "code",
   "execution_count": 14,
   "metadata": {},
   "outputs": [],
   "source": [
    "# use the same file from before\n",
    "df = pd.read_csv(path)"
   ]
  },
  {
   "cell_type": "code",
   "execution_count": 15,
   "metadata": {},
   "outputs": [
    {
     "name": "stdout",
     "output_type": "stream",
     "text": [
      "What type of index?\n",
      "->  RangeIndex(start=0, stop=20605, step=1) \n",
      "\n",
      "Inspect some values:\n",
      "->  [    0     1     2 ... 20602 20603 20604] \n",
      "\n"
     ]
    },
    {
     "data": {
      "text/html": [
       "<div>\n",
       "<style scoped>\n",
       "    .dataframe tbody tr th:only-of-type {\n",
       "        vertical-align: middle;\n",
       "    }\n",
       "\n",
       "    .dataframe tbody tr th {\n",
       "        vertical-align: top;\n",
       "    }\n",
       "\n",
       "    .dataframe thead th {\n",
       "        text-align: right;\n",
       "    }\n",
       "</style>\n",
       "<table border=\"1\" class=\"dataframe\">\n",
       "  <thead>\n",
       "    <tr style=\"text-align: right;\">\n",
       "      <th></th>\n",
       "      <th>marketplace_id</th>\n",
       "      <th>order_day</th>\n",
       "      <th>order_week</th>\n",
       "      <th>gl</th>\n",
       "      <th>product_family</th>\n",
       "      <th>units</th>\n",
       "      <th>ops</th>\n",
       "    </tr>\n",
       "  </thead>\n",
       "  <tbody>\n",
       "    <tr>\n",
       "      <th>0</th>\n",
       "      <td>1</td>\n",
       "      <td>2017-01-01</td>\n",
       "      <td>2017-01-07</td>\n",
       "      <td>Amazon_Pantry</td>\n",
       "      <td>Consumables</td>\n",
       "      <td>9460.696331</td>\n",
       "      <td>46576.224274</td>\n",
       "    </tr>\n",
       "    <tr>\n",
       "      <th>1</th>\n",
       "      <td>1</td>\n",
       "      <td>2017-01-02</td>\n",
       "      <td>2017-01-07</td>\n",
       "      <td>Amazon_Pantry</td>\n",
       "      <td>Consumables</td>\n",
       "      <td>13828.318507</td>\n",
       "      <td>61148.434296</td>\n",
       "    </tr>\n",
       "    <tr>\n",
       "      <th>2</th>\n",
       "      <td>1</td>\n",
       "      <td>2017-01-03</td>\n",
       "      <td>2017-01-07</td>\n",
       "      <td>Amazon_Pantry</td>\n",
       "      <td>Consumables</td>\n",
       "      <td>12308.348366</td>\n",
       "      <td>59960.632711</td>\n",
       "    </tr>\n",
       "    <tr>\n",
       "      <th>3</th>\n",
       "      <td>1</td>\n",
       "      <td>2017-01-04</td>\n",
       "      <td>2017-01-07</td>\n",
       "      <td>Amazon_Pantry</td>\n",
       "      <td>Consumables</td>\n",
       "      <td>11912.807101</td>\n",
       "      <td>58991.544654</td>\n",
       "    </tr>\n",
       "    <tr>\n",
       "      <th>4</th>\n",
       "      <td>1</td>\n",
       "      <td>2017-01-05</td>\n",
       "      <td>2017-01-07</td>\n",
       "      <td>Amazon_Pantry</td>\n",
       "      <td>Consumables</td>\n",
       "      <td>10817.883315</td>\n",
       "      <td>54032.017658</td>\n",
       "    </tr>\n",
       "  </tbody>\n",
       "</table>\n",
       "</div>"
      ],
      "text/plain": [
       "   marketplace_id   order_day  order_week             gl product_family  \\\n",
       "0               1  2017-01-01  2017-01-07  Amazon_Pantry    Consumables   \n",
       "1               1  2017-01-02  2017-01-07  Amazon_Pantry    Consumables   \n",
       "2               1  2017-01-03  2017-01-07  Amazon_Pantry    Consumables   \n",
       "3               1  2017-01-04  2017-01-07  Amazon_Pantry    Consumables   \n",
       "4               1  2017-01-05  2017-01-07  Amazon_Pantry    Consumables   \n",
       "\n",
       "          units           ops  \n",
       "0   9460.696331  46576.224274  \n",
       "1  13828.318507  61148.434296  \n",
       "2  12308.348366  59960.632711  \n",
       "3  11912.807101  58991.544654  \n",
       "4  10817.883315  54032.017658  "
      ]
     },
     "execution_count": 15,
     "metadata": {},
     "output_type": "execute_result"
    }
   ],
   "source": [
    "print(\"What type of index?\")\n",
    "print(\"-> \", df.index, \"\\n\")\n",
    "\n",
    "print(\"Inspect some values:\")\n",
    "print(\"-> \", df.index.values, \"\\n\")\n",
    "\n",
    "# show the first 5 rows\n",
    "df.head()"
   ]
  },
  {
   "cell_type": "markdown",
   "metadata": {},
   "source": [
    "If I know the index, I can pull rows by their index"
   ]
  },
  {
   "cell_type": "code",
   "execution_count": 16,
   "metadata": {},
   "outputs": [
    {
     "name": "stdout",
     "output_type": "stream",
     "text": [
      "marketplace_id                1\n",
      "order_day            2017-01-04\n",
      "order_week           2017-01-07\n",
      "gl                Amazon_Pantry\n",
      "product_family      Consumables\n",
      "units              11912.807101\n",
      "ops                58991.544654\n",
      "Name: 3, dtype: object\n"
     ]
    }
   ],
   "source": [
    "print(df.loc[3])"
   ]
  },
  {
   "cell_type": "markdown",
   "metadata": {},
   "source": [
    "Or I can pull a whole range using `START:END` notation. This is known as \"Slicing\". For `[1:3]`, this means start index 1 and go up to 3 but don't include 3."
   ]
  },
  {
   "cell_type": "code",
   "execution_count": 17,
   "metadata": {},
   "outputs": [
    {
     "name": "stdout",
     "output_type": "stream",
     "text": [
      "   marketplace_id   order_day  order_week             gl product_family  \\\n",
      "1               1  2017-01-02  2017-01-07  Amazon_Pantry    Consumables   \n",
      "2               1  2017-01-03  2017-01-07  Amazon_Pantry    Consumables   \n",
      "3               1  2017-01-04  2017-01-07  Amazon_Pantry    Consumables   \n",
      "\n",
      "          units           ops  \n",
      "1  13828.318507  61148.434296  \n",
      "2  12308.348366  59960.632711  \n",
      "3  11912.807101  58991.544654  \n"
     ]
    }
   ],
   "source": [
    "print(df.loc[1:3])"
   ]
  },
  {
   "cell_type": "markdown",
   "metadata": {},
   "source": [
    "An integer index alone isn't particularly useful, so lets set a datetime index. Before we do that, we need to first understand data types in Python.\n",
    "\n",
    "Basic data types are `float`, `integer`, `string`. A more advanced data type that python understands is `datetimes`. This is similar to programs like excel which will automatically try to detect a date column and treat it differently than a string or an integer.\n",
    "\n",
    "Lets look at the data types in our current dataframe:"
   ]
  },
  {
   "cell_type": "code",
   "execution_count": 18,
   "metadata": {},
   "outputs": [
    {
     "data": {
      "text/plain": [
       "marketplace_id      int64\n",
       "order_day          object\n",
       "order_week         object\n",
       "gl                 object\n",
       "product_family     object\n",
       "units             float64\n",
       "ops               float64\n",
       "dtype: object"
      ]
     },
     "execution_count": 18,
     "metadata": {},
     "output_type": "execute_result"
    }
   ],
   "source": [
    "df.dtypes"
   ]
  },
  {
   "cell_type": "markdown",
   "metadata": {},
   "source": [
    "An object in python generally refers to a string or anything else that python wasn't able to automatically detect. As you can see, order_day and order_week are objects but we would like them to be dates."
   ]
  },
  {
   "cell_type": "code",
   "execution_count": 19,
   "metadata": {},
   "outputs": [
    {
     "data": {
      "text/plain": [
       "marketplace_id             int64\n",
       "order_day         datetime64[ns]\n",
       "order_week        datetime64[ns]\n",
       "gl                        object\n",
       "product_family            object\n",
       "units                    float64\n",
       "ops                      float64\n",
       "dtype: object"
      ]
     },
     "execution_count": 19,
     "metadata": {},
     "output_type": "execute_result"
    }
   ],
   "source": [
    "# make a list of columns you want to change\n",
    "columns_to_change = ['order_day', 'order_week']\n",
    "\n",
    "# go through each column and update its dtype using pandas built-in function\n",
    "for column in columns_to_change:\n",
    "    df[column] = pd.to_datetime(df[column])\n",
    "\n",
    "# check the output\n",
    "df.dtypes"
   ]
  },
  {
   "cell_type": "code",
   "execution_count": 20,
   "metadata": {},
   "outputs": [],
   "source": [
    "# this gets me a whole new set of methods related to dates\n",
    "new_dt_column = df['order_day']\n",
    "df[\"day_name\"] = new_dt_column.dt.day_name()"
   ]
  },
  {
   "cell_type": "markdown",
   "metadata": {},
   "source": [
    "Now we have a column that pandas understands is a date. If you notice, our date column also matches our index, so instead of using the row index, let's index our data frame by date"
   ]
  },
  {
   "cell_type": "code",
   "execution_count": 21,
   "metadata": {},
   "outputs": [
    {
     "data": {
      "text/html": [
       "<div>\n",
       "<style scoped>\n",
       "    .dataframe tbody tr th:only-of-type {\n",
       "        vertical-align: middle;\n",
       "    }\n",
       "\n",
       "    .dataframe tbody tr th {\n",
       "        vertical-align: top;\n",
       "    }\n",
       "\n",
       "    .dataframe thead th {\n",
       "        text-align: right;\n",
       "    }\n",
       "</style>\n",
       "<table border=\"1\" class=\"dataframe\">\n",
       "  <thead>\n",
       "    <tr style=\"text-align: right;\">\n",
       "      <th></th>\n",
       "      <th>marketplace_id</th>\n",
       "      <th>order_week</th>\n",
       "      <th>gl</th>\n",
       "      <th>product_family</th>\n",
       "      <th>units</th>\n",
       "      <th>ops</th>\n",
       "      <th>day_name</th>\n",
       "    </tr>\n",
       "    <tr>\n",
       "      <th>order_day</th>\n",
       "      <th></th>\n",
       "      <th></th>\n",
       "      <th></th>\n",
       "      <th></th>\n",
       "      <th></th>\n",
       "      <th></th>\n",
       "      <th></th>\n",
       "    </tr>\n",
       "  </thead>\n",
       "  <tbody>\n",
       "    <tr>\n",
       "      <th>2017-01-01</th>\n",
       "      <td>1</td>\n",
       "      <td>2017-01-07</td>\n",
       "      <td>Amazon_Pantry</td>\n",
       "      <td>Consumables</td>\n",
       "      <td>9460.696331</td>\n",
       "      <td>46576.224274</td>\n",
       "      <td>Sunday</td>\n",
       "    </tr>\n",
       "    <tr>\n",
       "      <th>2017-01-02</th>\n",
       "      <td>1</td>\n",
       "      <td>2017-01-07</td>\n",
       "      <td>Amazon_Pantry</td>\n",
       "      <td>Consumables</td>\n",
       "      <td>13828.318507</td>\n",
       "      <td>61148.434296</td>\n",
       "      <td>Monday</td>\n",
       "    </tr>\n",
       "    <tr>\n",
       "      <th>2017-01-03</th>\n",
       "      <td>1</td>\n",
       "      <td>2017-01-07</td>\n",
       "      <td>Amazon_Pantry</td>\n",
       "      <td>Consumables</td>\n",
       "      <td>12308.348366</td>\n",
       "      <td>59960.632711</td>\n",
       "      <td>Tuesday</td>\n",
       "    </tr>\n",
       "    <tr>\n",
       "      <th>2017-01-04</th>\n",
       "      <td>1</td>\n",
       "      <td>2017-01-07</td>\n",
       "      <td>Amazon_Pantry</td>\n",
       "      <td>Consumables</td>\n",
       "      <td>11912.807101</td>\n",
       "      <td>58991.544654</td>\n",
       "      <td>Wednesday</td>\n",
       "    </tr>\n",
       "    <tr>\n",
       "      <th>2017-01-05</th>\n",
       "      <td>1</td>\n",
       "      <td>2017-01-07</td>\n",
       "      <td>Amazon_Pantry</td>\n",
       "      <td>Consumables</td>\n",
       "      <td>10817.883315</td>\n",
       "      <td>54032.017658</td>\n",
       "      <td>Thursday</td>\n",
       "    </tr>\n",
       "  </tbody>\n",
       "</table>\n",
       "</div>"
      ],
      "text/plain": [
       "            marketplace_id order_week             gl product_family  \\\n",
       "order_day                                                             \n",
       "2017-01-01               1 2017-01-07  Amazon_Pantry    Consumables   \n",
       "2017-01-02               1 2017-01-07  Amazon_Pantry    Consumables   \n",
       "2017-01-03               1 2017-01-07  Amazon_Pantry    Consumables   \n",
       "2017-01-04               1 2017-01-07  Amazon_Pantry    Consumables   \n",
       "2017-01-05               1 2017-01-07  Amazon_Pantry    Consumables   \n",
       "\n",
       "                   units           ops   day_name  \n",
       "order_day                                          \n",
       "2017-01-01   9460.696331  46576.224274     Sunday  \n",
       "2017-01-02  13828.318507  61148.434296     Monday  \n",
       "2017-01-03  12308.348366  59960.632711    Tuesday  \n",
       "2017-01-04  11912.807101  58991.544654  Wednesday  \n",
       "2017-01-05  10817.883315  54032.017658   Thursday  "
      ]
     },
     "execution_count": 21,
     "metadata": {},
     "output_type": "execute_result"
    }
   ],
   "source": [
    "df = df.set_index('order_day')\n",
    "df.head()"
   ]
  },
  {
   "cell_type": "markdown",
   "metadata": {},
   "source": [
    "Now, instead of a row number, we have a date for our index. Let's revisit our index methods"
   ]
  },
  {
   "cell_type": "code",
   "execution_count": 22,
   "metadata": {},
   "outputs": [
    {
     "name": "stdout",
     "output_type": "stream",
     "text": [
      "            marketplace_id order_week                      gl product_family  \\\n",
      "order_day                                                                      \n",
      "2017-01-15               1 2017-01-21           Amazon_Pantry    Consumables   \n",
      "2017-01-15               1 2017-01-21                 Apparel      Softlines   \n",
      "2017-01-15               1 2017-01-21                     Art      Hardlines   \n",
      "2017-01-15               1 2017-01-21  Art and Craft Supplies      Hardlines   \n",
      "2017-01-15               1 2017-01-21              Automotive      Hardlines   \n",
      "\n",
      "                   units            ops day_name  \n",
      "order_day                                         \n",
      "2017-01-15  12174.306544   57837.266537   Sunday  \n",
      "2017-01-15  32991.826769  665125.652486   Sunday  \n",
      "2017-01-15      0.601876     115.510917   Sunday  \n",
      "2017-01-15    183.130444    2103.539509   Sunday  \n",
      "2017-01-15  10286.426235  316251.803210   Sunday  \n",
      "            marketplace_id order_week             gl product_family  \\\n",
      "order_day                                                             \n",
      "2017-02-15               1 2017-02-18  Amazon_Pantry    Consumables   \n",
      "2017-02-16               1 2017-02-18  Amazon_Pantry    Consumables   \n",
      "2017-02-17               1 2017-02-18  Amazon_Pantry    Consumables   \n",
      "2017-02-18               1 2017-02-18  Amazon_Pantry    Consumables   \n",
      "2017-02-19               1 2017-02-25  Amazon_Pantry    Consumables   \n",
      "\n",
      "                   units           ops   day_name  \n",
      "order_day                                          \n",
      "2017-02-15  10982.606964  55494.591548  Wednesday  \n",
      "2017-02-16   9354.823004  44892.387528   Thursday  \n",
      "2017-02-17   9113.475067  42946.939243     Friday  \n",
      "2017-02-18   9778.683842  44941.324668   Saturday  \n",
      "2017-02-19  11208.681505  52897.504183     Sunday  \n",
      "            marketplace_id order_week             gl product_family  \\\n",
      "order_day                                                             \n",
      "2017-07-01               1 2017-07-01  Amazon_Pantry    Consumables   \n",
      "2017-07-02               1 2017-07-08  Amazon_Pantry    Consumables   \n",
      "2017-07-03               1 2017-07-08  Amazon_Pantry    Consumables   \n",
      "2017-07-04               1 2017-07-08  Amazon_Pantry    Consumables   \n",
      "2017-07-05               1 2017-07-08  Amazon_Pantry    Consumables   \n",
      "\n",
      "                   units           ops   day_name  \n",
      "order_day                                          \n",
      "2017-07-01   8396.918460  42775.732391   Saturday  \n",
      "2017-07-02   9188.083025  45335.083949     Sunday  \n",
      "2017-07-03   8920.569081  44754.698657     Monday  \n",
      "2017-07-04   9013.543224  42904.258757    Tuesday  \n",
      "2017-07-05  11078.478506  54626.674158  Wednesday  \n"
     ]
    }
   ],
   "source": [
    "# get data for a particular date\n",
    "print(df.loc['2017-01-15'].head())\n",
    "# get data for a slice\n",
    "print(df.loc['2017-02-15':'2017-02-20'].head())\n",
    "# get data for a month\n",
    "print(df.loc['2017-07'].head())"
   ]
  },
  {
   "cell_type": "markdown",
   "metadata": {},
   "source": [
    "Now that our index knows about dates, we easily get some calendar view. For example, lets look at units by Month and Quarter:"
   ]
  },
  {
   "cell_type": "code",
   "execution_count": 23,
   "metadata": {},
   "outputs": [
    {
     "name": "stdout",
     "output_type": "stream",
     "text": [
      "order_day\n",
      "2017-03-31    4.244779e+07\n",
      "2017-06-30    4.499966e+07\n",
      "2017-09-30    4.924478e+07\n",
      "2017-12-31    6.415063e+07\n",
      "Freq: Q-DEC, Name: units, dtype: float64\n",
      "order_day\n",
      "2017-01-31    1.468871e+07\n",
      "2017-02-28    1.296491e+07\n",
      "2017-03-31    1.479417e+07\n",
      "2017-04-30    1.441700e+07\n",
      "2017-05-31    1.550550e+07\n",
      "2017-06-30    1.507717e+07\n",
      "2017-07-31    1.665600e+07\n",
      "2017-08-31    1.700644e+07\n",
      "2017-09-30    1.558234e+07\n",
      "2017-10-31    1.689117e+07\n",
      "2017-11-30    2.105286e+07\n",
      "2017-12-31    2.620659e+07\n",
      "Freq: M, Name: units, dtype: float64\n"
     ]
    }
   ],
   "source": [
    "print(df.resample('Q')['units'].sum()) \n",
    "print(df.resample('M')['units'].sum())"
   ]
  },
  {
   "cell_type": "markdown",
   "metadata": {},
   "source": [
    "# You try!\n",
    "\n",
    "Using the same dataframe above (you can make sure it's there by running all the cells up til now), complete the following questions to test your understanding:\n",
    "\n",
    "Step 1: create a new dataframe using the date index"
   ]
  },
  {
   "cell_type": "code",
   "execution_count": null,
   "metadata": {},
   "outputs": [],
   "source": [
    "# filter to data for November and December and save it to a new df called nov_to_dec\n",
    "nov_to_dec = \n",
    "\n",
    "nov_to_dec.head()"
   ]
  },
  {
   "cell_type": "markdown",
   "metadata": {},
   "source": [
    "Step 2: Re-index your new data frame by product_family"
   ]
  },
  {
   "cell_type": "code",
   "execution_count": null,
   "metadata": {},
   "outputs": [],
   "source": [
    "# hint: nov_to_dec.<TAB> will show you the available methods\n",
    "nov_to_dec_reindexed = \n",
    "\n",
    "nov_to_dec_reindexed.head()"
   ]
  },
  {
   "cell_type": "markdown",
   "metadata": {},
   "source": [
    "Step 3: Get the data only for \"Consumables\""
   ]
  },
  {
   "cell_type": "code",
   "execution_count": null,
   "metadata": {},
   "outputs": [],
   "source": [
    "# hint: remember, df.loc lets you grab data by index label\n",
    "nov_to_dec_consumables = \n",
    "\n",
    "nov_to_dec_consumables.head()"
   ]
  },
  {
   "cell_type": "markdown",
   "metadata": {},
   "source": [
    "Step 4: Sum units in nov_to_dec_consumables and divide it by all units in nov_to_dec. This tells you what percentage Consumables was of all product families in November and December"
   ]
  },
  {
   "cell_type": "code",
   "execution_count": null,
   "metadata": {},
   "outputs": [],
   "source": [
    "total_consumables_nov_to_dec = "
   ]
  },
  {
   "cell_type": "code",
   "execution_count": null,
   "metadata": {},
   "outputs": [],
   "source": [
    "# hint: we still have a dataframe indexed by date, nov_to_dec. Try using that\n",
    "total_units_nov_to_dec = "
   ]
  },
  {
   "cell_type": "code",
   "execution_count": null,
   "metadata": {},
   "outputs": [],
   "source": [
    "# run this cell\n",
    "\n",
    "print(\n",
    "    \"Consumables were {:.1%} of all units From November to December.\".format(\n",
    "        total_consumables_nov_to_dec / total_units_nov_to_dec\n",
    "    )\n",
    ")"
   ]
  },
  {
   "cell_type": "markdown",
   "metadata": {},
   "source": [
    "Normally, this isn't how you would go about getting an answer like this using pandas, but it does demonstrate how to easy it is to work with data using slices and indexes. We could have accomplished the same thing using special functions, filtering, or groupby's. Groupby is what we will cover next!"
   ]
  },
  {
   "cell_type": "markdown",
   "metadata": {},
   "source": [
    "# Groupby's and aggregations\n",
    "\n",
    "In the last example, we used resample to sum over units to see aggregations by different calendar dimensions. This highlights one of pandas most powerful features: **GroupBy**'s and **Aggregations**.\n",
    "\n",
    "GroupBy's provide a very flexible way to organize your data and Aggregations create summary views. GroupBy/Aggregate in pandas is much like pivot tables in excel, with lots of extras on top. Pandas also includes `pivot_table`, `melt`, and `transform` methods for shaping data.\n",
    "\n",
    "At a high level, a GroupBy is a logical way to split your data and then apply some operation to each split before returning the results. This is known as Split-Apply-Combine:"
   ]
  },
  {
   "cell_type": "markdown",
   "metadata": {},
   "source": [
    "To get the sum of units and OPS by each product_family, first create a groupby object (this is similar to a dataframe, except broken up into chunks as in the picture above).  Then, pick the columns you want to aggregate (units and ops in this case) and apply the .sum() method.  Pandas will automatically aggregate each product family \"chunk\" and combine them into a single dataframe.\n",
    "\n",
    "GroupBy is one of panda's most versatile features. Be sure to checkout panda's documentation on [Split-Apply-Combine](https://pandas.pydata.org/pandas-docs/stable/user_guide/groupby.html)"
   ]
  },
  {
   "cell_type": "code",
   "execution_count": 30,
   "metadata": {},
   "outputs": [
    {
     "name": "stdout",
     "output_type": "stream",
     "text": [
      "                       units           ops\n",
      "product_family                            \n",
      "Consumables     4.901449e+07  9.719792e+08\n",
      "Hardlines       1.084074e+08  3.384190e+09\n",
      "Media           2.177083e+07  3.887892e+08\n",
      "Softlines       2.165010e+07  6.960792e+08\n"
     ]
    }
   ],
   "source": [
    "sales_by_product_family = df.groupby('product_family')[['units', 'ops']].sum()\n",
    "print(sales_by_product_family)"
   ]
  },
  {
   "cell_type": "markdown",
   "metadata": {},
   "source": [
    "In SQL, this is equivalent to:\n",
    "\n",
    "`SELECT\n",
    "    product_family\n",
    "    ,SUM(units) AS units\n",
    "    ,SUM(ops) AS ops\n",
    "FROM\n",
    "    df\n",
    "GROUP BY\n",
    "    product_family\n",
    ";`"
   ]
  },
  {
   "cell_type": "markdown",
   "metadata": {},
   "source": [
    "The above example involves using the .sum() method on a groupby object, but there is a more general approach that we recommend, using .aggregate().  In Python, and especially Pandas, there are many different ways to perform the same operation, and .aggregate() is a versatile method that can help narrow down your options."
   ]
  },
  {
   "cell_type": "code",
   "execution_count": 31,
   "metadata": {},
   "outputs": [
    {
     "name": "stdout",
     "output_type": "stream",
     "text": [
      "                       units           ops\n",
      "product_family                            \n",
      "Consumables     4.901449e+07  9.719792e+08\n",
      "Hardlines       1.084074e+08  3.384190e+09\n",
      "Media           2.177083e+07  3.887892e+08\n",
      "Softlines       2.165010e+07  6.960792e+08\n"
     ]
    }
   ],
   "source": [
    "sales_by_product_family = df.groupby('product_family')[['units', 'ops']].aggregate('sum')\n",
    "print(sales_by_product_family)"
   ]
  },
  {
   "cell_type": "markdown",
   "metadata": {},
   "source": [
    "This is particularly helpful if you want to use different aggregate functions for different columns, which you'll see in the next couple of examples."
   ]
  },
  {
   "cell_type": "markdown",
   "metadata": {},
   "source": [
    "Next, let's look at gl units by quarter, using the .resample() method:"
   ]
  },
  {
   "cell_type": "code",
   "execution_count": 35,
   "metadata": {},
   "outputs": [
    {
     "data": {
      "text/html": [
       "<div>\n",
       "<style scoped>\n",
       "    .dataframe tbody tr th:only-of-type {\n",
       "        vertical-align: middle;\n",
       "    }\n",
       "\n",
       "    .dataframe tbody tr th {\n",
       "        vertical-align: top;\n",
       "    }\n",
       "\n",
       "    .dataframe thead th {\n",
       "        text-align: right;\n",
       "    }\n",
       "</style>\n",
       "<table border=\"1\" class=\"dataframe\">\n",
       "  <thead>\n",
       "    <tr style=\"text-align: right;\">\n",
       "      <th></th>\n",
       "      <th></th>\n",
       "      <th>units</th>\n",
       "      <th>ops</th>\n",
       "    </tr>\n",
       "    <tr>\n",
       "      <th>gl</th>\n",
       "      <th>order_day</th>\n",
       "      <th></th>\n",
       "      <th></th>\n",
       "    </tr>\n",
       "  </thead>\n",
       "  <tbody>\n",
       "    <tr>\n",
       "      <th rowspan=\"4\" valign=\"top\">Amazon_Pantry</th>\n",
       "      <th>2017-03-31</th>\n",
       "      <td>10921.128980</td>\n",
       "      <td>5.242582e+04</td>\n",
       "    </tr>\n",
       "    <tr>\n",
       "      <th>2017-06-30</th>\n",
       "      <td>10252.033755</td>\n",
       "      <td>4.989826e+04</td>\n",
       "    </tr>\n",
       "    <tr>\n",
       "      <th>2017-09-30</th>\n",
       "      <td>11291.901788</td>\n",
       "      <td>5.387170e+04</td>\n",
       "    </tr>\n",
       "    <tr>\n",
       "      <th>2017-12-31</th>\n",
       "      <td>11135.496160</td>\n",
       "      <td>5.203038e+04</td>\n",
       "    </tr>\n",
       "    <tr>\n",
       "      <th rowspan=\"4\" valign=\"top\">Apparel</th>\n",
       "      <th>2017-03-31</th>\n",
       "      <td>31660.111356</td>\n",
       "      <td>6.361766e+05</td>\n",
       "    </tr>\n",
       "    <tr>\n",
       "      <th>2017-06-30</th>\n",
       "      <td>34952.186413</td>\n",
       "      <td>6.934654e+05</td>\n",
       "    </tr>\n",
       "    <tr>\n",
       "      <th>2017-09-30</th>\n",
       "      <td>36829.246950</td>\n",
       "      <td>7.247801e+05</td>\n",
       "    </tr>\n",
       "    <tr>\n",
       "      <th>2017-12-31</th>\n",
       "      <td>57012.728928</td>\n",
       "      <td>1.171544e+06</td>\n",
       "    </tr>\n",
       "    <tr>\n",
       "      <th rowspan=\"4\" valign=\"top\">Art</th>\n",
       "      <th>2017-03-31</th>\n",
       "      <td>0.935434</td>\n",
       "      <td>1.601986e+02</td>\n",
       "    </tr>\n",
       "    <tr>\n",
       "      <th>2017-06-30</th>\n",
       "      <td>1.478416</td>\n",
       "      <td>1.879448e+02</td>\n",
       "    </tr>\n",
       "    <tr>\n",
       "      <th>2017-09-30</th>\n",
       "      <td>1.428818</td>\n",
       "      <td>1.196353e+03</td>\n",
       "    </tr>\n",
       "    <tr>\n",
       "      <th>2017-12-31</th>\n",
       "      <td>1.231376</td>\n",
       "      <td>3.337749e+02</td>\n",
       "    </tr>\n",
       "    <tr>\n",
       "      <th rowspan=\"4\" valign=\"top\">Art and Craft Supplies</th>\n",
       "      <th>2017-03-31</th>\n",
       "      <td>164.222845</td>\n",
       "      <td>1.991211e+03</td>\n",
       "    </tr>\n",
       "    <tr>\n",
       "      <th>2017-06-30</th>\n",
       "      <td>161.179402</td>\n",
       "      <td>1.941749e+03</td>\n",
       "    </tr>\n",
       "    <tr>\n",
       "      <th>2017-09-30</th>\n",
       "      <td>214.915889</td>\n",
       "      <td>2.671324e+03</td>\n",
       "    </tr>\n",
       "    <tr>\n",
       "      <th>2017-12-31</th>\n",
       "      <td>396.878487</td>\n",
       "      <td>6.094072e+03</td>\n",
       "    </tr>\n",
       "    <tr>\n",
       "      <th rowspan=\"4\" valign=\"top\">Automotive</th>\n",
       "      <th>2017-03-31</th>\n",
       "      <td>11452.490354</td>\n",
       "      <td>4.095604e+05</td>\n",
       "    </tr>\n",
       "    <tr>\n",
       "      <th>2017-06-30</th>\n",
       "      <td>13443.292734</td>\n",
       "      <td>4.764392e+05</td>\n",
       "    </tr>\n",
       "    <tr>\n",
       "      <th>2017-09-30</th>\n",
       "      <td>13623.786909</td>\n",
       "      <td>4.742538e+05</td>\n",
       "    </tr>\n",
       "    <tr>\n",
       "      <th>2017-12-31</th>\n",
       "      <td>13849.150307</td>\n",
       "      <td>4.933325e+05</td>\n",
       "    </tr>\n",
       "  </tbody>\n",
       "</table>\n",
       "</div>"
      ],
      "text/plain": [
       "                                          units           ops\n",
       "gl                     order_day                             \n",
       "Amazon_Pantry          2017-03-31  10921.128980  5.242582e+04\n",
       "                       2017-06-30  10252.033755  4.989826e+04\n",
       "                       2017-09-30  11291.901788  5.387170e+04\n",
       "                       2017-12-31  11135.496160  5.203038e+04\n",
       "Apparel                2017-03-31  31660.111356  6.361766e+05\n",
       "                       2017-06-30  34952.186413  6.934654e+05\n",
       "                       2017-09-30  36829.246950  7.247801e+05\n",
       "                       2017-12-31  57012.728928  1.171544e+06\n",
       "Art                    2017-03-31      0.935434  1.601986e+02\n",
       "                       2017-06-30      1.478416  1.879448e+02\n",
       "                       2017-09-30      1.428818  1.196353e+03\n",
       "                       2017-12-31      1.231376  3.337749e+02\n",
       "Art and Craft Supplies 2017-03-31    164.222845  1.991211e+03\n",
       "                       2017-06-30    161.179402  1.941749e+03\n",
       "                       2017-09-30    214.915889  2.671324e+03\n",
       "                       2017-12-31    396.878487  6.094072e+03\n",
       "Automotive             2017-03-31  11452.490354  4.095604e+05\n",
       "                       2017-06-30  13443.292734  4.764392e+05\n",
       "                       2017-09-30  13623.786909  4.742538e+05\n",
       "                       2017-12-31  13849.150307  4.933325e+05"
      ]
     },
     "execution_count": 35,
     "metadata": {},
     "output_type": "execute_result"
    }
   ],
   "source": [
    "gl_by_qtr = df.groupby(['gl'])[['units','ops']].resample('Q').mean().head(20)\n",
    "gl_by_qtr"
   ]
  },
  {
   "cell_type": "markdown",
   "metadata": {},
   "source": [
    "Let's look at a more general case without using resample:"
   ]
  },
  {
   "cell_type": "code",
   "execution_count": 38,
   "metadata": {},
   "outputs": [
    {
     "data": {
      "text/html": [
       "<div>\n",
       "<style scoped>\n",
       "    .dataframe tbody tr th:only-of-type {\n",
       "        vertical-align: middle;\n",
       "    }\n",
       "\n",
       "    .dataframe tbody tr th {\n",
       "        vertical-align: top;\n",
       "    }\n",
       "\n",
       "    .dataframe thead tr th {\n",
       "        text-align: left;\n",
       "    }\n",
       "\n",
       "    .dataframe thead tr:last-of-type th {\n",
       "        text-align: right;\n",
       "    }\n",
       "</style>\n",
       "<table border=\"1\" class=\"dataframe\">\n",
       "  <thead>\n",
       "    <tr>\n",
       "      <th></th>\n",
       "      <th colspan=\"2\" halign=\"left\">units</th>\n",
       "      <th colspan=\"4\" halign=\"left\">ops</th>\n",
       "    </tr>\n",
       "    <tr>\n",
       "      <th></th>\n",
       "      <th>sum</th>\n",
       "      <th>mean</th>\n",
       "      <th>min</th>\n",
       "      <th>max</th>\n",
       "      <th>mean</th>\n",
       "      <th>std</th>\n",
       "    </tr>\n",
       "    <tr>\n",
       "      <th>product_family</th>\n",
       "      <th></th>\n",
       "      <th></th>\n",
       "      <th></th>\n",
       "      <th></th>\n",
       "      <th></th>\n",
       "      <th></th>\n",
       "    </tr>\n",
       "  </thead>\n",
       "  <tbody>\n",
       "    <tr>\n",
       "      <th>Consumables</th>\n",
       "      <td>4.901449e+07</td>\n",
       "      <td>8985.240642</td>\n",
       "      <td>0.090388</td>\n",
       "      <td>3.381976e+06</td>\n",
       "      <td>178181.329149</td>\n",
       "      <td>297128.512288</td>\n",
       "    </tr>\n",
       "    <tr>\n",
       "      <th>Hardlines</th>\n",
       "      <td>1.084074e+08</td>\n",
       "      <td>10219.404387</td>\n",
       "      <td>0.440191</td>\n",
       "      <td>6.605131e+06</td>\n",
       "      <td>319022.410792</td>\n",
       "      <td>378172.070243</td>\n",
       "    </tr>\n",
       "    <tr>\n",
       "      <th>Media</th>\n",
       "      <td>2.177083e+07</td>\n",
       "      <td>8431.769999</td>\n",
       "      <td>0.139558</td>\n",
       "      <td>1.614658e+06</td>\n",
       "      <td>150576.770325</td>\n",
       "      <td>254548.980163</td>\n",
       "    </tr>\n",
       "    <tr>\n",
       "      <th>Softlines</th>\n",
       "      <td>2.165010e+07</td>\n",
       "      <td>11045.968597</td>\n",
       "      <td>0.556560</td>\n",
       "      <td>2.670796e+06</td>\n",
       "      <td>355142.447923</td>\n",
       "      <td>332283.938566</td>\n",
       "    </tr>\n",
       "  </tbody>\n",
       "</table>\n",
       "</div>"
      ],
      "text/plain": [
       "                       units                     ops                \\\n",
       "                         sum          mean       min           max   \n",
       "product_family                                                       \n",
       "Consumables     4.901449e+07   8985.240642  0.090388  3.381976e+06   \n",
       "Hardlines       1.084074e+08  10219.404387  0.440191  6.605131e+06   \n",
       "Media           2.177083e+07   8431.769999  0.139558  1.614658e+06   \n",
       "Softlines       2.165010e+07  11045.968597  0.556560  2.670796e+06   \n",
       "\n",
       "                                              \n",
       "                         mean            std  \n",
       "product_family                                \n",
       "Consumables     178181.329149  297128.512288  \n",
       "Hardlines       319022.410792  378172.070243  \n",
       "Media           150576.770325  254548.980163  \n",
       "Softlines       355142.447923  332283.938566  "
      ]
     },
     "execution_count": 38,
     "metadata": {},
     "output_type": "execute_result"
    }
   ],
   "source": [
    "column_list = ['product_family']\n",
    "aggregations = {'units':['sum','mean'],'ops':['min','max', 'mean', 'std']}\n",
    "\n",
    "df.groupby(column_list).aggregate(aggregations)"
   ]
  },
  {
   "cell_type": "code",
   "execution_count": 39,
   "metadata": {},
   "outputs": [
    {
     "data": {
      "text/html": [
       "<div>\n",
       "<style scoped>\n",
       "    .dataframe tbody tr th:only-of-type {\n",
       "        vertical-align: middle;\n",
       "    }\n",
       "\n",
       "    .dataframe tbody tr th {\n",
       "        vertical-align: top;\n",
       "    }\n",
       "\n",
       "    .dataframe thead tr th {\n",
       "        text-align: left;\n",
       "    }\n",
       "\n",
       "    .dataframe thead tr:last-of-type th {\n",
       "        text-align: right;\n",
       "    }\n",
       "</style>\n",
       "<table border=\"1\" class=\"dataframe\">\n",
       "  <thead>\n",
       "    <tr>\n",
       "      <th></th>\n",
       "      <th></th>\n",
       "      <th colspan=\"2\" halign=\"left\">units</th>\n",
       "      <th colspan=\"2\" halign=\"left\">ops</th>\n",
       "    </tr>\n",
       "    <tr>\n",
       "      <th></th>\n",
       "      <th></th>\n",
       "      <th>min</th>\n",
       "      <th>max</th>\n",
       "      <th>sum</th>\n",
       "      <th>mean</th>\n",
       "    </tr>\n",
       "    <tr>\n",
       "      <th>product_family</th>\n",
       "      <th>order_day</th>\n",
       "      <th></th>\n",
       "      <th></th>\n",
       "      <th></th>\n",
       "      <th></th>\n",
       "    </tr>\n",
       "  </thead>\n",
       "  <tbody>\n",
       "    <tr>\n",
       "      <th rowspan=\"4\" valign=\"top\">Consumables</th>\n",
       "      <th>1</th>\n",
       "      <td>0.034692</td>\n",
       "      <td>50756.372305</td>\n",
       "      <td>2.075939e+08</td>\n",
       "      <td>152754.905636</td>\n",
       "    </tr>\n",
       "    <tr>\n",
       "      <th>2</th>\n",
       "      <td>0.034680</td>\n",
       "      <td>52561.869777</td>\n",
       "      <td>2.210532e+08</td>\n",
       "      <td>167211.198720</td>\n",
       "    </tr>\n",
       "    <tr>\n",
       "      <th>3</th>\n",
       "      <td>0.034708</td>\n",
       "      <td>106296.996434</td>\n",
       "      <td>2.401105e+08</td>\n",
       "      <td>176163.223037</td>\n",
       "    </tr>\n",
       "    <tr>\n",
       "      <th>4</th>\n",
       "      <td>0.034667</td>\n",
       "      <td>113244.908337</td>\n",
       "      <td>3.032216e+08</td>\n",
       "      <td>214898.338796</td>\n",
       "    </tr>\n",
       "    <tr>\n",
       "      <th rowspan=\"4\" valign=\"top\">Hardlines</th>\n",
       "      <th>1</th>\n",
       "      <td>0.219582</td>\n",
       "      <td>40986.010161</td>\n",
       "      <td>6.673806e+08</td>\n",
       "      <td>255505.596678</td>\n",
       "    </tr>\n",
       "    <tr>\n",
       "      <th>2</th>\n",
       "      <td>0.034649</td>\n",
       "      <td>43616.066234</td>\n",
       "      <td>7.531589e+08</td>\n",
       "      <td>284963.657763</td>\n",
       "    </tr>\n",
       "    <tr>\n",
       "      <th>3</th>\n",
       "      <td>0.351740</td>\n",
       "      <td>105444.099619</td>\n",
       "      <td>8.287705e+08</td>\n",
       "      <td>310633.603211</td>\n",
       "    </tr>\n",
       "    <tr>\n",
       "      <th>4</th>\n",
       "      <td>0.034984</td>\n",
       "      <td>255925.390692</td>\n",
       "      <td>1.134880e+09</td>\n",
       "      <td>422674.009058</td>\n",
       "    </tr>\n",
       "    <tr>\n",
       "      <th rowspan=\"4\" valign=\"top\">Media</th>\n",
       "      <th>1</th>\n",
       "      <td>0.034676</td>\n",
       "      <td>71345.396536</td>\n",
       "      <td>9.344613e+07</td>\n",
       "      <td>143763.276162</td>\n",
       "    </tr>\n",
       "    <tr>\n",
       "      <th>2</th>\n",
       "      <td>0.034624</td>\n",
       "      <td>49615.001452</td>\n",
       "      <td>7.574689e+07</td>\n",
       "      <td>117619.393752</td>\n",
       "    </tr>\n",
       "    <tr>\n",
       "      <th>3</th>\n",
       "      <td>15.723320</td>\n",
       "      <td>85005.037182</td>\n",
       "      <td>9.872314e+07</td>\n",
       "      <td>153296.801970</td>\n",
       "    </tr>\n",
       "    <tr>\n",
       "      <th>4</th>\n",
       "      <td>16.189308</td>\n",
       "      <td>128430.054502</td>\n",
       "      <td>1.208731e+08</td>\n",
       "      <td>187691.089175</td>\n",
       "    </tr>\n",
       "    <tr>\n",
       "      <th rowspan=\"4\" valign=\"top\">Softlines</th>\n",
       "      <th>1</th>\n",
       "      <td>0.036805</td>\n",
       "      <td>38445.603531</td>\n",
       "      <td>1.367929e+08</td>\n",
       "      <td>301971.036737</td>\n",
       "    </tr>\n",
       "    <tr>\n",
       "      <th>2</th>\n",
       "      <td>795.038976</td>\n",
       "      <td>43718.094501</td>\n",
       "      <td>1.570315e+08</td>\n",
       "      <td>345124.103621</td>\n",
       "    </tr>\n",
       "    <tr>\n",
       "      <th>3</th>\n",
       "      <td>0.034658</td>\n",
       "      <td>110204.330606</td>\n",
       "      <td>1.713518e+08</td>\n",
       "      <td>342703.524756</td>\n",
       "    </tr>\n",
       "    <tr>\n",
       "      <th>4</th>\n",
       "      <td>198.405226</td>\n",
       "      <td>134754.967246</td>\n",
       "      <td>2.309031e+08</td>\n",
       "      <td>418302.697030</td>\n",
       "    </tr>\n",
       "  </tbody>\n",
       "</table>\n",
       "</div>"
      ],
      "text/plain": [
       "                               units                          ops  \\\n",
       "                                 min            max           sum   \n",
       "product_family order_day                                            \n",
       "Consumables    1            0.034692   50756.372305  2.075939e+08   \n",
       "               2            0.034680   52561.869777  2.210532e+08   \n",
       "               3            0.034708  106296.996434  2.401105e+08   \n",
       "               4            0.034667  113244.908337  3.032216e+08   \n",
       "Hardlines      1            0.219582   40986.010161  6.673806e+08   \n",
       "               2            0.034649   43616.066234  7.531589e+08   \n",
       "               3            0.351740  105444.099619  8.287705e+08   \n",
       "               4            0.034984  255925.390692  1.134880e+09   \n",
       "Media          1            0.034676   71345.396536  9.344613e+07   \n",
       "               2            0.034624   49615.001452  7.574689e+07   \n",
       "               3           15.723320   85005.037182  9.872314e+07   \n",
       "               4           16.189308  128430.054502  1.208731e+08   \n",
       "Softlines      1            0.036805   38445.603531  1.367929e+08   \n",
       "               2          795.038976   43718.094501  1.570315e+08   \n",
       "               3            0.034658  110204.330606  1.713518e+08   \n",
       "               4          198.405226  134754.967246  2.309031e+08   \n",
       "\n",
       "                                         \n",
       "                                   mean  \n",
       "product_family order_day                 \n",
       "Consumables    1          152754.905636  \n",
       "               2          167211.198720  \n",
       "               3          176163.223037  \n",
       "               4          214898.338796  \n",
       "Hardlines      1          255505.596678  \n",
       "               2          284963.657763  \n",
       "               3          310633.603211  \n",
       "               4          422674.009058  \n",
       "Media          1          143763.276162  \n",
       "               2          117619.393752  \n",
       "               3          153296.801970  \n",
       "               4          187691.089175  \n",
       "Softlines      1          301971.036737  \n",
       "               2          345124.103621  \n",
       "               3          342703.524756  \n",
       "               4          418302.697030  "
      ]
     },
     "execution_count": 39,
     "metadata": {},
     "output_type": "execute_result"
    }
   ],
   "source": [
    "def summarize_data(df, cols, aggs):\n",
    "    return df.groupby(cols).aggregate(aggs)\n",
    "\n",
    "column_list = ['product_family', df.index.quarter]\n",
    "aggregations = {'units':['min','max'],'ops':['sum','mean']}\n",
    "\n",
    "summarize_data(df, column_list, aggregations)"
   ]
  },
  {
   "cell_type": "markdown",
   "metadata": {},
   "source": [
    "# Pivot a dataframe using the .pivot_table() function"
   ]
  },
  {
   "cell_type": "markdown",
   "metadata": {},
   "source": [
    "Just as in Excel, we can pivot our data, which typically involves swapping rows with columns and applying an aggregate function:"
   ]
  },
  {
   "cell_type": "code",
   "execution_count": 40,
   "metadata": {},
   "outputs": [
    {
     "data": {
      "text/html": [
       "<div>\n",
       "<style scoped>\n",
       "    .dataframe tbody tr th:only-of-type {\n",
       "        vertical-align: middle;\n",
       "    }\n",
       "\n",
       "    .dataframe tbody tr th {\n",
       "        vertical-align: top;\n",
       "    }\n",
       "\n",
       "    .dataframe thead th {\n",
       "        text-align: right;\n",
       "    }\n",
       "</style>\n",
       "<table border=\"1\" class=\"dataframe\">\n",
       "  <thead>\n",
       "    <tr style=\"text-align: right;\">\n",
       "      <th>product_family</th>\n",
       "      <th>Consumables</th>\n",
       "      <th>Hardlines</th>\n",
       "      <th>Media</th>\n",
       "      <th>Softlines</th>\n",
       "    </tr>\n",
       "    <tr>\n",
       "      <th>order_day</th>\n",
       "      <th></th>\n",
       "      <th></th>\n",
       "      <th></th>\n",
       "      <th></th>\n",
       "    </tr>\n",
       "  </thead>\n",
       "  <tbody>\n",
       "    <tr>\n",
       "      <th>2017-01-01</th>\n",
       "      <td>104467.010325</td>\n",
       "      <td>211688.484896</td>\n",
       "      <td>52140.007166</td>\n",
       "      <td>39835.061817</td>\n",
       "    </tr>\n",
       "    <tr>\n",
       "      <th>2017-01-02</th>\n",
       "      <td>137732.111356</td>\n",
       "      <td>279720.766123</td>\n",
       "      <td>69765.862960</td>\n",
       "      <td>50933.915968</td>\n",
       "    </tr>\n",
       "    <tr>\n",
       "      <th>2017-01-03</th>\n",
       "      <td>132243.179295</td>\n",
       "      <td>279593.050424</td>\n",
       "      <td>76703.362539</td>\n",
       "      <td>46512.437495</td>\n",
       "    </tr>\n",
       "    <tr>\n",
       "      <th>2017-01-04</th>\n",
       "      <td>130234.835836</td>\n",
       "      <td>264975.041811</td>\n",
       "      <td>75100.633735</td>\n",
       "      <td>47089.022667</td>\n",
       "    </tr>\n",
       "    <tr>\n",
       "      <th>2017-01-05</th>\n",
       "      <td>120421.207782</td>\n",
       "      <td>258053.916394</td>\n",
       "      <td>73082.137475</td>\n",
       "      <td>47399.367667</td>\n",
       "    </tr>\n",
       "  </tbody>\n",
       "</table>\n",
       "</div>"
      ],
      "text/plain": [
       "product_family    Consumables      Hardlines         Media     Softlines\n",
       "order_day                                                               \n",
       "2017-01-01      104467.010325  211688.484896  52140.007166  39835.061817\n",
       "2017-01-02      137732.111356  279720.766123  69765.862960  50933.915968\n",
       "2017-01-03      132243.179295  279593.050424  76703.362539  46512.437495\n",
       "2017-01-04      130234.835836  264975.041811  75100.633735  47089.022667\n",
       "2017-01-05      120421.207782  258053.916394  73082.137475  47399.367667"
      ]
     },
     "execution_count": 40,
     "metadata": {},
     "output_type": "execute_result"
    }
   ],
   "source": [
    "df_pivot = pd.pivot_table(data=df, index=df.index, columns='product_family', values='units', aggfunc='sum')\n",
    "df_pivot.head()"
   ]
  },
  {
   "cell_type": "markdown",
   "metadata": {},
   "source": [
    "Here, the \"index\" argument determines the row grouping (just like \"rows\" in an Excel pivot table).  The \"columns\" and \"values\" arguments are also the same as their Excel counterparts."
   ]
  },
  {
   "cell_type": "markdown",
   "metadata": {},
   "source": [
    "Note: a dataframe's columns can have indices just like its rows can.  An unintended consequence of using .pivot_table() is that it adds an index to the new dataframe's columns, so we'll use the line below to undo this:"
   ]
  },
  {
   "cell_type": "code",
   "execution_count": 41,
   "metadata": {},
   "outputs": [],
   "source": [
    "df_pivot.columns = list(df_pivot.columns)"
   ]
  },
  {
   "cell_type": "markdown",
   "metadata": {},
   "source": [
    "# Unpivot a dataframe using the .melt() function"
   ]
  },
  {
   "cell_type": "markdown",
   "metadata": {},
   "source": [
    "Now we'll essentially undo the pivot transformation we just applied. Reversing a pivot is difficult in Excel, but it's one line in Pandas with .melt(). This function doesn't work very well with indices, so first we'll reset the order_day index so it becomes a column again:"
   ]
  },
  {
   "cell_type": "code",
   "execution_count": 42,
   "metadata": {},
   "outputs": [
    {
     "data": {
      "text/html": [
       "<div>\n",
       "<style scoped>\n",
       "    .dataframe tbody tr th:only-of-type {\n",
       "        vertical-align: middle;\n",
       "    }\n",
       "\n",
       "    .dataframe tbody tr th {\n",
       "        vertical-align: top;\n",
       "    }\n",
       "\n",
       "    .dataframe thead th {\n",
       "        text-align: right;\n",
       "    }\n",
       "</style>\n",
       "<table border=\"1\" class=\"dataframe\">\n",
       "  <thead>\n",
       "    <tr style=\"text-align: right;\">\n",
       "      <th></th>\n",
       "      <th>order_day</th>\n",
       "      <th>Consumables</th>\n",
       "      <th>Hardlines</th>\n",
       "      <th>Media</th>\n",
       "      <th>Softlines</th>\n",
       "    </tr>\n",
       "  </thead>\n",
       "  <tbody>\n",
       "    <tr>\n",
       "      <th>0</th>\n",
       "      <td>2017-01-01</td>\n",
       "      <td>104467.010325</td>\n",
       "      <td>211688.484896</td>\n",
       "      <td>52140.007166</td>\n",
       "      <td>39835.061817</td>\n",
       "    </tr>\n",
       "    <tr>\n",
       "      <th>1</th>\n",
       "      <td>2017-01-02</td>\n",
       "      <td>137732.111356</td>\n",
       "      <td>279720.766123</td>\n",
       "      <td>69765.862960</td>\n",
       "      <td>50933.915968</td>\n",
       "    </tr>\n",
       "    <tr>\n",
       "      <th>2</th>\n",
       "      <td>2017-01-03</td>\n",
       "      <td>132243.179295</td>\n",
       "      <td>279593.050424</td>\n",
       "      <td>76703.362539</td>\n",
       "      <td>46512.437495</td>\n",
       "    </tr>\n",
       "    <tr>\n",
       "      <th>3</th>\n",
       "      <td>2017-01-04</td>\n",
       "      <td>130234.835836</td>\n",
       "      <td>264975.041811</td>\n",
       "      <td>75100.633735</td>\n",
       "      <td>47089.022667</td>\n",
       "    </tr>\n",
       "    <tr>\n",
       "      <th>4</th>\n",
       "      <td>2017-01-05</td>\n",
       "      <td>120421.207782</td>\n",
       "      <td>258053.916394</td>\n",
       "      <td>73082.137475</td>\n",
       "      <td>47399.367667</td>\n",
       "    </tr>\n",
       "  </tbody>\n",
       "</table>\n",
       "</div>"
      ],
      "text/plain": [
       "   order_day    Consumables      Hardlines         Media     Softlines\n",
       "0 2017-01-01  104467.010325  211688.484896  52140.007166  39835.061817\n",
       "1 2017-01-02  137732.111356  279720.766123  69765.862960  50933.915968\n",
       "2 2017-01-03  132243.179295  279593.050424  76703.362539  46512.437495\n",
       "3 2017-01-04  130234.835836  264975.041811  75100.633735  47089.022667\n",
       "4 2017-01-05  120421.207782  258053.916394  73082.137475  47399.367667"
      ]
     },
     "execution_count": 42,
     "metadata": {},
     "output_type": "execute_result"
    }
   ],
   "source": [
    "df_pivot = df_pivot.reset_index()\n",
    "df_pivot.head()"
   ]
  },
  {
   "cell_type": "code",
   "execution_count": 43,
   "metadata": {},
   "outputs": [
    {
     "data": {
      "text/html": [
       "<div>\n",
       "<style scoped>\n",
       "    .dataframe tbody tr th:only-of-type {\n",
       "        vertical-align: middle;\n",
       "    }\n",
       "\n",
       "    .dataframe tbody tr th {\n",
       "        vertical-align: top;\n",
       "    }\n",
       "\n",
       "    .dataframe thead th {\n",
       "        text-align: right;\n",
       "    }\n",
       "</style>\n",
       "<table border=\"1\" class=\"dataframe\">\n",
       "  <thead>\n",
       "    <tr style=\"text-align: right;\">\n",
       "      <th></th>\n",
       "      <th>product_family</th>\n",
       "      <th>units</th>\n",
       "    </tr>\n",
       "    <tr>\n",
       "      <th>order_day</th>\n",
       "      <th></th>\n",
       "      <th></th>\n",
       "    </tr>\n",
       "  </thead>\n",
       "  <tbody>\n",
       "    <tr>\n",
       "      <th>2017-01-01</th>\n",
       "      <td>Consumables</td>\n",
       "      <td>104467.010325</td>\n",
       "    </tr>\n",
       "    <tr>\n",
       "      <th>2017-01-02</th>\n",
       "      <td>Consumables</td>\n",
       "      <td>137732.111356</td>\n",
       "    </tr>\n",
       "    <tr>\n",
       "      <th>2017-01-03</th>\n",
       "      <td>Consumables</td>\n",
       "      <td>132243.179295</td>\n",
       "    </tr>\n",
       "    <tr>\n",
       "      <th>2017-01-04</th>\n",
       "      <td>Consumables</td>\n",
       "      <td>130234.835836</td>\n",
       "    </tr>\n",
       "    <tr>\n",
       "      <th>2017-01-05</th>\n",
       "      <td>Consumables</td>\n",
       "      <td>120421.207782</td>\n",
       "    </tr>\n",
       "  </tbody>\n",
       "</table>\n",
       "</div>"
      ],
      "text/plain": [
       "           product_family          units\n",
       "order_day                               \n",
       "2017-01-01    Consumables  104467.010325\n",
       "2017-01-02    Consumables  137732.111356\n",
       "2017-01-03    Consumables  132243.179295\n",
       "2017-01-04    Consumables  130234.835836\n",
       "2017-01-05    Consumables  120421.207782"
      ]
     },
     "execution_count": 43,
     "metadata": {},
     "output_type": "execute_result"
    }
   ],
   "source": [
    "df_unpivot = pd.melt(frame=df_pivot, id_vars=['order_day'], value_name='units', var_name='product_family')\n",
    "\n",
    "# then set the index back to order_day\n",
    "df_unpivot = df_unpivot.set_index('order_day')\n",
    "\n",
    "df_unpivot.head()"
   ]
  },
  {
   "cell_type": "code",
   "execution_count": 44,
   "metadata": {},
   "outputs": [
    {
     "data": {
      "text/plain": [
       "<AxesSubplot:xlabel='order_day'>"
      ]
     },
     "execution_count": 44,
     "metadata": {},
     "output_type": "execute_result"
    },
    {
     "data": {
      "image/png": "[encoded data removed]",
      "text/plain": [
       "<Figure size 432x288 with 1 Axes>"
      ]
     },
     "metadata": {
      "needs_background": "light"
     },
     "output_type": "display_data"
    }
   ],
   "source": [
    "df_unpivot.plot()"
   ]
  },
  {
   "cell_type": "code",
   "execution_count": 45,
   "metadata": {},
   "outputs": [
    {
     "data": {
      "text/plain": [
       "(20605, 7)"
      ]
     },
     "execution_count": 45,
     "metadata": {},
     "output_type": "execute_result"
    }
   ],
   "source": [
    "df.shape"
   ]
  },
  {
   "cell_type": "code",
   "execution_count": 46,
   "metadata": {},
   "outputs": [
    {
     "data": {
      "text/plain": [
       "(1460, 2)"
      ]
     },
     "execution_count": 46,
     "metadata": {},
     "output_type": "execute_result"
    }
   ],
   "source": [
    "df_unpivot.shape"
   ]
  },
  {
   "cell_type": "markdown",
   "metadata": {},
   "source": [
    "We have now unpivoted product_family so it is a column again.  Keep in mind we could have done this all in one line, including resetting and setting the index, but we broke it out into steps for illustration."
   ]
  },
  {
   "cell_type": "markdown",
   "metadata": {},
   "source": [
    "# Exercises: You try!"
   ]
  },
  {
   "cell_type": "markdown",
   "metadata": {},
   "source": [
    "1) What is the GL with the highest OPS? (_hint:_ you can use the df.groupby(cols).aggregate({} syntax)"
   ]
  },
  {
   "cell_type": "code",
   "execution_count": null,
   "metadata": {},
   "outputs": [],
   "source": []
  },
  {
   "cell_type": "markdown",
   "metadata": {},
   "source": [
    "2) What percentage of the Consumables OPS does Amazon Pantry have?"
   ]
  },
  {
   "cell_type": "code",
   "execution_count": null,
   "metadata": {},
   "outputs": [],
   "source": []
  },
  {
   "cell_type": "markdown",
   "metadata": {},
   "source": [
    "3) What date had the highest total OPS?"
   ]
  },
  {
   "cell_type": "code",
   "execution_count": null,
   "metadata": {},
   "outputs": [],
   "source": []
  },
  {
   "cell_type": "markdown",
   "metadata": {},
   "source": [
    "4) Create pivot table of OPS with gl as the row headers and order_day as the columns"
   ]
  },
  {
   "cell_type": "markdown",
   "metadata": {},
   "source": [
    "# Combining multiple data sets with pandas using Merge"
   ]
  },
  {
   "cell_type": "code",
   "execution_count": 47,
   "metadata": {},
   "outputs": [],
   "source": [
    "import pandas as pd\n",
    "%matplotlib inline\n",
    "\n",
    "# define variables as much as possible\n",
    "# this makes your code more re-usable and readable\n",
    "# remember, a variable is where a value is stored, a string is the value\n",
    "# file_path: variable to tell me where to find the file\n",
    "# holidays_url: url for a list of holidays on github\n",
    "\n",
    "holidays_url = 'https://gist.githubusercontent.com/shivaas/4758439/raw/'\n"
   ]
  },
  {
   "cell_type": "code",
   "execution_count": 48,
   "metadata": {},
   "outputs": [
    {
     "data": {
      "text/html": [
       "<div>\n",
       "<style scoped>\n",
       "    .dataframe tbody tr th:only-of-type {\n",
       "        vertical-align: middle;\n",
       "    }\n",
       "\n",
       "    .dataframe tbody tr th {\n",
       "        vertical-align: top;\n",
       "    }\n",
       "\n",
       "    .dataframe thead th {\n",
       "        text-align: right;\n",
       "    }\n",
       "</style>\n",
       "<table border=\"1\" class=\"dataframe\">\n",
       "  <thead>\n",
       "    <tr style=\"text-align: right;\">\n",
       "      <th></th>\n",
       "      <th>1</th>\n",
       "      <th>2012-01-02</th>\n",
       "      <th>New Year Day</th>\n",
       "    </tr>\n",
       "  </thead>\n",
       "  <tbody>\n",
       "    <tr>\n",
       "      <th>0</th>\n",
       "      <td>2</td>\n",
       "      <td>2012-01-16</td>\n",
       "      <td>Martin Luther King Jr. Day</td>\n",
       "    </tr>\n",
       "    <tr>\n",
       "      <th>1</th>\n",
       "      <td>3</td>\n",
       "      <td>2012-02-20</td>\n",
       "      <td>Presidents Day (Washingtons Birthday)</td>\n",
       "    </tr>\n",
       "    <tr>\n",
       "      <th>2</th>\n",
       "      <td>4</td>\n",
       "      <td>2012-05-28</td>\n",
       "      <td>Memorial Day</td>\n",
       "    </tr>\n",
       "    <tr>\n",
       "      <th>3</th>\n",
       "      <td>5</td>\n",
       "      <td>2012-07-04</td>\n",
       "      <td>Independence Day</td>\n",
       "    </tr>\n",
       "    <tr>\n",
       "      <th>4</th>\n",
       "      <td>6</td>\n",
       "      <td>2012-09-03</td>\n",
       "      <td>Labor Day</td>\n",
       "    </tr>\n",
       "  </tbody>\n",
       "</table>\n",
       "</div>"
      ],
      "text/plain": [
       "   1  2012-01-02                           New Year Day\n",
       "0  2  2012-01-16             Martin Luther King Jr. Day\n",
       "1  3  2012-02-20  Presidents Day (Washingtons Birthday)\n",
       "2  4  2012-05-28                           Memorial Day\n",
       "3  5  2012-07-04                       Independence Day\n",
       "4  6  2012-09-03                              Labor Day"
      ]
     },
     "execution_count": 48,
     "metadata": {},
     "output_type": "execute_result"
    }
   ],
   "source": [
    "# show reading a file without a header\n",
    "holidays = pd.read_csv(holidays_url)\n",
    "holidays.head()"
   ]
  },
  {
   "cell_type": "code",
   "execution_count": 49,
   "metadata": {},
   "outputs": [
    {
     "data": {
      "text/plain": [
       "date       object\n",
       "holiday    object\n",
       "dtype: object"
      ]
     },
     "execution_count": 49,
     "metadata": {},
     "output_type": "execute_result"
    }
   ],
   "source": [
    "# passing in the file names \n",
    "holidays = pd.read_csv(holidays_url, header=None, names=['date','holiday'])\n",
    "\n",
    "# add in holiday date types\n",
    "holidays.head()\n",
    "holidays.dtypes"
   ]
  },
  {
   "cell_type": "code",
   "execution_count": 50,
   "metadata": {},
   "outputs": [],
   "source": [
    "holidays['date'] = pd.to_datetime(holidays['date'])\n",
    "holidays = holidays.set_index('date')"
   ]
  },
  {
   "cell_type": "code",
   "execution_count": 51,
   "metadata": {},
   "outputs": [],
   "source": [
    "sales_data_with_holidays = pd.merge(df, holidays, right_index=True, left_index=True, how='left')"
   ]
  },
  {
   "cell_type": "code",
   "execution_count": 52,
   "metadata": {},
   "outputs": [
    {
     "data": {
      "text/plain": [
       "Index(['marketplace_id', 'order_week', 'gl', 'product_family', 'units', 'ops',\n",
       "       'day_name', 'holiday'],\n",
       "      dtype='object')"
      ]
     },
     "execution_count": 52,
     "metadata": {},
     "output_type": "execute_result"
    }
   ],
   "source": [
    "# sales_data_with_holidays['holiday'] = sales_data_with_holidays['holiday'].fillna('No holiday')\n",
    "sales_data_with_holidays.columns"
   ]
  },
  {
   "cell_type": "code",
   "execution_count": 53,
   "metadata": {},
   "outputs": [
    {
     "data": {
      "text/html": [
       "<div>\n",
       "<style scoped>\n",
       "    .dataframe tbody tr th:only-of-type {\n",
       "        vertical-align: middle;\n",
       "    }\n",
       "\n",
       "    .dataframe tbody tr th {\n",
       "        vertical-align: top;\n",
       "    }\n",
       "\n",
       "    .dataframe thead th {\n",
       "        text-align: right;\n",
       "    }\n",
       "</style>\n",
       "<table border=\"1\" class=\"dataframe\">\n",
       "  <thead>\n",
       "    <tr style=\"text-align: right;\">\n",
       "      <th></th>\n",
       "      <th>marketplace_id</th>\n",
       "      <th>order_week</th>\n",
       "      <th>gl</th>\n",
       "      <th>product_family</th>\n",
       "      <th>units</th>\n",
       "      <th>ops</th>\n",
       "      <th>day_name</th>\n",
       "      <th>holiday</th>\n",
       "    </tr>\n",
       "  </thead>\n",
       "  <tbody>\n",
       "    <tr>\n",
       "      <th>2017-01-01</th>\n",
       "      <td>1</td>\n",
       "      <td>2017-01-07</td>\n",
       "      <td>Amazon_Pantry</td>\n",
       "      <td>Consumables</td>\n",
       "      <td>9460.696331</td>\n",
       "      <td>46576.224274</td>\n",
       "      <td>Sunday</td>\n",
       "      <td>NaN</td>\n",
       "    </tr>\n",
       "    <tr>\n",
       "      <th>2017-01-01</th>\n",
       "      <td>1</td>\n",
       "      <td>2017-01-07</td>\n",
       "      <td>Apparel</td>\n",
       "      <td>Softlines</td>\n",
       "      <td>25747.301580</td>\n",
       "      <td>518385.466484</td>\n",
       "      <td>Sunday</td>\n",
       "      <td>NaN</td>\n",
       "    </tr>\n",
       "    <tr>\n",
       "      <th>2017-01-01</th>\n",
       "      <td>1</td>\n",
       "      <td>2017-01-07</td>\n",
       "      <td>Art</td>\n",
       "      <td>Hardlines</td>\n",
       "      <td>0.700692</td>\n",
       "      <td>134.004846</td>\n",
       "      <td>Sunday</td>\n",
       "      <td>NaN</td>\n",
       "    </tr>\n",
       "    <tr>\n",
       "      <th>2017-01-01</th>\n",
       "      <td>1</td>\n",
       "      <td>2017-01-07</td>\n",
       "      <td>Art and Craft Supplies</td>\n",
       "      <td>Hardlines</td>\n",
       "      <td>152.869492</td>\n",
       "      <td>1973.414864</td>\n",
       "      <td>Sunday</td>\n",
       "      <td>NaN</td>\n",
       "    </tr>\n",
       "    <tr>\n",
       "      <th>2017-01-01</th>\n",
       "      <td>1</td>\n",
       "      <td>2017-01-07</td>\n",
       "      <td>Automotive</td>\n",
       "      <td>Hardlines</td>\n",
       "      <td>9029.013707</td>\n",
       "      <td>281442.376425</td>\n",
       "      <td>Sunday</td>\n",
       "      <td>NaN</td>\n",
       "    </tr>\n",
       "  </tbody>\n",
       "</table>\n",
       "</div>"
      ],
      "text/plain": [
       "            marketplace_id order_week                      gl product_family  \\\n",
       "2017-01-01               1 2017-01-07           Amazon_Pantry    Consumables   \n",
       "2017-01-01               1 2017-01-07                 Apparel      Softlines   \n",
       "2017-01-01               1 2017-01-07                     Art      Hardlines   \n",
       "2017-01-01               1 2017-01-07  Art and Craft Supplies      Hardlines   \n",
       "2017-01-01               1 2017-01-07              Automotive      Hardlines   \n",
       "\n",
       "                   units            ops day_name holiday  \n",
       "2017-01-01   9460.696331   46576.224274   Sunday     NaN  \n",
       "2017-01-01  25747.301580  518385.466484   Sunday     NaN  \n",
       "2017-01-01      0.700692     134.004846   Sunday     NaN  \n",
       "2017-01-01    152.869492    1973.414864   Sunday     NaN  \n",
       "2017-01-01   9029.013707  281442.376425   Sunday     NaN  "
      ]
     },
     "execution_count": 53,
     "metadata": {},
     "output_type": "execute_result"
    }
   ],
   "source": [
    "sales_data_with_holidays.head()"
   ]
  },
  {
   "cell_type": "code",
   "execution_count": 54,
   "metadata": {},
   "outputs": [
    {
     "data": {
      "text/html": [
       "<div>\n",
       "<style scoped>\n",
       "    .dataframe tbody tr th:only-of-type {\n",
       "        vertical-align: middle;\n",
       "    }\n",
       "\n",
       "    .dataframe tbody tr th {\n",
       "        vertical-align: top;\n",
       "    }\n",
       "\n",
       "    .dataframe thead th {\n",
       "        text-align: right;\n",
       "    }\n",
       "</style>\n",
       "<table border=\"1\" class=\"dataframe\">\n",
       "  <thead>\n",
       "    <tr style=\"text-align: right;\">\n",
       "      <th></th>\n",
       "      <th>marketplace_id</th>\n",
       "      <th>order_week</th>\n",
       "      <th>gl</th>\n",
       "      <th>product_family</th>\n",
       "      <th>units</th>\n",
       "      <th>ops</th>\n",
       "      <th>day_name</th>\n",
       "      <th>holiday</th>\n",
       "    </tr>\n",
       "  </thead>\n",
       "  <tbody>\n",
       "    <tr>\n",
       "      <th>2017-01-02</th>\n",
       "      <td>1</td>\n",
       "      <td>2017-01-07</td>\n",
       "      <td>Amazon_Pantry</td>\n",
       "      <td>Consumables</td>\n",
       "      <td>13828.318507</td>\n",
       "      <td>61148.434296</td>\n",
       "      <td>Monday</td>\n",
       "      <td>New Year Day</td>\n",
       "    </tr>\n",
       "    <tr>\n",
       "      <th>2017-01-02</th>\n",
       "      <td>1</td>\n",
       "      <td>2017-01-07</td>\n",
       "      <td>Apparel</td>\n",
       "      <td>Softlines</td>\n",
       "      <td>33581.730644</td>\n",
       "      <td>662315.758715</td>\n",
       "      <td>Monday</td>\n",
       "      <td>New Year Day</td>\n",
       "    </tr>\n",
       "    <tr>\n",
       "      <th>2017-01-02</th>\n",
       "      <td>1</td>\n",
       "      <td>2017-01-07</td>\n",
       "      <td>Art</td>\n",
       "      <td>Hardlines</td>\n",
       "      <td>0.594952</td>\n",
       "      <td>194.296205</td>\n",
       "      <td>Monday</td>\n",
       "      <td>New Year Day</td>\n",
       "    </tr>\n",
       "    <tr>\n",
       "      <th>2017-01-02</th>\n",
       "      <td>1</td>\n",
       "      <td>2017-01-07</td>\n",
       "      <td>Art and Craft Supplies</td>\n",
       "      <td>Hardlines</td>\n",
       "      <td>182.589249</td>\n",
       "      <td>2297.702145</td>\n",
       "      <td>Monday</td>\n",
       "      <td>New Year Day</td>\n",
       "    </tr>\n",
       "    <tr>\n",
       "      <th>2017-01-02</th>\n",
       "      <td>1</td>\n",
       "      <td>2017-01-07</td>\n",
       "      <td>Automotive</td>\n",
       "      <td>Hardlines</td>\n",
       "      <td>11318.818093</td>\n",
       "      <td>385564.035064</td>\n",
       "      <td>Monday</td>\n",
       "      <td>New Year Day</td>\n",
       "    </tr>\n",
       "  </tbody>\n",
       "</table>\n",
       "</div>"
      ],
      "text/plain": [
       "            marketplace_id order_week                      gl product_family  \\\n",
       "2017-01-02               1 2017-01-07           Amazon_Pantry    Consumables   \n",
       "2017-01-02               1 2017-01-07                 Apparel      Softlines   \n",
       "2017-01-02               1 2017-01-07                     Art      Hardlines   \n",
       "2017-01-02               1 2017-01-07  Art and Craft Supplies      Hardlines   \n",
       "2017-01-02               1 2017-01-07              Automotive      Hardlines   \n",
       "\n",
       "                   units            ops day_name       holiday  \n",
       "2017-01-02  13828.318507   61148.434296   Monday  New Year Day  \n",
       "2017-01-02  33581.730644  662315.758715   Monday  New Year Day  \n",
       "2017-01-02      0.594952     194.296205   Monday  New Year Day  \n",
       "2017-01-02    182.589249    2297.702145   Monday  New Year Day  \n",
       "2017-01-02  11318.818093  385564.035064   Monday  New Year Day  "
      ]
     },
     "execution_count": 54,
     "metadata": {},
     "output_type": "execute_result"
    }
   ],
   "source": [
    "sales_data_with_holidays[~sales_data_with_holidays['holiday'].isnull()].head()"
   ]
  },
  {
   "cell_type": "markdown",
   "metadata": {},
   "source": [
    "# Extensions\n",
    "\n",
    "This section lists some ideas for extending the tutorial that you may wish to explore.\n",
    "* Describe three examples when Pandas would be better than using Excel directly.\n",
    "* Complete the next example that uses Pandas to clean a dataset. \n",
    "\n",
    "# Further Reading\n",
    "This section provides more resources on the topic if you are looking to go deeper.\n",
    "\n",
    "## Books\n",
    "* Python for Data Analysis, by William McKinney. http://shop.oreilly.com/product/0636920023784.do\n",
    "\n",
    "## APIs\n",
    "* Pandas. https://pandas.pydata.org/\n",
    "\n",
    "## Articles\n",
    "* Getting started with Pandas in 5 minutes, on Towards Data Science. https://medium.com/bhavaniravi/python-pandas-tutorial-92018da85a33\n",
    "* My Pandas Cheat Sheet, on Towards Data Science. https://towardsdatascience.com/my-python-pandas-cheat-sheet-746b11e44368\n",
    "    \n",
    "# Summary\n",
    "\n",
    "In this tutorial, you used Pandas for more advanced data analysis. Specifically, you learned:\n",
    "* Basic indexing and working with dates\n",
    "* Reading data from multiple sources\n",
    "* Merging data (joins/vlookup)\n",
    "* Groupby, pivot_table, transform, melt\n",
    "\n",
    "# Next\n",
    "\n",
    "In the next section, you will use Pandas to explore a dataset. "
   ]
  },
  {
   "cell_type": "code",
   "execution_count": null,
   "metadata": {},
   "outputs": [],
   "source": []
  }
 ],
 "metadata": {
  "kernelspec": {
   "display_name": "Python 3",
   "language": "python",
   "name": "python3"
  },
  "language_info": {
   "codemirror_mode": {
    "name": "ipython",
    "version": 3
   },
   "file_extension": ".py",
   "mimetype": "text/x-python",
   "name": "python",
   "nbconvert_exporter": "python",
   "pygments_lexer": "ipython3",
   "version": "3.8.8"
  },
  "toc": {
   "base_numbering": 1,
   "nav_menu": {},
   "number_sections": true,
   "sideBar": true,
   "skip_h1_title": false,
   "title_cell": "Table of Contents",
   "title_sidebar": "Contents",
   "toc_cell": false,
   "toc_position": {},
   "toc_section_display": true,
   "toc_window_display": false
  }
 },
 "nbformat": 4,
 "nbformat_minor": 4
}
