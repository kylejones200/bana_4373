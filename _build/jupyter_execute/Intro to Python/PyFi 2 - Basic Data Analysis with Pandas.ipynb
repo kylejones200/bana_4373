{
 "cells": [
  {
   "cell_type": "markdown",
   "metadata": {},
   "source": [
    "# Summary\n",
    "\n",
    "Python can be used to create websites, automate tasks, and do numerical analysis. The Python library that is most often used for analysis is called Pandas (short for Panel Analysis).\n",
    "\n",
    "After completing this tutorial, you will know:\n",
    "* How to use Pandas DataFrames to open \\*.csv and \\*.xlsx files\n",
    "* How to apply functions to DataFrames to calcuate the mean and standard deviation\n",
    "* How to make basic plots\n",
    "\n",
    "Let’s get started."
   ]
  },
  {
   "cell_type": "markdown",
   "metadata": {},
   "source": [
    "# Tutorial Overview\n",
    "This tutorial is divided into 2 parts:\n",
    "1. Pandas basics\n",
    "2. Exercises: Your turn!"
   ]
  },
  {
   "cell_type": "markdown",
   "metadata": {},
   "source": [
    "# Pandas basics"
   ]
  },
  {
   "cell_type": "markdown",
   "metadata": {},
   "source": [
    "**Pandas** is all about **DataFrames** (df), which are analogous to tables in Excel or SQL, or to R's data.frame.  Dataframes are made up of **Series** (i.e. columns) and can be manipulated with simple or complex transformations like filtering, aggregating, joining, and pivoting/unpivoting."
   ]
  },
  {
   "cell_type": "markdown",
   "metadata": {},
   "source": [
    "## Read a text file into Pandas as a DataFrame and explore the data"
   ]
  },
  {
   "cell_type": "markdown",
   "metadata": {},
   "source": [
    "We'll import a sample data set with daily sales in the US marketplace for 2017, grouped by GL and including a column for product family (big4).  To read the text file into memory, we provide the path to the file.  You only need to provide the path relative to the folder that contains your code.  For example, this Jupyter notebook is in a folder called Workbooks.  So when we specify the path as 'Support_Files/sales_fake.txt', Pandas will look for the file called sales_fake.txt inside Workbooks/Support_Files/.  Alternatively, you can always hard code the entire path (e.g. 'C:/some_folder/some_subfolder/sales_fake.txt') if you are unsure how to use relative paths."
   ]
  },
  {
   "cell_type": "code",
   "execution_count": 1,
   "metadata": {},
   "outputs": [],
   "source": [
    "import pandas as pd\n",
    "import matplotlib.pyplot as plt\n",
    "\n",
    "%matplotlib inline"
   ]
  },
  {
   "cell_type": "code",
   "execution_count": 2,
   "metadata": {},
   "outputs": [],
   "source": [
    "# Read data into Python from .txt\n",
    "sales = pd.read_csv('data/sales_fake.csv')"
   ]
  },
  {
   "cell_type": "code",
   "execution_count": 3,
   "metadata": {},
   "outputs": [
    {
     "data": {
      "text/html": [
       "<div>\n",
       "<style scoped>\n",
       "    .dataframe tbody tr th:only-of-type {\n",
       "        vertical-align: middle;\n",
       "    }\n",
       "\n",
       "    .dataframe tbody tr th {\n",
       "        vertical-align: top;\n",
       "    }\n",
       "\n",
       "    .dataframe thead th {\n",
       "        text-align: right;\n",
       "    }\n",
       "</style>\n",
       "<table border=\"1\" class=\"dataframe\">\n",
       "  <thead>\n",
       "    <tr style=\"text-align: right;\">\n",
       "      <th></th>\n",
       "      <th>marketplace_id</th>\n",
       "      <th>order_day</th>\n",
       "      <th>order_week</th>\n",
       "      <th>gl</th>\n",
       "      <th>product_family</th>\n",
       "      <th>units</th>\n",
       "      <th>ops</th>\n",
       "    </tr>\n",
       "  </thead>\n",
       "  <tbody>\n",
       "    <tr>\n",
       "      <td>0</td>\n",
       "      <td>1</td>\n",
       "      <td>2017-01-01</td>\n",
       "      <td>2017-01-07</td>\n",
       "      <td>Amazon_Pantry</td>\n",
       "      <td>Consumables</td>\n",
       "      <td>9460.696331</td>\n",
       "      <td>46576.224274</td>\n",
       "    </tr>\n",
       "    <tr>\n",
       "      <td>1</td>\n",
       "      <td>1</td>\n",
       "      <td>2017-01-02</td>\n",
       "      <td>2017-01-07</td>\n",
       "      <td>Amazon_Pantry</td>\n",
       "      <td>Consumables</td>\n",
       "      <td>13828.318507</td>\n",
       "      <td>61148.434296</td>\n",
       "    </tr>\n",
       "    <tr>\n",
       "      <td>2</td>\n",
       "      <td>1</td>\n",
       "      <td>2017-01-03</td>\n",
       "      <td>2017-01-07</td>\n",
       "      <td>Amazon_Pantry</td>\n",
       "      <td>Consumables</td>\n",
       "      <td>12308.348366</td>\n",
       "      <td>59960.632711</td>\n",
       "    </tr>\n",
       "    <tr>\n",
       "      <td>3</td>\n",
       "      <td>1</td>\n",
       "      <td>2017-01-04</td>\n",
       "      <td>2017-01-07</td>\n",
       "      <td>Amazon_Pantry</td>\n",
       "      <td>Consumables</td>\n",
       "      <td>11912.807101</td>\n",
       "      <td>58991.544654</td>\n",
       "    </tr>\n",
       "    <tr>\n",
       "      <td>4</td>\n",
       "      <td>1</td>\n",
       "      <td>2017-01-05</td>\n",
       "      <td>2017-01-07</td>\n",
       "      <td>Amazon_Pantry</td>\n",
       "      <td>Consumables</td>\n",
       "      <td>10817.883315</td>\n",
       "      <td>54032.017658</td>\n",
       "    </tr>\n",
       "    <tr>\n",
       "      <td>5</td>\n",
       "      <td>1</td>\n",
       "      <td>2017-01-06</td>\n",
       "      <td>2017-01-07</td>\n",
       "      <td>Amazon_Pantry</td>\n",
       "      <td>Consumables</td>\n",
       "      <td>10585.850959</td>\n",
       "      <td>51928.496274</td>\n",
       "    </tr>\n",
       "    <tr>\n",
       "      <td>6</td>\n",
       "      <td>1</td>\n",
       "      <td>2017-01-07</td>\n",
       "      <td>2017-01-07</td>\n",
       "      <td>Amazon_Pantry</td>\n",
       "      <td>Consumables</td>\n",
       "      <td>12170.592881</td>\n",
       "      <td>61172.924939</td>\n",
       "    </tr>\n",
       "    <tr>\n",
       "      <td>7</td>\n",
       "      <td>1</td>\n",
       "      <td>2017-01-08</td>\n",
       "      <td>2017-01-14</td>\n",
       "      <td>Amazon_Pantry</td>\n",
       "      <td>Consumables</td>\n",
       "      <td>14468.694255</td>\n",
       "      <td>63383.543121</td>\n",
       "    </tr>\n",
       "    <tr>\n",
       "      <td>8</td>\n",
       "      <td>1</td>\n",
       "      <td>2017-01-09</td>\n",
       "      <td>2017-01-14</td>\n",
       "      <td>Amazon_Pantry</td>\n",
       "      <td>Consumables</td>\n",
       "      <td>12385.589620</td>\n",
       "      <td>58211.500811</td>\n",
       "    </tr>\n",
       "    <tr>\n",
       "      <td>9</td>\n",
       "      <td>1</td>\n",
       "      <td>2017-01-10</td>\n",
       "      <td>2017-01-14</td>\n",
       "      <td>Amazon_Pantry</td>\n",
       "      <td>Consumables</td>\n",
       "      <td>10700.052752</td>\n",
       "      <td>52852.624223</td>\n",
       "    </tr>\n",
       "  </tbody>\n",
       "</table>\n",
       "</div>"
      ],
      "text/plain": [
       "   marketplace_id   order_day  order_week             gl product_family  \\\n",
       "0               1  2017-01-01  2017-01-07  Amazon_Pantry    Consumables   \n",
       "1               1  2017-01-02  2017-01-07  Amazon_Pantry    Consumables   \n",
       "2               1  2017-01-03  2017-01-07  Amazon_Pantry    Consumables   \n",
       "3               1  2017-01-04  2017-01-07  Amazon_Pantry    Consumables   \n",
       "4               1  2017-01-05  2017-01-07  Amazon_Pantry    Consumables   \n",
       "5               1  2017-01-06  2017-01-07  Amazon_Pantry    Consumables   \n",
       "6               1  2017-01-07  2017-01-07  Amazon_Pantry    Consumables   \n",
       "7               1  2017-01-08  2017-01-14  Amazon_Pantry    Consumables   \n",
       "8               1  2017-01-09  2017-01-14  Amazon_Pantry    Consumables   \n",
       "9               1  2017-01-10  2017-01-14  Amazon_Pantry    Consumables   \n",
       "\n",
       "          units           ops  \n",
       "0   9460.696331  46576.224274  \n",
       "1  13828.318507  61148.434296  \n",
       "2  12308.348366  59960.632711  \n",
       "3  11912.807101  58991.544654  \n",
       "4  10817.883315  54032.017658  \n",
       "5  10585.850959  51928.496274  \n",
       "6  12170.592881  61172.924939  \n",
       "7  14468.694255  63383.543121  \n",
       "8  12385.589620  58211.500811  \n",
       "9  10700.052752  52852.624223  "
      ]
     },
     "execution_count": 3,
     "metadata": {},
     "output_type": "execute_result"
    }
   ],
   "source": [
    "# View the first 10 rows of the dataframe (see also: tail)\n",
    "sales.head(10)"
   ]
  },
  {
   "cell_type": "markdown",
   "metadata": {},
   "source": [
    "### Exercise: What do these DataFrame methods do? Try them out.\n",
    "The .head() **method** above is just one of the many methods that can be applied to Pandas dataframes. In general, these methods return some transformation of the dataframe to which they are applied. Take a few minutes and play around with some of the methods below, using the sales dataframe. \n",
    "\n",
    "See https://pandas.pydata.org/pandas-docs/stable/generated/pandas.DataFrame.html under \"Methods\" for a complete list.\n",
    "\n",
    "Some useful methods: \n",
    "\n",
    "    .count()  .describe()  .info()  .mean()  .median()  .nunique()  .plot()  .shift()  .transpose()\n",
    "\n",
    "Dataframes also have certain **attributes** which are accessed similarly, but without the ().  What do these attributes represent?\n",
    "\n",
    "    .columns  .dtypes  .empty  .shape  .size  .values"
   ]
  },
  {
   "cell_type": "code",
   "execution_count": 4,
   "metadata": {},
   "outputs": [],
   "source": [
    "### CODE FOR ABOVE EXERCISE ###\n",
    "\n",
    "\n"
   ]
  },
  {
   "cell_type": "code",
   "execution_count": 5,
   "metadata": {},
   "outputs": [
    {
     "data": {
      "text/plain": [
       "0         9460.696331\n",
       "1        13828.318507\n",
       "2        12308.348366\n",
       "3        11912.807101\n",
       "4        10817.883315\n",
       "             ...     \n",
       "20600     2662.391432\n",
       "20601     2764.977243\n",
       "20602     3170.902842\n",
       "20603     3108.060954\n",
       "20604     1354.866306\n",
       "Name: units, Length: 20605, dtype: float64"
      ]
     },
     "execution_count": 5,
     "metadata": {},
     "output_type": "execute_result"
    }
   ],
   "source": [
    "# Select just a single column (i.e. Series object) from a dataframe:\n",
    "sales['units']"
   ]
  },
  {
   "cell_type": "code",
   "execution_count": 6,
   "metadata": {},
   "outputs": [
    {
     "data": {
      "text/html": [
       "<div>\n",
       "<style scoped>\n",
       "    .dataframe tbody tr th:only-of-type {\n",
       "        vertical-align: middle;\n",
       "    }\n",
       "\n",
       "    .dataframe tbody tr th {\n",
       "        vertical-align: top;\n",
       "    }\n",
       "\n",
       "    .dataframe thead th {\n",
       "        text-align: right;\n",
       "    }\n",
       "</style>\n",
       "<table border=\"1\" class=\"dataframe\">\n",
       "  <thead>\n",
       "    <tr style=\"text-align: right;\">\n",
       "      <th></th>\n",
       "      <th>order_day</th>\n",
       "      <th>gl</th>\n",
       "      <th>ops</th>\n",
       "    </tr>\n",
       "  </thead>\n",
       "  <tbody>\n",
       "    <tr>\n",
       "      <td>0</td>\n",
       "      <td>2017-01-01</td>\n",
       "      <td>Amazon_Pantry</td>\n",
       "      <td>46576.224274</td>\n",
       "    </tr>\n",
       "    <tr>\n",
       "      <td>1</td>\n",
       "      <td>2017-01-02</td>\n",
       "      <td>Amazon_Pantry</td>\n",
       "      <td>61148.434296</td>\n",
       "    </tr>\n",
       "    <tr>\n",
       "      <td>2</td>\n",
       "      <td>2017-01-03</td>\n",
       "      <td>Amazon_Pantry</td>\n",
       "      <td>59960.632711</td>\n",
       "    </tr>\n",
       "    <tr>\n",
       "      <td>3</td>\n",
       "      <td>2017-01-04</td>\n",
       "      <td>Amazon_Pantry</td>\n",
       "      <td>58991.544654</td>\n",
       "    </tr>\n",
       "    <tr>\n",
       "      <td>4</td>\n",
       "      <td>2017-01-05</td>\n",
       "      <td>Amazon_Pantry</td>\n",
       "      <td>54032.017658</td>\n",
       "    </tr>\n",
       "  </tbody>\n",
       "</table>\n",
       "</div>"
      ],
      "text/plain": [
       "    order_day             gl           ops\n",
       "0  2017-01-01  Amazon_Pantry  46576.224274\n",
       "1  2017-01-02  Amazon_Pantry  61148.434296\n",
       "2  2017-01-03  Amazon_Pantry  59960.632711\n",
       "3  2017-01-04  Amazon_Pantry  58991.544654\n",
       "4  2017-01-05  Amazon_Pantry  54032.017658"
      ]
     },
     "execution_count": 6,
     "metadata": {},
     "output_type": "execute_result"
    }
   ],
   "source": [
    "# The above series isn't very useful by itself, since we lose the date information.  To select a subset of columns, pass in a list of columns:\n",
    "col_list = ['order_day', 'gl', 'ops']\n",
    "sales[col_list].head()\n",
    "\n",
    "# Or equivalently:\n",
    "sales[['order_day', 'gl', 'ops']].head()"
   ]
  },
  {
   "cell_type": "code",
   "execution_count": 7,
   "metadata": {},
   "outputs": [
    {
     "data": {
      "text/plain": [
       "array(['Consumables', 'Softlines', 'Hardlines', 'Media'], dtype=object)"
      ]
     },
     "execution_count": 7,
     "metadata": {},
     "output_type": "execute_result"
    }
   ],
   "source": [
    "# What are all the unique product families? use unique() on a single series:\n",
    "sales['product_family'].unique()"
   ]
  },
  {
   "cell_type": "code",
   "execution_count": 8,
   "metadata": {},
   "outputs": [
    {
     "data": {
      "text/plain": [
       "Hardlines      10608\n",
       "Consumables     5455\n",
       "Media           2582\n",
       "Softlines       1960\n",
       "Name: product_family, dtype: int64"
      ]
     },
     "execution_count": 8,
     "metadata": {},
     "output_type": "execute_result"
    }
   ],
   "source": [
    "# Or get the count of observations from each product family.  Note that the .value_counts() method only works if applied to a Series - not a DataFrame.  \n",
    "# What happens if you try to call .value_counts() on a DataFrame?\n",
    "sales['product_family'].value_counts()"
   ]
  },
  {
   "cell_type": "code",
   "execution_count": 9,
   "metadata": {},
   "outputs": [
    {
     "data": {
      "text/plain": [
       "5441037303.093659"
      ]
     },
     "execution_count": 9,
     "metadata": {},
     "output_type": "execute_result"
    }
   ],
   "source": [
    "# Print the total sales for the year.  The .sum() method works on both Series and DataFrames.\n",
    "sales['ops'].sum()"
   ]
  },
  {
   "cell_type": "code",
   "execution_count": 10,
   "metadata": {},
   "outputs": [
    {
     "data": {
      "text/html": [
       "<div>\n",
       "<style scoped>\n",
       "    .dataframe tbody tr th:only-of-type {\n",
       "        vertical-align: middle;\n",
       "    }\n",
       "\n",
       "    .dataframe tbody tr th {\n",
       "        vertical-align: top;\n",
       "    }\n",
       "\n",
       "    .dataframe thead th {\n",
       "        text-align: right;\n",
       "    }\n",
       "</style>\n",
       "<table border=\"1\" class=\"dataframe\">\n",
       "  <thead>\n",
       "    <tr style=\"text-align: right;\">\n",
       "      <th></th>\n",
       "      <th>marketplace_id</th>\n",
       "      <th>order_day</th>\n",
       "      <th>order_week</th>\n",
       "      <th>gl</th>\n",
       "      <th>product_family</th>\n",
       "      <th>units</th>\n",
       "      <th>ops</th>\n",
       "      <th>country</th>\n",
       "    </tr>\n",
       "  </thead>\n",
       "  <tbody>\n",
       "    <tr>\n",
       "      <td>0</td>\n",
       "      <td>1</td>\n",
       "      <td>2017-01-01</td>\n",
       "      <td>2017-01-07</td>\n",
       "      <td>Amazon_Pantry</td>\n",
       "      <td>Consumables</td>\n",
       "      <td>9460.696331</td>\n",
       "      <td>46576.224274</td>\n",
       "      <td>US</td>\n",
       "    </tr>\n",
       "    <tr>\n",
       "      <td>1</td>\n",
       "      <td>1</td>\n",
       "      <td>2017-01-02</td>\n",
       "      <td>2017-01-07</td>\n",
       "      <td>Amazon_Pantry</td>\n",
       "      <td>Consumables</td>\n",
       "      <td>13828.318507</td>\n",
       "      <td>61148.434296</td>\n",
       "      <td>US</td>\n",
       "    </tr>\n",
       "    <tr>\n",
       "      <td>2</td>\n",
       "      <td>1</td>\n",
       "      <td>2017-01-03</td>\n",
       "      <td>2017-01-07</td>\n",
       "      <td>Amazon_Pantry</td>\n",
       "      <td>Consumables</td>\n",
       "      <td>12308.348366</td>\n",
       "      <td>59960.632711</td>\n",
       "      <td>US</td>\n",
       "    </tr>\n",
       "    <tr>\n",
       "      <td>3</td>\n",
       "      <td>1</td>\n",
       "      <td>2017-01-04</td>\n",
       "      <td>2017-01-07</td>\n",
       "      <td>Amazon_Pantry</td>\n",
       "      <td>Consumables</td>\n",
       "      <td>11912.807101</td>\n",
       "      <td>58991.544654</td>\n",
       "      <td>US</td>\n",
       "    </tr>\n",
       "    <tr>\n",
       "      <td>4</td>\n",
       "      <td>1</td>\n",
       "      <td>2017-01-05</td>\n",
       "      <td>2017-01-07</td>\n",
       "      <td>Amazon_Pantry</td>\n",
       "      <td>Consumables</td>\n",
       "      <td>10817.883315</td>\n",
       "      <td>54032.017658</td>\n",
       "      <td>US</td>\n",
       "    </tr>\n",
       "  </tbody>\n",
       "</table>\n",
       "</div>"
      ],
      "text/plain": [
       "   marketplace_id   order_day  order_week             gl product_family  \\\n",
       "0               1  2017-01-01  2017-01-07  Amazon_Pantry    Consumables   \n",
       "1               1  2017-01-02  2017-01-07  Amazon_Pantry    Consumables   \n",
       "2               1  2017-01-03  2017-01-07  Amazon_Pantry    Consumables   \n",
       "3               1  2017-01-04  2017-01-07  Amazon_Pantry    Consumables   \n",
       "4               1  2017-01-05  2017-01-07  Amazon_Pantry    Consumables   \n",
       "\n",
       "          units           ops country  \n",
       "0   9460.696331  46576.224274      US  \n",
       "1  13828.318507  61148.434296      US  \n",
       "2  12308.348366  59960.632711      US  \n",
       "3  11912.807101  58991.544654      US  \n",
       "4  10817.883315  54032.017658      US  "
      ]
     },
     "execution_count": 10,
     "metadata": {},
     "output_type": "execute_result"
    }
   ],
   "source": [
    "# Operations on the series that make up a dataframe generally work as you'd expect.\n",
    "\n",
    "# E.g. add a column for country\n",
    "sales['country'] = 'US'\n",
    "\n",
    "sales.head()"
   ]
  },
  {
   "cell_type": "code",
   "execution_count": 11,
   "metadata": {},
   "outputs": [
    {
     "data": {
      "text/plain": [
       "0        4.923129\n",
       "1        4.421972\n",
       "2        4.871542\n",
       "3        4.951943\n",
       "4        4.994694\n",
       "           ...   \n",
       "20600    2.381879\n",
       "20601    2.230902\n",
       "20602    2.216904\n",
       "20603    2.073844\n",
       "20604    2.313887\n",
       "Length: 20605, dtype: float64"
      ]
     },
     "execution_count": 11,
     "metadata": {},
     "output_type": "execute_result"
    }
   ],
   "source": [
    "# Adding calculated columns is easy, too.  First, calculate the ASP and print the results:\n",
    "sales['ops'] / sales['units']"
   ]
  },
  {
   "cell_type": "markdown",
   "metadata": {},
   "source": [
    "#### Mini exercise: add the ASP, as calculated above, to the sales dataframe as a series called asp ###"
   ]
  },
  {
   "cell_type": "code",
   "execution_count": 12,
   "metadata": {},
   "outputs": [],
   "source": [
    "### CODE FOR ABOVE EXERCISE ###\n"
   ]
  },
  {
   "cell_type": "markdown",
   "metadata": {},
   "source": [
    "## Filtering with row conditions\n",
    "The .loc() method is highly useful for filtering dfs.  You can think of the condition(s) inside .loc as being roughly equivalent to the \"ifs\" in Excel's sumifs function, or the conditions in a WHERE clause in SQL."
   ]
  },
  {
   "cell_type": "code",
   "execution_count": 13,
   "metadata": {},
   "outputs": [
    {
     "data": {
      "text/html": [
       "<div>\n",
       "<style scoped>\n",
       "    .dataframe tbody tr th:only-of-type {\n",
       "        vertical-align: middle;\n",
       "    }\n",
       "\n",
       "    .dataframe tbody tr th {\n",
       "        vertical-align: top;\n",
       "    }\n",
       "\n",
       "    .dataframe thead th {\n",
       "        text-align: right;\n",
       "    }\n",
       "</style>\n",
       "<table border=\"1\" class=\"dataframe\">\n",
       "  <thead>\n",
       "    <tr style=\"text-align: right;\">\n",
       "      <th></th>\n",
       "      <th>marketplace_id</th>\n",
       "      <th>order_day</th>\n",
       "      <th>order_week</th>\n",
       "      <th>gl</th>\n",
       "      <th>product_family</th>\n",
       "      <th>units</th>\n",
       "      <th>ops</th>\n",
       "      <th>country</th>\n",
       "    </tr>\n",
       "  </thead>\n",
       "  <tbody>\n",
       "    <tr>\n",
       "      <td>0</td>\n",
       "      <td>1</td>\n",
       "      <td>2017-01-01</td>\n",
       "      <td>2017-01-07</td>\n",
       "      <td>Amazon_Pantry</td>\n",
       "      <td>Consumables</td>\n",
       "      <td>9460.696331</td>\n",
       "      <td>46576.224274</td>\n",
       "      <td>US</td>\n",
       "    </tr>\n",
       "    <tr>\n",
       "      <td>1</td>\n",
       "      <td>1</td>\n",
       "      <td>2017-01-02</td>\n",
       "      <td>2017-01-07</td>\n",
       "      <td>Amazon_Pantry</td>\n",
       "      <td>Consumables</td>\n",
       "      <td>13828.318507</td>\n",
       "      <td>61148.434296</td>\n",
       "      <td>US</td>\n",
       "    </tr>\n",
       "    <tr>\n",
       "      <td>2</td>\n",
       "      <td>1</td>\n",
       "      <td>2017-01-03</td>\n",
       "      <td>2017-01-07</td>\n",
       "      <td>Amazon_Pantry</td>\n",
       "      <td>Consumables</td>\n",
       "      <td>12308.348366</td>\n",
       "      <td>59960.632711</td>\n",
       "      <td>US</td>\n",
       "    </tr>\n",
       "    <tr>\n",
       "      <td>3</td>\n",
       "      <td>1</td>\n",
       "      <td>2017-01-04</td>\n",
       "      <td>2017-01-07</td>\n",
       "      <td>Amazon_Pantry</td>\n",
       "      <td>Consumables</td>\n",
       "      <td>11912.807101</td>\n",
       "      <td>58991.544654</td>\n",
       "      <td>US</td>\n",
       "    </tr>\n",
       "    <tr>\n",
       "      <td>4</td>\n",
       "      <td>1</td>\n",
       "      <td>2017-01-05</td>\n",
       "      <td>2017-01-07</td>\n",
       "      <td>Amazon_Pantry</td>\n",
       "      <td>Consumables</td>\n",
       "      <td>10817.883315</td>\n",
       "      <td>54032.017658</td>\n",
       "      <td>US</td>\n",
       "    </tr>\n",
       "  </tbody>\n",
       "</table>\n",
       "</div>"
      ],
      "text/plain": [
       "   marketplace_id   order_day  order_week             gl product_family  \\\n",
       "0               1  2017-01-01  2017-01-07  Amazon_Pantry    Consumables   \n",
       "1               1  2017-01-02  2017-01-07  Amazon_Pantry    Consumables   \n",
       "2               1  2017-01-03  2017-01-07  Amazon_Pantry    Consumables   \n",
       "3               1  2017-01-04  2017-01-07  Amazon_Pantry    Consumables   \n",
       "4               1  2017-01-05  2017-01-07  Amazon_Pantry    Consumables   \n",
       "\n",
       "          units           ops country  \n",
       "0   9460.696331  46576.224274      US  \n",
       "1  13828.318507  61148.434296      US  \n",
       "2  12308.348366  59960.632711      US  \n",
       "3  11912.807101  58991.544654      US  \n",
       "4  10817.883315  54032.017658      US  "
      ]
     },
     "execution_count": 13,
     "metadata": {},
     "output_type": "execute_result"
    }
   ],
   "source": [
    "# Filter only for the pantry GL and name this view pantry:\n",
    "pantry = sales.loc[sales['gl'] == 'Amazon_Pantry']\n",
    "pantry.head()"
   ]
  },
  {
   "cell_type": "code",
   "execution_count": 14,
   "metadata": {},
   "outputs": [
    {
     "data": {
      "text/html": [
       "<div>\n",
       "<style scoped>\n",
       "    .dataframe tbody tr th:only-of-type {\n",
       "        vertical-align: middle;\n",
       "    }\n",
       "\n",
       "    .dataframe tbody tr th {\n",
       "        vertical-align: top;\n",
       "    }\n",
       "\n",
       "    .dataframe thead th {\n",
       "        text-align: right;\n",
       "    }\n",
       "</style>\n",
       "<table border=\"1\" class=\"dataframe\">\n",
       "  <thead>\n",
       "    <tr style=\"text-align: right;\">\n",
       "      <th></th>\n",
       "      <th>marketplace_id</th>\n",
       "      <th>order_day</th>\n",
       "      <th>order_week</th>\n",
       "      <th>gl</th>\n",
       "      <th>product_family</th>\n",
       "      <th>units</th>\n",
       "      <th>ops</th>\n",
       "      <th>country</th>\n",
       "    </tr>\n",
       "  </thead>\n",
       "  <tbody>\n",
       "    <tr>\n",
       "      <td>546</td>\n",
       "      <td>1</td>\n",
       "      <td>2017-07-01</td>\n",
       "      <td>2017-07-01</td>\n",
       "      <td>Apparel</td>\n",
       "      <td>Softlines</td>\n",
       "      <td>28386.369567</td>\n",
       "      <td>561085.865088</td>\n",
       "      <td>US</td>\n",
       "    </tr>\n",
       "  </tbody>\n",
       "</table>\n",
       "</div>"
      ],
      "text/plain": [
       "     marketplace_id   order_day  order_week       gl product_family  \\\n",
       "546               1  2017-07-01  2017-07-01  Apparel      Softlines   \n",
       "\n",
       "            units            ops country  \n",
       "546  28386.369567  561085.865088      US  "
      ]
     },
     "execution_count": 14,
     "metadata": {},
     "output_type": "execute_result"
    }
   ],
   "source": [
    "# to add multiple conditions, wrap each condition in () and combine them together with &\n",
    "\n",
    "sales.loc[(sales['order_day'] == '2017-07-01') & (sales['gl'] == 'Apparel')]"
   ]
  },
  {
   "cell_type": "markdown",
   "metadata": {},
   "source": [
    "### Exercise: Filter the sales df for Halloween (i.e. order_day is '2017-10-31'), and for the Consumables product_family"
   ]
  },
  {
   "cell_type": "code",
   "execution_count": 15,
   "metadata": {},
   "outputs": [],
   "source": [
    "### CODE FOR ABOVE EXERCISE ###\n",
    "\n",
    "\n"
   ]
  },
  {
   "cell_type": "markdown",
   "metadata": {},
   "source": [
    "## Basic visualizations"
   ]
  },
  {
   "cell_type": "code",
   "execution_count": 16,
   "metadata": {},
   "outputs": [
    {
     "data": {
      "text/plain": [
       "<matplotlib.axes._subplots.AxesSubplot at 0x11f410e50>"
      ]
     },
     "execution_count": 16,
     "metadata": {},
     "output_type": "execute_result"
    },
    {
     "data": {
      "image/png": "[encoded data removed]",
      "text/plain": [
       "<Figure size 432x288 with 1 Axes>"
      ]
     },
     "metadata": {
      "filenames": {
       "image/png": "/Users/jnesnky/bana_analytics/_build/jupyter_execute/Intro to Python/PyFi 2 - Basic Data Analysis with Pandas_26_1.png"
      },
      "needs_background": "light"
     },
     "output_type": "display_data"
    }
   ],
   "source": [
    "# In the background, Pandas uses a Python package called matplotlib to make plotting convenient.\n",
    "# Since our toys df is indexed on date, Pandas automatically treats date as the x-axis.\n",
    "\n",
    "toys = sales[sales['gl']=='Toys'].copy()\n",
    "toys.set_index('order_day', inplace=True)\n",
    "toys['ops'].plot()"
   ]
  },
  {
   "cell_type": "markdown",
   "metadata": {},
   "source": [
    "### Exercise: what other kinds of plots can Pandas produce? Try making a few below.\n",
    "Check out the API documentation for the pd.Series.plot method to find other allowable values of the \"kind\" argument:\n",
    "\n",
    "http://pandas.pydata.org/pandas-docs/version/0.22/generated/pandas.Series.plot.html"
   ]
  },
  {
   "cell_type": "code",
   "execution_count": 17,
   "metadata": {},
   "outputs": [],
   "source": [
    "### CODE FOR ABOVE EXERCISE ###\n",
    "\n",
    "\n"
   ]
  },
  {
   "cell_type": "code",
   "execution_count": 18,
   "metadata": {},
   "outputs": [
    {
     "data": {
      "text/plain": [
       "array([<matplotlib.axes._subplots.AxesSubplot object at 0x11e3e6d90>,\n",
       "       <matplotlib.axes._subplots.AxesSubplot object at 0x12ef40a50>,\n",
       "       <matplotlib.axes._subplots.AxesSubplot object at 0x12ee7df50>],\n",
       "      dtype=object)"
      ]
     },
     "execution_count": 18,
     "metadata": {},
     "output_type": "execute_result"
    },
    {
     "data": {
      "image/png": "[encoded data removed]",
      "text/plain": [
       "<Figure size 432x288 with 3 Axes>"
      ]
     },
     "metadata": {
      "filenames": {
       "image/png": "/Users/jnesnky/bana_analytics/_build/jupyter_execute/Intro to Python/PyFi 2 - Basic Data Analysis with Pandas_29_1.png"
      },
      "needs_background": "light"
     },
     "output_type": "display_data"
    }
   ],
   "source": [
    "# Or we can plot multiple metrics with a shared axis using subplots=True.\n",
    "# With a single line of code, Pandas can create detailed visualizations\n",
    "toys['asp'] = toys['ops'] / toys['units']\n",
    "toys[['units', 'ops', 'asp']].plot(subplots=True)"
   ]
  },
  {
   "cell_type": "code",
   "execution_count": 19,
   "metadata": {},
   "outputs": [
    {
     "data": {
      "text/plain": [
       "<matplotlib.axes._subplots.AxesSubplot at 0x12f108750>"
      ]
     },
     "execution_count": 19,
     "metadata": {},
     "output_type": "execute_result"
    },
    {
     "data": {
      "image/png": "[encoded data removed]",
      "text/plain": [
       "<Figure size 432x288 with 1 Axes>"
      ]
     },
     "metadata": {
      "filenames": {
       "image/png": "/Users/jnesnky/bana_analytics/_build/jupyter_execute/Intro to Python/PyFi 2 - Basic Data Analysis with Pandas_30_1.png"
      },
      "needs_background": "light"
     },
     "output_type": "display_data"
    }
   ],
   "source": [
    "# Histograms are simple to create\n",
    "\n",
    "toys['units'].hist(bins=20)"
   ]
  },
  {
   "cell_type": "markdown",
   "metadata": {},
   "source": [
    "## Exporting Data"
   ]
  },
  {
   "cell_type": "code",
   "execution_count": 20,
   "metadata": {},
   "outputs": [],
   "source": [
    "# If you want to export a DataFrame back to a text file, the syntax to do this is similar to pd.read_csv().\n",
    "# First, define the path / location where you want the file to be saved (including the filename):\n",
    "\n",
    "path_to_save_data = 'data/sales_fake_output.csv'\n",
    "\n",
    "sales.to_csv(path_to_save_data, index=False)"
   ]
  },
  {
   "cell_type": "code",
   "execution_count": 21,
   "metadata": {},
   "outputs": [],
   "source": [
    "# Sometimes you might want to quickly look at the data in Excel.  \n",
    "# Add it to the clipboard and paste it wherever you want!\n",
    "\n",
    "sales.to_clipboard()"
   ]
  },
  {
   "cell_type": "code",
   "execution_count": 22,
   "metadata": {},
   "outputs": [
    {
     "data": {
      "text/plain": [
       "array(['Amazon_Pantry', 'Apparel', 'Art', 'Art and Craft Supplies',\n",
       "       'Automotive', 'Baby', 'Beauty', 'Biss', 'Books', 'Camera',\n",
       "       'Consumables_Email_Gift_Cards', 'Consumables_Physical_Gift_Cards',\n",
       "       'Electronics', 'Entertainment Collectibles', 'Food and Beverage',\n",
       "       'Furniture', 'GUILD', 'Gift Card', 'Gourmet', 'Grocery',\n",
       "       'Health & Personal Care', 'Home', 'Home Entertainment',\n",
       "       'Home Improvement', 'Jewelry', 'Kitchen', 'Lawn and Garden',\n",
       "       'Loose Stones', 'Luggage', 'Luxury Beauty', 'Magazines',\n",
       "       'Major Appliances', 'Misc SDP', 'Mobile_Electronics', 'Music',\n",
       "       'Musical Instruments', 'Office Products', 'Outdoors', 'PC',\n",
       "       'Personal_Care_Appliances', 'Pet Products', 'Prescription_Drugs',\n",
       "       'Prescription_Eyewear', 'Shoes', 'Softlines Private Label',\n",
       "       'Software', 'Sports', 'Sports Memorabilia', 'Tires', 'Tools',\n",
       "       'Toys', 'Universal', 'VALUE_ADDED_SERVICES', 'Video', 'Video DVD',\n",
       "       'Video Games', 'Watches', 'Wine', 'Wireless', 'Wireless_Accessory',\n",
       "       'gl_fresh_ambient', 'gl_fresh_perishable', 'gl_fresh_prepared',\n",
       "       'gl_fresh_produce'], dtype=object)"
      ]
     },
     "execution_count": 22,
     "metadata": {},
     "output_type": "execute_result"
    }
   ],
   "source": [
    "sales.gl.unique()"
   ]
  },
  {
   "cell_type": "markdown",
   "metadata": {},
   "source": [
    "# Exercises: Your turn!"
   ]
  },
  {
   "cell_type": "markdown",
   "metadata": {},
   "source": [
    "Use the sales DataFrame to answer the following questions."
   ]
  },
  {
   "cell_type": "code",
   "execution_count": 23,
   "metadata": {},
   "outputs": [],
   "source": [
    "# First read in the data\n",
    "sales = pd.read_csv('data/sales_fake.csv')"
   ]
  },
  {
   "cell_type": "markdown",
   "metadata": {},
   "source": [
    "1) What is the total OPS from all rows?"
   ]
  },
  {
   "cell_type": "code",
   "execution_count": null,
   "metadata": {},
   "outputs": [],
   "source": []
  },
  {
   "cell_type": "markdown",
   "metadata": {},
   "source": [
    "2) Display the top 5 rows of the Apparel GL"
   ]
  },
  {
   "cell_type": "code",
   "execution_count": null,
   "metadata": {},
   "outputs": [],
   "source": []
  },
  {
   "cell_type": "markdown",
   "metadata": {},
   "source": [
    "3) Plot a line graph of the Apparel units by day"
   ]
  },
  {
   "cell_type": "code",
   "execution_count": null,
   "metadata": {},
   "outputs": [],
   "source": []
  },
  {
   "cell_type": "markdown",
   "metadata": {},
   "source": [
    "4) How many unique GLs are there?"
   ]
  },
  {
   "cell_type": "code",
   "execution_count": null,
   "metadata": {},
   "outputs": [],
   "source": []
  },
  {
   "cell_type": "markdown",
   "metadata": {},
   "source": [
    "5) Filter dataset for only Pet Products. Plot one graph with a line for each of units, ops and asp by day"
   ]
  },
  {
   "cell_type": "code",
   "execution_count": null,
   "metadata": {},
   "outputs": [],
   "source": []
  },
  {
   "cell_type": "markdown",
   "metadata": {},
   "source": [
    "6) Create a new dataframe called \"last_day\" that contains only rows from the last order_day in the dataset"
   ]
  },
  {
   "cell_type": "code",
   "execution_count": null,
   "metadata": {},
   "outputs": [],
   "source": []
  },
  {
   "cell_type": "markdown",
   "metadata": {},
   "source": [
    "7) Output the result above to an excel file called \"test_output.xlsx\""
   ]
  },
  {
   "cell_type": "code",
   "execution_count": null,
   "metadata": {},
   "outputs": [],
   "source": []
  },
  {
   "cell_type": "markdown",
   "metadata": {},
   "source": [
    "# Extensions\n",
    "\n",
    "This section lists some ideas for extending the tutorial that you may wish to explore.\n",
    "* Describe three examples when Pandas would be better than using Excel.\n",
    "* Complete the next example that uses Pandas to import and visualize a dataset. \n",
    "\n",
    "# Further Reading\n",
    "This section provides more resources on the topic if you are looking to go deeper.\n",
    "\n",
    "## Books\n",
    "* Python for Data Analysis, by William McKinney. http://shop.oreilly.com/product/0636920023784.do\n",
    "\n",
    "## APIs\n",
    "* Pandas. https://pandas.pydata.org/\n",
    "\n",
    "## Additional Pandas Tutorials\n",
    "* [Python for Quantitative Economics](https://github.com/QuantEcon/lecture-python-programming.notebooks/blob/master/pandas.ipynb)\n",
    "* [Intro to Pandas](https://github.com/kthyng/python4geosciences/blob/master/materials/4_pandas.ipynb) from Python for Geosciences\n",
    "    \n",
    "# Summary\n",
    "\n",
    "In this tutorial, you were introduced to the Pandas library. Specifically, you learned:\n",
    "* How to use Pandas DataFrames to open \\*.csv and \\*.xlsx files\n",
    "* How to apply functions to DataFrames to calcuate the mean and standard deviation\n",
    "* How to make basic plots\n",
    "\n",
    "# Next\n",
    "\n",
    "In the next section, you will use Pandas to import and work with data. "
   ]
  },
  {
   "cell_type": "code",
   "execution_count": null,
   "metadata": {},
   "outputs": [],
   "source": []
  }
 ],
 "metadata": {
  "kernelspec": {
   "display_name": "Python 3",
   "language": "python",
   "name": "python3"
  },
  "language_info": {
   "codemirror_mode": {
    "name": "ipython",
    "version": 3
   },
   "file_extension": ".py",
   "mimetype": "text/x-python",
   "name": "python",
   "nbconvert_exporter": "python",
   "pygments_lexer": "ipython3",
   "version": "3.7.4"
  },
  "toc": {
   "base_numbering": 1,
   "nav_menu": {},
   "number_sections": true,
   "sideBar": true,
   "skip_h1_title": false,
   "title_cell": "Table of Contents",
   "title_sidebar": "Contents",
   "toc_cell": false,
   "toc_position": {},
   "toc_section_display": true,
   "toc_window_display": false
  }
 },
 "nbformat": 4,
 "nbformat_minor": 4
}