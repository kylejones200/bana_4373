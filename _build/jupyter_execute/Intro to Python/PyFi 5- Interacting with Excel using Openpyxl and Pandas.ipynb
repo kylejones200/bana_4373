{
 "cells": [
  {
   "cell_type": "markdown",
   "metadata": {},
   "source": [
    "# Interacting with Excel"
   ]
  },
  {
   "cell_type": "markdown",
   "metadata": {},
   "source": [
    "For many use cases, you'll only need Pandas, since it contains some of the functionality of the openpyxl package right out of the box.  Other times, you'll want to `import openpyxl` directly.  In this case, we'll explicitly `import openpyxl`, as this allows us to write data to an existing Excel file.\n",
    "\n",
    "\n",
    "Openpyxl is a library for manipulating Excel workbooks and worksheets. In this example we read in a workbook, navigate to a specific sheet and save the values on that sheet as a Pandas DataFrame. Then we can use Pandas methods to clean the data and save it back to the same workbook in a new worksheet.\n",
    "\n",
    "The advantages of Python in this case are:\n",
    "* Speed of processing: Pandas can process calculations faster than Excel\n",
    "* Replicability: It is easier to apply these transformations to another dataset using Python\n",
    "* Readability: Python is easier to read and understand the various transformations applied to the data\n",
    "* Automation: The Python script could be executed automatically to clean the data without human intervention\n",
    "\n",
    "## When to choose Excel or Python\n",
    "Excel is good for small, quick analyses. It allows you to easily see the data in a familiar format. It can present data in tables and basic charts. \n",
    "\n",
    "Python out preforms Excel if you are working with lots of data (Excel max row count is 1 million), applying formulas (especially lookups, matches, and sumifs), and using array functions. \n",
    "\n",
    "There are data wrangling features in Python that are not available in Excel such as stack/unstack, unpivot, and melt. \n",
    "\n",
    "If a worksheet relies heavily on VBA, it is probably a good candidate for converting to Python. Doing the analysis/transforms in Python will be faster and avoid manual errors which can easily happen in Excel. \n",
    "\n",
    "# Tutorial Overview\n",
    "In this module, we will:\n",
    "* import an excel file using Openpyxl\n",
    "* remove the excess columns and rows\n",
    "* export to Excel"
   ]
  },
  {
   "cell_type": "code",
   "execution_count": 1,
   "metadata": {},
   "outputs": [],
   "source": [
    "import pandas as pd\n",
    "import openpyxl"
   ]
  },
  {
   "cell_type": "markdown",
   "metadata": {},
   "source": [
    "### Specify paths to input and output files"
   ]
  },
  {
   "cell_type": "code",
   "execution_count": 2,
   "metadata": {},
   "outputs": [
    {
     "name": "stdout",
     "output_type": "stream",
     "text": [
      "The path to the Excel file we are going to read is:\n",
      "data/excel_input.xlsx\n",
      "\n",
      "The path to the new Excel file we are going to create is:\n",
      "data/excel_output_new_file.xlsx\n"
     ]
    }
   ],
   "source": [
    "path_to_data = 'data/excel_input.xlsx'\n",
    "path_to_output = 'data/excel_output_new_file.xlsx'\n",
    "\n",
    "print('The path to the Excel file we are going to read is:')\n",
    "print(path_to_data)\n",
    "\n",
    "print('\\nThe path to the new Excel file we are going to create is:')\n",
    "print(path_to_output)"
   ]
  },
  {
   "cell_type": "markdown",
   "metadata": {},
   "source": [
    "### Read data from Excel"
   ]
  },
  {
   "cell_type": "code",
   "execution_count": 3,
   "metadata": {},
   "outputs": [
    {
     "name": "stdout",
     "output_type": "stream",
     "text": [
      "retail data:\n",
      "\n",
      "        date channel  units\n",
      "0 2019-01-01  retail    100\n",
      "1 2019-01-02  retail    105\n",
      "2 2019-01-03  retail    103\n",
      "3 2019-01-04  retail    105\n",
      "4 2019-01-05  retail    110\n",
      "5 2019-01-06  retail    101\n",
      "6 2019-01-07  retail    102\n",
      "\n",
      "mfn data:\n",
      "\n",
      "        date channel  units\n",
      "0 2019-01-01     mfn     50\n",
      "1 2019-01-02     mfn     53\n",
      "2 2019-01-03     mfn     52\n",
      "3 2019-01-04     mfn     53\n",
      "4 2019-01-05     mfn     55\n",
      "5 2019-01-06     mfn     51\n",
      "6 2019-01-07     mfn     51\n"
     ]
    }
   ],
   "source": [
    "retail = pd.read_excel(path_to_data, sheet_name='retail')\n",
    "mfn = pd.read_excel(path_to_data, sheet_name='mfn')\n",
    "\n",
    "print('retail data:\\n')\n",
    "print(retail)\n",
    "\n",
    "print('\\nmfn data:\\n')\n",
    "print(mfn)"
   ]
  },
  {
   "cell_type": "markdown",
   "metadata": {},
   "source": [
    "### Generate the desired output\n",
    "In this case, we'll create another data frame that will become a tab in Excel"
   ]
  },
  {
   "cell_type": "code",
   "execution_count": 4,
   "metadata": {},
   "outputs": [
    {
     "name": "stdout",
     "output_type": "stream",
     "text": [
      "combined data:\n",
      "\n",
      "        date channel  units\n",
      "0 2019-01-01  retail    100\n",
      "1 2019-01-02  retail    105\n",
      "2 2019-01-03  retail    103\n",
      "3 2019-01-04  retail    105\n",
      "4 2019-01-05  retail    110\n",
      "5 2019-01-06  retail    101\n",
      "6 2019-01-07  retail    102\n",
      "0 2019-01-01     mfn     50\n",
      "1 2019-01-02     mfn     53\n",
      "2 2019-01-03     mfn     52\n",
      "3 2019-01-04     mfn     53\n",
      "4 2019-01-05     mfn     55\n",
      "5 2019-01-06     mfn     51\n",
      "6 2019-01-07     mfn     51"
     ]
    },
    {
     "name": "stdout",
     "output_type": "stream",
     "text": [
      "\n"
     ]
    }
   ],
   "source": [
    "combined = pd.concat([retail, mfn])\n",
    "\n",
    "print('combined data:\\n')\n",
    "print(combined)"
   ]
  },
  {
   "cell_type": "markdown",
   "metadata": {},
   "source": [
    "### Option 1: Create a new Excel file"
   ]
  },
  {
   "cell_type": "code",
   "execution_count": 5,
   "metadata": {},
   "outputs": [],
   "source": [
    "combined.to_excel(path_to_output, sheet_name='combined', index=False)"
   ]
  },
  {
   "cell_type": "markdown",
   "metadata": {},
   "source": [
    "### Option 2: Write new data to the same Excel file\n",
    "\n",
    "WARNING: If used incorrectly, this can cause data loss in your original file.  If you aren't sure, create a backup of your input file first."
   ]
  },
  {
   "cell_type": "code",
   "execution_count": 6,
   "metadata": {},
   "outputs": [],
   "source": [
    "# create a workbook object using openpyxl\n",
    "workbook = openpyxl.load_workbook(path_to_data)\n",
    "\n",
    "# create a pandas ExcelWriter object from the same source file\n",
    "writer = pd.ExcelWriter(path_to_data, engine='openpyxl') \n",
    "\n",
    "# link the two objects together\n",
    "writer.book = workbook\n",
    "\n",
    "# save\n",
    "combined.to_excel(writer, sheet_name='combined', index=False)\n",
    "writer.save()"
   ]
  },
  {
   "cell_type": "markdown",
   "metadata": {},
   "source": [
    "# A worked example\n",
    "\n",
    "This example cleans a data file. Instructions for doing this cleaning using native Excel are included in the Workbook. "
   ]
  },
  {
   "cell_type": "code",
   "execution_count": 7,
   "metadata": {},
   "outputs": [],
   "source": [
    "import pandas as pd\n",
    "import openpyxl \n",
    "\n",
    "filename = 'data/XL-02-PC-05-Cleaning-Up-Data-Before.xlsx'\n",
    "\n",
    "wb = openpyxl.load_workbook(filename)\n",
    "ws =  wb['Data']\n",
    "df = pd.DataFrame(ws.values)\n",
    "\n",
    "# Makes first line the column names\n",
    "def make_header(df: pd.DataFrame)-> pd.DataFrame:\n",
    "    df.columns = df.iloc[0]\n",
    "    df.drop(df.index[0], inplace=True)\n",
    "    return df\n",
    "\n",
    "df = make_header(df)\n",
    "\n",
    "# Expanding data in single columns to multiple columns\n",
    "df[['First Name', 'Last Name']]= df['Customer Name'].str.split(\" \", n=1, expand=True)\n",
    "df[['Address', 'City', 'State', 'ZIP']]= df['Address, City, State, and ZIP'].str.split(\",\", n=3, expand=True)\n",
    "\n",
    "# Changing the case of new columns\n",
    "df['Address'] = df['Address'].str.title()\n",
    "df['City'] = df['City'].str.title()\n",
    "df['State'] = df['State'].str.upper()\n",
    "                                                               \n",
    "from openpyxl.utils.dataframe import dataframe_to_rows\n",
    "\n",
    "# Change the file name if you want to preserve the origional version\n",
    "wb.create_sheet(index=0, title='Cleaned Data') \n",
    "ws =  wb['Cleaned Data']\n",
    "\n",
    "for r in dataframe_to_rows(df, index=False, header=True):\n",
    "    ws.append(r)\n",
    "\n",
    "wb.save(filename)\n",
    "wb.close()"
   ]
  },
  {
   "cell_type": "markdown",
   "metadata": {},
   "source": [
    "# Extensions\n",
    "\n",
    "This section lists some ideas for extending the tutorial that you may wish to explore.\n",
    "* Describe three examples when Openpyxl would be better than using Excel directly.\n",
    "\n",
    "# Further Reading\n",
    "This section provides more resources on the topic if you are looking to go deeper.\n",
    "\n",
    "## Books\n",
    "* Python for Data Analysis, by William McKinney. http://shop.oreilly.com/product/0636920023784.do\n",
    "* Automate the boring stuff with Python, by Al Sweigart. See Chapter 13. https://automatetheboringstuff.com/\n",
    "\n",
    "## APIs\n",
    "* openpyxl-A Python library to read/write Excel 2010 xlsx/xlsm files.  http://openpyxl.readthedocs.org/en/default\n",
    "\n",
    "## Articles\n",
    "* Working with Excel sheets in Python using openpyxl. https://medium.com/aubergine-solutions/working-with-excel-sheets-in-python-using-openpyxl-4f9fd32de87f  \n",
    "\n",
    "# Summary\n",
    "\n",
    "In this tutorial, you worked with Openpyxl. Specifically, you learned:\n",
    "* How to import an excel file using Openpyxl\n",
    "* How to remove the excess columns and rows\n",
    "* How to export to to an excel file"
   ]
  },
  {
   "cell_type": "code",
   "execution_count": null,
   "metadata": {},
   "outputs": [],
   "source": []
  }
 ],
 "metadata": {
  "kernelspec": {
   "display_name": "Python 3",
   "language": "python",
   "name": "python3"
  },
  "language_info": {
   "codemirror_mode": {
    "name": "ipython",
    "version": 3
   },
   "file_extension": ".py",
   "mimetype": "text/x-python",
   "name": "python",
   "nbconvert_exporter": "python",
   "pygments_lexer": "ipython3",
   "version": "3.7.4"
  },
  "toc": {
   "base_numbering": 1,
   "nav_menu": {},
   "number_sections": true,
   "sideBar": true,
   "skip_h1_title": false,
   "title_cell": "Table of Contents",
   "title_sidebar": "Contents",
   "toc_cell": false,
   "toc_position": {},
   "toc_section_display": true,
   "toc_window_display": false
  }
 },
 "nbformat": 4,
 "nbformat_minor": 4
}