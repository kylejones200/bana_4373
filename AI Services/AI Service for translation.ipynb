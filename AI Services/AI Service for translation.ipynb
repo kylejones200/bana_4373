{
 "cells": [
  {
   "cell_type": "markdown",
   "id": "393b223f",
   "metadata": {},
   "source": [
    "# AI Service to translate text\n",
    "\n",
    "This uses the free translation API from Google. It is the same model that runs [Google Translate](https://translate.google.com/). \n",
    "\n",
    "Docs available [here](https://py-googletrans.readthedocs.io/en/latest/).\n",
    "\n",
    "Note that you must install a `googletrans==3.1.0a0` otherwise this won't work."
   ]
  },
  {
   "cell_type": "code",
   "execution_count": null,
   "id": "ceacb050",
   "metadata": {},
   "outputs": [],
   "source": [
    "! pip install googletrans==3.1.0a0"
   ]
  },
  {
   "cell_type": "markdown",
   "id": "d6c6a3af",
   "metadata": {},
   "source": [
    "We import `googletrans` and use the `translator` method to conver from a source langague to a destination language.\n",
    "\n",
    "To see the result, we use `.text`. you can also see the source: `.src` and destination: `.dest`."
   ]
  },
  {
   "cell_type": "code",
   "execution_count": null,
   "id": "a07719bf",
   "metadata": {},
   "outputs": [],
   "source": [
    "from googletrans import Translator, LANGUAGES\n",
    "translator = Translator()\n",
    "lang = LANGUAGES"
   ]
  },
  {
   "cell_type": "code",
   "execution_count": null,
   "id": "9671d584",
   "metadata": {},
   "outputs": [],
   "source": [
    "# Example with Korean\n",
    "\n",
    "korean = translator.translate('안녕하세요.')\n",
    "print(f'Text: {korean.text} \\n Source: {lang[korean.src]} \\n Destination: {lang[korean.dest]}')"
   ]
  },
  {
   "cell_type": "code",
   "execution_count": null,
   "id": "ba6d6faf",
   "metadata": {},
   "outputs": [],
   "source": [
    "# Example with Latin\n",
    "\n",
    "latin = translator.translate('Vincit qui se vincit.', src='la')\n",
    "print(f'Text: {latin.text} \\n Source: {lang[latin.src]} \\n Destination: {lang[latin.dest]}')"
   ]
  },
  {
   "cell_type": "code",
   "execution_count": null,
   "id": "c2907921",
   "metadata": {},
   "outputs": [],
   "source": [
    "# Example as a function\n",
    "\n",
    "def trans(tex, source = 'en', dest = 'en'):\n",
    "    tex = translator.translate(tex, src=source, dest = dest)\n",
    "    return print(f'Text: {tex.text} \\n Source: {lang[tex.src]} \\n Destination: {lang[tex.dest]}')"
   ]
  },
  {
   "cell_type": "code",
   "execution_count": null,
   "id": "9a97c0d0",
   "metadata": {},
   "outputs": [],
   "source": [
    "trans(\"vincit qui se vincit.\", source = 'la')"
   ]
  }
 ],
 "metadata": {
  "kernelspec": {
   "display_name": "Python 3",
   "language": "python",
   "name": "python3"
  },
  "language_info": {
   "codemirror_mode": {
    "name": "ipython",
    "version": 3
   },
   "file_extension": ".py",
   "mimetype": "text/x-python",
   "name": "python",
   "nbconvert_exporter": "python",
   "pygments_lexer": "ipython3",
   "version": "3.8.8"
  }
 },
 "nbformat": 4,
 "nbformat_minor": 5
}
