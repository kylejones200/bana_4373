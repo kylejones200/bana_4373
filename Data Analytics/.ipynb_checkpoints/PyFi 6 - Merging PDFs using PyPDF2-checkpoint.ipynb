{
 "cells": [
  {
   "cell_type": "code",
   "execution_count": null,
   "metadata": {},
   "outputs": [],
   "source": [
    "! pip install -r requirements.txt"
   ]
  },
  {
   "cell_type": "markdown",
   "metadata": {},
   "source": [
    "# Summary\n",
    "\n",
    "Python can work with PDF documents to: extract data, extract tables, remove pages, or merge documents. The Python library that is most often used for analysis is called PyPDF2.\n",
    "\n",
    "After completing this tutorial, you will know:\n",
    "* How to use Pandas DataFrames to open \\*.csv and \\*.xlsx files\n",
    "* How to apply functions to DataFrames to calcuate the mean and standard deviation\n",
    "* How to make basic plots\n",
    "\n",
    "Let’s get started.\n",
    "\n",
    "# Tutorial Overview\n",
    "This tutorial is divided into 1 part:\n",
    "1. Worked Example"
   ]
  },
  {
   "cell_type": "markdown",
   "metadata": {},
   "source": [
    "# Worked Example"
   ]
  },
  {
   "cell_type": "code",
   "execution_count": null,
   "metadata": {},
   "outputs": [],
   "source": [
    "import PyPDF2\n",
    "from pathlib import Path\n",
    "\n",
    "def PDFmerge(pdfs, output):\n",
    "        \n",
    "    pdf_write_object = PyPDF2.PdfFileWriter()\n",
    "    \n",
    "    for pdf in pdfs:\n",
    "        pdf_read_object = PyPDF2.PdfFileReader(pdf)\n",
    "        for page in range(pdf_read_object.numPages):\n",
    "            pdf_write_object.addPage(pdf_read_object.getPage(page))\n",
    "\n",
    "    final_file_object = open(output, 'wb')\n",
    "    pdf_write_object.write(final_file_object)\n",
    "    final_file_object.close() \n",
    "        \n",
    "def main(input_folder, output_name):\n",
    "\n",
    "    pathlist = Path(input_folder).glob('*.pdf')\n",
    "\n",
    "    pdfs = [str(i) for i in pathlist]\n",
    "    print(pdfs)\n",
    "    PDFmerge(pdfs, output_name)\n",
    "    \n",
    "    \n",
    "if __name__ == '__main__':\n",
    "    main(input_folder='pdfs', output_name='pdfs/pdf_filename.pdf')\n"
   ]
  },
  {
   "cell_type": "markdown",
   "metadata": {},
   "source": [
    "# Extensions\n",
    "\n",
    "This section lists some ideas for extending the tutorial that you may wish to explore.\n",
    "* Describe three examples when PyPDF2 could be applied for your work.\n",
    "\n",
    "# Further Reading\n",
    "This section provides more resources on the topic if you are looking to go deeper.\n",
    "\n",
    "## Books\n",
    "* Automate the boring stuff, by Al Sweigart. See Chapter 15. https://automatetheboringstuff.com\n",
    "\n",
    "## APIs\n",
    "* PyPDF2. https://pythonhosted.org/PyPDF2/\n",
    "    \n",
    "# Summary\n",
    "\n",
    "In this tutorial, you were introduced to the PyPDF2 library. Specifically, you learned:\n",
    "* How to use PyPDF2 to open and merge PDF documents.\n",
    "\n"
   ]
  },
  {
   "cell_type": "code",
   "execution_count": null,
   "metadata": {},
   "outputs": [],
   "source": []
  }
 ],
 "metadata": {
  "kernelspec": {
   "display_name": "Python 3",
   "language": "python",
   "name": "python3"
  },
  "language_info": {
   "codemirror_mode": {
    "name": "ipython",
    "version": 3
   },
   "file_extension": ".py",
   "mimetype": "text/x-python",
   "name": "python",
   "nbconvert_exporter": "python",
   "pygments_lexer": "ipython3",
   "version": "3.7.4"
  },
  "toc": {
   "base_numbering": 1,
   "nav_menu": {},
   "number_sections": true,
   "sideBar": true,
   "skip_h1_title": false,
   "title_cell": "Table of Contents",
   "title_sidebar": "Contents",
   "toc_cell": false,
   "toc_position": {},
   "toc_section_display": true,
   "toc_window_display": false
  }
 },
 "nbformat": 4,
 "nbformat_minor": 4
}
