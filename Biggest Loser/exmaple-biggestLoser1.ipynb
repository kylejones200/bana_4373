{
 "cells": [
  {
   "cell_type": "code",
   "execution_count": 1,
   "id": "6a928d17",
   "metadata": {},
   "outputs": [],
   "source": [
    "import pandas as pd\n",
    "import numpy as np\n",
    "%matplotlib inline"
   ]
  },
  {
   "cell_type": "code",
   "execution_count": 4,
   "id": "a6ff54ab",
   "metadata": {},
   "outputs": [],
   "source": [
    "df = pd.read_csv(\"data/The Biggest Loser Dataset.csv\")"
   ]
  },
  {
   "cell_type": "code",
   "execution_count": 5,
   "id": "2c6826d7",
   "metadata": {},
   "outputs": [
    {
     "data": {
      "text/html": [
       "<div>\n",
       "<style scoped>\n",
       "    .dataframe tbody tr th:only-of-type {\n",
       "        vertical-align: middle;\n",
       "    }\n",
       "\n",
       "    .dataframe tbody tr th {\n",
       "        vertical-align: top;\n",
       "    }\n",
       "\n",
       "    .dataframe thead th {\n",
       "        text-align: right;\n",
       "    }\n",
       "</style>\n",
       "<table border=\"1\" class=\"dataframe\">\n",
       "  <thead>\n",
       "    <tr style=\"text-align: right;\">\n",
       "      <th></th>\n",
       "      <th>Gender</th>\n",
       "      <th>Age_Group</th>\n",
       "      <th>Age</th>\n",
       "      <th>Weight1</th>\n",
       "      <th>Weight2</th>\n",
       "      <th>Height</th>\n",
       "      <th>Season</th>\n",
       "      <th>Trainer</th>\n",
       "      <th>Percent2</th>\n",
       "      <th>Percent1</th>\n",
       "    </tr>\n",
       "  </thead>\n",
       "  <tbody>\n",
       "    <tr>\n",
       "      <td>0</td>\n",
       "      <td>Female</td>\n",
       "      <td>&lt; 30</td>\n",
       "      <td>21</td>\n",
       "      <td>175</td>\n",
       "      <td>170</td>\n",
       "      <td>66</td>\n",
       "      <td>1</td>\n",
       "      <td>Bob</td>\n",
       "      <td>12.57</td>\n",
       "      <td>2.857143</td>\n",
       "    </tr>\n",
       "    <tr>\n",
       "      <td>1</td>\n",
       "      <td>Female</td>\n",
       "      <td>&lt; 30</td>\n",
       "      <td>22</td>\n",
       "      <td>215</td>\n",
       "      <td>209</td>\n",
       "      <td>69</td>\n",
       "      <td>1</td>\n",
       "      <td>Bob</td>\n",
       "      <td>27.44</td>\n",
       "      <td>2.790698</td>\n",
       "    </tr>\n",
       "    <tr>\n",
       "      <td>2</td>\n",
       "      <td>Male</td>\n",
       "      <td>&lt; 30</td>\n",
       "      <td>25</td>\n",
       "      <td>310</td>\n",
       "      <td>288</td>\n",
       "      <td>74</td>\n",
       "      <td>1</td>\n",
       "      <td>Jillian</td>\n",
       "      <td>19.68</td>\n",
       "      <td>7.096774</td>\n",
       "    </tr>\n",
       "    <tr>\n",
       "      <td>3</td>\n",
       "      <td>Female</td>\n",
       "      <td>&lt; 30</td>\n",
       "      <td>26</td>\n",
       "      <td>236</td>\n",
       "      <td>226</td>\n",
       "      <td>66</td>\n",
       "      <td>1</td>\n",
       "      <td>Jillian</td>\n",
       "      <td>24.15</td>\n",
       "      <td>4.237288</td>\n",
       "    </tr>\n",
       "    <tr>\n",
       "      <td>4</td>\n",
       "      <td>Female</td>\n",
       "      <td>&lt; 30</td>\n",
       "      <td>26</td>\n",
       "      <td>167</td>\n",
       "      <td>164</td>\n",
       "      <td>65</td>\n",
       "      <td>1</td>\n",
       "      <td>Jillian</td>\n",
       "      <td>13.17</td>\n",
       "      <td>1.796407</td>\n",
       "    </tr>\n",
       "  </tbody>\n",
       "</table>\n",
       "</div>"
      ],
      "text/plain": [
       "   Gender Age_Group  Age  Weight1  Weight2  Height  Season  Trainer  Percent2  \\\n",
       "0  Female      < 30   21      175      170      66       1      Bob     12.57   \n",
       "1  Female      < 30   22      215      209      69       1      Bob     27.44   \n",
       "2    Male      < 30   25      310      288      74       1  Jillian     19.68   \n",
       "3  Female      < 30   26      236      226      66       1  Jillian     24.15   \n",
       "4  Female      < 30   26      167      164      65       1  Jillian     13.17   \n",
       "\n",
       "   Percent1  \n",
       "0  2.857143  \n",
       "1  2.790698  \n",
       "2  7.096774  \n",
       "3  4.237288  \n",
       "4  1.796407  "
      ]
     },
     "execution_count": 5,
     "metadata": {},
     "output_type": "execute_result"
    }
   ],
   "source": [
    "df.head()"
   ]
  },
  {
   "cell_type": "markdown",
   "id": "f8aec0f7",
   "metadata": {},
   "source": [
    "# Feature Engineering\n",
    "\n",
    "Let's create a new column that shows how much weight each person lost during the show. To do that, we subtract the final weight from the start weight and save the result as a new column called \"weight difference.\""
   ]
  },
  {
   "cell_type": "code",
   "execution_count": 9,
   "id": "50da1257",
   "metadata": {},
   "outputs": [],
   "source": [
    "df[\"weight difference\"] = df[\"Weight1\"]-df[\"Weight2\"]"
   ]
  },
  {
   "cell_type": "code",
   "execution_count": 10,
   "id": "6ea5cb97",
   "metadata": {},
   "outputs": [
    {
     "data": {
      "text/plain": [
       "<matplotlib.axes._subplots.AxesSubplot at 0x1292cdcd0>"
      ]
     },
     "execution_count": 10,
     "metadata": {},
     "output_type": "execute_result"
    },
    {
     "data": {
      "image/png": "[encoded data removed]",
      "text/plain": [
       "<Figure size 432x288 with 1 Axes>"
      ]
     },
     "metadata": {
      "needs_background": "light"
     },
     "output_type": "display_data"
    }
   ],
   "source": [
    "df[\"weight difference\"].hist()"
   ]
  },
  {
   "cell_type": "code",
   "execution_count": 19,
   "id": "5c389980",
   "metadata": {},
   "outputs": [
    {
     "data": {
      "text/plain": [
       "Trainer\n",
       "Anna             9.800000\n",
       "Bob             16.911392\n",
       "Brett & Cara    19.888889\n",
       "Dolvett         16.333333\n",
       "Jennifer        17.000000\n",
       "Jessie           9.833333\n",
       "Jillian         17.629310\n",
       "Kim             14.000000\n",
       "Name: weight difference, dtype: float64"
      ]
     },
     "execution_count": 19,
     "metadata": {},
     "output_type": "execute_result"
    }
   ],
   "source": [
    "df.groupby(['Trainer'])[\"weight difference\"].mean()"
   ]
  },
  {
   "cell_type": "code",
   "execution_count": null,
   "id": "259eec69",
   "metadata": {},
   "outputs": [],
   "source": []
  }
 ],
 "metadata": {
  "kernelspec": {
   "display_name": "Python 3",
   "language": "python",
   "name": "python3"
  },
  "language_info": {
   "codemirror_mode": {
    "name": "ipython",
    "version": 3
   },
   "file_extension": ".py",
   "mimetype": "text/x-python",
   "name": "python",
   "nbconvert_exporter": "python",
   "pygments_lexer": "ipython3",
   "version": "3.8.8"
  },
  "toc": {
   "base_numbering": 1,
   "nav_menu": {},
   "number_sections": true,
   "sideBar": true,
   "skip_h1_title": false,
   "title_cell": "Table of Contents",
   "title_sidebar": "Contents",
   "toc_cell": false,
   "toc_position": {},
   "toc_section_display": true,
   "toc_window_display": false
  }
 },
 "nbformat": 4,
 "nbformat_minor": 5
}
