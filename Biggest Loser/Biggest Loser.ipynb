{
 "cells": [
  {
   "cell_type": "markdown",
   "id": "8d8e78ec",
   "metadata": {},
   "source": [
    "# Comparing means using Python\n",
    "\n",
    "In this notebook we compare sample means about weight loss from the TV show The Biggest Loser. "
   ]
  },
  {
   "cell_type": "code",
   "execution_count": 2,
   "id": "20f621bf",
   "metadata": {},
   "outputs": [],
   "source": [
    "import pandas as pd\n",
    "import numpy as np\n",
    "\n",
    "import seaborn as sns\n",
    "import matplotlib.pyplot as plt\n",
    "%matplotlib inline"
   ]
  },
  {
   "cell_type": "markdown",
   "id": "57bd898a",
   "metadata": {},
   "source": [
    "We are bringing the data into python so we can do our analysis. This works best with .csv files but you can also use excel files that end with .xlsx using the code `df = pd.read_excel(\"<Name of file>.xlsx\")`.\n",
    "\n",
    "By convention we use `df` to be the name of our dataframe.\n",
    "\n",
    "After bringing the data into Python, we use the method `.head()` to see the top 5 values. We could also use `.tail()` to see the bottom 5 values. "
   ]
  },
  {
   "cell_type": "code",
   "execution_count": 3,
   "id": "a9d31165",
   "metadata": {},
   "outputs": [
    {
     "data": {
      "text/html": [
       "<div>\n",
       "<style scoped>\n",
       "    .dataframe tbody tr th:only-of-type {\n",
       "        vertical-align: middle;\n",
       "    }\n",
       "\n",
       "    .dataframe tbody tr th {\n",
       "        vertical-align: top;\n",
       "    }\n",
       "\n",
       "    .dataframe thead th {\n",
       "        text-align: right;\n",
       "    }\n",
       "</style>\n",
       "<table border=\"1\" class=\"dataframe\">\n",
       "  <thead>\n",
       "    <tr style=\"text-align: right;\">\n",
       "      <th></th>\n",
       "      <th>Gender</th>\n",
       "      <th>Age_Group</th>\n",
       "      <th>Age</th>\n",
       "      <th>Weight1</th>\n",
       "      <th>Weight2</th>\n",
       "      <th>Height</th>\n",
       "      <th>Season</th>\n",
       "      <th>Trainer</th>\n",
       "      <th>Percent2</th>\n",
       "      <th>Percent1</th>\n",
       "    </tr>\n",
       "  </thead>\n",
       "  <tbody>\n",
       "    <tr>\n",
       "      <th>0</th>\n",
       "      <td>Female</td>\n",
       "      <td>&lt; 30</td>\n",
       "      <td>21</td>\n",
       "      <td>175</td>\n",
       "      <td>170</td>\n",
       "      <td>66</td>\n",
       "      <td>1</td>\n",
       "      <td>Bob</td>\n",
       "      <td>12.57</td>\n",
       "      <td>2.857143</td>\n",
       "    </tr>\n",
       "    <tr>\n",
       "      <th>1</th>\n",
       "      <td>Female</td>\n",
       "      <td>&lt; 30</td>\n",
       "      <td>22</td>\n",
       "      <td>215</td>\n",
       "      <td>209</td>\n",
       "      <td>69</td>\n",
       "      <td>1</td>\n",
       "      <td>Bob</td>\n",
       "      <td>27.44</td>\n",
       "      <td>2.790698</td>\n",
       "    </tr>\n",
       "    <tr>\n",
       "      <th>2</th>\n",
       "      <td>Male</td>\n",
       "      <td>&lt; 30</td>\n",
       "      <td>25</td>\n",
       "      <td>310</td>\n",
       "      <td>288</td>\n",
       "      <td>74</td>\n",
       "      <td>1</td>\n",
       "      <td>Jillian</td>\n",
       "      <td>19.68</td>\n",
       "      <td>7.096774</td>\n",
       "    </tr>\n",
       "    <tr>\n",
       "      <th>3</th>\n",
       "      <td>Female</td>\n",
       "      <td>&lt; 30</td>\n",
       "      <td>26</td>\n",
       "      <td>236</td>\n",
       "      <td>226</td>\n",
       "      <td>66</td>\n",
       "      <td>1</td>\n",
       "      <td>Jillian</td>\n",
       "      <td>24.15</td>\n",
       "      <td>4.237288</td>\n",
       "    </tr>\n",
       "    <tr>\n",
       "      <th>4</th>\n",
       "      <td>Female</td>\n",
       "      <td>&lt; 30</td>\n",
       "      <td>26</td>\n",
       "      <td>167</td>\n",
       "      <td>164</td>\n",
       "      <td>65</td>\n",
       "      <td>1</td>\n",
       "      <td>Jillian</td>\n",
       "      <td>13.17</td>\n",
       "      <td>1.796407</td>\n",
       "    </tr>\n",
       "  </tbody>\n",
       "</table>\n",
       "</div>"
      ],
      "text/plain": [
       "   Gender Age_Group  Age  Weight1  Weight2  Height  Season  Trainer  Percent2  \\\n",
       "0  Female      < 30   21      175      170      66       1      Bob     12.57   \n",
       "1  Female      < 30   22      215      209      69       1      Bob     27.44   \n",
       "2    Male      < 30   25      310      288      74       1  Jillian     19.68   \n",
       "3  Female      < 30   26      236      226      66       1  Jillian     24.15   \n",
       "4  Female      < 30   26      167      164      65       1  Jillian     13.17   \n",
       "\n",
       "   Percent1  \n",
       "0  2.857143  \n",
       "1  2.790698  \n",
       "2  7.096774  \n",
       "3  4.237288  \n",
       "4  1.796407  "
      ]
     },
     "execution_count": 3,
     "metadata": {},
     "output_type": "execute_result"
    }
   ],
   "source": [
    "df = pd.read_csv(\"data/The Biggest Loser Dataset.csv\")\n",
    "\n",
    "df.head()"
   ]
  },
  {
   "cell_type": "markdown",
   "id": "296f2e94",
   "metadata": {},
   "source": [
    "Pandas gives us a number of methods to explore the data. Try using some like `df.describe()`, `df.info()`, and `df.shape()`. \n",
    "\n",
    "You can look at attributes of a single column by selecting it using brackets. For example, `df[\"Weight1\"].describe()` or `df[\"Age\"].shape()`."
   ]
  },
  {
   "cell_type": "code",
   "execution_count": 4,
   "id": "64f1d50a",
   "metadata": {},
   "outputs": [
    {
     "data": {
      "text/plain": [
       "<AxesSubplot:>"
      ]
     },
     "execution_count": 4,
     "metadata": {},
     "output_type": "execute_result"
    },
    {
     "data": {
      "image/png": "[encoded data removed]",
      "text/plain": [
       "<Figure size 432x288 with 1 Axes>"
      ]
     },
     "metadata": {
      "needs_background": "light"
     },
     "output_type": "display_data"
    }
   ],
   "source": [
    "df[\"Weight1\"].hist()"
   ]
  },
  {
   "cell_type": "code",
   "execution_count": 5,
   "id": "464200c8",
   "metadata": {},
   "outputs": [
    {
     "data": {
      "text/plain": [
       "Gender\n",
       "Female    260.537931\n",
       "Male      367.037879\n",
       "Name: Weight1, dtype: float64"
      ]
     },
     "execution_count": 5,
     "metadata": {},
     "output_type": "execute_result"
    }
   ],
   "source": [
    "df.groupby([\"Gender\"])[\"Weight1\"].mean()"
   ]
  },
  {
   "cell_type": "code",
   "execution_count": 6,
   "id": "5ae0ecf4",
   "metadata": {},
   "outputs": [
    {
     "data": {
      "text/plain": [
       "Trainer\n",
       "Anna            273.600000\n",
       "Bob             308.645570\n",
       "Brett & Cara    340.666667\n",
       "Dolvett         305.222222\n",
       "Jennifer        311.857143\n",
       "Jessie          301.166667\n",
       "Jillian         314.327586\n",
       "Kim             315.583333\n",
       "Name: Weight1, dtype: float64"
      ]
     },
     "execution_count": 6,
     "metadata": {},
     "output_type": "execute_result"
    }
   ],
   "source": [
    "df.groupby([\"Trainer\"])[\"Weight1\"].mean()"
   ]
  },
  {
   "cell_type": "markdown",
   "id": "b301cade",
   "metadata": {},
   "source": [
    "#  Feature Engineering\n",
    "Let's create a new column that shows how much weight each person lost during the show. To do that, we subtract the final weight from the start weight and save the result as a new column called \"weight difference.\""
   ]
  },
  {
   "cell_type": "code",
   "execution_count": 7,
   "id": "01454b2d",
   "metadata": {},
   "outputs": [],
   "source": [
    "df[\"weight difference\"] = df[\"Weight1\"] - df[\"Weight2\"]"
   ]
  },
  {
   "cell_type": "code",
   "execution_count": 8,
   "id": "7e8feb2c",
   "metadata": {},
   "outputs": [
    {
     "data": {
      "text/plain": [
       "<AxesSubplot:>"
      ]
     },
     "execution_count": 8,
     "metadata": {},
     "output_type": "execute_result"
    },
    {
     "data": {
      "image/png": "[encoded data removed]",
      "text/plain": [
       "<Figure size 432x288 with 1 Axes>"
      ]
     },
     "metadata": {
      "needs_background": "light"
     },
     "output_type": "display_data"
    }
   ],
   "source": [
    "df[\"weight difference\"].hist()"
   ]
  },
  {
   "cell_type": "code",
   "execution_count": 9,
   "id": "d9789f02",
   "metadata": {},
   "outputs": [
    {
     "data": {
      "text/plain": [
       "Trainer       Gender\n",
       "Anna          Female     6.666667\n",
       "              Male      14.500000\n",
       "Bob           Female    13.317073\n",
       "              Male      20.789474\n",
       "Brett & Cara  Female    15.000000\n",
       "              Male      23.800000\n",
       "Dolvett       Female    12.190476\n",
       "              Male      22.133333\n",
       "Jennifer      Female    14.333333\n",
       "              Male      19.000000\n",
       "Jessie        Female    10.400000\n",
       "              Male       7.000000\n",
       "Jillian       Female    13.542373\n",
       "              Male      21.859649\n",
       "Kim           Female     9.333333\n",
       "              Male      18.666667\n",
       "Name: weight difference, dtype: float64"
      ]
     },
     "execution_count": 9,
     "metadata": {},
     "output_type": "execute_result"
    }
   ],
   "source": [
    "df.groupby([\"Trainer\", \"Gender\"])[\"weight difference\"].mean()"
   ]
  },
  {
   "cell_type": "markdown",
   "id": "8b7c3d6b",
   "metadata": {},
   "source": [
    "# T-tests with SciPy\n",
    "\n",
    "We import the module SciPy because it has most of the common parametric statistics tests. "
   ]
  },
  {
   "cell_type": "code",
   "execution_count": 10,
   "id": "88af6f75",
   "metadata": {},
   "outputs": [],
   "source": [
    "from scipy import stats"
   ]
  },
  {
   "cell_type": "markdown",
   "id": "d161f6a4",
   "metadata": {},
   "source": [
    "Is the amount of weight lost different between men and women on the show? We begin by subsetting the data into two lists based on gender. We then compare the weight loss using scipy's statistics method for an indpendent t-test. "
   ]
  },
  {
   "cell_type": "code",
   "execution_count": 11,
   "id": "ebae9eff",
   "metadata": {},
   "outputs": [
    {
     "data": {
      "text/plain": [
       "Ttest_indResult(statistic=-11.866817037264308, pvalue=1.669364362218035e-26)"
      ]
     },
     "execution_count": 11,
     "metadata": {},
     "output_type": "execute_result"
    }
   ],
   "source": [
    "X = df[df[\"Gender\"]==\"Female\"][\"weight difference\"]\n",
    "Y = df[df[\"Gender\"]==\"Male\"][\"weight difference\"]\n",
    "\n",
    "stats.ttest_ind(X,Y)"
   ]
  },
  {
   "cell_type": "markdown",
   "id": "7ab32ba1",
   "metadata": {},
   "source": [
    "We see that there is evidence that the average weight loss during the show is different between men and women. The p-value is very low so we would not expect to see this difference in weight loss due to random chance. "
   ]
  },
  {
   "cell_type": "code",
   "execution_count": 25,
   "id": "11fd7b1c",
   "metadata": {},
   "outputs": [
    {
     "data": {
      "text/plain": [
       "<AxesSubplot:xlabel='weight difference', ylabel='Count'>"
      ]
     },
     "execution_count": 25,
     "metadata": {},
     "output_type": "execute_result"
    },
    {
     "data": {
      "image/png": "[encoded data removed]",
      "text/plain": [
       "<Figure size 432x288 with 1 Axes>"
      ]
     },
     "metadata": {},
     "output_type": "display_data"
    }
   ],
   "source": [
    "sns.histplot(df, x=\"weight difference\", hue=\"Gender\", kde=True)"
   ]
  },
  {
   "cell_type": "markdown",
   "id": "c59db53e",
   "metadata": {},
   "source": [
    "## Is Jillian Michaels the best coach?\n",
    "\n",
    "Jillian Michaels became the best known coach from her time on the series. But did she have the best results? We can do a simple t-test to see if the weight loss was different depending on if the participant had Jillian or another trainer. The `!=` means `not equal to`."
   ]
  },
  {
   "cell_type": "code",
   "execution_count": 13,
   "id": "ace8aece",
   "metadata": {},
   "outputs": [
    {
     "data": {
      "text/plain": [
       "Ttest_indResult(statistic=1.6089930638638117, pvalue=0.10876520389650461)"
      ]
     },
     "execution_count": 13,
     "metadata": {},
     "output_type": "execute_result"
    }
   ],
   "source": [
    "X = df[df[\"Trainer\"]==\"Jillian\"][\"weight difference\"]\n",
    "Y = df[df[\"Trainer\"]!=\"Jillian\"][\"weight difference\"]\n",
    "\n",
    "stats.ttest_ind(X,Y)"
   ]
  },
  {
   "cell_type": "markdown",
   "id": "270375b4",
   "metadata": {},
   "source": [
    "Based on this simple test we would conclude that there is not evidence to support the claim that the weight loss is different depending on if the participant had Jillian or another trainer. \n",
    "\n",
    "To make it easier to plot, we create a new column with a list comprehension that is 1 if the person had Jillian and zero otherwise. "
   ]
  },
  {
   "cell_type": "code",
   "execution_count": 27,
   "id": "f918de35",
   "metadata": {},
   "outputs": [
    {
     "data": {
      "text/plain": [
       "<AxesSubplot:xlabel='weight difference', ylabel='Count'>"
      ]
     },
     "execution_count": 27,
     "metadata": {},
     "output_type": "execute_result"
    },
    {
     "data": {
      "image/png": "[encoded data removed]",
      "text/plain": [
       "<Figure size 432x288 with 1 Axes>"
      ]
     },
     "metadata": {},
     "output_type": "display_data"
    }
   ],
   "source": [
    "df[\"Jillian\"] = [1 if i ==\"Jillian\" else 0 for i in df[\"Trainer\"]]\n",
    "sns.histplot(df, x=\"weight difference\", hue=\"Jillian\", kde=True)"
   ]
  },
  {
   "cell_type": "code",
   "execution_count": null,
   "id": "2d4a3c0c",
   "metadata": {},
   "outputs": [],
   "source": []
  }
 ],
 "metadata": {
  "kernelspec": {
   "display_name": "Python 3",
   "language": "python",
   "name": "python3"
  },
  "language_info": {
   "codemirror_mode": {
    "name": "ipython",
    "version": 3
   },
   "file_extension": ".py",
   "mimetype": "text/x-python",
   "name": "python",
   "nbconvert_exporter": "python",
   "pygments_lexer": "ipython3",
   "version": "3.8.8"
  },
  "toc": {
   "base_numbering": 1,
   "nav_menu": {},
   "number_sections": true,
   "sideBar": true,
   "skip_h1_title": false,
   "title_cell": "Table of Contents",
   "title_sidebar": "Contents",
   "toc_cell": false,
   "toc_position": {},
   "toc_section_display": true,
   "toc_window_display": false
  }
 },
 "nbformat": 4,
 "nbformat_minor": 5
}
