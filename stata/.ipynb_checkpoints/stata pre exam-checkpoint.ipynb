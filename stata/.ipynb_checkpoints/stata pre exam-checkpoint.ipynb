{
 "cells": [
  {
   "cell_type": "markdown",
   "id": "9b263d87",
   "metadata": {},
   "source": [
    "# Practice Exam 1 ECON 4263 Fall 2021 with Python\n",
    "\n",
    "\n",
    "\n",
    "\n",
    "Key Number: 115\n",
    "\n",
    "\n",
    "Create one do file named pexaml_115.do that does all the work you do in Stata to answer the questions on this homework.\n",
    "\n",
    "Have this do file create a log file named pexaml 115.log This log file should be a log of everything you do in Stata.\n",
    "\n",
    "Write you answers the questions in the space provided. Then scan the completed homework sheet to a PDF file.\n",
    "\n",
    "Submlt your do file, your log file, and the scan of your answers by Blackboard. All the files on the OneDrive are in the subfolder pexaml of our One Drive folder.\n",
    "\n",
    "1. Begin by copying the file guu115.dta from the OneDrive to the folder on your computer in which you do your work for this class.\n",
    "\n",
    "(a) Use generate and replace to create the new variable spend cat using the following cut offs.\n",
    "\n",
    "spendcat is 0 if grocerywk is equal to 0\n",
    "spendcat is 1 if grocerywk is greater than 0 and less than or equal to 100 \n",
    "spendcat is 2 if grocerywk is greater than 100 and less than or equal to 200 \n",
    "spendcat is 3 if grocerywk is greater than 200\n",
    "spendcat is missing if grocerywk is missing\n",
    "\n",
    "- Use tabulate to calculate the sample percentages for each category. For what percentage of the not-missing sample observations is spendcat equal to 0? (Round all answers to 2 digits after the decimal place.)\n",
    "- For what percentage of the not-missing sample observations is spendcat equal to 1? (Round all answers to 2 digits after the decimal place.)\n",
    "- For what percentage of the not-missing sample observations is spendcat equal to 2? (Round all answers to 2 digits after the decimal place.)\n",
    "- For what percentage of the not-missing sample observations is spendcat equal to 3? (Round all answers to 2 digits after the decimal place.)"
   ]
  },
  {
   "cell_type": "code",
   "execution_count": 1,
   "id": "70611df8",
   "metadata": {},
   "outputs": [],
   "source": [
    "import pandas as pd\n",
    "import numpy as np"
   ]
  },
  {
   "cell_type": "code",
   "execution_count": 2,
   "id": "5a46e104",
   "metadata": {},
   "outputs": [],
   "source": [
    "df = pd.io.stata.read_stata('data/gww115.dta')"
   ]
  },
  {
   "cell_type": "markdown",
   "id": "6514bbdd",
   "metadata": {},
   "source": [
    "The `pd.cut()` method will put the values into bins based on the pattern we create with the `bins` variable."
   ]
  },
  {
   "cell_type": "code",
   "execution_count": 3,
   "id": "34fc2af4",
   "metadata": {},
   "outputs": [],
   "source": [
    "target_column = df[\"grocerywk\"]\n",
    "bins = [0, 1, 101, 201, 500]\n",
    "labels = [0,1,2,3]\n",
    "\n",
    "df[\"spendcat\"] = pd.cut(target_column, bins, labels, include_lowest= True)"
   ]
  },
  {
   "cell_type": "code",
   "execution_count": 4,
   "id": "2670d7b5",
   "metadata": {},
   "outputs": [
    {
     "data": {
      "text/plain": [
       "(1.0, 101.0]      0.586660\n",
       "(101.0, 201.0]    0.320869\n",
       "(201.0, 500.0]    0.060131\n",
       "(-0.001, 1.0]     0.032340\n",
       "Name: spendcat, dtype: float64"
      ]
     },
     "execution_count": 4,
     "metadata": {},
     "output_type": "execute_result"
    }
   ],
   "source": [
    "df[\"spendcat\"].value_counts(normalize=True)"
   ]
  },
  {
   "cell_type": "markdown",
   "id": "1c994b60",
   "metadata": {},
   "source": [
    "2. Copy the file cesall5. dta from the OneDrive to the folder in which you work on your computer.\n",
    "(a) Read the data in cesall5.dta into Stata.\n",
    "(b) Use mean to compute the sample mean, the standard error of the sample mean, and the lower and upper end points of a 95% confidence interval for the mean of grocerywk, using only the observations for households of with 2 members.\n",
    "Write your answers to the following questions in the space provided. (Round all answers to 3 digits after the decimal place.)\n",
    "- What is the sample mean of grocerywk for families of with 2 members?\n",
    "- What is the standard error of the sample mean of grocerywk for families of with 2 members.\n",
    "- What is the estimated lower end point of a 95% confidence for the mean of grocerywk for families of with 2 members.\n",
    "- What is the estimated upper end point of a 95% confidence for the mean of grocerywk for families of with 2 members.\n"
   ]
  },
  {
   "cell_type": "code",
   "execution_count": 5,
   "id": "57f9edce",
   "metadata": {},
   "outputs": [],
   "source": [
    "df = pd.io.stata.read_stata('data/cesa115.dta')"
   ]
  },
  {
   "cell_type": "code",
   "execution_count": 6,
   "id": "49c09392",
   "metadata": {},
   "outputs": [
    {
     "data": {
      "text/html": [
       "<div>\n",
       "<style scoped>\n",
       "    .dataframe tbody tr th:only-of-type {\n",
       "        vertical-align: middle;\n",
       "    }\n",
       "\n",
       "    .dataframe tbody tr th {\n",
       "        vertical-align: top;\n",
       "    }\n",
       "\n",
       "    .dataframe thead th {\n",
       "        text-align: right;\n",
       "    }\n",
       "</style>\n",
       "<table border=\"1\" class=\"dataframe\">\n",
       "  <thead>\n",
       "    <tr style=\"text-align: right;\">\n",
       "      <th></th>\n",
       "      <th>fam_size</th>\n",
       "      <th>grocerywk</th>\n",
       "      <th>educ</th>\n",
       "      <th>spendpp</th>\n",
       "    </tr>\n",
       "  </thead>\n",
       "  <tbody>\n",
       "    <tr>\n",
       "      <th>0</th>\n",
       "      <td>1</td>\n",
       "      <td>65.0</td>\n",
       "      <td>High school grad</td>\n",
       "      <td>65.0</td>\n",
       "    </tr>\n",
       "    <tr>\n",
       "      <th>1</th>\n",
       "      <td>1</td>\n",
       "      <td>110.0</td>\n",
       "      <td>Associate's degree</td>\n",
       "      <td>110.0</td>\n",
       "    </tr>\n",
       "    <tr>\n",
       "      <th>2</th>\n",
       "      <td>1</td>\n",
       "      <td>25.0</td>\n",
       "      <td>Bachelors degree</td>\n",
       "      <td>25.0</td>\n",
       "    </tr>\n",
       "    <tr>\n",
       "      <th>3</th>\n",
       "      <td>1</td>\n",
       "      <td>25.0</td>\n",
       "      <td>Associate's degree</td>\n",
       "      <td>25.0</td>\n",
       "    </tr>\n",
       "    <tr>\n",
       "      <th>4</th>\n",
       "      <td>1</td>\n",
       "      <td>50.0</td>\n",
       "      <td>Some college, no deg</td>\n",
       "      <td>50.0</td>\n",
       "    </tr>\n",
       "  </tbody>\n",
       "</table>\n",
       "</div>"
      ],
      "text/plain": [
       "   fam_size  grocerywk                  educ  spendpp\n",
       "0         1       65.0      High school grad     65.0\n",
       "1         1      110.0    Associate's degree    110.0\n",
       "2         1       25.0      Bachelors degree     25.0\n",
       "3         1       25.0    Associate's degree     25.0\n",
       "4         1       50.0  Some college, no deg     50.0"
      ]
     },
     "execution_count": 6,
     "metadata": {},
     "output_type": "execute_result"
    }
   ],
   "source": [
    "df.head()"
   ]
  },
  {
   "cell_type": "code",
   "execution_count": 7,
   "id": "78d0a7ed",
   "metadata": {},
   "outputs": [
    {
     "data": {
      "text/html": [
       "<div>\n",
       "<style scoped>\n",
       "    .dataframe tbody tr th:only-of-type {\n",
       "        vertical-align: middle;\n",
       "    }\n",
       "\n",
       "    .dataframe tbody tr th {\n",
       "        vertical-align: top;\n",
       "    }\n",
       "\n",
       "    .dataframe thead th {\n",
       "        text-align: right;\n",
       "    }\n",
       "</style>\n",
       "<table border=\"1\" class=\"dataframe\">\n",
       "  <thead>\n",
       "    <tr style=\"text-align: right;\">\n",
       "      <th></th>\n",
       "      <th>mean</th>\n",
       "      <th>std</th>\n",
       "    </tr>\n",
       "    <tr>\n",
       "      <th>fam_size</th>\n",
       "      <th></th>\n",
       "      <th></th>\n",
       "    </tr>\n",
       "  </thead>\n",
       "  <tbody>\n",
       "    <tr>\n",
       "      <th>1</th>\n",
       "      <td>59.333333</td>\n",
       "      <td>41.035150</td>\n",
       "    </tr>\n",
       "    <tr>\n",
       "      <th>2</th>\n",
       "      <td>96.408879</td>\n",
       "      <td>49.774097</td>\n",
       "    </tr>\n",
       "    <tr>\n",
       "      <th>3</th>\n",
       "      <td>129.472222</td>\n",
       "      <td>70.053085</td>\n",
       "    </tr>\n",
       "    <tr>\n",
       "      <th>4</th>\n",
       "      <td>133.382114</td>\n",
       "      <td>66.069198</td>\n",
       "    </tr>\n",
       "    <tr>\n",
       "      <th>5</th>\n",
       "      <td>156.132812</td>\n",
       "      <td>71.199550</td>\n",
       "    </tr>\n",
       "    <tr>\n",
       "      <th>6</th>\n",
       "      <td>184.400000</td>\n",
       "      <td>78.990054</td>\n",
       "    </tr>\n",
       "    <tr>\n",
       "      <th>7</th>\n",
       "      <td>149.444444</td>\n",
       "      <td>69.934610</td>\n",
       "    </tr>\n",
       "    <tr>\n",
       "      <th>8</th>\n",
       "      <td>135.000000</td>\n",
       "      <td>27.928480</td>\n",
       "    </tr>\n",
       "    <tr>\n",
       "      <th>9</th>\n",
       "      <td>256.666667</td>\n",
       "      <td>125.326241</td>\n",
       "    </tr>\n",
       "    <tr>\n",
       "      <th>13</th>\n",
       "      <td>350.000000</td>\n",
       "      <td>0.000000</td>\n",
       "    </tr>\n",
       "  </tbody>\n",
       "</table>\n",
       "</div>"
      ],
      "text/plain": [
       "                mean         std\n",
       "fam_size                        \n",
       "1          59.333333   41.035150\n",
       "2          96.408879   49.774097\n",
       "3         129.472222   70.053085\n",
       "4         133.382114   66.069198\n",
       "5         156.132812   71.199550\n",
       "6         184.400000   78.990054\n",
       "7         149.444444   69.934610\n",
       "8         135.000000   27.928480\n",
       "9         256.666667  125.326241\n",
       "13        350.000000    0.000000"
      ]
     },
     "execution_count": 7,
     "metadata": {},
     "output_type": "execute_result"
    }
   ],
   "source": [
    "df.groupby(\"fam_size\")[\"grocerywk\"].agg([\"mean\", \"std\"])"
   ]
  },
  {
   "cell_type": "code",
   "execution_count": 8,
   "id": "443b9abe",
   "metadata": {},
   "outputs": [],
   "source": [
    "import numpy as np\n",
    "from scipy import stats\n",
    "\n",
    "\n",
    "df_2 = df[df[\"fam_size\"]==2]\n",
    "mean, sem = df_2[\"grocerywk\"].mean(), stats.sem(df_2[\"grocerywk\"])\n",
    "conf_int_lower,  conf_int_upper = mean-sem, mean+sem"
   ]
  },
  {
   "cell_type": "code",
   "execution_count": 9,
   "id": "f5ff35cc",
   "metadata": {},
   "outputs": [
    {
     "name": "stdout",
     "output_type": "stream",
     "text": [
      "mean: 96.409 \n",
      " st error: 1.7012 \n",
      " 95% confidence: 94.7076, 98.1101\n"
     ]
    }
   ],
   "source": [
    "print(f'mean: {mean:.3f} \\n st error: {sem:.4f} \\n 95% confidence: {conf_int_lower:.4f}, {conf_int_upper:.4f}')"
   ]
  },
  {
   "cell_type": "markdown",
   "id": "ba416ed6",
   "metadata": {},
   "source": [
    "# 3\n",
    "\n",
    "\n",
    "3. Copy the file cps115.dta from the OneDrive to your computer. Load this dataset into memory\n",
    "in Stata and use it to answer the following questions.\n",
    "Use describe to describe the variables. `educ` is a factor variable for education obtained.\n",
    "\n",
    "- Use tabulate to produce a table of how many sample observations are in each education category.\n",
    "- Use tabulate with the nolabel option reveal the values used to code the education categories.\n",
    "- Use label lise to list out the mapping between the education categories and the values used to code them.\n",
    "- What are the education categories and what are the values used to code them?\n",
    "- A colleague recommends that you use mean to estimate the mean of education. Is this a good idea? Why or why not?\n"
   ]
  },
  {
   "cell_type": "code",
   "execution_count": 10,
   "id": "d4b0b7f7",
   "metadata": {},
   "outputs": [],
   "source": [
    "df = pd.io.stata.read_stata('data/cps115.dta')"
   ]
  },
  {
   "cell_type": "code",
   "execution_count": 11,
   "id": "6418285f",
   "metadata": {},
   "outputs": [
    {
     "data": {
      "text/plain": [
       "HS              443\n",
       "Some college    400\n",
       "College         359\n",
       "Advanced        195\n",
       "LTHS            103\n",
       "Name: educ, dtype: int64"
      ]
     },
     "execution_count": 11,
     "metadata": {},
     "output_type": "execute_result"
    }
   ],
   "source": [
    "df[\"educ\"].value_counts()"
   ]
  },
  {
   "cell_type": "code",
   "execution_count": 12,
   "id": "d1cef231",
   "metadata": {},
   "outputs": [],
   "source": [
    "df[\"educ_factor\"] = df[\"educ\"].cat.codes"
   ]
  },
  {
   "cell_type": "code",
   "execution_count": 13,
   "id": "cbf9846c",
   "metadata": {},
   "outputs": [
    {
     "name": "stdout",
     "output_type": "stream",
     "text": [
      "{0: 'LTHS', 1: 'HS', 2: 'Some college', 3: 'College', 4: 'Advanced'}\n"
     ]
    }
   ],
   "source": [
    "labels = dict(enumerate(df[\"educ\"].cat.categories))\n",
    "print (labels)"
   ]
  },
  {
   "cell_type": "code",
   "execution_count": 14,
   "id": "405971dd",
   "metadata": {},
   "outputs": [
    {
     "data": {
      "text/plain": [
       "1    443\n",
       "2    400\n",
       "3    359\n",
       "4    195\n",
       "0    103\n",
       "Name: educ_factor, dtype: int64"
      ]
     },
     "execution_count": 14,
     "metadata": {},
     "output_type": "execute_result"
    }
   ],
   "source": [
    "df[\"educ_factor\"].value_counts()"
   ]
  },
  {
   "cell_type": "markdown",
   "id": "1a1e2c27",
   "metadata": {},
   "source": [
    "# 4\n",
    "\n",
    "4. Load the dataset cps115.dta and use it to answer the following questions. (Round all answers to 2 digits after the decimal place.)\n",
    "Recall that the variable educ is a factor variable that indicates the education category obtained by each person.\n",
    "\n",
    "- Use proportion to estimate the population proportions for each education category.\n",
    "- Use proportion with the option coeflegend to see the parameter names for each estimated proportion.\n",
    "- Use test to test the null hypothesis that the population proportions for HS and for Some college are the same. Do you reject or not reject this null at the 5% level of significance?\n",
    "\n"
   ]
  },
  {
   "cell_type": "code",
   "execution_count": 15,
   "id": "c8ac18c1",
   "metadata": {},
   "outputs": [],
   "source": [
    "df = pd.io.stata.read_stata('data/cps115.dta')"
   ]
  },
  {
   "cell_type": "code",
   "execution_count": 16,
   "id": "248f629a",
   "metadata": {},
   "outputs": [
    {
     "data": {
      "text/html": [
       "<div>\n",
       "<style scoped>\n",
       "    .dataframe tbody tr th:only-of-type {\n",
       "        vertical-align: middle;\n",
       "    }\n",
       "\n",
       "    .dataframe tbody tr th {\n",
       "        vertical-align: top;\n",
       "    }\n",
       "\n",
       "    .dataframe thead th {\n",
       "        text-align: right;\n",
       "    }\n",
       "</style>\n",
       "<table border=\"1\" class=\"dataframe\">\n",
       "  <thead>\n",
       "    <tr style=\"text-align: right;\">\n",
       "      <th></th>\n",
       "      <th>lfstat</th>\n",
       "      <th>educ</th>\n",
       "      <th>weekpay</th>\n",
       "    </tr>\n",
       "  </thead>\n",
       "  <tbody>\n",
       "    <tr>\n",
       "      <th>0</th>\n",
       "      <td>Employed</td>\n",
       "      <td>LTHS</td>\n",
       "      <td>400.000000</td>\n",
       "    </tr>\n",
       "    <tr>\n",
       "      <th>1</th>\n",
       "      <td>Employed</td>\n",
       "      <td>College</td>\n",
       "      <td>2076.919922</td>\n",
       "    </tr>\n",
       "    <tr>\n",
       "      <th>2</th>\n",
       "      <td>Employed</td>\n",
       "      <td>HS</td>\n",
       "      <td>650.000000</td>\n",
       "    </tr>\n",
       "    <tr>\n",
       "      <th>3</th>\n",
       "      <td>Employed</td>\n",
       "      <td>HS</td>\n",
       "      <td>850.000000</td>\n",
       "    </tr>\n",
       "    <tr>\n",
       "      <th>4</th>\n",
       "      <td>Employed</td>\n",
       "      <td>College</td>\n",
       "      <td>2884.610107</td>\n",
       "    </tr>\n",
       "  </tbody>\n",
       "</table>\n",
       "</div>"
      ],
      "text/plain": [
       "     lfstat     educ      weekpay\n",
       "0  Employed     LTHS   400.000000\n",
       "1  Employed  College  2076.919922\n",
       "2  Employed       HS   650.000000\n",
       "3  Employed       HS   850.000000\n",
       "4  Employed  College  2884.610107"
      ]
     },
     "execution_count": 16,
     "metadata": {},
     "output_type": "execute_result"
    }
   ],
   "source": [
    "df.head()"
   ]
  },
  {
   "cell_type": "code",
   "execution_count": 17,
   "id": "de13445b",
   "metadata": {},
   "outputs": [
    {
     "name": "stdout",
     "output_type": "stream",
     "text": [
      "z_stat: 1.747, p_value: 0.081\n",
      "Fail to reject the null hypothesis\n"
     ]
    }
   ],
   "source": [
    "from statsmodels.stats.proportion import proportions_ztest\n",
    "import numpy as np\n",
    "\n",
    "# can we assume anything from our sample\n",
    "significance = 0.025\n",
    "\n",
    "hs = len(df[df[\"educ\"]==\"HS\"])\n",
    "some_college = len(df[df[\"educ\"]==\"Some college\"])\n",
    "sample_size = len(df)\n",
    "\n",
    "sample_success_a, sample_size_a = (hs, sample_size)\n",
    "sample_success_b, sample_size_b = (some_college, sample_size)\n",
    "\n",
    "successes = np.array([sample_success_a, sample_success_b])\n",
    "samples = np.array([sample_size, sample_size_b])\n",
    "\n",
    "stat, p_value = proportions_ztest(count=successes, nobs=samples,  alternative='two-sided')\n",
    "\n",
    "print(f'z_stat: {stat:0.3f}, p_value: {p_value:0.3f}')\n",
    "\n",
    "if p_value > significance:\n",
    "   print (\"Fail to reject the null hypothesis\")\n",
    "else:\n",
    "   print (\"Reject the null hypothesis - there is evidence the two proportions are not the same\")"
   ]
  },
  {
   "cell_type": "markdown",
   "id": "b52edbd1",
   "metadata": {},
   "source": [
    "# 5 Continue using the file cps115.dta.\n",
    "\n",
    "- Use mean with the over() option to estimate the population means for weekly pay for each education category.\n",
    "- to 2 digits, what are the estimated means of weekly pay for each education category.\n",
    "- Use mean with the over() option and the coef legend option to display the parameter names.\n",
    "- Use test to test the null hypothesis that the mean pay per week is the same for those with some college as for those with a College degree. To 4 digits, what is the p-value of this test? \n",
    "- At the 5% level of significance, do you reject or not reject the null hypothesis?"
   ]
  },
  {
   "cell_type": "code",
   "execution_count": 18,
   "id": "5d4457cd",
   "metadata": {},
   "outputs": [],
   "source": [
    "df = pd.io.stata.read_stata('data/cps115.dta')"
   ]
  },
  {
   "cell_type": "code",
   "execution_count": 19,
   "id": "f7e446ce",
   "metadata": {},
   "outputs": [
    {
     "data": {
      "text/html": [
       "<div>\n",
       "<style scoped>\n",
       "    .dataframe tbody tr th:only-of-type {\n",
       "        vertical-align: middle;\n",
       "    }\n",
       "\n",
       "    .dataframe tbody tr th {\n",
       "        vertical-align: top;\n",
       "    }\n",
       "\n",
       "    .dataframe thead th {\n",
       "        text-align: right;\n",
       "    }\n",
       "</style>\n",
       "<table border=\"1\" class=\"dataframe\">\n",
       "  <thead>\n",
       "    <tr style=\"text-align: right;\">\n",
       "      <th></th>\n",
       "      <th>mean</th>\n",
       "      <th>std</th>\n",
       "    </tr>\n",
       "    <tr>\n",
       "      <th>educ</th>\n",
       "      <th></th>\n",
       "      <th></th>\n",
       "    </tr>\n",
       "  </thead>\n",
       "  <tbody>\n",
       "    <tr>\n",
       "      <th>LTHS</th>\n",
       "      <td>691.290833</td>\n",
       "      <td>566.735004</td>\n",
       "    </tr>\n",
       "    <tr>\n",
       "      <th>HS</th>\n",
       "      <td>816.891235</td>\n",
       "      <td>556.749856</td>\n",
       "    </tr>\n",
       "    <tr>\n",
       "      <th>Some college</th>\n",
       "      <td>895.669739</td>\n",
       "      <td>555.304836</td>\n",
       "    </tr>\n",
       "    <tr>\n",
       "      <th>College</th>\n",
       "      <td>1273.396240</td>\n",
       "      <td>744.134737</td>\n",
       "    </tr>\n",
       "    <tr>\n",
       "      <th>Advanced</th>\n",
       "      <td>1642.574463</td>\n",
       "      <td>812.667348</td>\n",
       "    </tr>\n",
       "  </tbody>\n",
       "</table>\n",
       "</div>"
      ],
      "text/plain": [
       "                     mean         std\n",
       "educ                                 \n",
       "LTHS           691.290833  566.735004\n",
       "HS             816.891235  556.749856\n",
       "Some college   895.669739  555.304836\n",
       "College       1273.396240  744.134737\n",
       "Advanced      1642.574463  812.667348"
      ]
     },
     "execution_count": 19,
     "metadata": {},
     "output_type": "execute_result"
    }
   ],
   "source": [
    "df.groupby(\"educ\")[\"weekpay\"].agg([\"mean\", \"std\"])"
   ]
  },
  {
   "cell_type": "code",
   "execution_count": 20,
   "id": "689e257c",
   "metadata": {},
   "outputs": [
    {
     "data": {
      "text/plain": [
       "Ttest_indResult(statistic=-6.32137941941678, pvalue=5.86521035343492e-10)"
      ]
     },
     "execution_count": 20,
     "metadata": {},
     "output_type": "execute_result"
    }
   ],
   "source": [
    "group_1 = df[df[\"educ\"]==\"Some college\"][\"weekpay\"].dropna()\n",
    "group_2 = df[df[\"educ\"]==\"College\"][\"weekpay\"].dropna()\n",
    "\n",
    "stats.ttest_ind(group_1, group_2)"
   ]
  },
  {
   "cell_type": "markdown",
   "id": "a197b0de",
   "metadata": {},
   "source": [
    "# 6. Copy the file cpsa115.dna from the OneDrive to your computer. \n",
    "\n",
    "Load this dataset into memory in Stata and use it to answer the following questions. The variable lf stat is a categorical variable that gives the labor force status of each individual.\n",
    "The sample proportion of category a in categorical variable var is given by\n",
    "pq = _,(car; == a) where n is the number of observations.\n",
    "The standard error of the sample proportion of category a in categorical variable var is \n",
    "given\n",
    "by SE —— \" \"\n",
    "\n",
    "- Use sumarize and local macros to compute the the sample proportion and the standard error of the sample proportion for each category in lf stat.\n",
    "- What is the sample proportion of Employed?\n",
    "- What is the standard error of the sample proportion of Employed?\n",
    "- What is the sample proportion of Unemployed?\n",
    "- What is the standard error of the sample proportion of Unemployed?\n",
    "- What is the sample proportion of NILF?\n",
    "- What is the standard error of the sample proportion of OILF ?\n",
    "\n"
   ]
  },
  {
   "cell_type": "code",
   "execution_count": 21,
   "id": "ec9e9c37",
   "metadata": {},
   "outputs": [],
   "source": [
    "df = pd.io.stata.read_stata('data/cpsa115.dta')"
   ]
  },
  {
   "cell_type": "code",
   "execution_count": 22,
   "id": "4721e3ab",
   "metadata": {},
   "outputs": [
    {
     "data": {
      "text/html": [
       "<div>\n",
       "<style scoped>\n",
       "    .dataframe tbody tr th:only-of-type {\n",
       "        vertical-align: middle;\n",
       "    }\n",
       "\n",
       "    .dataframe tbody tr th {\n",
       "        vertical-align: top;\n",
       "    }\n",
       "\n",
       "    .dataframe thead th {\n",
       "        text-align: right;\n",
       "    }\n",
       "</style>\n",
       "<table border=\"1\" class=\"dataframe\">\n",
       "  <thead>\n",
       "    <tr style=\"text-align: right;\">\n",
       "      <th></th>\n",
       "      <th>lfstat</th>\n",
       "      <th>educ</th>\n",
       "      <th>weekpay</th>\n",
       "    </tr>\n",
       "  </thead>\n",
       "  <tbody>\n",
       "    <tr>\n",
       "      <th>0</th>\n",
       "      <td>NILF</td>\n",
       "      <td>HS</td>\n",
       "      <td>NaN</td>\n",
       "    </tr>\n",
       "    <tr>\n",
       "      <th>1</th>\n",
       "      <td>Employed</td>\n",
       "      <td>Some college</td>\n",
       "      <td>NaN</td>\n",
       "    </tr>\n",
       "    <tr>\n",
       "      <th>2</th>\n",
       "      <td>Employed</td>\n",
       "      <td>College</td>\n",
       "      <td>1538.459961</td>\n",
       "    </tr>\n",
       "    <tr>\n",
       "      <th>3</th>\n",
       "      <td>Employed</td>\n",
       "      <td>Advanced</td>\n",
       "      <td>1269.229980</td>\n",
       "    </tr>\n",
       "    <tr>\n",
       "      <th>4</th>\n",
       "      <td>Employed</td>\n",
       "      <td>Advanced</td>\n",
       "      <td>2884.610107</td>\n",
       "    </tr>\n",
       "  </tbody>\n",
       "</table>\n",
       "</div>"
      ],
      "text/plain": [
       "     lfstat          educ      weekpay\n",
       "0      NILF            HS          NaN\n",
       "1  Employed  Some college          NaN\n",
       "2  Employed       College  1538.459961\n",
       "3  Employed      Advanced  1269.229980\n",
       "4  Employed      Advanced  2884.610107"
      ]
     },
     "execution_count": 22,
     "metadata": {},
     "output_type": "execute_result"
    }
   ],
   "source": [
    "df.head()"
   ]
  },
  {
   "cell_type": "code",
   "execution_count": 23,
   "id": "4812912d",
   "metadata": {},
   "outputs": [],
   "source": [
    "a = df[\"lfstat\"].value_counts(normalize=True)"
   ]
  },
  {
   "cell_type": "code",
   "execution_count": 24,
   "id": "c9942624",
   "metadata": {},
   "outputs": [
    {
     "data": {
      "text/plain": [
       "Employed      0.713494\n",
       "NILF          0.255083\n",
       "Unemployed    0.031423\n",
       "Name: lfstat, dtype: float64"
      ]
     },
     "execution_count": 24,
     "metadata": {},
     "output_type": "execute_result"
    }
   ],
   "source": [
    "a"
   ]
  },
  {
   "cell_type": "code",
   "execution_count": 25,
   "id": "58824595",
   "metadata": {},
   "outputs": [],
   "source": [
    "from math import sqrt \n",
    "\n",
    "def sem_prop(x, n):\n",
    "    p = x/n\n",
    "    return sqrt(p*(1-p) / n)    "
   ]
  },
  {
   "cell_type": "code",
   "execution_count": 26,
   "id": "e7bdc2af",
   "metadata": {},
   "outputs": [],
   "source": [
    "a = df[\"lfstat\"].value_counts()"
   ]
  },
  {
   "cell_type": "code",
   "execution_count": 27,
   "id": "0ec43e70",
   "metadata": {},
   "outputs": [],
   "source": [
    "proportions = [a[i]/a.sum() for i in range(0,3)]"
   ]
  },
  {
   "cell_type": "code",
   "execution_count": 28,
   "id": "bf01b2b4",
   "metadata": {},
   "outputs": [],
   "source": [
    "proportion_value = [sem_prop(a[i], a.sum()) for i in range(0,3)]"
   ]
  },
  {
   "cell_type": "code",
   "execution_count": 29,
   "id": "890be195",
   "metadata": {},
   "outputs": [
    {
     "data": {
      "text/html": [
       "<div>\n",
       "<style scoped>\n",
       "    .dataframe tbody tr th:only-of-type {\n",
       "        vertical-align: middle;\n",
       "    }\n",
       "\n",
       "    .dataframe tbody tr th {\n",
       "        vertical-align: top;\n",
       "    }\n",
       "\n",
       "    .dataframe thead th {\n",
       "        text-align: right;\n",
       "    }\n",
       "</style>\n",
       "<table border=\"1\" class=\"dataframe\">\n",
       "  <thead>\n",
       "    <tr style=\"text-align: right;\">\n",
       "      <th></th>\n",
       "      <th>lfstat</th>\n",
       "      <th>count</th>\n",
       "      <th>proportion</th>\n",
       "      <th>sem</th>\n",
       "    </tr>\n",
       "  </thead>\n",
       "  <tbody>\n",
       "    <tr>\n",
       "      <th>0</th>\n",
       "      <td>Employed</td>\n",
       "      <td>386</td>\n",
       "      <td>0.713494</td>\n",
       "      <td>0.019439</td>\n",
       "    </tr>\n",
       "    <tr>\n",
       "      <th>1</th>\n",
       "      <td>NILF</td>\n",
       "      <td>138</td>\n",
       "      <td>0.255083</td>\n",
       "      <td>0.018741</td>\n",
       "    </tr>\n",
       "    <tr>\n",
       "      <th>2</th>\n",
       "      <td>Unemployed</td>\n",
       "      <td>17</td>\n",
       "      <td>0.031423</td>\n",
       "      <td>0.007501</td>\n",
       "    </tr>\n",
       "  </tbody>\n",
       "</table>\n",
       "</div>"
      ],
      "text/plain": [
       "       lfstat  count  proportion       sem\n",
       "0    Employed    386    0.713494  0.019439\n",
       "1        NILF    138    0.255083  0.018741\n",
       "2  Unemployed     17    0.031423  0.007501"
      ]
     },
     "execution_count": 29,
     "metadata": {},
     "output_type": "execute_result"
    }
   ],
   "source": [
    "data_tuples = list(zip(a.index, a.values,proportions,proportion_value))\n",
    "data_tuples_df = pd.DataFrame(data_tuples, columns=[\"lfstat\", \"count\", \"proportion\", \"sem\"])\n",
    "data_tuples_df"
   ]
  },
  {
   "cell_type": "code",
   "execution_count": 30,
   "id": "b00707e6",
   "metadata": {},
   "outputs": [
    {
     "data": {
      "text/plain": [
       "Employed      0.771242\n",
       "NILF          0.215686\n",
       "Unemployed    0.013072\n",
       "Name: lfstat, dtype: float64"
      ]
     },
     "execution_count": 30,
     "metadata": {},
     "output_type": "execute_result"
    }
   ],
   "source": [
    "df[df[\"educ\"]==\"Some college\"][\"lfstat\"].value_counts(normalize=True)"
   ]
  },
  {
   "cell_type": "code",
   "execution_count": 31,
   "id": "cde15e82",
   "metadata": {},
   "outputs": [
    {
     "name": "stdout",
     "output_type": "stream",
     "text": [
      "z_stat: 1.758, p_value: 0.079\n",
      "Fail to reject the null hypothesis\n"
     ]
    }
   ],
   "source": [
    "from statsmodels.stats.proportion import proportions_ztest\n",
    "import numpy as np\n",
    "\n",
    "# can we assume anything from our sample\n",
    "significance = 0.025\n",
    "\n",
    "\n",
    "some_college = len(df[(df[\"educ\"]==\"Some college\") & (df[\"lfstat\"]==\"Employed\") ])\n",
    "college = len(df[(df[\"educ\"]==\"College\") & (df[\"lfstat\"]==\"Employed\") ])\n",
    "sample_size = len(df)\n",
    "\n",
    "sample_success_a, sample_size_a = (some_college, sample_size)\n",
    "sample_success_b, sample_size_b = (college, sample_size)\n",
    "\n",
    "successes = np.array([sample_success_a, sample_success_b])\n",
    "samples = np.array([sample_size, sample_size_b])\n",
    "\n",
    "stat, p_value = proportions_ztest(count=successes, nobs=samples,  alternative='two-sided')\n",
    "\n",
    "print(f'z_stat: {stat:0.3f}, p_value: {p_value:0.3f}')\n",
    "\n",
    "if p_value > significance:\n",
    "   print (\"Fail to reject the null hypothesis\")\n",
    "else:\n",
    "   print (\"Reject the null hypothesis - there is evidence the two proportions are not the same\")"
   ]
  },
  {
   "cell_type": "code",
   "execution_count": 32,
   "id": "870b0fe3",
   "metadata": {},
   "outputs": [
    {
     "data": {
      "text/plain": [
       "95"
      ]
     },
     "execution_count": 32,
     "metadata": {},
     "output_type": "execute_result"
    }
   ],
   "source": [
    "len(df[(df[\"educ\"]==\"College\") & (df[\"lfstat\"]==\"Employed\") ])"
   ]
  },
  {
   "cell_type": "code",
   "execution_count": 33,
   "id": "3efb3ffd",
   "metadata": {},
   "outputs": [
    {
     "data": {
      "text/plain": [
       "Some college    0.305699\n",
       "HS              0.256477\n",
       "College         0.246114\n",
       "Advanced        0.145078\n",
       "LTHS            0.046632\n",
       "Name: educ, dtype: float64"
      ]
     },
     "execution_count": 33,
     "metadata": {},
     "output_type": "execute_result"
    }
   ],
   "source": [
    "df[df[\"lfstat\"]==\"Employed\"][\"educ\"].value_counts(normalize=True)"
   ]
  },
  {
   "cell_type": "code",
   "execution_count": 34,
   "id": "be080a48",
   "metadata": {},
   "outputs": [
    {
     "data": {
      "text/html": [
       "<div>\n",
       "<style scoped>\n",
       "    .dataframe tbody tr th:only-of-type {\n",
       "        vertical-align: middle;\n",
       "    }\n",
       "\n",
       "    .dataframe tbody tr th {\n",
       "        vertical-align: top;\n",
       "    }\n",
       "\n",
       "    .dataframe thead th {\n",
       "        text-align: right;\n",
       "    }\n",
       "</style>\n",
       "<table border=\"1\" class=\"dataframe\">\n",
       "  <thead>\n",
       "    <tr style=\"text-align: right;\">\n",
       "      <th></th>\n",
       "      <th></th>\n",
       "      <th>weekpay</th>\n",
       "    </tr>\n",
       "    <tr>\n",
       "      <th>educ</th>\n",
       "      <th>lfstat</th>\n",
       "      <th></th>\n",
       "    </tr>\n",
       "  </thead>\n",
       "  <tbody>\n",
       "    <tr>\n",
       "      <th rowspan=\"3\" valign=\"top\">LTHS</th>\n",
       "      <th>Employed</th>\n",
       "      <td>15</td>\n",
       "    </tr>\n",
       "    <tr>\n",
       "      <th>Unemployed</th>\n",
       "      <td>0</td>\n",
       "    </tr>\n",
       "    <tr>\n",
       "      <th>NILF</th>\n",
       "      <td>0</td>\n",
       "    </tr>\n",
       "    <tr>\n",
       "      <th rowspan=\"2\" valign=\"top\">HS</th>\n",
       "      <th>Employed</th>\n",
       "      <td>85</td>\n",
       "    </tr>\n",
       "    <tr>\n",
       "      <th>Unemployed</th>\n",
       "      <td>0</td>\n",
       "    </tr>\n",
       "  </tbody>\n",
       "</table>\n",
       "</div>"
      ],
      "text/plain": [
       "                 weekpay\n",
       "educ lfstat             \n",
       "LTHS Employed         15\n",
       "     Unemployed        0\n",
       "     NILF              0\n",
       "HS   Employed         85\n",
       "     Unemployed        0"
      ]
     },
     "execution_count": 34,
     "metadata": {},
     "output_type": "execute_result"
    }
   ],
   "source": [
    "#This table helps us to calculate the SE.\n",
    "prop = df.groupby([\"educ\",\"lfstat\"]).agg(\"count\")\n",
    "prop.head()"
   ]
  },
  {
   "cell_type": "code",
   "execution_count": null,
   "id": "2f125280",
   "metadata": {},
   "outputs": [],
   "source": []
  }
 ],
 "metadata": {
  "kernelspec": {
   "display_name": "Python 3",
   "language": "python",
   "name": "python3"
  },
  "language_info": {
   "codemirror_mode": {
    "name": "ipython",
    "version": 3
   },
   "file_extension": ".py",
   "mimetype": "text/x-python",
   "name": "python",
   "nbconvert_exporter": "python",
   "pygments_lexer": "ipython3",
   "version": "3.8.8"
  }
 },
 "nbformat": 4,
 "nbformat_minor": 5
}
