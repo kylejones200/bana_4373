{
 "cells": [
  {
   "cell_type": "markdown",
   "metadata": {},
   "source": [
    "# Association Rules for trading in Python\n",
    "\n",
    "This notebook uses the concepts of personalization and Association Rules to mine for stock events which appear together.\n",
    "\n",
    "Just as Milk, Peanut Butter, Jelly, and Bread frequently occur together, events in the stock market occur together in various combinations. By converting stock price from a continuous variable to a descrite variable (a 'factor' in R or a 'category' in python), we can treat these events like items in the apriori algorithm. \n",
    "\n",
    "We will get the stock data from Quandl. You can register for a free account to access a lot of data with a key. My key has been removed from this notebook so you will need to provide a your own key to execute the cells. "
   ]
  },
  {
   "cell_type": "markdown",
   "metadata": {},
   "source": [
    "Author: Kyle Jones, Solutions Architect\n",
    "\n",
    "Date: December 13, 2019"
   ]
  },
  {
   "cell_type": "code",
   "execution_count": 1,
   "metadata": {
    "collapsed": true
   },
   "outputs": [
    {
     "name": "stdout",
     "output_type": "stream",
     "text": [
      "Collecting Quandl\n",
      "  Downloading https://files.pythonhosted.org/packages/12/64/6314547cb01fa75697ddba6d6d43a9f1d023c1730ffc6abf3db7a0c89222/Quandl-3.4.8-py2.py3-none-any.whl\n",
      "Requirement already satisfied: pandas>=0.14 in /home/ec2-user/anaconda3/envs/python3/lib/python3.6/site-packages (from Quandl) (0.24.2)\n",
      "Requirement already satisfied: six in /home/ec2-user/anaconda3/envs/python3/lib/python3.6/site-packages (from Quandl) (1.11.0)\n",
      "Requirement already satisfied: pyasn1 in /home/ec2-user/anaconda3/envs/python3/lib/python3.6/site-packages (from Quandl) (0.4.8)\n",
      "Requirement already satisfied: pyOpenSSL in /home/ec2-user/anaconda3/envs/python3/lib/python3.6/site-packages (from Quandl) (18.0.0)\n",
      "Requirement already satisfied: numpy>=1.8 in /home/ec2-user/anaconda3/envs/python3/lib/python3.6/site-packages (from Quandl) (1.17.4)\n",
      "Requirement already satisfied: requests>=2.7.0 in /home/ec2-user/anaconda3/envs/python3/lib/python3.6/site-packages (from Quandl) (2.20.0)\n",
      "Collecting ndg-httpsclient (from Quandl)\n",
      "  Downloading https://files.pythonhosted.org/packages/fb/67/c2f508c00ed2a6911541494504b7cac16fe0b0473912568df65fd1801132/ndg_httpsclient-0.5.1-py3-none-any.whl\n",
      "Requirement already satisfied: python-dateutil in /home/ec2-user/anaconda3/envs/python3/lib/python3.6/site-packages (from Quandl) (2.7.3)\n",
      "Requirement already satisfied: more-itertools<=5.0.0 in /home/ec2-user/anaconda3/envs/python3/lib/python3.6/site-packages (from Quandl) (4.1.0)\n",
      "Collecting inflection>=0.3.1 (from Quandl)\n",
      "  Downloading https://files.pythonhosted.org/packages/d5/35/a6eb45b4e2356fe688b21570864d4aa0d0a880ce387defe9c589112077f8/inflection-0.3.1.tar.gz\n",
      "Requirement already satisfied: pytz>=2011k in /home/ec2-user/anaconda3/envs/python3/lib/python3.6/site-packages (from pandas>=0.14->Quandl) (2018.4)\n",
      "Requirement already satisfied: cryptography>=2.2.1 in /home/ec2-user/anaconda3/envs/python3/lib/python3.6/site-packages (from pyOpenSSL->Quandl) (2.8)\n",
      "Requirement already satisfied: certifi>=2017.4.17 in /home/ec2-user/anaconda3/envs/python3/lib/python3.6/site-packages (from requests>=2.7.0->Quandl) (2019.9.11)\n",
      "Requirement already satisfied: chardet<3.1.0,>=3.0.2 in /home/ec2-user/anaconda3/envs/python3/lib/python3.6/site-packages (from requests>=2.7.0->Quandl) (3.0.4)\n",
      "Requirement already satisfied: urllib3<1.25,>=1.21.1 in /home/ec2-user/anaconda3/envs/python3/lib/python3.6/site-packages (from requests>=2.7.0->Quandl) (1.23)\n",
      "Requirement already satisfied: idna<2.8,>=2.5 in /home/ec2-user/anaconda3/envs/python3/lib/python3.6/site-packages (from requests>=2.7.0->Quandl) (2.6)\n",
      "Requirement already satisfied: cffi!=1.11.3,>=1.8 in /home/ec2-user/anaconda3/envs/python3/lib/python3.6/site-packages (from cryptography>=2.2.1->pyOpenSSL->Quandl) (1.11.5)\n",
      "Requirement already satisfied: pycparser in /home/ec2-user/anaconda3/envs/python3/lib/python3.6/site-packages (from cffi!=1.11.3,>=1.8->cryptography>=2.2.1->pyOpenSSL->Quandl) (2.18)\n",
      "Building wheels for collected packages: inflection\n",
      "  Running setup.py bdist_wheel for inflection ... \u001b[?25ldone\n",
      "\u001b[?25h  Stored in directory: /home/ec2-user/.cache/pip/wheels/9f/5a/d3/6fc3bf6516d2a3eb7e18f9f28b472110b59325f3f258fe9211\n",
      "Successfully built inflection\n",
      "Installing collected packages: ndg-httpsclient, inflection, Quandl\n",
      "Successfully installed Quandl-3.4.8 inflection-0.3.1 ndg-httpsclient-0.5.1\n",
      "\u001b[33mYou are using pip version 10.0.1, however version 19.3.1 is available.\n",
      "You should consider upgrading via the 'pip install --upgrade pip' command.\u001b[0m\n"
     ]
    }
   ],
   "source": [
    "!pip install Quandl"
   ]
  },
  {
   "cell_type": "code",
   "execution_count": 2,
   "metadata": {},
   "outputs": [],
   "source": [
    "import quandl"
   ]
  },
  {
   "cell_type": "code",
   "execution_count": 8,
   "metadata": {},
   "outputs": [],
   "source": [
    "import numpy as np\n",
    "import matplotlib.pyplot as plt\n",
    "import pandas as pd"
   ]
  },
  {
   "cell_type": "code",
   "execution_count": 36,
   "metadata": {},
   "outputs": [],
   "source": [
    "quandl.ApiConfig.api_key = 'YOUR-KEY'\n",
    "df = quandl.get('WIKI/BP', start_date='2016-01-01')"
   ]
  },
  {
   "cell_type": "code",
   "execution_count": 37,
   "metadata": {},
   "outputs": [
    {
     "data": {
      "text/html": [
       "<div>\n",
       "<style scoped>\n",
       "    .dataframe tbody tr th:only-of-type {\n",
       "        vertical-align: middle;\n",
       "    }\n",
       "\n",
       "    .dataframe tbody tr th {\n",
       "        vertical-align: top;\n",
       "    }\n",
       "\n",
       "    .dataframe thead th {\n",
       "        text-align: right;\n",
       "    }\n",
       "</style>\n",
       "<table border=\"1\" class=\"dataframe\">\n",
       "  <thead>\n",
       "    <tr style=\"text-align: right;\">\n",
       "      <th></th>\n",
       "      <th>Open</th>\n",
       "      <th>High</th>\n",
       "      <th>Low</th>\n",
       "      <th>Close</th>\n",
       "      <th>Volume</th>\n",
       "      <th>Ex-Dividend</th>\n",
       "      <th>Split Ratio</th>\n",
       "      <th>Adj. Open</th>\n",
       "      <th>Adj. High</th>\n",
       "      <th>Adj. Low</th>\n",
       "      <th>Adj. Close</th>\n",
       "      <th>Adj. Volume</th>\n",
       "    </tr>\n",
       "    <tr>\n",
       "      <th>Date</th>\n",
       "      <th></th>\n",
       "      <th></th>\n",
       "      <th></th>\n",
       "      <th></th>\n",
       "      <th></th>\n",
       "      <th></th>\n",
       "      <th></th>\n",
       "      <th></th>\n",
       "      <th></th>\n",
       "      <th></th>\n",
       "      <th></th>\n",
       "      <th></th>\n",
       "    </tr>\n",
       "  </thead>\n",
       "  <tbody>\n",
       "    <tr>\n",
       "      <th>2018-03-21</th>\n",
       "      <td>39.05</td>\n",
       "      <td>40.300</td>\n",
       "      <td>39.000</td>\n",
       "      <td>40.13</td>\n",
       "      <td>7436566.0</td>\n",
       "      <td>0.0</td>\n",
       "      <td>1.0</td>\n",
       "      <td>39.05</td>\n",
       "      <td>40.300</td>\n",
       "      <td>39.000</td>\n",
       "      <td>40.13</td>\n",
       "      <td>7436566.0</td>\n",
       "    </tr>\n",
       "    <tr>\n",
       "      <th>2018-03-22</th>\n",
       "      <td>39.59</td>\n",
       "      <td>39.600</td>\n",
       "      <td>38.920</td>\n",
       "      <td>39.03</td>\n",
       "      <td>6213172.0</td>\n",
       "      <td>0.0</td>\n",
       "      <td>1.0</td>\n",
       "      <td>39.59</td>\n",
       "      <td>39.600</td>\n",
       "      <td>38.920</td>\n",
       "      <td>39.03</td>\n",
       "      <td>6213172.0</td>\n",
       "    </tr>\n",
       "    <tr>\n",
       "      <th>2018-03-23</th>\n",
       "      <td>39.26</td>\n",
       "      <td>39.635</td>\n",
       "      <td>39.091</td>\n",
       "      <td>39.12</td>\n",
       "      <td>5325811.0</td>\n",
       "      <td>0.0</td>\n",
       "      <td>1.0</td>\n",
       "      <td>39.26</td>\n",
       "      <td>39.635</td>\n",
       "      <td>39.091</td>\n",
       "      <td>39.12</td>\n",
       "      <td>5325811.0</td>\n",
       "    </tr>\n",
       "    <tr>\n",
       "      <th>2018-03-26</th>\n",
       "      <td>40.33</td>\n",
       "      <td>40.450</td>\n",
       "      <td>39.865</td>\n",
       "      <td>40.42</td>\n",
       "      <td>6791082.0</td>\n",
       "      <td>0.0</td>\n",
       "      <td>1.0</td>\n",
       "      <td>40.33</td>\n",
       "      <td>40.450</td>\n",
       "      <td>39.865</td>\n",
       "      <td>40.42</td>\n",
       "      <td>6791082.0</td>\n",
       "    </tr>\n",
       "    <tr>\n",
       "      <th>2018-03-27</th>\n",
       "      <td>40.52</td>\n",
       "      <td>40.570</td>\n",
       "      <td>39.810</td>\n",
       "      <td>39.97</td>\n",
       "      <td>4740280.0</td>\n",
       "      <td>0.0</td>\n",
       "      <td>1.0</td>\n",
       "      <td>40.52</td>\n",
       "      <td>40.570</td>\n",
       "      <td>39.810</td>\n",
       "      <td>39.97</td>\n",
       "      <td>4740280.0</td>\n",
       "    </tr>\n",
       "  </tbody>\n",
       "</table>\n",
       "</div>"
      ],
      "text/plain": [
       "             Open    High     Low  Close     Volume  Ex-Dividend  Split Ratio  \\\n",
       "Date                                                                            \n",
       "2018-03-21  39.05  40.300  39.000  40.13  7436566.0          0.0          1.0   \n",
       "2018-03-22  39.59  39.600  38.920  39.03  6213172.0          0.0          1.0   \n",
       "2018-03-23  39.26  39.635  39.091  39.12  5325811.0          0.0          1.0   \n",
       "2018-03-26  40.33  40.450  39.865  40.42  6791082.0          0.0          1.0   \n",
       "2018-03-27  40.52  40.570  39.810  39.97  4740280.0          0.0          1.0   \n",
       "\n",
       "            Adj. Open  Adj. High  Adj. Low  Adj. Close  Adj. Volume  \n",
       "Date                                                                 \n",
       "2018-03-21      39.05     40.300    39.000       40.13    7436566.0  \n",
       "2018-03-22      39.59     39.600    38.920       39.03    6213172.0  \n",
       "2018-03-23      39.26     39.635    39.091       39.12    5325811.0  \n",
       "2018-03-26      40.33     40.450    39.865       40.42    6791082.0  \n",
       "2018-03-27      40.52     40.570    39.810       39.97    4740280.0  "
      ]
     },
     "execution_count": 37,
     "metadata": {},
     "output_type": "execute_result"
    }
   ],
   "source": [
    "df.tail() #using the free version from Quandl means we don't get the most recent data."
   ]
  },
  {
   "cell_type": "code",
   "execution_count": 38,
   "metadata": {},
   "outputs": [],
   "source": [
    "cols = ['Open', 'High', 'Low', 'Close']\n",
    "\n",
    "for i in cols:\n",
    "    df['{}_MA'.format(i)] = df[i].rolling(window=20).mean()\n",
    "    df['t0_{}'.format(i)] = [\"t0_{}_H\".format(i) if x > y  else \"t0_{}_L\".format(i) for (x,y) in zip(df['{}'.format(i)],df['{}_MA'.format(i)])]\n",
    "    df['t1_{}'.format(i)] = df['t0_{}'.format(i)].shift(periods=-1)\n",
    "    df['t1_{}'.format(i)] = df['t1_{}'.format(i)].str.replace('0','1')"
   ]
  },
  {
   "cell_type": "code",
   "execution_count": 39,
   "metadata": {},
   "outputs": [],
   "source": [
    "keep = ['t0_Open', 't1_Open', 't0_High', 't1_High', 't0_Low', 't1_Low', 't0_Close', 't1_Close']\n",
    "\n",
    "df_c = df[keep]\n",
    "\n",
    "records = []\n",
    "for i in range(0, len(df_c)):\n",
    "    records.append([str(df_c.values[i,j]) for j in range(0, len(df_c.columns))])"
   ]
  },
  {
   "cell_type": "code",
   "execution_count": 42,
   "metadata": {},
   "outputs": [],
   "source": [
    "pd.DataFrame(records).to_csv('bp_stock.csv', header=False, index=False)"
   ]
  },
  {
   "cell_type": "code",
   "execution_count": 41,
   "metadata": {},
   "outputs": [
    {
     "data": {
      "text/plain": [
       "561"
      ]
     },
     "execution_count": 41,
     "metadata": {},
     "output_type": "execute_result"
    }
   ],
   "source": [
    "len(records)"
   ]
  }
 ],
 "metadata": {
  "kernelspec": {
   "display_name": "Python 3",
   "language": "python",
   "name": "python3"
  },
  "language_info": {
   "codemirror_mode": {
    "name": "ipython",
    "version": 3
   },
   "file_extension": ".py",
   "mimetype": "text/x-python",
   "name": "python",
   "nbconvert_exporter": "python",
   "pygments_lexer": "ipython3",
   "version": "3.7.4"
  },
  "toc": {
   "base_numbering": 1,
   "nav_menu": {},
   "number_sections": true,
   "sideBar": true,
   "skip_h1_title": false,
   "title_cell": "Table of Contents",
   "title_sidebar": "Contents",
   "toc_cell": false,
   "toc_position": {},
   "toc_section_display": true,
   "toc_window_display": false
  }
 },
 "nbformat": 4,
 "nbformat_minor": 2
}
