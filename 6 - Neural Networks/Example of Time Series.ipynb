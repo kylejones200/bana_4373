{
 "cells": [
  {
   "cell_type": "markdown",
   "metadata": {
    "id": "2Pmxv2ioyCRw"
   },
   "source": [
    "##### Copyright 2019 The TensorFlow Authors."
   ]
  },
  {
   "cell_type": "code",
   "execution_count": 1,
   "metadata": {
    "cellView": "form",
    "id": "b-2ShX25yNWf"
   },
   "outputs": [],
   "source": [
    "#@title Licensed under the Apache License, Version 2.0 (the \"License\");\n",
    "# you may not use this file except in compliance with the License.\n",
    "# You may obtain a copy of the License at\n",
    "#\n",
    "# https://www.apache.org/licenses/LICENSE-2.0\n",
    "#\n",
    "# Unless required by applicable law or agreed to in writing, software\n",
    "# distributed under the License is distributed on an \"AS IS\" BASIS,\n",
    "# WITHOUT WARRANTIES OR CONDITIONS OF ANY KIND, either express or implied.\n",
    "# See the License for the specific language governing permissions and\n",
    "# limitations under the License."
   ]
  },
  {
   "cell_type": "markdown",
   "metadata": {
    "id": "pa49bUnKyRgF"
   },
   "source": [
    "# Time series forecasting"
   ]
  },
  {
   "cell_type": "markdown",
   "metadata": {
    "id": "11Ilg92myRcw"
   },
   "source": [
    "<table class=\"tfo-notebook-buttons\" align=\"left\">\n",
    "  <td>\n",
    "    <a target=\"_blank\" href=\"https://www.tensorflow.org/tutorials/structured_data/time_series\"><img src=\"https://www.tensorflow.org/images/tf_logo_32px.png\" />View on TensorFlow.org</a>\n",
    "  </td>\n",
    "  <td>\n",
    "    <a target=\"_blank\" href=\"https://colab.research.google.com/github/tensorflow/docs/blob/master/site/en/tutorials/structured_data/time_series.ipynb\"><img src=\"https://www.tensorflow.org/images/colab_logo_32px.png\" />Run in Google Colab</a>\n",
    "  </td>\n",
    "  <td>\n",
    "    <a target=\"_blank\" href=\"https://github.com/tensorflow/docs/blob/master/site/en/tutorials/structured_data/time_series.ipynb\"><img src=\"https://www.tensorflow.org/images/GitHub-Mark-32px.png\" />View source on GitHub</a>\n",
    "  </td>\n",
    "  <td>\n",
    "    <a href=\"https://storage.googleapis.com/tensorflow_docs/docs/site/en/tutorials/structured_data/time_series.ipynb\"><img src=\"https://www.tensorflow.org/images/download_logo_32px.png\" />Download notebook</a>\n",
    "  </td>\n",
    "</table>"
   ]
  },
  {
   "cell_type": "markdown",
   "metadata": {
    "id": "GU8C5qm_4vZb"
   },
   "source": [
    "This tutorial is an introduction to time series forecasting using TensorFlow. It builds a few different styles of models including Convolutional and Recurrent Neural Networks (CNNs and RNNs).\n",
    "\n",
    "This is covered in two main parts, with subsections: \n",
    "\n",
    "* Forecast for a single time step:\n",
    "  * A single feature.\n",
    "  * All features.\n",
    "* Forecast multiple steps:\n",
    "  * Single-shot: Make the predictions all at once.\n",
    "  * Autoregressive: Make one prediction at a time and feed the output back to the model."
   ]
  },
  {
   "cell_type": "markdown",
   "metadata": {
    "id": "XVhK72Pu1cJL"
   },
   "source": [
    "## Setup"
   ]
  },
  {
   "cell_type": "code",
   "execution_count": 2,
   "metadata": {},
   "outputs": [
    {
     "name": "stdout",
     "output_type": "stream",
     "text": [
      "Requirement already satisfied: keras in /Users/jnesnky/opt/anaconda3/lib/python3.8/site-packages (from -r requirements.txt (line 1)) (2.6.0)\n",
      "Requirement already satisfied: tensorflow in /Users/jnesnky/opt/anaconda3/lib/python3.8/site-packages (from -r requirements.txt (line 2)) (2.6.0)\n",
      "Requirement already satisfied: h5py~=3.1.0 in /Users/jnesnky/opt/anaconda3/lib/python3.8/site-packages (from tensorflow->-r requirements.txt (line 2)) (3.1.0)\n",
      "Requirement already satisfied: termcolor~=1.1.0 in /Users/jnesnky/opt/anaconda3/lib/python3.8/site-packages (from tensorflow->-r requirements.txt (line 2)) (1.1.0)\n",
      "Requirement already satisfied: opt-einsum~=3.3.0 in /Users/jnesnky/opt/anaconda3/lib/python3.8/site-packages (from tensorflow->-r requirements.txt (line 2)) (3.3.0)\n",
      "Requirement already satisfied: tensorflow-estimator~=2.6 in /Users/jnesnky/opt/anaconda3/lib/python3.8/site-packages (from tensorflow->-r requirements.txt (line 2)) (2.6.0)\n",
      "Requirement already satisfied: protobuf>=3.9.2 in /Users/jnesnky/opt/anaconda3/lib/python3.8/site-packages (from tensorflow->-r requirements.txt (line 2)) (3.18.0)\n",
      "Requirement already satisfied: tensorboard~=2.6 in /Users/jnesnky/opt/anaconda3/lib/python3.8/site-packages (from tensorflow->-r requirements.txt (line 2)) (2.6.0)\n",
      "Requirement already satisfied: wheel~=0.35 in /Users/jnesnky/opt/anaconda3/lib/python3.8/site-packages (from tensorflow->-r requirements.txt (line 2)) (0.36.2)\n",
      "Requirement already satisfied: astunparse~=1.6.3 in /Users/jnesnky/opt/anaconda3/lib/python3.8/site-packages (from tensorflow->-r requirements.txt (line 2)) (1.6.3)\n",
      "Requirement already satisfied: grpcio<2.0,>=1.37.0 in /Users/jnesnky/opt/anaconda3/lib/python3.8/site-packages (from tensorflow->-r requirements.txt (line 2)) (1.40.0)\n",
      "Requirement already satisfied: typing-extensions~=3.7.4 in /Users/jnesnky/opt/anaconda3/lib/python3.8/site-packages (from tensorflow->-r requirements.txt (line 2)) (3.7.4.3)\n",
      "Requirement already satisfied: clang~=5.0 in /Users/jnesnky/opt/anaconda3/lib/python3.8/site-packages (from tensorflow->-r requirements.txt (line 2)) (5.0)\n",
      "Requirement already satisfied: gast==0.4.0 in /Users/jnesnky/opt/anaconda3/lib/python3.8/site-packages (from tensorflow->-r requirements.txt (line 2)) (0.4.0)\n",
      "Requirement already satisfied: six~=1.15.0 in /Users/jnesnky/opt/anaconda3/lib/python3.8/site-packages (from tensorflow->-r requirements.txt (line 2)) (1.15.0)\n",
      "Requirement already satisfied: keras-preprocessing~=1.1.2 in /Users/jnesnky/opt/anaconda3/lib/python3.8/site-packages (from tensorflow->-r requirements.txt (line 2)) (1.1.2)\n",
      "Requirement already satisfied: flatbuffers~=1.12.0 in /Users/jnesnky/opt/anaconda3/lib/python3.8/site-packages (from tensorflow->-r requirements.txt (line 2)) (1.12)\n",
      "Requirement already satisfied: absl-py~=0.10 in /Users/jnesnky/opt/anaconda3/lib/python3.8/site-packages (from tensorflow->-r requirements.txt (line 2)) (0.13.0)\n",
      "Requirement already satisfied: wrapt~=1.12.1 in /Users/jnesnky/opt/anaconda3/lib/python3.8/site-packages (from tensorflow->-r requirements.txt (line 2)) (1.12.1)\n",
      "Requirement already satisfied: google-pasta~=0.2 in /Users/jnesnky/opt/anaconda3/lib/python3.8/site-packages (from tensorflow->-r requirements.txt (line 2)) (0.2.0)\n",
      "Requirement already satisfied: numpy~=1.19.2 in /Users/jnesnky/opt/anaconda3/lib/python3.8/site-packages (from tensorflow->-r requirements.txt (line 2)) (1.19.5)\n",
      "Requirement already satisfied: tensorboard-data-server<0.7.0,>=0.6.0 in /Users/jnesnky/opt/anaconda3/lib/python3.8/site-packages (from tensorboard~=2.6->tensorflow->-r requirements.txt (line 2)) (0.6.1)\n",
      "Requirement already satisfied: requests<3,>=2.21.0 in /Users/jnesnky/opt/anaconda3/lib/python3.8/site-packages (from tensorboard~=2.6->tensorflow->-r requirements.txt (line 2)) (2.25.1)\n",
      "Requirement already satisfied: setuptools>=41.0.0 in /Users/jnesnky/opt/anaconda3/lib/python3.8/site-packages (from tensorboard~=2.6->tensorflow->-r requirements.txt (line 2)) (52.0.0.post20210125)\n",
      "Requirement already satisfied: tensorboard-plugin-wit>=1.6.0 in /Users/jnesnky/opt/anaconda3/lib/python3.8/site-packages (from tensorboard~=2.6->tensorflow->-r requirements.txt (line 2)) (1.8.0)\n",
      "Requirement already satisfied: werkzeug>=0.11.15 in /Users/jnesnky/opt/anaconda3/lib/python3.8/site-packages (from tensorboard~=2.6->tensorflow->-r requirements.txt (line 2)) (1.0.1)\n",
      "Requirement already satisfied: markdown>=2.6.8 in /Users/jnesnky/opt/anaconda3/lib/python3.8/site-packages (from tensorboard~=2.6->tensorflow->-r requirements.txt (line 2)) (3.3.4)\n",
      "Requirement already satisfied: google-auth<2,>=1.6.3 in /Users/jnesnky/opt/anaconda3/lib/python3.8/site-packages (from tensorboard~=2.6->tensorflow->-r requirements.txt (line 2)) (1.35.0)\n",
      "Requirement already satisfied: google-auth-oauthlib<0.5,>=0.4.1 in /Users/jnesnky/opt/anaconda3/lib/python3.8/site-packages (from tensorboard~=2.6->tensorflow->-r requirements.txt (line 2)) (0.4.6)\n",
      "Requirement already satisfied: pyasn1-modules>=0.2.1 in /Users/jnesnky/opt/anaconda3/lib/python3.8/site-packages (from google-auth<2,>=1.6.3->tensorboard~=2.6->tensorflow->-r requirements.txt (line 2)) (0.2.8)\n",
      "Requirement already satisfied: cachetools<5.0,>=2.0.0 in /Users/jnesnky/opt/anaconda3/lib/python3.8/site-packages (from google-auth<2,>=1.6.3->tensorboard~=2.6->tensorflow->-r requirements.txt (line 2)) (4.2.2)\n",
      "Requirement already satisfied: rsa<5,>=3.1.4 in /Users/jnesnky/opt/anaconda3/lib/python3.8/site-packages (from google-auth<2,>=1.6.3->tensorboard~=2.6->tensorflow->-r requirements.txt (line 2)) (4.7.2)\n",
      "Requirement already satisfied: requests-oauthlib>=0.7.0 in /Users/jnesnky/opt/anaconda3/lib/python3.8/site-packages (from google-auth-oauthlib<0.5,>=0.4.1->tensorboard~=2.6->tensorflow->-r requirements.txt (line 2)) (1.3.0)\n",
      "Requirement already satisfied: pyasn1<0.5.0,>=0.4.6 in /Users/jnesnky/opt/anaconda3/lib/python3.8/site-packages (from pyasn1-modules>=0.2.1->google-auth<2,>=1.6.3->tensorboard~=2.6->tensorflow->-r requirements.txt (line 2)) (0.4.8)\n",
      "Requirement already satisfied: chardet<5,>=3.0.2 in /Users/jnesnky/opt/anaconda3/lib/python3.8/site-packages (from requests<3,>=2.21.0->tensorboard~=2.6->tensorflow->-r requirements.txt (line 2)) (4.0.0)\n",
      "Requirement already satisfied: idna<3,>=2.5 in /Users/jnesnky/opt/anaconda3/lib/python3.8/site-packages (from requests<3,>=2.21.0->tensorboard~=2.6->tensorflow->-r requirements.txt (line 2)) (2.10)\n",
      "Requirement already satisfied: urllib3<1.27,>=1.21.1 in /Users/jnesnky/opt/anaconda3/lib/python3.8/site-packages (from requests<3,>=2.21.0->tensorboard~=2.6->tensorflow->-r requirements.txt (line 2)) (1.26.4)\n",
      "Requirement already satisfied: certifi>=2017.4.17 in /Users/jnesnky/opt/anaconda3/lib/python3.8/site-packages (from requests<3,>=2.21.0->tensorboard~=2.6->tensorflow->-r requirements.txt (line 2)) (2020.12.5)\n",
      "Requirement already satisfied: oauthlib>=3.0.0 in /Users/jnesnky/opt/anaconda3/lib/python3.8/site-packages (from requests-oauthlib>=0.7.0->google-auth-oauthlib<0.5,>=0.4.1->tensorboard~=2.6->tensorflow->-r requirements.txt (line 2)) (3.1.1)\n"
     ]
    }
   ],
   "source": [
    "!pip install -r requirements.txt "
   ]
  },
  {
   "cell_type": "code",
   "execution_count": 3,
   "metadata": {
    "id": "7rZnJaGTWQw0"
   },
   "outputs": [],
   "source": [
    "import os\n",
    "import datetime\n",
    "\n",
    "import IPython\n",
    "import IPython.display\n",
    "import matplotlib.pyplot as plt\n",
    "import numpy as np\n",
    "import pandas as pd\n",
    "import seaborn as sns\n",
    "import tensorflow as tf\n",
    "\n",
    "%matplotlib inline"
   ]
  },
  {
   "cell_type": "markdown",
   "metadata": {
    "id": "TokBlnUhWFw9"
   },
   "source": [
    "## The weather dataset\n",
    "\n",
    "This tutorial uses a <a href=\"https://www.bgc-jena.mpg.de/wetter/\" class=\"external\">weather time series dataset</a> recorded by the <a href=\"https://www.bgc-jena.mpg.de\" class=\"external\">Max Planck Institute for Biogeochemistry</a>.\n",
    "\n",
    "This dataset contains 14 different features such as air temperature, atmospheric pressure, and humidity. These were collected every 10 minutes, beginning in 2003. For efficiency, you will use only the data collected between 2009 and 2016. This section of the dataset was prepared by François Chollet for his book <a href=\"https://www.manning.com/books/deep-learning-with-python\" class=\"external\">Deep Learning with Python</a>."
   ]
  },
  {
   "cell_type": "code",
   "execution_count": 4,
   "metadata": {
    "colab": {
     "base_uri": "https://localhost:8080/"
    },
    "id": "xyv_i85IWInT",
    "outputId": "7e47476b-bfee-4fe2-db2c-293b182e3099"
   },
   "outputs": [],
   "source": [
    "zip_path = tf.keras.utils.get_file(\n",
    "    origin='https://storage.googleapis.com/tensorflow/tf-keras-datasets/jena_climate_2009_2016.csv.zip',\n",
    "    fname='jena_climate_2009_2016.csv.zip',\n",
    "    extract=True)\n",
    "csv_path, _ = os.path.splitext(zip_path)"
   ]
  },
  {
   "cell_type": "markdown",
   "metadata": {
    "id": "R81Wx8WP4c3G"
   },
   "source": [
    "This tutorial will just deal with **hourly predictions**, so start by sub-sampling the data from 10-minute intervals to one-hour intervals:"
   ]
  },
  {
   "cell_type": "code",
   "execution_count": 5,
   "metadata": {
    "id": "TX6uGeeeWIkG"
   },
   "outputs": [],
   "source": [
    "df = pd.read_csv(csv_path)\n",
    "# Slice [start:stop:step], starting from index 5 take every 6th record.\n",
    "df = df[5::6]\n",
    "\n",
    "date_time = pd.to_datetime(df.pop('Date Time'), format='%d.%m.%Y %H:%M:%S')"
   ]
  },
  {
   "cell_type": "markdown",
   "metadata": {
    "id": "VdbOWXiTWM2T"
   },
   "source": [
    "Let's take a glance at the data. Here are the first few rows:"
   ]
  },
  {
   "cell_type": "code",
   "execution_count": 6,
   "metadata": {
    "colab": {
     "base_uri": "https://localhost:8080/",
     "height": 204
    },
    "id": "ojHE-iCCWIhz",
    "outputId": "e849d96a-6ac1-463d-c75f-138e05037772"
   },
   "outputs": [
    {
     "data": {
      "text/html": [
       "<div>\n",
       "<style scoped>\n",
       "    .dataframe tbody tr th:only-of-type {\n",
       "        vertical-align: middle;\n",
       "    }\n",
       "\n",
       "    .dataframe tbody tr th {\n",
       "        vertical-align: top;\n",
       "    }\n",
       "\n",
       "    .dataframe thead th {\n",
       "        text-align: right;\n",
       "    }\n",
       "</style>\n",
       "<table border=\"1\" class=\"dataframe\">\n",
       "  <thead>\n",
       "    <tr style=\"text-align: right;\">\n",
       "      <th></th>\n",
       "      <th>p (mbar)</th>\n",
       "      <th>T (degC)</th>\n",
       "      <th>Tpot (K)</th>\n",
       "      <th>Tdew (degC)</th>\n",
       "      <th>rh (%)</th>\n",
       "      <th>VPmax (mbar)</th>\n",
       "      <th>VPact (mbar)</th>\n",
       "      <th>VPdef (mbar)</th>\n",
       "      <th>sh (g/kg)</th>\n",
       "      <th>H2OC (mmol/mol)</th>\n",
       "      <th>rho (g/m**3)</th>\n",
       "      <th>wv (m/s)</th>\n",
       "      <th>max. wv (m/s)</th>\n",
       "      <th>wd (deg)</th>\n",
       "    </tr>\n",
       "  </thead>\n",
       "  <tbody>\n",
       "    <tr>\n",
       "      <th>5</th>\n",
       "      <td>996.50</td>\n",
       "      <td>-8.05</td>\n",
       "      <td>265.38</td>\n",
       "      <td>-8.78</td>\n",
       "      <td>94.4</td>\n",
       "      <td>3.33</td>\n",
       "      <td>3.14</td>\n",
       "      <td>0.19</td>\n",
       "      <td>1.96</td>\n",
       "      <td>3.15</td>\n",
       "      <td>1307.86</td>\n",
       "      <td>0.21</td>\n",
       "      <td>0.63</td>\n",
       "      <td>192.7</td>\n",
       "    </tr>\n",
       "    <tr>\n",
       "      <th>11</th>\n",
       "      <td>996.62</td>\n",
       "      <td>-8.88</td>\n",
       "      <td>264.54</td>\n",
       "      <td>-9.77</td>\n",
       "      <td>93.2</td>\n",
       "      <td>3.12</td>\n",
       "      <td>2.90</td>\n",
       "      <td>0.21</td>\n",
       "      <td>1.81</td>\n",
       "      <td>2.91</td>\n",
       "      <td>1312.25</td>\n",
       "      <td>0.25</td>\n",
       "      <td>0.63</td>\n",
       "      <td>190.3</td>\n",
       "    </tr>\n",
       "    <tr>\n",
       "      <th>17</th>\n",
       "      <td>996.84</td>\n",
       "      <td>-8.81</td>\n",
       "      <td>264.59</td>\n",
       "      <td>-9.66</td>\n",
       "      <td>93.5</td>\n",
       "      <td>3.13</td>\n",
       "      <td>2.93</td>\n",
       "      <td>0.20</td>\n",
       "      <td>1.83</td>\n",
       "      <td>2.94</td>\n",
       "      <td>1312.18</td>\n",
       "      <td>0.18</td>\n",
       "      <td>0.63</td>\n",
       "      <td>167.2</td>\n",
       "    </tr>\n",
       "    <tr>\n",
       "      <th>23</th>\n",
       "      <td>996.99</td>\n",
       "      <td>-9.05</td>\n",
       "      <td>264.34</td>\n",
       "      <td>-10.02</td>\n",
       "      <td>92.6</td>\n",
       "      <td>3.07</td>\n",
       "      <td>2.85</td>\n",
       "      <td>0.23</td>\n",
       "      <td>1.78</td>\n",
       "      <td>2.85</td>\n",
       "      <td>1313.61</td>\n",
       "      <td>0.10</td>\n",
       "      <td>0.38</td>\n",
       "      <td>240.0</td>\n",
       "    </tr>\n",
       "    <tr>\n",
       "      <th>29</th>\n",
       "      <td>997.46</td>\n",
       "      <td>-9.63</td>\n",
       "      <td>263.72</td>\n",
       "      <td>-10.65</td>\n",
       "      <td>92.2</td>\n",
       "      <td>2.94</td>\n",
       "      <td>2.71</td>\n",
       "      <td>0.23</td>\n",
       "      <td>1.69</td>\n",
       "      <td>2.71</td>\n",
       "      <td>1317.19</td>\n",
       "      <td>0.40</td>\n",
       "      <td>0.88</td>\n",
       "      <td>157.0</td>\n",
       "    </tr>\n",
       "  </tbody>\n",
       "</table>\n",
       "</div>"
      ],
      "text/plain": [
       "    p (mbar)  T (degC)  Tpot (K)  Tdew (degC)  rh (%)  VPmax (mbar)  \\\n",
       "5     996.50     -8.05    265.38        -8.78    94.4          3.33   \n",
       "11    996.62     -8.88    264.54        -9.77    93.2          3.12   \n",
       "17    996.84     -8.81    264.59        -9.66    93.5          3.13   \n",
       "23    996.99     -9.05    264.34       -10.02    92.6          3.07   \n",
       "29    997.46     -9.63    263.72       -10.65    92.2          2.94   \n",
       "\n",
       "    VPact (mbar)  VPdef (mbar)  sh (g/kg)  H2OC (mmol/mol)  rho (g/m**3)  \\\n",
       "5           3.14          0.19       1.96             3.15       1307.86   \n",
       "11          2.90          0.21       1.81             2.91       1312.25   \n",
       "17          2.93          0.20       1.83             2.94       1312.18   \n",
       "23          2.85          0.23       1.78             2.85       1313.61   \n",
       "29          2.71          0.23       1.69             2.71       1317.19   \n",
       "\n",
       "    wv (m/s)  max. wv (m/s)  wd (deg)  \n",
       "5       0.21           0.63     192.7  \n",
       "11      0.25           0.63     190.3  \n",
       "17      0.18           0.63     167.2  \n",
       "23      0.10           0.38     240.0  \n",
       "29      0.40           0.88     157.0  "
      ]
     },
     "execution_count": 6,
     "metadata": {},
     "output_type": "execute_result"
    }
   ],
   "source": [
    "df.head()"
   ]
  },
  {
   "cell_type": "markdown",
   "metadata": {
    "id": "WRzj1inMfgcO"
   },
   "source": [
    "Here is the evolution of a few features over time:"
   ]
  },
  {
   "cell_type": "code",
   "execution_count": 7,
   "metadata": {
    "colab": {
     "base_uri": "https://localhost:8080/",
     "height": 540
    },
    "id": "Vg5XIc5tfNlG",
    "outputId": "7a674ec3-af8c-49bd-8ae7-568519c32530"
   },
   "outputs": [
    {
     "data": {
      "image/png": "[encoded data removed]",
      "text/plain": [
       "<Figure size 432x288 with 3 Axes>"
      ]
     },
     "metadata": {
      "needs_background": "light"
     },
     "output_type": "display_data"
    },
    {
     "data": {
      "image/png": "[encoded data removed]",
      "text/plain": [
       "<Figure size 432x288 with 3 Axes>"
      ]
     },
     "metadata": {
      "needs_background": "light"
     },
     "output_type": "display_data"
    }
   ],
   "source": [
    "plot_cols = ['T (degC)', 'p (mbar)', 'rho (g/m**3)']\n",
    "plot_features = df[plot_cols]\n",
    "plot_features.index = date_time\n",
    "_ = plot_features.plot(subplots=True)\n",
    "\n",
    "plot_features = df[plot_cols][:480]\n",
    "plot_features.index = date_time[:480]\n",
    "_ = plot_features.plot(subplots=True)"
   ]
  },
  {
   "cell_type": "markdown",
   "metadata": {
    "id": "wXWLG0_WBhZS"
   },
   "source": [
    "### Inspect and cleanup"
   ]
  },
  {
   "cell_type": "markdown",
   "metadata": {
    "id": "yhmZXJew6GlS"
   },
   "source": [
    "Next, look at the statistics of the dataset:"
   ]
  },
  {
   "cell_type": "code",
   "execution_count": 8,
   "metadata": {
    "colab": {
     "base_uri": "https://localhost:8080/",
     "height": 483
    },
    "id": "h510pgKVrrai",
    "outputId": "7c620ba6-6edb-4d39-8cd4-1112cc488103"
   },
   "outputs": [
    {
     "data": {
      "text/html": [
       "<div>\n",
       "<style scoped>\n",
       "    .dataframe tbody tr th:only-of-type {\n",
       "        vertical-align: middle;\n",
       "    }\n",
       "\n",
       "    .dataframe tbody tr th {\n",
       "        vertical-align: top;\n",
       "    }\n",
       "\n",
       "    .dataframe thead th {\n",
       "        text-align: right;\n",
       "    }\n",
       "</style>\n",
       "<table border=\"1\" class=\"dataframe\">\n",
       "  <thead>\n",
       "    <tr style=\"text-align: right;\">\n",
       "      <th></th>\n",
       "      <th>count</th>\n",
       "      <th>mean</th>\n",
       "      <th>std</th>\n",
       "      <th>min</th>\n",
       "      <th>25%</th>\n",
       "      <th>50%</th>\n",
       "      <th>75%</th>\n",
       "      <th>max</th>\n",
       "    </tr>\n",
       "  </thead>\n",
       "  <tbody>\n",
       "    <tr>\n",
       "      <th>p (mbar)</th>\n",
       "      <td>70091.0</td>\n",
       "      <td>989.212842</td>\n",
       "      <td>8.358886</td>\n",
       "      <td>913.60</td>\n",
       "      <td>984.20</td>\n",
       "      <td>989.57</td>\n",
       "      <td>994.720</td>\n",
       "      <td>1015.29</td>\n",
       "    </tr>\n",
       "    <tr>\n",
       "      <th>T (degC)</th>\n",
       "      <td>70091.0</td>\n",
       "      <td>9.450482</td>\n",
       "      <td>8.423384</td>\n",
       "      <td>-22.76</td>\n",
       "      <td>3.35</td>\n",
       "      <td>9.41</td>\n",
       "      <td>15.480</td>\n",
       "      <td>37.28</td>\n",
       "    </tr>\n",
       "    <tr>\n",
       "      <th>Tpot (K)</th>\n",
       "      <td>70091.0</td>\n",
       "      <td>283.493086</td>\n",
       "      <td>8.504424</td>\n",
       "      <td>250.85</td>\n",
       "      <td>277.44</td>\n",
       "      <td>283.46</td>\n",
       "      <td>289.530</td>\n",
       "      <td>311.21</td>\n",
       "    </tr>\n",
       "    <tr>\n",
       "      <th>Tdew (degC)</th>\n",
       "      <td>70091.0</td>\n",
       "      <td>4.956471</td>\n",
       "      <td>6.730081</td>\n",
       "      <td>-24.80</td>\n",
       "      <td>0.24</td>\n",
       "      <td>5.21</td>\n",
       "      <td>10.080</td>\n",
       "      <td>23.06</td>\n",
       "    </tr>\n",
       "    <tr>\n",
       "      <th>rh (%)</th>\n",
       "      <td>70091.0</td>\n",
       "      <td>76.009788</td>\n",
       "      <td>16.474920</td>\n",
       "      <td>13.88</td>\n",
       "      <td>65.21</td>\n",
       "      <td>79.30</td>\n",
       "      <td>89.400</td>\n",
       "      <td>100.00</td>\n",
       "    </tr>\n",
       "    <tr>\n",
       "      <th>VPmax (mbar)</th>\n",
       "      <td>70091.0</td>\n",
       "      <td>13.576576</td>\n",
       "      <td>7.739883</td>\n",
       "      <td>0.97</td>\n",
       "      <td>7.77</td>\n",
       "      <td>11.82</td>\n",
       "      <td>17.610</td>\n",
       "      <td>63.77</td>\n",
       "    </tr>\n",
       "    <tr>\n",
       "      <th>VPact (mbar)</th>\n",
       "      <td>70091.0</td>\n",
       "      <td>9.533968</td>\n",
       "      <td>4.183658</td>\n",
       "      <td>0.81</td>\n",
       "      <td>6.22</td>\n",
       "      <td>8.86</td>\n",
       "      <td>12.360</td>\n",
       "      <td>28.25</td>\n",
       "    </tr>\n",
       "    <tr>\n",
       "      <th>VPdef (mbar)</th>\n",
       "      <td>70091.0</td>\n",
       "      <td>4.042536</td>\n",
       "      <td>4.898549</td>\n",
       "      <td>0.00</td>\n",
       "      <td>0.87</td>\n",
       "      <td>2.19</td>\n",
       "      <td>5.300</td>\n",
       "      <td>46.01</td>\n",
       "    </tr>\n",
       "    <tr>\n",
       "      <th>sh (g/kg)</th>\n",
       "      <td>70091.0</td>\n",
       "      <td>6.022560</td>\n",
       "      <td>2.655812</td>\n",
       "      <td>0.51</td>\n",
       "      <td>3.92</td>\n",
       "      <td>5.59</td>\n",
       "      <td>7.800</td>\n",
       "      <td>18.07</td>\n",
       "    </tr>\n",
       "    <tr>\n",
       "      <th>H2OC (mmol/mol)</th>\n",
       "      <td>70091.0</td>\n",
       "      <td>9.640437</td>\n",
       "      <td>4.234862</td>\n",
       "      <td>0.81</td>\n",
       "      <td>6.29</td>\n",
       "      <td>8.96</td>\n",
       "      <td>12.490</td>\n",
       "      <td>28.74</td>\n",
       "    </tr>\n",
       "    <tr>\n",
       "      <th>rho (g/m**3)</th>\n",
       "      <td>70091.0</td>\n",
       "      <td>1216.061232</td>\n",
       "      <td>39.974263</td>\n",
       "      <td>1059.45</td>\n",
       "      <td>1187.47</td>\n",
       "      <td>1213.80</td>\n",
       "      <td>1242.765</td>\n",
       "      <td>1393.54</td>\n",
       "    </tr>\n",
       "    <tr>\n",
       "      <th>wv (m/s)</th>\n",
       "      <td>70091.0</td>\n",
       "      <td>1.702567</td>\n",
       "      <td>65.447512</td>\n",
       "      <td>-9999.00</td>\n",
       "      <td>0.99</td>\n",
       "      <td>1.76</td>\n",
       "      <td>2.860</td>\n",
       "      <td>14.01</td>\n",
       "    </tr>\n",
       "    <tr>\n",
       "      <th>max. wv (m/s)</th>\n",
       "      <td>70091.0</td>\n",
       "      <td>2.963041</td>\n",
       "      <td>75.597657</td>\n",
       "      <td>-9999.00</td>\n",
       "      <td>1.76</td>\n",
       "      <td>2.98</td>\n",
       "      <td>4.740</td>\n",
       "      <td>23.50</td>\n",
       "    </tr>\n",
       "    <tr>\n",
       "      <th>wd (deg)</th>\n",
       "      <td>70091.0</td>\n",
       "      <td>174.789095</td>\n",
       "      <td>86.619431</td>\n",
       "      <td>0.00</td>\n",
       "      <td>125.30</td>\n",
       "      <td>198.10</td>\n",
       "      <td>234.000</td>\n",
       "      <td>360.00</td>\n",
       "    </tr>\n",
       "  </tbody>\n",
       "</table>\n",
       "</div>"
      ],
      "text/plain": [
       "                   count         mean        std      min      25%      50%  \\\n",
       "p (mbar)         70091.0   989.212842   8.358886   913.60   984.20   989.57   \n",
       "T (degC)         70091.0     9.450482   8.423384   -22.76     3.35     9.41   \n",
       "Tpot (K)         70091.0   283.493086   8.504424   250.85   277.44   283.46   \n",
       "Tdew (degC)      70091.0     4.956471   6.730081   -24.80     0.24     5.21   \n",
       "rh (%)           70091.0    76.009788  16.474920    13.88    65.21    79.30   \n",
       "VPmax (mbar)     70091.0    13.576576   7.739883     0.97     7.77    11.82   \n",
       "VPact (mbar)     70091.0     9.533968   4.183658     0.81     6.22     8.86   \n",
       "VPdef (mbar)     70091.0     4.042536   4.898549     0.00     0.87     2.19   \n",
       "sh (g/kg)        70091.0     6.022560   2.655812     0.51     3.92     5.59   \n",
       "H2OC (mmol/mol)  70091.0     9.640437   4.234862     0.81     6.29     8.96   \n",
       "rho (g/m**3)     70091.0  1216.061232  39.974263  1059.45  1187.47  1213.80   \n",
       "wv (m/s)         70091.0     1.702567  65.447512 -9999.00     0.99     1.76   \n",
       "max. wv (m/s)    70091.0     2.963041  75.597657 -9999.00     1.76     2.98   \n",
       "wd (deg)         70091.0   174.789095  86.619431     0.00   125.30   198.10   \n",
       "\n",
       "                      75%      max  \n",
       "p (mbar)          994.720  1015.29  \n",
       "T (degC)           15.480    37.28  \n",
       "Tpot (K)          289.530   311.21  \n",
       "Tdew (degC)        10.080    23.06  \n",
       "rh (%)             89.400   100.00  \n",
       "VPmax (mbar)       17.610    63.77  \n",
       "VPact (mbar)       12.360    28.25  \n",
       "VPdef (mbar)        5.300    46.01  \n",
       "sh (g/kg)           7.800    18.07  \n",
       "H2OC (mmol/mol)    12.490    28.74  \n",
       "rho (g/m**3)     1242.765  1393.54  \n",
       "wv (m/s)            2.860    14.01  \n",
       "max. wv (m/s)       4.740    23.50  \n",
       "wd (deg)          234.000   360.00  "
      ]
     },
     "execution_count": 8,
     "metadata": {},
     "output_type": "execute_result"
    }
   ],
   "source": [
    "df.describe().transpose()"
   ]
  },
  {
   "cell_type": "markdown",
   "metadata": {
    "id": "TzOTnWOoWMGK"
   },
   "source": [
    "#### Wind velocity"
   ]
  },
  {
   "cell_type": "markdown",
   "metadata": {
    "id": "i47LiW5DCVsP"
   },
   "source": [
    "One thing that should stand out is the `min` value of the wind velocity (`wv (m/s)`) and the maximum value (`max. wv (m/s)`) columns. This `-9999` is likely erroneous.\n",
    "\n",
    "There's a separate wind direction column, so the velocity should be greater than zero (`>=0`). Replace it with zeros:"
   ]
  },
  {
   "cell_type": "code",
   "execution_count": 9,
   "metadata": {
    "colab": {
     "base_uri": "https://localhost:8080/"
    },
    "id": "qFOq0_80vF4d",
    "outputId": "7de3618a-6f8d-4592-99a4-3e90bb3f7bc1"
   },
   "outputs": [
    {
     "data": {
      "text/plain": [
       "0.0"
      ]
     },
     "execution_count": 9,
     "metadata": {},
     "output_type": "execute_result"
    }
   ],
   "source": [
    "wv = df['wv (m/s)']\n",
    "bad_wv = wv == -9999.0\n",
    "wv[bad_wv] = 0.0\n",
    "\n",
    "max_wv = df['max. wv (m/s)']\n",
    "bad_max_wv = max_wv == -9999.0\n",
    "max_wv[bad_max_wv] = 0.0\n",
    "\n",
    "# The above inplace edits are reflected in the DataFrame.\n",
    "df['wv (m/s)'].min()"
   ]
  },
  {
   "cell_type": "markdown",
   "metadata": {
    "id": "vtmu2IBPgPG8"
   },
   "source": [
    "### Feature engineering\n",
    "\n",
    "Before diving in to build a model, it's important to understand your data and be sure that you're passing the model appropriately formatted data."
   ]
  },
  {
   "cell_type": "markdown",
   "metadata": {
    "id": "FYyEaqiD6j4s"
   },
   "source": [
    "#### Wind\n",
    "The last column of the data, `wd (deg)`—gives the wind direction in units of degrees. Angles do not make good model inputs: 360° and 0° should be close to each other and wrap around smoothly. Direction shouldn't matter if the wind is not blowing.\n",
    "\n",
    "Right now the distribution of wind data looks like this:"
   ]
  },
  {
   "cell_type": "code",
   "execution_count": 10,
   "metadata": {
    "colab": {
     "base_uri": "https://localhost:8080/",
     "height": 300
    },
    "id": "YO7JGTcWQG2z",
    "outputId": "8d931114-fc35-43c7-c129-671d71a4fcaf"
   },
   "outputs": [
    {
     "data": {
      "text/plain": [
       "Text(0, 0.5, 'Wind Velocity [m/s]')"
      ]
     },
     "execution_count": 10,
     "metadata": {},
     "output_type": "execute_result"
    },
    {
     "data": {
      "image/png": "[encoded data removed]",
      "text/plain": [
       "<Figure size 432x288 with 2 Axes>"
      ]
     },
     "metadata": {
      "needs_background": "light"
     },
     "output_type": "display_data"
    }
   ],
   "source": [
    "plt.hist2d(df['wd (deg)'], df['wv (m/s)'], bins=(50, 50), vmax=400)\n",
    "plt.colorbar()\n",
    "plt.xlabel('Wind Direction [deg]')\n",
    "plt.ylabel('Wind Velocity [m/s]')"
   ]
  },
  {
   "cell_type": "markdown",
   "metadata": {
    "id": "yWnf5dwMU1_g"
   },
   "source": [
    "But this will be easier for the model to interpret if you convert the wind direction and velocity columns to a wind **vector**:"
   ]
  },
  {
   "cell_type": "code",
   "execution_count": 11,
   "metadata": {
    "id": "6GmSTHXw6lI1"
   },
   "outputs": [],
   "source": [
    "wv = df.pop('wv (m/s)')\n",
    "max_wv = df.pop('max. wv (m/s)')\n",
    "\n",
    "# Convert to radians.\n",
    "wd_rad = df.pop('wd (deg)')*np.pi / 180\n",
    "\n",
    "# Calculate the wind x and y components.\n",
    "df['Wx'] = wv*np.cos(wd_rad)\n",
    "df['Wy'] = wv*np.sin(wd_rad)\n",
    "\n",
    "# Calculate the max wind x and y components.\n",
    "df['max Wx'] = max_wv*np.cos(wd_rad)\n",
    "df['max Wy'] = max_wv*np.sin(wd_rad)"
   ]
  },
  {
   "cell_type": "markdown",
   "metadata": {
    "id": "7iI0zDoxWDyB"
   },
   "source": [
    "The distribution of wind vectors is much simpler for the model to correctly interpret:"
   ]
  },
  {
   "cell_type": "code",
   "execution_count": 12,
   "metadata": {
    "colab": {
     "base_uri": "https://localhost:8080/",
     "height": 300
    },
    "id": "bMgCG5o2SYKD",
    "outputId": "67d34652-cf8a-4e53-eac7-724e24c46bd3"
   },
   "outputs": [
    {
     "data": {
      "text/plain": [
       "(-11.305513973134667, 8.24469928549079, -8.27438540335515, 7.7338312955467785)"
      ]
     },
     "execution_count": 12,
     "metadata": {},
     "output_type": "execute_result"
    },
    {
     "data": {
      "image/png": "[encoded data removed]",
      "text/plain": [
       "<Figure size 432x288 with 2 Axes>"
      ]
     },
     "metadata": {
      "needs_background": "light"
     },
     "output_type": "display_data"
    }
   ],
   "source": [
    "plt.hist2d(df['Wx'], df['Wy'], bins=(50, 50), vmax=400)\n",
    "plt.colorbar()\n",
    "plt.xlabel('Wind X [m/s]')\n",
    "plt.ylabel('Wind Y [m/s]')\n",
    "ax = plt.gca()\n",
    "ax.axis('tight')"
   ]
  },
  {
   "cell_type": "markdown",
   "metadata": {
    "id": "_8im1ttOWlRB"
   },
   "source": [
    "#### Time"
   ]
  },
  {
   "cell_type": "markdown",
   "metadata": {
    "id": "7YE21HKK40zQ"
   },
   "source": [
    "Similarly, the `Date Time` column is very useful, but not in this string form. Start by converting it to seconds:"
   ]
  },
  {
   "cell_type": "code",
   "execution_count": 13,
   "metadata": {
    "id": "LIFf-VjMfnh3"
   },
   "outputs": [],
   "source": [
    "timestamp_s = date_time.map(pd.Timestamp.timestamp)"
   ]
  },
  {
   "cell_type": "markdown",
   "metadata": {
    "id": "EC_pnM1D5Sgc"
   },
   "source": [
    "Similar to the wind direction, the time in seconds is not a useful model input. Being weather data, it has clear daily and yearly periodicity. There are many ways you could deal with periodicity.\n",
    "\n",
    "You can get usable signals by using sine and cosine transforms to clear \"Time of day\" and \"Time of year\" signals:"
   ]
  },
  {
   "cell_type": "code",
   "execution_count": 14,
   "metadata": {
    "id": "MBfX6CDwax73"
   },
   "outputs": [],
   "source": [
    "day = 24*60*60\n",
    "year = (365.2425)*day\n",
    "\n",
    "df['Day sin'] = np.sin(timestamp_s * (2 * np.pi / day))\n",
    "df['Day cos'] = np.cos(timestamp_s * (2 * np.pi / day))\n",
    "df['Year sin'] = np.sin(timestamp_s * (2 * np.pi / year))\n",
    "df['Year cos'] = np.cos(timestamp_s * (2 * np.pi / year))"
   ]
  },
  {
   "cell_type": "code",
   "execution_count": 15,
   "metadata": {
    "colab": {
     "base_uri": "https://localhost:8080/",
     "height": 312
    },
    "id": "mXBbTJZfuuTC",
    "outputId": "aeb08138-7dc5-43e6-f07d-9c250f97bfd5"
   },
   "outputs": [
    {
     "data": {
      "text/plain": [
       "Text(0.5, 1.0, 'Time of day signal')"
      ]
     },
     "execution_count": 15,
     "metadata": {},
     "output_type": "execute_result"
    },
    {
     "data": {
      "image/png": "[encoded data removed]",
      "text/plain": [
       "<Figure size 432x288 with 1 Axes>"
      ]
     },
     "metadata": {
      "needs_background": "light"
     },
     "output_type": "display_data"
    }
   ],
   "source": [
    "plt.plot(np.array(df['Day sin'])[:25])\n",
    "plt.plot(np.array(df['Day cos'])[:25])\n",
    "plt.xlabel('Time [h]')\n",
    "plt.title('Time of day signal')"
   ]
  },
  {
   "cell_type": "markdown",
   "metadata": {
    "id": "HiurzTGQgf_D"
   },
   "source": [
    "This gives the model access to the most important frequency features. In this case you knew ahead of time which frequencies were important. \n",
    "\n",
    "If you don't have that information, you can determine which frequencies are important by extracting features with <a href=\"https://en.wikipedia.org/wiki/Fast_Fourier_transform\" class=\"external\">Fast Fourier Transform</a>. To check the assumptions, here is the `tf.signal.rfft` of the temperature over time. Note the obvious peaks at frequencies near `1/year` and `1/day`:\n"
   ]
  },
  {
   "cell_type": "code",
   "execution_count": 16,
   "metadata": {
    "colab": {
     "base_uri": "https://localhost:8080/",
     "height": 283
    },
    "id": "EN4U1fcMiTYs",
    "outputId": "49003799-3440-4c41-b547-6b76c21d3a96"
   },
   "outputs": [
    {
     "data": {
      "image/png": "[encoded data removed]",
      "text/plain": [
       "<Figure size 432x288 with 1 Axes>"
      ]
     },
     "metadata": {
      "needs_background": "light"
     },
     "output_type": "display_data"
    }
   ],
   "source": [
    "fft = tf.signal.rfft(df['T (degC)'])\n",
    "f_per_dataset = np.arange(0, len(fft))\n",
    "\n",
    "n_samples_h = len(df['T (degC)'])\n",
    "hours_per_year = 24*365.2524\n",
    "years_per_dataset = n_samples_h/(hours_per_year)\n",
    "\n",
    "f_per_year = f_per_dataset/years_per_dataset\n",
    "plt.step(f_per_year, np.abs(fft))\n",
    "plt.xscale('log')\n",
    "plt.ylim(0, 400000)\n",
    "plt.xlim([0.1, max(plt.xlim())])\n",
    "plt.xticks([1, 365.2524], labels=['1/Year', '1/day'])\n",
    "_ = plt.xlabel('Frequency (log scale)')"
   ]
  },
  {
   "cell_type": "markdown",
   "metadata": {
    "id": "2rbL8bSGDHy3"
   },
   "source": [
    "### Split the data"
   ]
  },
  {
   "cell_type": "markdown",
   "metadata": {
    "id": "qoFJZmXBaxCc"
   },
   "source": [
    "You'll use a `(70%, 20%, 10%)` split for the training, validation, and test sets. Note the data is **not** being randomly shuffled before splitting. This is for two reasons:\n",
    "\n",
    "1. It ensures that chopping the data into windows of consecutive samples is still possible.\n",
    "2. It ensures that the validation/test results are more realistic, being evaluated on the data collected after the model was trained."
   ]
  },
  {
   "cell_type": "code",
   "execution_count": 17,
   "metadata": {
    "id": "ia-MPAHxbInX"
   },
   "outputs": [],
   "source": [
    "column_indices = {name: i for i, name in enumerate(df.columns)}\n",
    "\n",
    "n = len(df)\n",
    "train_df = df[0:int(n*0.7)]\n",
    "val_df = df[int(n*0.7):int(n*0.9)]\n",
    "test_df = df[int(n*0.9):]\n",
    "\n",
    "num_features = df.shape[1]"
   ]
  },
  {
   "cell_type": "markdown",
   "metadata": {
    "id": "-eFckdUUHWmT"
   },
   "source": [
    "### Normalize the data\n",
    "\n",
    "It is important to scale features before training a neural network. Normalization is a common way of doing this scaling: subtract the mean and divide by the standard deviation of each feature."
   ]
  },
  {
   "cell_type": "markdown",
   "metadata": {
    "id": "mxbIic5TMlxx"
   },
   "source": [
    "The mean and standard deviation should only be computed using the training data so that the models have no access to the values in the validation and test sets.\n",
    "\n",
    "It's also arguable that the model shouldn't have access to future values in the training set when training, and that this normalization should be done using moving averages. That's not the focus of this tutorial, and the validation and test sets ensure that you get (somewhat) honest metrics. So, in the interest of simplicity this tutorial uses a simple average."
   ]
  },
  {
   "cell_type": "code",
   "execution_count": 23,
   "metadata": {
    "id": "Eji6njXvHusN"
   },
   "outputs": [],
   "source": [
    "train_mean = train_df.mean()\n",
    "train_std = train_df.std()\n",
    "\n",
    "train_df = (train_df - train_mean) / train_std\n",
    "val_df = (val_df - train_mean) / train_std\n",
    "test_df = (test_df - train_mean) / train_std"
   ]
  },
  {
   "cell_type": "code",
   "execution_count": 19,
   "metadata": {},
   "outputs": [],
   "source": [
    "from sklearn.preprocessing import StandardScaler\n",
    "sc = StandardScaler()\n",
    "train_df = sc.fit_transform(train_df)\n",
    "val_df = sc.transform (val_df)\n",
    "test_df = sc.transform (test_df)"
   ]
  },
  {
   "cell_type": "markdown",
   "metadata": {
    "id": "G6ufs8kk9JQw"
   },
   "source": [
    "Now, peek at the distribution of the features. Some features do have long tails, but there are no obvious errors like the `-9999` wind velocity value."
   ]
  },
  {
   "cell_type": "code",
   "execution_count": 24,
   "metadata": {
    "colab": {
     "base_uri": "https://localhost:8080/",
     "height": 467
    },
    "id": "T0UYEnkwm8Fe",
    "outputId": "8680c693-7f22-437e-da3e-cda72ed83e59"
   },
   "outputs": [
    {
     "data": {
      "image/png": "[encoded data removed]",
      "text/plain": [
       "<Figure size 864x432 with 1 Axes>"
      ]
     },
     "metadata": {
      "needs_background": "light"
     },
     "output_type": "display_data"
    }
   ],
   "source": [
    "df_std = (df - train_mean) / train_std\n",
    "df_std = df_std.melt(var_name='Column', value_name='Normalized')\n",
    "plt.figure(figsize=(12, 6))\n",
    "ax = sns.violinplot(x='Column', y='Normalized', data=df_std)\n",
    "_ = ax.set_xticklabels(df.keys(), rotation=90)"
   ]
  },
  {
   "cell_type": "markdown",
   "metadata": {
    "id": "ZBBmdxZ2HgfJ"
   },
   "source": [
    "## Data windowing\n",
    "\n",
    "The models in this tutorial will make a set of predictions based on a window of consecutive samples from the data. \n",
    "\n",
    "The main features of the input windows are:\n",
    "\n",
    "- The width (number of time steps) of the input and label windows.\n",
    "- The time offset between them.\n",
    "- Which features are used as inputs, labels, or both. \n",
    "\n",
    "This tutorial builds a variety of models (including Linear, DNN, CNN and RNN models), and uses them for both:\n",
    "\n",
    "- *Single-output*, and *multi-output* predictions.\n",
    "- *Single-time-step* and *multi-time-step* predictions.\n",
    "\n",
    "This section focuses on implementing the data windowing so that it can be reused for all of those models.\n"
   ]
  },
  {
   "cell_type": "markdown",
   "metadata": {
    "id": "YAhGUVx1jtOy"
   },
   "source": [
    "Depending on the task and type of model you may want to generate a variety of data windows. Here are some examples:\n",
    "\n",
    "1. For example, to make a single prediction 24 hours into the future, given 24 hours of history, you might define a window like this:\n",
    "\n",
    "  ![One prediction 24 hours into the future.](https://github.com/tensorflow/docs/blob/master/site/en/tutorials/structured_data/images/raw_window_24h.png?raw=1)\n",
    "\n",
    "2. A model that makes a prediction one hour into the future, given six hours of history, would need a window like this:\n",
    "\n",
    "  ![One prediction one hour into the future.](https://github.com/tensorflow/docs/blob/master/site/en/tutorials/structured_data/images/raw_window_1h.png?raw=1)"
   ]
  },
  {
   "cell_type": "markdown",
   "metadata": {
    "id": "sa2BbfNZt8wy"
   },
   "source": [
    "The rest of this section defines a `WindowGenerator` class. This class can:\n",
    "\n",
    "1. Handle the indexes and offsets as shown in the diagrams above.\n",
    "1. Split windows of features into `(features, labels)` pairs.\n",
    "2. Plot the content of the resulting windows.\n",
    "3. Efficiently generate batches of these windows from the training, evaluation, and test data, using `tf.data.Dataset`s."
   ]
  },
  {
   "cell_type": "markdown",
   "metadata": {
    "id": "rfx3jGjyziUF"
   },
   "source": [
    "### 1. Indexes and offsets\n",
    "\n",
    "Start by creating the `WindowGenerator` class. The `__init__` method includes all the necessary logic for the input and label indices.\n",
    "\n",
    "It also takes the training, evaluation, and test DataFrames as input. These will be converted to `tf.data.Dataset`s of windows later."
   ]
  },
  {
   "cell_type": "code",
   "execution_count": 25,
   "metadata": {
    "id": "Kem30j8QHxyW"
   },
   "outputs": [],
   "source": [
    "class WindowGenerator():\n",
    "  def __init__(self, input_width, label_width, shift,\n",
    "               train_df=train_df, val_df=val_df, test_df=test_df,\n",
    "               label_columns=None):\n",
    "    # Store the raw data.\n",
    "    self.train_df = train_df\n",
    "    self.val_df = val_df\n",
    "    self.test_df = test_df\n",
    "\n",
    "    # Work out the label column indices.\n",
    "    self.label_columns = label_columns\n",
    "    if label_columns is not None:\n",
    "      self.label_columns_indices = {name: i for i, name in\n",
    "                                    enumerate(label_columns)}\n",
    "    self.column_indices = {name: i for i, name in\n",
    "                           enumerate(train_df.columns)}\n",
    "\n",
    "    # Work out the window parameters.\n",
    "    self.input_width = input_width\n",
    "    self.label_width = label_width\n",
    "    self.shift = shift\n",
    "\n",
    "    self.total_window_size = input_width + shift\n",
    "\n",
    "    self.input_slice = slice(0, input_width)\n",
    "    self.input_indices = np.arange(self.total_window_size)[self.input_slice]\n",
    "\n",
    "    self.label_start = self.total_window_size - self.label_width\n",
    "    self.labels_slice = slice(self.label_start, None)\n",
    "    self.label_indices = np.arange(self.total_window_size)[self.labels_slice]\n",
    "\n",
    "  def __repr__(self):\n",
    "    return '\\n'.join([\n",
    "        f'Total window size: {self.total_window_size}',\n",
    "        f'Input indices: {self.input_indices}',\n",
    "        f'Label indices: {self.label_indices}',\n",
    "        f'Label column name(s): {self.label_columns}'])"
   ]
  },
  {
   "cell_type": "markdown",
   "metadata": {
    "id": "yVJgblsYzL1g"
   },
   "source": [
    "Here is code to create the 2 windows shown in the diagrams at the start of this section:"
   ]
  },
  {
   "cell_type": "code",
   "execution_count": 26,
   "metadata": {
    "colab": {
     "base_uri": "https://localhost:8080/"
    },
    "id": "IsM5kRkz0UwK",
    "outputId": "7ca66dd7-96c5-46ec-de76-23174fbf8adf"
   },
   "outputs": [
    {
     "ename": "AttributeError",
     "evalue": "'numpy.ndarray' object has no attribute 'columns'",
     "output_type": "error",
     "traceback": [
      "\u001b[0;31m---------------------------------------------------------------------------\u001b[0m",
      "\u001b[0;31mAttributeError\u001b[0m                            Traceback (most recent call last)",
      "\u001b[0;32m<ipython-input-26-839a38d66e2b>\u001b[0m in \u001b[0;36m<module>\u001b[0;34m\u001b[0m\n\u001b[0;32m----> 1\u001b[0;31m w1 = WindowGenerator(input_width=24, label_width=1, shift=24,\n\u001b[0m\u001b[1;32m      2\u001b[0m                      label_columns=['T (degC)'])\n\u001b[1;32m      3\u001b[0m \u001b[0mw1\u001b[0m\u001b[0;34m\u001b[0m\u001b[0;34m\u001b[0m\u001b[0m\n",
      "\u001b[0;32m<ipython-input-25-645dbb36e2db>\u001b[0m in \u001b[0;36m__init__\u001b[0;34m(self, input_width, label_width, shift, train_df, val_df, test_df, label_columns)\u001b[0m\n\u001b[1;32m     14\u001b[0m                                     enumerate(label_columns)}\n\u001b[1;32m     15\u001b[0m     self.column_indices = {name: i for i, name in\n\u001b[0;32m---> 16\u001b[0;31m                            enumerate(train_df.columns)}\n\u001b[0m\u001b[1;32m     17\u001b[0m \u001b[0;34m\u001b[0m\u001b[0m\n\u001b[1;32m     18\u001b[0m     \u001b[0;31m# Work out the window parameters.\u001b[0m\u001b[0;34m\u001b[0m\u001b[0;34m\u001b[0m\u001b[0;34m\u001b[0m\u001b[0m\n",
      "\u001b[0;31mAttributeError\u001b[0m: 'numpy.ndarray' object has no attribute 'columns'"
     ]
    }
   ],
   "source": [
    "w1 = WindowGenerator(input_width=24, label_width=1, shift=24,\n",
    "                     label_columns=['T (degC)'])\n",
    "w1"
   ]
  },
  {
   "cell_type": "code",
   "execution_count": null,
   "metadata": {
    "colab": {
     "base_uri": "https://localhost:8080/"
    },
    "id": "viwKsYeAKFUn",
    "outputId": "777ac34b-f6f2-4523-dd3b-71b875e15a2e"
   },
   "outputs": [],
   "source": [
    "w2 = WindowGenerator(input_width=6, label_width=1, shift=1,\n",
    "                     label_columns=['T (degC)'])\n",
    "w2"
   ]
  },
  {
   "cell_type": "markdown",
   "metadata": {
    "id": "kJaUyTWQJd-L"
   },
   "source": [
    "### 2. Split\n",
    "\n",
    "Given a list of consecutive inputs, the `split_window` method will convert them to a window of inputs and a window of labels.\n",
    "\n",
    "The example `w2` you define earlier will be split like this:\n",
    "\n",
    "![The initial window is all consecutive samples, this splits it into an (inputs, labels) pairs](https://github.com/tensorflow/docs/blob/master/site/en/tutorials/structured_data/images/split_window.png?raw=1)\n",
    "\n",
    "This diagram doesn't show the `features` axis of the data, but this `split_window` function also handles the `label_columns` so it can be used for both the single output and multi-output examples."
   ]
  },
  {
   "cell_type": "code",
   "execution_count": 27,
   "metadata": {
    "id": "W4KbxfzqkXPW"
   },
   "outputs": [],
   "source": [
    "def split_window(self, features):\n",
    "  inputs = features[:, self.input_slice, :]\n",
    "  labels = features[:, self.labels_slice, :]\n",
    "  if self.label_columns is not None:\n",
    "    labels = tf.stack(\n",
    "        [labels[:, :, self.column_indices[name]] for name in self.label_columns],\n",
    "        axis=-1)\n",
    "\n",
    "  # Slicing doesn't preserve static shape information, so set the shapes\n",
    "  # manually. This way the `tf.data.Datasets` are easier to inspect.\n",
    "  inputs.set_shape([None, self.input_width, None])\n",
    "  labels.set_shape([None, self.label_width, None])\n",
    "\n",
    "  return inputs, labels\n",
    "\n",
    "WindowGenerator.split_window = split_window"
   ]
  },
  {
   "cell_type": "markdown",
   "metadata": {
    "id": "G6U6VtVuM15s"
   },
   "source": [
    "Try it out:"
   ]
  },
  {
   "cell_type": "code",
   "execution_count": 28,
   "metadata": {
    "colab": {
     "base_uri": "https://localhost:8080/"
    },
    "id": "YeCWbq6KLmL7",
    "outputId": "8803c332-725d-47c7-800c-b41b08306b5c"
   },
   "outputs": [
    {
     "ename": "NameError",
     "evalue": "name 'w2' is not defined",
     "output_type": "error",
     "traceback": [
      "\u001b[0;31m---------------------------------------------------------------------------\u001b[0m",
      "\u001b[0;31mNameError\u001b[0m                                 Traceback (most recent call last)",
      "\u001b[0;32m<ipython-input-28-8140b3afc626>\u001b[0m in \u001b[0;36m<module>\u001b[0;34m\u001b[0m\n\u001b[1;32m      1\u001b[0m \u001b[0;31m# Stack three slices, the length of the total window.\u001b[0m\u001b[0;34m\u001b[0m\u001b[0;34m\u001b[0m\u001b[0;34m\u001b[0m\u001b[0m\n\u001b[0;32m----> 2\u001b[0;31m example_window = tf.stack([np.array(train_df[:w2.total_window_size]),\n\u001b[0m\u001b[1;32m      3\u001b[0m                            \u001b[0mnp\u001b[0m\u001b[0;34m.\u001b[0m\u001b[0marray\u001b[0m\u001b[0;34m(\u001b[0m\u001b[0mtrain_df\u001b[0m\u001b[0;34m[\u001b[0m\u001b[0;36m100\u001b[0m\u001b[0;34m:\u001b[0m\u001b[0;36m100\u001b[0m\u001b[0;34m+\u001b[0m\u001b[0mw2\u001b[0m\u001b[0;34m.\u001b[0m\u001b[0mtotal_window_size\u001b[0m\u001b[0;34m]\u001b[0m\u001b[0;34m)\u001b[0m\u001b[0;34m,\u001b[0m\u001b[0;34m\u001b[0m\u001b[0;34m\u001b[0m\u001b[0m\n\u001b[1;32m      4\u001b[0m                            np.array(train_df[200:200+w2.total_window_size])])\n\u001b[1;32m      5\u001b[0m \u001b[0;34m\u001b[0m\u001b[0m\n",
      "\u001b[0;31mNameError\u001b[0m: name 'w2' is not defined"
     ]
    }
   ],
   "source": [
    "# Stack three slices, the length of the total window.\n",
    "example_window = tf.stack([np.array(train_df[:w2.total_window_size]),\n",
    "                           np.array(train_df[100:100+w2.total_window_size]),\n",
    "                           np.array(train_df[200:200+w2.total_window_size])])\n",
    "\n",
    "example_inputs, example_labels = w2.split_window(example_window)\n",
    "\n",
    "print('All shapes are: (batch, time, features)')\n",
    "print(f'Window shape: {example_window.shape}')\n",
    "print(f'Inputs shape: {example_inputs.shape}')\n",
    "print(f'Labels shape: {example_labels.shape}')"
   ]
  },
  {
   "cell_type": "markdown",
   "metadata": {
    "id": "xtMk1ffk2Mmd"
   },
   "source": [
    "Typically, data in TensorFlow is packed into arrays where the outermost index is across examples (the \"batch\" dimension). The middle indices are the \"time\" or \"space\" (width, height) dimension(s). The innermost indices are the features.\n",
    "\n",
    "The code above took a batch of three 7-time step windows with 19 features at each time step. It splits them into a batch of 6-time step 19-feature inputs, and a 1-time step 1-feature label. The label only has one feature because the `WindowGenerator` was initialized with `label_columns=['T (degC)']`. Initially, this tutorial will build models that predict single output labels."
   ]
  },
  {
   "cell_type": "markdown",
   "metadata": {
    "id": "tFZukGXrJoGo"
   },
   "source": [
    "### 3. Plot\n",
    "\n",
    "Here is a plot method that allows a simple visualization of the split window:"
   ]
  },
  {
   "cell_type": "code",
   "execution_count": null,
   "metadata": {
    "id": "fmgd1qkYUWT7"
   },
   "outputs": [],
   "source": [
    "w2.example = example_inputs, example_labels"
   ]
  },
  {
   "cell_type": "code",
   "execution_count": null,
   "metadata": {
    "id": "jIrYccI-Hm3B"
   },
   "outputs": [],
   "source": [
    "def plot(self, model=None, plot_col='T (degC)', max_subplots=3):\n",
    "  inputs, labels = self.example\n",
    "  plt.figure(figsize=(12, 8))\n",
    "  plot_col_index = self.column_indices[plot_col]\n",
    "  max_n = min(max_subplots, len(inputs))\n",
    "  for n in range(max_n):\n",
    "    plt.subplot(max_n, 1, n+1)\n",
    "    plt.ylabel(f'{plot_col} [normed]')\n",
    "    plt.plot(self.input_indices, inputs[n, :, plot_col_index],\n",
    "             label='Inputs', marker='.', zorder=-10)\n",
    "\n",
    "    if self.label_columns:\n",
    "      label_col_index = self.label_columns_indices.get(plot_col, None)\n",
    "    else:\n",
    "      label_col_index = plot_col_index\n",
    "\n",
    "    if label_col_index is None:\n",
    "      continue\n",
    "\n",
    "    plt.scatter(self.label_indices, labels[n, :, label_col_index],\n",
    "                edgecolors='k', label='Labels', c='#2ca02c', s=64)\n",
    "    if model is not None:\n",
    "      predictions = model(inputs)\n",
    "      plt.scatter(self.label_indices, predictions[n, :, label_col_index],\n",
    "                  marker='X', edgecolors='k', label='Predictions',\n",
    "                  c='#ff7f0e', s=64)\n",
    "\n",
    "    if n == 0:\n",
    "      plt.legend()\n",
    "\n",
    "  plt.xlabel('Time [h]')\n",
    "\n",
    "WindowGenerator.plot = plot"
   ]
  },
  {
   "cell_type": "markdown",
   "metadata": {
    "id": "HXvctEuK68vX"
   },
   "source": [
    "This plot aligns inputs, labels, and (later) predictions based on the time that the item refers to:"
   ]
  },
  {
   "cell_type": "code",
   "execution_count": null,
   "metadata": {
    "colab": {
     "base_uri": "https://localhost:8080/",
     "height": 497
    },
    "id": "XjTqUnglOOni",
    "outputId": "ee0228b1-29fc-4ab9-d762-18e1d33ac6e5"
   },
   "outputs": [],
   "source": [
    "w2.plot()"
   ]
  },
  {
   "cell_type": "markdown",
   "metadata": {
    "id": "UqiqcPOldPG6"
   },
   "source": [
    "You can plot the other columns, but the example window `w2` configuration only has labels for the `T (degC)` column."
   ]
  },
  {
   "cell_type": "code",
   "execution_count": null,
   "metadata": {
    "colab": {
     "base_uri": "https://localhost:8080/",
     "height": 497
    },
    "id": "EBRe4wnlfCH8",
    "outputId": "bda34b6c-3110-40cf-dae7-fce5eb6f2624"
   },
   "outputs": [],
   "source": [
    "w2.plot(plot_col='p (mbar)')"
   ]
  },
  {
   "cell_type": "markdown",
   "metadata": {
    "id": "xCvD-UaUzYMw"
   },
   "source": [
    "### 4. Create `tf.data.Dataset`s"
   ]
  },
  {
   "cell_type": "markdown",
   "metadata": {
    "id": "kLO3SFR9Osdf"
   },
   "source": [
    "Finally, this `make_dataset` method will take a time series DataFrame and convert it to a `tf.data.Dataset` of `(input_window, label_window)` pairs using the `preprocessing.timeseries_dataset_from_array` function:"
   ]
  },
  {
   "cell_type": "code",
   "execution_count": 29,
   "metadata": {
    "id": "35qoSQeRVfJg"
   },
   "outputs": [],
   "source": [
    "def make_dataset(self, data):\n",
    "  data = np.array(data, dtype=np.float32)\n",
    "  ds = tf.keras.preprocessing.timeseries_dataset_from_array(\n",
    "      data=data,\n",
    "      targets=None,\n",
    "      sequence_length=self.total_window_size,\n",
    "      sequence_stride=1,\n",
    "      shuffle=True,\n",
    "      batch_size=32,)\n",
    "\n",
    "  ds = ds.map(self.split_window)\n",
    "\n",
    "  return ds\n",
    "\n",
    "WindowGenerator.make_dataset = make_dataset"
   ]
  },
  {
   "cell_type": "markdown",
   "metadata": {
    "id": "LvsxQwJaCift"
   },
   "source": [
    "The `WindowGenerator` object holds training, validation, and test data.\n",
    "\n",
    "Add properties for accessing them as `tf.data.Dataset`s using the `make_dataset` method you defined earlier. Also, add a standard example batch for easy access and plotting:"
   ]
  },
  {
   "cell_type": "code",
   "execution_count": 30,
   "metadata": {
    "id": "2jZ2KkqGCfzu"
   },
   "outputs": [],
   "source": [
    "@property\n",
    "def train(self):\n",
    "  return self.make_dataset(self.train_df)\n",
    "\n",
    "@property\n",
    "def val(self):\n",
    "  return self.make_dataset(self.val_df)\n",
    "\n",
    "@property\n",
    "def test(self):\n",
    "  return self.make_dataset(self.test_df)\n",
    "\n",
    "@property\n",
    "def example(self):\n",
    "  \"\"\"Get and cache an example batch of `inputs, labels` for plotting.\"\"\"\n",
    "  result = getattr(self, '_example', None)\n",
    "  if result is None:\n",
    "    # No example batch was found, so get one from the `.train` dataset\n",
    "    result = next(iter(self.train))\n",
    "    # And cache it for next time\n",
    "    self._example = result\n",
    "  return result\n",
    "\n",
    "WindowGenerator.train = train\n",
    "WindowGenerator.val = val\n",
    "WindowGenerator.test = test\n",
    "WindowGenerator.example = example"
   ]
  },
  {
   "cell_type": "markdown",
   "metadata": {
    "id": "fF_Vj6Iw3Y2w"
   },
   "source": [
    "Now, the `WindowGenerator` object gives you access to the `tf.data.Dataset` objects, so you can easily iterate over the data.\n",
    "\n",
    "The `Dataset.element_spec` property tells you the structure, data types, and shapes of the dataset elements."
   ]
  },
  {
   "cell_type": "code",
   "execution_count": 31,
   "metadata": {
    "colab": {
     "base_uri": "https://localhost:8080/"
    },
    "id": "daJ0-U383YVs",
    "outputId": "d4179bbd-4664-42e7-ae7a-5347d271da97"
   },
   "outputs": [
    {
     "ename": "NameError",
     "evalue": "name 'w2' is not defined",
     "output_type": "error",
     "traceback": [
      "\u001b[0;31m---------------------------------------------------------------------------\u001b[0m",
      "\u001b[0;31mNameError\u001b[0m                                 Traceback (most recent call last)",
      "\u001b[0;32m<ipython-input-31-4ee0a3bdb0fc>\u001b[0m in \u001b[0;36m<module>\u001b[0;34m\u001b[0m\n\u001b[1;32m      1\u001b[0m \u001b[0;31m# Each element is an (inputs, label) pair.\u001b[0m\u001b[0;34m\u001b[0m\u001b[0;34m\u001b[0m\u001b[0;34m\u001b[0m\u001b[0m\n\u001b[0;32m----> 2\u001b[0;31m \u001b[0mw2\u001b[0m\u001b[0;34m.\u001b[0m\u001b[0mtrain\u001b[0m\u001b[0;34m.\u001b[0m\u001b[0melement_spec\u001b[0m\u001b[0;34m\u001b[0m\u001b[0;34m\u001b[0m\u001b[0m\n\u001b[0m",
      "\u001b[0;31mNameError\u001b[0m: name 'w2' is not defined"
     ]
    }
   ],
   "source": [
    "# Each element is an (inputs, label) pair.\n",
    "w2.train.element_spec"
   ]
  },
  {
   "cell_type": "markdown",
   "metadata": {
    "id": "XKTx3_Z7ua-n"
   },
   "source": [
    "Iterating over a `Dataset` yields concrete batches:"
   ]
  },
  {
   "cell_type": "code",
   "execution_count": 32,
   "metadata": {
    "colab": {
     "base_uri": "https://localhost:8080/"
    },
    "id": "6gtKXEgf4Iml",
    "outputId": "b1bfee1f-b1cd-4f20-ca02-0c8ccc0a16d9"
   },
   "outputs": [
    {
     "ename": "NameError",
     "evalue": "name 'w2' is not defined",
     "output_type": "error",
     "traceback": [
      "\u001b[0;31m---------------------------------------------------------------------------\u001b[0m",
      "\u001b[0;31mNameError\u001b[0m                                 Traceback (most recent call last)",
      "\u001b[0;32m<ipython-input-32-aa366aaf77db>\u001b[0m in \u001b[0;36m<module>\u001b[0;34m\u001b[0m\n\u001b[0;32m----> 1\u001b[0;31m \u001b[0;32mfor\u001b[0m \u001b[0mexample_inputs\u001b[0m\u001b[0;34m,\u001b[0m \u001b[0mexample_labels\u001b[0m \u001b[0;32min\u001b[0m \u001b[0mw2\u001b[0m\u001b[0;34m.\u001b[0m\u001b[0mtrain\u001b[0m\u001b[0;34m.\u001b[0m\u001b[0mtake\u001b[0m\u001b[0;34m(\u001b[0m\u001b[0;36m1\u001b[0m\u001b[0;34m)\u001b[0m\u001b[0;34m:\u001b[0m\u001b[0;34m\u001b[0m\u001b[0;34m\u001b[0m\u001b[0m\n\u001b[0m\u001b[1;32m      2\u001b[0m   \u001b[0mprint\u001b[0m\u001b[0;34m(\u001b[0m\u001b[0;34mf'Inputs shape (batch, time, features): {example_inputs.shape}'\u001b[0m\u001b[0;34m)\u001b[0m\u001b[0;34m\u001b[0m\u001b[0;34m\u001b[0m\u001b[0m\n\u001b[1;32m      3\u001b[0m   \u001b[0mprint\u001b[0m\u001b[0;34m(\u001b[0m\u001b[0;34mf'Labels shape (batch, time, features): {example_labels.shape}'\u001b[0m\u001b[0;34m)\u001b[0m\u001b[0;34m\u001b[0m\u001b[0;34m\u001b[0m\u001b[0m\n",
      "\u001b[0;31mNameError\u001b[0m: name 'w2' is not defined"
     ]
    }
   ],
   "source": [
    "for example_inputs, example_labels in w2.train.take(1):\n",
    "  print(f'Inputs shape (batch, time, features): {example_inputs.shape}')\n",
    "  print(f'Labels shape (batch, time, features): {example_labels.shape}')"
   ]
  },
  {
   "cell_type": "markdown",
   "metadata": {
    "id": "LyuGuJUgjUK3"
   },
   "source": [
    "## Single step models\n",
    "\n",
    "The simplest model you can build on this sort of data is one that predicts a single feature's value—1 time step (one hour) into the future based only on the current conditions.\n",
    "\n",
    "So, start by building models to predict the `T (degC)` value one hour into the future.\n",
    "\n",
    "![Predict the next time step](https://github.com/tensorflow/docs/blob/master/site/en/tutorials/structured_data/images/narrow_window.png?raw=1)\n",
    "\n",
    "Configure a `WindowGenerator` object to produce these single-step `(input, label)` pairs:"
   ]
  },
  {
   "cell_type": "code",
   "execution_count": null,
   "metadata": {
    "colab": {
     "base_uri": "https://localhost:8080/"
    },
    "id": "G5QX1G1JTPCr",
    "outputId": "9d858bea-e72a-40d9-a411-c05d1d470b4a"
   },
   "outputs": [],
   "source": [
    "single_step_window = WindowGenerator(\n",
    "    input_width=1, label_width=1, shift=1,\n",
    "    label_columns=['T (degC)'])\n",
    "single_step_window"
   ]
  },
  {
   "cell_type": "markdown",
   "metadata": {
    "id": "RKTm8ajVGw4N"
   },
   "source": [
    "The `window` object creates `tf.data.Dataset`s from the training, validation, and test sets, allowing you to easily iterate over batches of data.\n"
   ]
  },
  {
   "cell_type": "code",
   "execution_count": null,
   "metadata": {
    "colab": {
     "base_uri": "https://localhost:8080/"
    },
    "id": "Do4ILUaBF8oc",
    "outputId": "15ee618b-eaa4-47b4-ec7b-e91c6ee8478f"
   },
   "outputs": [],
   "source": [
    "for example_inputs, example_labels in single_step_window.train.take(1):\n",
    "  print(f'Inputs shape (batch, time, features): {example_inputs.shape}')\n",
    "  print(f'Labels shape (batch, time, features): {example_labels.shape}')"
   ]
  },
  {
   "cell_type": "markdown",
   "metadata": {
    "id": "D1bbPiR3VAm_"
   },
   "source": [
    "### Baseline\n",
    "\n",
    "Before building a trainable model it would be good to have a performance baseline as a point for comparison with the later more complicated models.\n",
    "\n",
    "This first task is to predict temperature one hour into the future, given the current value of all features. The current values include the current temperature. \n",
    "\n",
    "So, start with a model that just returns the current temperature as the prediction, predicting \"No change\". This is a reasonable baseline since temperature changes slowly. Of course, this baseline will work less well if you make a prediction further in the future.\n",
    "\n",
    "![Send the input to the output](https://github.com/tensorflow/docs/blob/master/site/en/tutorials/structured_data/images/baseline.png?raw=1)"
   ]
  },
  {
   "cell_type": "code",
   "execution_count": null,
   "metadata": {
    "id": "9TybQaIsi3yg"
   },
   "outputs": [],
   "source": [
    "class Baseline(tf.keras.Model):\n",
    "  def __init__(self, label_index=None):\n",
    "    super().__init__()\n",
    "    self.label_index = label_index\n",
    "\n",
    "  def call(self, inputs):\n",
    "    if self.label_index is None:\n",
    "      return inputs\n",
    "    result = inputs[:, :, self.label_index]\n",
    "    return result[:, :, tf.newaxis]"
   ]
  },
  {
   "cell_type": "markdown",
   "metadata": {
    "id": "0vb3f948i8p8"
   },
   "source": [
    "Instantiate and evaluate this model:"
   ]
  },
  {
   "cell_type": "code",
   "execution_count": null,
   "metadata": {
    "colab": {
     "base_uri": "https://localhost:8080/"
    },
    "id": "IS3-QKc4sX0D",
    "outputId": "bba88920-cac1-49ee-cfee-7bdefb04a893"
   },
   "outputs": [],
   "source": [
    "baseline = Baseline(label_index=column_indices['T (degC)'])\n",
    "\n",
    "baseline.compile(loss=tf.losses.MeanSquaredError(),\n",
    "                 metrics=[tf.metrics.MeanAbsoluteError()])\n",
    "\n",
    "val_performance = {}\n",
    "performance = {}\n",
    "val_performance['Baseline'] = baseline.evaluate(single_step_window.val)\n",
    "performance['Baseline'] = baseline.evaluate(single_step_window.test, verbose=0)"
   ]
  },
  {
   "cell_type": "markdown",
   "metadata": {
    "id": "nhBxQcCSs7Ec"
   },
   "source": [
    "That printed some performance metrics, but those don't give you a feeling for how well the model is doing.\n",
    "\n",
    "The `WindowGenerator` has a plot method, but the plots won't be very interesting with only a single sample.\n",
    "\n",
    "So, create a wider `WindowGenerator` that generates windows 24 hours of consecutive inputs and labels at a time. The new `wide_window` variable doesn't change the way the model operates. The model still makes predictions one hour into the future based on a single input time step. Here, the `time` axis acts like the `batch` axis: each prediction is made independently with no interaction between time steps:"
   ]
  },
  {
   "cell_type": "code",
   "execution_count": null,
   "metadata": {
    "colab": {
     "base_uri": "https://localhost:8080/"
    },
    "id": "C8jNR5uuJ5Zp",
    "outputId": "e6019347-409c-4fd2-a088-50341b985ea0"
   },
   "outputs": [],
   "source": [
    "wide_window = WindowGenerator(\n",
    "    input_width=24, label_width=24, shift=1,\n",
    "    label_columns=['T (degC)'])\n",
    "\n",
    "wide_window"
   ]
  },
  {
   "cell_type": "markdown",
   "metadata": {
    "id": "ZAnj7CFZkuYv"
   },
   "source": [
    "This expanded window can be passed directly to the same `baseline` model without any code changes. This is possible because the inputs and labels have the same number of time steps, and the baseline just forwards the input to the output:\n",
    "\n",
    "![One prediction 1h into the future, ever hour.](https://github.com/tensorflow/docs/blob/master/site/en/tutorials/structured_data/images/last_window.png?raw=1)"
   ]
  },
  {
   "cell_type": "code",
   "execution_count": null,
   "metadata": {
    "colab": {
     "base_uri": "https://localhost:8080/"
    },
    "id": "sGKdvdg087qs",
    "outputId": "c6d66711-1b4b-49f0-cecf-d7994d100272"
   },
   "outputs": [],
   "source": [
    "print('Input shape:', wide_window.example[0].shape)\n",
    "print('Output shape:', baseline(wide_window.example[0]).shape)"
   ]
  },
  {
   "cell_type": "markdown",
   "metadata": {
    "id": "SKqQHX1K0JW-"
   },
   "source": [
    "By plotting the baseline model's predictions, notice that it is simply the labels shifted right by one hour:"
   ]
  },
  {
   "cell_type": "code",
   "execution_count": null,
   "metadata": {
    "colab": {
     "base_uri": "https://localhost:8080/",
     "height": 497
    },
    "id": "jQyAPVLgWTOZ",
    "outputId": "b4a8b518-27fc-495b-e9da-ac695a31ba4e"
   },
   "outputs": [],
   "source": [
    "wide_window.plot(baseline)"
   ]
  },
  {
   "cell_type": "markdown",
   "metadata": {
    "id": "e93TLUhfAVg2"
   },
   "source": [
    "In the above plots of three examples the single step model is run over the course of 24 hours. This deserves some explanation:\n",
    "\n",
    "- The blue `Inputs` line shows the input temperature at each time step. The model receives all features, this plot only shows the temperature.\n",
    "- The green `Labels` dots show the target prediction value. These dots are shown at the prediction time, not the input time. That is why the range of labels is shifted 1 step relative to the inputs.\n",
    "- The orange `Predictions` crosses are the model's prediction's for each output time step. If the model were predicting perfectly the predictions would land directly on the `Labels`."
   ]
  },
  {
   "cell_type": "markdown",
   "metadata": {
    "id": "E4aOJScj52Yu"
   },
   "source": [
    "### Linear model\n",
    "\n",
    "The simplest **trainable** model you can apply to this task is to insert linear transformation between the input and output. In this case the output from a time step only depends on that step:\n",
    "\n",
    "![A single step prediction](https://github.com/tensorflow/docs/blob/master/site/en/tutorials/structured_data/images/narrow_window.png?raw=1)\n",
    "\n",
    "A `tf.keras.layers.Dense` layer with no `activation` set is a linear model. The layer only transforms the last axis of the data from `(batch, time, inputs)` to `(batch, time, units)`; it is applied independently to every item across the `batch` and `time` axes."
   ]
  },
  {
   "cell_type": "code",
   "execution_count": null,
   "metadata": {
    "id": "6341OXuQ5xA9"
   },
   "outputs": [],
   "source": [
    "linear = tf.keras.Sequential([\n",
    "    tf.keras.layers.Dense(units=1)\n",
    "])"
   ]
  },
  {
   "cell_type": "code",
   "execution_count": null,
   "metadata": {
    "colab": {
     "base_uri": "https://localhost:8080/"
    },
    "id": "KwaOM8RucUSn",
    "outputId": "8646f0d0-70f9-4826-ce30-359a5f2e5596"
   },
   "outputs": [],
   "source": [
    "print('Input shape:', single_step_window.example[0].shape)\n",
    "print('Output shape:', linear(single_step_window.example[0]).shape)"
   ]
  },
  {
   "cell_type": "markdown",
   "metadata": {
    "id": "OMZTYIj3bYLg"
   },
   "source": [
    "This tutorial trains many models, so package the training procedure into a function:"
   ]
  },
  {
   "cell_type": "code",
   "execution_count": null,
   "metadata": {
    "id": "CbCL6VIrk-Gt"
   },
   "outputs": [],
   "source": [
    "MAX_EPOCHS = 20\n",
    "\n",
    "def compile_and_fit(model, window, patience=2):\n",
    "  early_stopping = tf.keras.callbacks.EarlyStopping(monitor='val_loss',\n",
    "                                                    patience=patience,\n",
    "                                                    mode='min')\n",
    "\n",
    "  model.compile(loss=tf.losses.MeanSquaredError(),\n",
    "                optimizer=tf.optimizers.Adam(),\n",
    "                metrics=[tf.metrics.MeanAbsoluteError()])\n",
    "\n",
    "  history = model.fit(window.train, epochs=MAX_EPOCHS,\n",
    "                      validation_data=window.val,\n",
    "                      callbacks=[early_stopping])\n",
    "  return history"
   ]
  },
  {
   "cell_type": "markdown",
   "metadata": {
    "id": "OobVjM-schwj"
   },
   "source": [
    "Train the model and evaluate its performance:"
   ]
  },
  {
   "cell_type": "code",
   "execution_count": null,
   "metadata": {
    "colab": {
     "base_uri": "https://localhost:8080/"
    },
    "id": "9agbz2qB9bLS",
    "outputId": "4028191b-b8a0-4fcf-8da3-8cbf9ec92ef9"
   },
   "outputs": [],
   "source": [
    "history = compile_and_fit(linear, single_step_window)\n",
    "\n",
    "val_performance['Linear'] = linear.evaluate(single_step_window.val)\n",
    "performance['Linear'] = linear.evaluate(single_step_window.test, verbose=0)"
   ]
  },
  {
   "cell_type": "markdown",
   "metadata": {
    "id": "7U9XukYh8beN"
   },
   "source": [
    "Like the `baseline` model, the linear model can be called on batches of wide windows. Used this way the model makes a set of independent predictions on consecutive time steps. The `time` axis acts like another `batch` axis. There are no interactions between the predictions at each time step.\n",
    "\n",
    "![A single step prediction](https://github.com/tensorflow/docs/blob/master/site/en/tutorials/structured_data/images/wide_window.png?raw=1)"
   ]
  },
  {
   "cell_type": "code",
   "execution_count": null,
   "metadata": {
    "colab": {
     "base_uri": "https://localhost:8080/"
    },
    "id": "K9UVM5Sw9KQN",
    "outputId": "2a7e1dbf-1149-4128-f26b-dfa7ad2f2f9f"
   },
   "outputs": [],
   "source": [
    "print('Input shape:', wide_window.example[0].shape)\n",
    "print('Output shape:', baseline(wide_window.example[0]).shape)"
   ]
  },
  {
   "cell_type": "markdown",
   "metadata": {
    "id": "X-CGj85oKaOG"
   },
   "source": [
    "Here is the plot of its example predictions on the `wide_window`, note how in many cases the prediction is clearly better than just returning the input temperature, but in a few cases it's worse:"
   ]
  },
  {
   "cell_type": "code",
   "execution_count": null,
   "metadata": {
    "colab": {
     "base_uri": "https://localhost:8080/",
     "height": 497
    },
    "id": "bCC8VVo-OvwV",
    "outputId": "b18c63d7-3cae-447d-df13-06cd40a28d87"
   },
   "outputs": [],
   "source": [
    "wide_window.plot(linear)"
   ]
  },
  {
   "cell_type": "markdown",
   "metadata": {
    "id": "Is51vU8EMl6c"
   },
   "source": [
    "One advantage to linear models is that they're relatively simple to  interpret.\n",
    "You can pull out the layer's weights and visualize the weight assigned to each input:"
   ]
  },
  {
   "cell_type": "code",
   "execution_count": null,
   "metadata": {
    "colab": {
     "base_uri": "https://localhost:8080/",
     "height": 345
    },
    "id": "d4uCTbsmK8VI",
    "outputId": "37e844b6-11c0-4b8c-8152-ef74eeb0240d"
   },
   "outputs": [],
   "source": [
    "plt.bar(x = range(len(train_df.columns)),\n",
    "        height=linear.layers[0].kernel[:,0].numpy())\n",
    "axis = plt.gca()\n",
    "axis.set_xticks(range(len(train_df.columns)))\n",
    "_ = axis.set_xticklabels(train_df.columns, rotation=90)"
   ]
  },
  {
   "cell_type": "markdown",
   "metadata": {
    "id": "Ylng7215boIY"
   },
   "source": [
    "Sometimes the model doesn't even place the most weight on the input `T (degC)`. This is one of the risks of random initialization. "
   ]
  },
  {
   "cell_type": "markdown",
   "metadata": {
    "id": "W18e6da1cNbw"
   },
   "source": [
    "### Dense\n",
    "\n",
    "Before applying models that actually operate on multiple time-steps, it's worth checking the performance of deeper, more powerful, single input step models.\n",
    "\n",
    "Here's a model similar to the `linear` model, except it stacks several a few `Dense` layers between the input and the output: "
   ]
  },
  {
   "cell_type": "code",
   "execution_count": null,
   "metadata": {
    "colab": {
     "base_uri": "https://localhost:8080/"
    },
    "id": "Z86WkYp7cNAD",
    "outputId": "2d38c446-f22e-49de-f924-013e709f1e3a"
   },
   "outputs": [],
   "source": [
    "dense = tf.keras.Sequential([\n",
    "    tf.keras.layers.Dense(units=64, activation='relu'),\n",
    "    tf.keras.layers.Dense(units=64, activation='relu'),\n",
    "    tf.keras.layers.Dense(units=1)\n",
    "])\n",
    "\n",
    "history = compile_and_fit(dense, single_step_window)\n",
    "\n",
    "val_performance['Dense'] = dense.evaluate(single_step_window.val)\n",
    "performance['Dense'] = dense.evaluate(single_step_window.test, verbose=0)"
   ]
  },
  {
   "cell_type": "markdown",
   "metadata": {
    "id": "j5dv_whJdswH"
   },
   "source": [
    "### Multi-step dense\n",
    "\n",
    "A single-time-step model has no context for the current values of its inputs. It can't see how the input features are changing over time. To address this issue the model needs access to multiple time steps when making predictions:\n",
    "\n",
    "![Three time steps are used for each prediction.](https://github.com/tensorflow/docs/blob/master/site/en/tutorials/structured_data/images/conv_window.png?raw=1)\n"
   ]
  },
  {
   "cell_type": "markdown",
   "metadata": {
    "id": "Zac-ti8agbJ7"
   },
   "source": [
    "The `baseline`, `linear` and `dense` models handled each time step independently. Here the model will take multiple time steps as input to produce a single output.\n",
    "\n",
    "Create a `WindowGenerator` that will produce batches of three-hour inputs and one-hour labels:"
   ]
  },
  {
   "cell_type": "markdown",
   "metadata": {
    "id": "gtN4BwZ37niR"
   },
   "source": [
    "Note that the `Window`'s `shift` parameter is relative to the end of the two windows.\n"
   ]
  },
  {
   "cell_type": "code",
   "execution_count": null,
   "metadata": {
    "id": "lBh0j5djUKY2"
   },
   "outputs": [],
   "source": [
    "CONV_WIDTH = 3\n",
    "conv_window = WindowGenerator(\n",
    "    input_width=CONV_WIDTH,\n",
    "    label_width=1,\n",
    "    shift=1,\n",
    "    label_columns=['T (degC)'])\n",
    "\n",
    "conv_window"
   ]
  },
  {
   "cell_type": "code",
   "execution_count": null,
   "metadata": {
    "id": "dCQ5gvs68Xkd"
   },
   "outputs": [],
   "source": [
    "conv_window.plot()\n",
    "plt.title(\"Given 3 hours of inputs, predict 1 hour into the future.\")"
   ]
  },
  {
   "cell_type": "markdown",
   "metadata": {
    "id": "We0HdMxKeqB_"
   },
   "source": [
    "You could train a `dense` model on a multiple-input-step window by adding a `tf.keras.layers.Flatten` as the first layer of the model:"
   ]
  },
  {
   "cell_type": "code",
   "execution_count": null,
   "metadata": {
    "id": "oNQnUOkOnC1G"
   },
   "outputs": [],
   "source": [
    "multi_step_dense = tf.keras.Sequential([\n",
    "    # Shape: (time, features) => (time*features)\n",
    "    tf.keras.layers.Flatten(),\n",
    "    tf.keras.layers.Dense(units=32, activation='relu'),\n",
    "    tf.keras.layers.Dense(units=32, activation='relu'),\n",
    "    tf.keras.layers.Dense(units=1),\n",
    "    # Add back the time dimension.\n",
    "    # Shape: (outputs) => (1, outputs)\n",
    "    tf.keras.layers.Reshape([1, -1]),\n",
    "])"
   ]
  },
  {
   "cell_type": "code",
   "execution_count": null,
   "metadata": {
    "id": "cayD74luo4Vq"
   },
   "outputs": [],
   "source": [
    "print('Input shape:', conv_window.example[0].shape)\n",
    "print('Output shape:', multi_step_dense(conv_window.example[0]).shape)"
   ]
  },
  {
   "cell_type": "code",
   "execution_count": null,
   "metadata": {
    "id": "fu91yEbRo9-J"
   },
   "outputs": [],
   "source": [
    "history = compile_and_fit(multi_step_dense, conv_window)\n",
    "\n",
    "IPython.display.clear_output()\n",
    "val_performance['Multi step dense'] = multi_step_dense.evaluate(conv_window.val)\n",
    "performance['Multi step dense'] = multi_step_dense.evaluate(conv_window.test, verbose=0)"
   ]
  },
  {
   "cell_type": "code",
   "execution_count": null,
   "metadata": {
    "id": "tnqdXYT6pkEh"
   },
   "outputs": [],
   "source": [
    "conv_window.plot(multi_step_dense)"
   ]
  },
  {
   "cell_type": "markdown",
   "metadata": {
    "id": "gWfrsP8mq8lV"
   },
   "source": [
    "The main down-side of this approach is that the resulting model can only be executed on input windows of exactly this shape. "
   ]
  },
  {
   "cell_type": "code",
   "execution_count": null,
   "metadata": {
    "id": "j-q6tz5Yq8Jk"
   },
   "outputs": [],
   "source": [
    "print('Input shape:', wide_window.example[0].shape)\n",
    "try:\n",
    "  print('Output shape:', multi_step_dense(wide_window.example[0]).shape)\n",
    "except Exception as e:\n",
    "  print(f'\\n{type(e).__name__}:{e}')"
   ]
  },
  {
   "cell_type": "markdown",
   "metadata": {
    "id": "bvvajm3ip_8V"
   },
   "source": [
    "The convolutional models in the next section fix this problem."
   ]
  },
  {
   "cell_type": "markdown",
   "metadata": {
    "id": "CrpU6gwSJome"
   },
   "source": [
    "### Convolution neural network\n",
    " \n",
    "A convolution layer (`tf.keras.layers.Conv1D`) also takes multiple time steps as input to each prediction."
   ]
  },
  {
   "cell_type": "markdown",
   "metadata": {
    "id": "cdLBwoaHmsWb"
   },
   "source": [
    "Below is the **same** model as `multi_step_dense`, re-written with a convolution. \n",
    "\n",
    "Note the changes:\n",
    "* The `tf.keras.layers.Flatten` and the first `tf.keras.layers.Dense` are replaced by a `tf.keras.layers.Conv1D`.\n",
    "* The `tf.keras.layers.Reshape` is no longer necessary since the convolution keeps the time axis in its output."
   ]
  },
  {
   "cell_type": "code",
   "execution_count": null,
   "metadata": {
    "id": "5azaMBj4ac9t"
   },
   "outputs": [],
   "source": [
    "conv_model = tf.keras.Sequential([\n",
    "    tf.keras.layers.Conv1D(filters=32,\n",
    "                           kernel_size=(CONV_WIDTH,),\n",
    "                           activation='relu'),\n",
    "    tf.keras.layers.Dense(units=32, activation='relu'),\n",
    "    tf.keras.layers.Dense(units=1),\n",
    "])"
   ]
  },
  {
   "cell_type": "markdown",
   "metadata": {
    "id": "ftaH6B5ECRiK"
   },
   "source": [
    "Run it on an example batch to check that the model produces outputs with the expected shape:"
   ]
  },
  {
   "cell_type": "code",
   "execution_count": null,
   "metadata": {
    "id": "5YNgt1-e98lH"
   },
   "outputs": [],
   "source": [
    "print(\"Conv model on `conv_window`\")\n",
    "print('Input shape:', conv_window.example[0].shape)\n",
    "print('Output shape:', conv_model(conv_window.example[0]).shape)"
   ]
  },
  {
   "cell_type": "markdown",
   "metadata": {
    "id": "5m4kC-jGCY3x"
   },
   "source": [
    "Train and evaluate it on the ` conv_window` and it should give performance similar to the `multi_step_dense` model."
   ]
  },
  {
   "cell_type": "code",
   "execution_count": null,
   "metadata": {
    "id": "QDVWdm4paUW7"
   },
   "outputs": [],
   "source": [
    "history = compile_and_fit(conv_model, conv_window)\n",
    "\n",
    "IPython.display.clear_output()\n",
    "val_performance['Conv'] = conv_model.evaluate(conv_window.val)\n",
    "performance['Conv'] = conv_model.evaluate(conv_window.test, verbose=0)"
   ]
  },
  {
   "cell_type": "markdown",
   "metadata": {
    "id": "sYRipDeXs0Kr"
   },
   "source": [
    "The difference between this `conv_model` and the `multi_step_dense` model is that the `conv_model` can be run on inputs of any length. The convolutional layer is applied to a sliding window of inputs:\n",
    "\n",
    "![Executing a convolutional model on a sequence](https://github.com/tensorflow/docs/blob/master/site/en/tutorials/structured_data/images/wide_conv_window.png?raw=1)\n",
    "\n",
    "If you run it on wider input, it produces wider output:"
   ]
  },
  {
   "cell_type": "code",
   "execution_count": null,
   "metadata": {
    "id": "hoqccxx9r5jF"
   },
   "outputs": [],
   "source": [
    "print(\"Wide window\")\n",
    "print('Input shape:', wide_window.example[0].shape)\n",
    "print('Labels shape:', wide_window.example[1].shape)\n",
    "print('Output shape:', conv_model(wide_window.example[0]).shape)"
   ]
  },
  {
   "cell_type": "markdown",
   "metadata": {
    "id": "h_WGxtLIHhRF"
   },
   "source": [
    "Note that the output is shorter than the input. To make training or plotting work, you need the labels, and prediction to have the same length. So build a `WindowGenerator` to produce wide windows with a few extra input time steps so the label and prediction lengths match: "
   ]
  },
  {
   "cell_type": "code",
   "execution_count": null,
   "metadata": {
    "id": "_VPvJ_VwTc0f"
   },
   "outputs": [],
   "source": [
    "LABEL_WIDTH = 24\n",
    "INPUT_WIDTH = LABEL_WIDTH + (CONV_WIDTH - 1)\n",
    "wide_conv_window = WindowGenerator(\n",
    "    input_width=INPUT_WIDTH,\n",
    "    label_width=LABEL_WIDTH,\n",
    "    shift=1,\n",
    "    label_columns=['T (degC)'])\n",
    "\n",
    "wide_conv_window"
   ]
  },
  {
   "cell_type": "code",
   "execution_count": null,
   "metadata": {
    "id": "gtqlWYXeKXej"
   },
   "outputs": [],
   "source": [
    "print(\"Wide conv window\")\n",
    "print('Input shape:', wide_conv_window.example[0].shape)\n",
    "print('Labels shape:', wide_conv_window.example[1].shape)\n",
    "print('Output shape:', conv_model(wide_conv_window.example[0]).shape)"
   ]
  },
  {
   "cell_type": "markdown",
   "metadata": {
    "id": "yzxbbS56cSBV"
   },
   "source": [
    "Now, you can plot the model's predictions on a wider window. Note the 3 input time steps before the first prediction. Every prediction here is based on the 3 preceding time steps:"
   ]
  },
  {
   "cell_type": "code",
   "execution_count": null,
   "metadata": {
    "id": "gR7VyL45UuEe"
   },
   "outputs": [],
   "source": [
    "wide_conv_window.plot(conv_model)"
   ]
  },
  {
   "cell_type": "markdown",
   "metadata": {
    "id": "H4crpOcoMlSe"
   },
   "source": [
    "### Recurrent neural network\n",
    "\n",
    "A Recurrent Neural Network (RNN) is a type of neural network well-suited to time series data. RNNs process a time series step-by-step, maintaining an internal state from time-step to time-step.\n",
    "\n",
    "You can learn more in the [Text generation with an RNN](https://www.tensorflow.org/text/tutorials/text_generation) tutorial and the [Recurrent Neural Networks (RNN) with Keras](https://www.tensorflow.org/guide/keras/rnn) guide.\n",
    "\n",
    "In this tutorial, you will use an RNN layer called Long Short-Term Memory (`tf.keras.layers.LSTM`)."
   ]
  },
  {
   "cell_type": "markdown",
   "metadata": {
    "id": "vfQbHSMb1ATa"
   },
   "source": [
    "An important constructor argument for all Keras RNN layers, such as `tf.keras.layers.LSTM`, is the `return_sequences` argument. This setting can configure the layer in one of two ways:\n",
    "\n",
    "1. If `False`, the default, the layer only returns the output of the final time step, giving the model time to warm up its internal state before making a single prediction: \n",
    "\n",
    "![An LSTM warming up and making a single prediction](https://github.com/tensorflow/docs/blob/master/site/en/tutorials/structured_data/images/lstm_1_window.png?raw=1)\n",
    "\n",
    "2. If `True`, the layer returns an output for each input. This is useful for:\n",
    "  * Stacking RNN layers. \n",
    "  * Training a model on multiple time steps simultaneously.\n",
    "\n",
    "![An LSTM making a prediction after every time step](https://github.com/tensorflow/docs/blob/master/site/en/tutorials/structured_data/images/lstm_many_window.png?raw=1)"
   ]
  },
  {
   "cell_type": "code",
   "execution_count": null,
   "metadata": {
    "id": "DXKLCJy8nWNU"
   },
   "outputs": [],
   "source": [
    "lstm_model = tf.keras.models.Sequential([\n",
    "    # Shape [batch, time, features] => [batch, time, lstm_units]\n",
    "    tf.keras.layers.LSTM(32, return_sequences=True),\n",
    "    # Shape => [batch, time, features]\n",
    "    tf.keras.layers.Dense(units=1)\n",
    "])"
   ]
  },
  {
   "cell_type": "markdown",
   "metadata": {
    "id": "F124B00KZcLC"
   },
   "source": [
    "With `return_sequences=True`, the model can be trained on 24 hours of data at a time.\n",
    "\n",
    "Note: This will give a pessimistic view of the model's performance. On the first time step, the model has no access to previous steps and, therefore, can't do any better than the simple `linear` and `dense` models shown earlier."
   ]
  },
  {
   "cell_type": "code",
   "execution_count": null,
   "metadata": {
    "id": "eZEROCQVYV6q"
   },
   "outputs": [],
   "source": [
    "print('Input shape:', wide_window.example[0].shape)\n",
    "print('Output shape:', lstm_model(wide_window.example[0]).shape)"
   ]
  },
  {
   "cell_type": "code",
   "execution_count": null,
   "metadata": {
    "id": "uvdWRl1e9WJl"
   },
   "outputs": [],
   "source": [
    "history = compile_and_fit(lstm_model, wide_window)\n",
    "\n",
    "IPython.display.clear_output()\n",
    "val_performance['LSTM'] = lstm_model.evaluate(wide_window.val)\n",
    "performance['LSTM'] = lstm_model.evaluate(wide_window.test, verbose=0)"
   ]
  },
  {
   "cell_type": "code",
   "execution_count": null,
   "metadata": {
    "id": "NwAOWCVgB26e"
   },
   "outputs": [],
   "source": [
    "wide_window.plot(lstm_model)"
   ]
  },
  {
   "cell_type": "markdown",
   "metadata": {
    "id": "pYglOCKehi8F"
   },
   "source": [
    "### Performance"
   ]
  },
  {
   "cell_type": "markdown",
   "metadata": {
    "id": "2pCk0_rwhi8H"
   },
   "source": [
    "With this dataset typically each of the models does slightly better than the one before it:"
   ]
  },
  {
   "cell_type": "code",
   "execution_count": null,
   "metadata": {
    "id": "JjEkt488hi8I"
   },
   "outputs": [],
   "source": [
    "x = np.arange(len(performance))\n",
    "width = 0.3\n",
    "metric_name = 'mean_absolute_error'\n",
    "metric_index = lstm_model.metrics_names.index('mean_absolute_error')\n",
    "val_mae = [v[metric_index] for v in val_performance.values()]\n",
    "test_mae = [v[metric_index] for v in performance.values()]\n",
    "\n",
    "plt.ylabel('mean_absolute_error [T (degC), normalized]')\n",
    "plt.bar(x - 0.17, val_mae, width, label='Validation')\n",
    "plt.bar(x + 0.17, test_mae, width, label='Test')\n",
    "plt.xticks(ticks=x, labels=performance.keys(),\n",
    "           rotation=45)\n",
    "_ = plt.legend()"
   ]
  },
  {
   "cell_type": "code",
   "execution_count": null,
   "metadata": {
    "id": "cBMCpsdphi8L"
   },
   "outputs": [],
   "source": [
    "for name, value in performance.items():\n",
    "  print(f'{name:12s}: {value[1]:0.4f}')"
   ]
  },
  {
   "cell_type": "markdown",
   "metadata": {
    "id": "b5rUJ_2YMWzG"
   },
   "source": [
    "### Multi-output models\n",
    "\n",
    "The models so far all predicted a single output feature, `T (degC)`, for a single time step.\n",
    "\n",
    "All of these models can be converted to predict multiple features just by changing the number of units in the output layer and adjusting the training windows to include all features in the `labels` (`example_labels`):"
   ]
  },
  {
   "cell_type": "code",
   "execution_count": null,
   "metadata": {
    "id": "9Gk0Z91xjOwv"
   },
   "outputs": [],
   "source": [
    "single_step_window = WindowGenerator(\n",
    "    # `WindowGenerator` returns all features as labels if you \n",
    "    # don't set the `label_columns` argument.\n",
    "    input_width=1, label_width=1, shift=1)\n",
    "\n",
    "wide_window = WindowGenerator(\n",
    "    input_width=24, label_width=24, shift=1)\n",
    "\n",
    "for example_inputs, example_labels in wide_window.train.take(1):\n",
    "  print(f'Inputs shape (batch, time, features): {example_inputs.shape}')\n",
    "  print(f'Labels shape (batch, time, features): {example_labels.shape}')"
   ]
  },
  {
   "cell_type": "markdown",
   "metadata": {
    "id": "XmcjHfDskX1N"
   },
   "source": [
    "Note above that the `features` axis of the labels now has the same depth as the inputs, instead of `1`."
   ]
  },
  {
   "cell_type": "markdown",
   "metadata": {
    "id": "9k7S5IHNhSNF"
   },
   "source": [
    "#### Baseline\n",
    "\n",
    "The same baseline model (`Baseline`) can be used here, but this time repeating all features instead of selecting a specific `label_index`:"
   ]
  },
  {
   "cell_type": "code",
   "execution_count": null,
   "metadata": {
    "id": "sqqB9W-pjr5i"
   },
   "outputs": [],
   "source": [
    "baseline = Baseline()\n",
    "baseline.compile(loss=tf.losses.MeanSquaredError(),\n",
    "                 metrics=[tf.metrics.MeanAbsoluteError()])"
   ]
  },
  {
   "cell_type": "code",
   "execution_count": null,
   "metadata": {
    "id": "ltQdgaqQjQWu"
   },
   "outputs": [],
   "source": [
    "val_performance = {}\n",
    "performance = {}\n",
    "val_performance['Baseline'] = baseline.evaluate(wide_window.val)\n",
    "performance['Baseline'] = baseline.evaluate(wide_window.test, verbose=0)"
   ]
  },
  {
   "cell_type": "markdown",
   "metadata": {
    "id": "dfbCrf5q3P6n"
   },
   "source": [
    "#### Dense"
   ]
  },
  {
   "cell_type": "code",
   "execution_count": null,
   "metadata": {
    "id": "NdpzH1dYjdIN"
   },
   "outputs": [],
   "source": [
    "dense = tf.keras.Sequential([\n",
    "    tf.keras.layers.Dense(units=64, activation='relu'),\n",
    "    tf.keras.layers.Dense(units=64, activation='relu'),\n",
    "    tf.keras.layers.Dense(units=num_features)\n",
    "])"
   ]
  },
  {
   "cell_type": "code",
   "execution_count": null,
   "metadata": {
    "id": "6uHuU9Cd3PTo"
   },
   "outputs": [],
   "source": [
    "history = compile_and_fit(dense, single_step_window)\n",
    "\n",
    "IPython.display.clear_output()\n",
    "val_performance['Dense'] = dense.evaluate(single_step_window.val)\n",
    "performance['Dense'] = dense.evaluate(single_step_window.test, verbose=0)"
   ]
  },
  {
   "cell_type": "markdown",
   "metadata": {
    "id": "dsc9pur_mHsx"
   },
   "source": [
    "#### RNN\n"
   ]
  },
  {
   "cell_type": "code",
   "execution_count": null,
   "metadata": {
    "id": "4QbGLMyomXaz"
   },
   "outputs": [],
   "source": [
    "%%time\n",
    "wide_window = WindowGenerator(\n",
    "    input_width=24, label_width=24, shift=1)\n",
    "\n",
    "lstm_model = tf.keras.models.Sequential([\n",
    "    # Shape [batch, time, features] => [batch, time, lstm_units]\n",
    "    tf.keras.layers.LSTM(32, return_sequences=True),\n",
    "    # Shape => [batch, time, features]\n",
    "    tf.keras.layers.Dense(units=num_features)\n",
    "])\n",
    "\n",
    "history = compile_and_fit(lstm_model, wide_window)\n",
    "\n",
    "IPython.display.clear_output()\n",
    "val_performance['LSTM'] = lstm_model.evaluate( wide_window.val)\n",
    "performance['LSTM'] = lstm_model.evaluate( wide_window.test, verbose=0)\n",
    "\n",
    "print()"
   ]
  },
  {
   "cell_type": "markdown",
   "metadata": {
    "id": "UwhY2f_Nn0_K"
   },
   "source": [
    "<a id=\"residual\"></a>\n",
    "\n",
    "#### Advanced: Residual connections\n",
    "\n",
    "The `Baseline` model from earlier took advantage of the fact that the sequence doesn't change drastically from time step to time step. Every model trained in this tutorial so far was randomly initialized, and then had to learn that the output is a a small change from the previous time step.\n",
    "\n",
    "While you can get around this issue with careful initialization, it's  simpler to build this into the model structure.\n",
    "\n",
    "It's common in time series analysis to build models that instead of predicting the next value, predict how the value will change in the next time step. Similarly, <a href=\"https://arxiv.org/abs/1512.03385\" class=\"external\">residual networks</a>—or ResNets—in deep learning refer to architectures where each layer adds to the model's accumulating result.\n",
    "\n",
    "That is how you take advantage of the knowledge that the change should be small.\n",
    "\n",
    "![A model with a residual connection](https://github.com/tensorflow/docs/blob/master/site/en/tutorials/structured_data/images/residual.png?raw=1)\n",
    "\n",
    "Essentially, this initializes the model to match the `Baseline`. For this task it helps models converge faster, with slightly better performance."
   ]
  },
  {
   "cell_type": "markdown",
   "metadata": {
    "id": "yP58A_ORx0kM"
   },
   "source": [
    "This approach can be used in conjunction with any model discussed in this tutorial. \n",
    "\n",
    "Here, it is being applied to the LSTM model, note the use of the `tf.initializers.zeros` to ensure that the initial predicted changes are small, and don't overpower the residual connection. There are no symmetry-breaking concerns for the gradients here, since the `zeros` are only used on the last layer."
   ]
  },
  {
   "cell_type": "code",
   "execution_count": null,
   "metadata": {
    "id": "7YlfnDQC22TQ"
   },
   "outputs": [],
   "source": [
    "class ResidualWrapper(tf.keras.Model):\n",
    "  def __init__(self, model):\n",
    "    super().__init__()\n",
    "    self.model = model\n",
    "\n",
    "  def call(self, inputs, *args, **kwargs):\n",
    "    delta = self.model(inputs, *args, **kwargs)\n",
    "\n",
    "    # The prediction for each time step is the input\n",
    "    # from the previous time step plus the delta\n",
    "    # calculated by the model.\n",
    "    return inputs + delta"
   ]
  },
  {
   "cell_type": "code",
   "execution_count": null,
   "metadata": {
    "id": "NNeH02pspc9B"
   },
   "outputs": [],
   "source": [
    "%%time\n",
    "residual_lstm = ResidualWrapper(\n",
    "    tf.keras.Sequential([\n",
    "    tf.keras.layers.LSTM(32, return_sequences=True),\n",
    "    tf.keras.layers.Dense(\n",
    "        num_features,\n",
    "        # The predicted deltas should start small.\n",
    "        # Therefore, initialize the output layer with zeros.\n",
    "        kernel_initializer=tf.initializers.zeros())\n",
    "]))\n",
    "\n",
    "history = compile_and_fit(residual_lstm, wide_window)\n",
    "\n",
    "IPython.display.clear_output()\n",
    "val_performance['Residual LSTM'] = residual_lstm.evaluate(wide_window.val)\n",
    "performance['Residual LSTM'] = residual_lstm.evaluate(wide_window.test, verbose=0)\n",
    "print()"
   ]
  },
  {
   "cell_type": "markdown",
   "metadata": {
    "id": "I42Er9Du6co1"
   },
   "source": [
    "#### Performance"
   ]
  },
  {
   "cell_type": "markdown",
   "metadata": {
    "id": "LZxR38P_6pUi"
   },
   "source": [
    "Here is the overall performance for these multi-output models."
   ]
  },
  {
   "cell_type": "code",
   "execution_count": null,
   "metadata": {
    "id": "6XgTK9tnr7rc"
   },
   "outputs": [],
   "source": [
    "x = np.arange(len(performance))\n",
    "width = 0.3\n",
    "\n",
    "metric_name = 'mean_absolute_error'\n",
    "metric_index = lstm_model.metrics_names.index('mean_absolute_error')\n",
    "val_mae = [v[metric_index] for v in val_performance.values()]\n",
    "test_mae = [v[metric_index] for v in performance.values()]\n",
    "\n",
    "plt.bar(x - 0.17, val_mae, width, label='Validation')\n",
    "plt.bar(x + 0.17, test_mae, width, label='Test')\n",
    "plt.xticks(ticks=x, labels=performance.keys(),\n",
    "           rotation=45)\n",
    "plt.ylabel('MAE (average over all outputs)')\n",
    "_ = plt.legend()"
   ]
  },
  {
   "cell_type": "code",
   "execution_count": null,
   "metadata": {
    "id": "URz3ajCc6kBj"
   },
   "outputs": [],
   "source": [
    "for name, value in performance.items():\n",
    "  print(f'{name:15s}: {value[1]:0.4f}')"
   ]
  },
  {
   "cell_type": "markdown",
   "metadata": {
    "id": "_Vt2MJhNxwPU"
   },
   "source": [
    "The above performances are averaged across all model outputs."
   ]
  },
  {
   "cell_type": "markdown",
   "metadata": {
    "id": "eYokb7Om2YbK"
   },
   "source": [
    "## Multi-step models\n",
    "\n",
    "Both the single-output and multiple-output models in the previous sections made **single time step predictions**, one hour into the future.\n",
    "\n",
    "This section looks at how to expand these models to make **multiple time step predictions**.\n",
    "\n",
    "In a multi-step prediction, the model needs to learn to predict a range of future values. Thus, unlike a single step model, where only a single future point is predicted, a multi-step model predicts a sequence of the future values.\n",
    "\n",
    "There are two rough approaches to this:\n",
    "\n",
    "1. Single shot predictions where the entire time series is predicted at once.\n",
    "2. Autoregressive predictions where the model only makes single step predictions and its output is fed back as its input.\n",
    "\n",
    "In this section all the models will predict **all the features across all output time steps**.\n"
   ]
  },
  {
   "cell_type": "markdown",
   "metadata": {
    "id": "WFsDAwVt4_rq"
   },
   "source": [
    "For the multi-step model, the training data again consists of hourly samples. However, here, the models will learn to predict 24 hours into the future, given 24 hours of the past.\n",
    "\n",
    "Here is a `Window` object that generates these slices from the dataset:"
   ]
  },
  {
   "cell_type": "code",
   "execution_count": null,
   "metadata": {
    "id": "1cFYtsz6XiGw"
   },
   "outputs": [],
   "source": [
    "OUT_STEPS = 24\n",
    "multi_window = WindowGenerator(input_width=24,\n",
    "                               label_width=OUT_STEPS,\n",
    "                               shift=OUT_STEPS)\n",
    "\n",
    "multi_window.plot()\n",
    "multi_window"
   ]
  },
  {
   "cell_type": "markdown",
   "metadata": {
    "id": "5lg8SInh9Jzd"
   },
   "source": [
    "### Baselines"
   ]
  },
  {
   "cell_type": "markdown",
   "metadata": {
    "id": "axwpoWYOApJL"
   },
   "source": [
    "A simple baseline for this task is to repeat the last input time step for the required number of output time steps:\n",
    "\n",
    "![Repeat the last input, for each output step](https://github.com/tensorflow/docs/blob/master/site/en/tutorials/structured_data/images/multistep_last.png?raw=1)"
   ]
  },
  {
   "cell_type": "code",
   "execution_count": null,
   "metadata": {
    "id": "_5iaHSaJ9Rxv"
   },
   "outputs": [],
   "source": [
    "class MultiStepLastBaseline(tf.keras.Model):\n",
    "  def call(self, inputs):\n",
    "    return tf.tile(inputs[:, -1:, :], [1, OUT_STEPS, 1])\n",
    "\n",
    "last_baseline = MultiStepLastBaseline()\n",
    "last_baseline.compile(loss=tf.losses.MeanSquaredError(),\n",
    "                      metrics=[tf.metrics.MeanAbsoluteError()])\n",
    "\n",
    "multi_val_performance = {}\n",
    "multi_performance = {}\n",
    "\n",
    "multi_val_performance['Last'] = last_baseline.evaluate(multi_window.val)\n",
    "multi_performance['Last'] = last_baseline.evaluate(multi_window.test, verbose=0)\n",
    "multi_window.plot(last_baseline)"
   ]
  },
  {
   "cell_type": "markdown",
   "metadata": {
    "id": "AvHZ93ObAfMA"
   },
   "source": [
    "Since this task is to predict 24 hours into the future, given 24 hours of the past, another simple approach is to repeat the previous day, assuming tomorrow will be similar:\n",
    "\n",
    "![Repeat the previous day](https://github.com/tensorflow/docs/blob/master/site/en/tutorials/structured_data/images/multistep_repeat.png?raw=1)"
   ]
  },
  {
   "cell_type": "code",
   "execution_count": null,
   "metadata": {
    "id": "L8Y1uMhGwIRs"
   },
   "outputs": [],
   "source": [
    "class RepeatBaseline(tf.keras.Model):\n",
    "  def call(self, inputs):\n",
    "    return inputs\n",
    "\n",
    "repeat_baseline = RepeatBaseline()\n",
    "repeat_baseline.compile(loss=tf.losses.MeanSquaredError(),\n",
    "                        metrics=[tf.metrics.MeanAbsoluteError()])\n",
    "\n",
    "multi_val_performance['Repeat'] = repeat_baseline.evaluate(multi_window.val)\n",
    "multi_performance['Repeat'] = repeat_baseline.evaluate(multi_window.test, verbose=0)\n",
    "multi_window.plot(repeat_baseline)"
   ]
  },
  {
   "cell_type": "markdown",
   "metadata": {
    "id": "tbndS-ct9C2Q"
   },
   "source": [
    "### Single-shot models\n",
    "\n",
    "One high-level approach to this problem is to use a \"single-shot\" model, where the model makes the entire sequence prediction in a single step.\n",
    "\n",
    "This can be implemented efficiently as a `tf.keras.layers.Dense` with `OUT_STEPS*features` output units. The model just needs to reshape that output to the required `(OUTPUT_STEPS, features)`."
   ]
  },
  {
   "cell_type": "markdown",
   "metadata": {
    "id": "NCKS4m1VKrDQ"
   },
   "source": [
    "#### Linear\n",
    "\n",
    "A simple linear model based on the last input time step does better than either baseline, but is underpowered. The model needs to predict `OUTPUT_STEPS` time steps, from a single input time step with a linear projection. It can only capture a low-dimensional slice of the behavior, likely based mainly on the time of day and time of year.\n",
    "\n",
    "![Predict all timesteps from the last time-step](https://github.com/tensorflow/docs/blob/master/site/en/tutorials/structured_data/images/multistep_dense.png?raw=1)"
   ]
  },
  {
   "cell_type": "code",
   "execution_count": null,
   "metadata": {
    "id": "kfRz_WVhIQcd"
   },
   "outputs": [],
   "source": [
    "multi_linear_model = tf.keras.Sequential([\n",
    "    # Take the last time-step.\n",
    "    # Shape [batch, time, features] => [batch, 1, features]\n",
    "    tf.keras.layers.Lambda(lambda x: x[:, -1:, :]),\n",
    "    # Shape => [batch, 1, out_steps*features]\n",
    "    tf.keras.layers.Dense(OUT_STEPS*num_features,\n",
    "                          kernel_initializer=tf.initializers.zeros()),\n",
    "    # Shape => [batch, out_steps, features]\n",
    "    tf.keras.layers.Reshape([OUT_STEPS, num_features])\n",
    "])\n",
    "\n",
    "history = compile_and_fit(multi_linear_model, multi_window)\n",
    "\n",
    "IPython.display.clear_output()\n",
    "multi_val_performance['Linear'] = multi_linear_model.evaluate(multi_window.val)\n",
    "multi_performance['Linear'] = multi_linear_model.evaluate(multi_window.test, verbose=0)\n",
    "multi_window.plot(multi_linear_model)"
   ]
  },
  {
   "cell_type": "markdown",
   "metadata": {
    "id": "zi2TMHk2IRrh"
   },
   "source": [
    "#### Dense\n",
    "\n",
    "Adding a `tf.keras.layers.Dense` between the input and output gives the linear model more power, but is still only based on a single input time step."
   ]
  },
  {
   "cell_type": "code",
   "execution_count": null,
   "metadata": {
    "id": "jezm-BKaGj91"
   },
   "outputs": [],
   "source": [
    "multi_dense_model = tf.keras.Sequential([\n",
    "    # Take the last time step.\n",
    "    # Shape [batch, time, features] => [batch, 1, features]\n",
    "    tf.keras.layers.Lambda(lambda x: x[:, -1:, :]),\n",
    "    # Shape => [batch, 1, dense_units]\n",
    "    tf.keras.layers.Dense(512, activation='relu'),\n",
    "    # Shape => [batch, out_steps*features]\n",
    "    tf.keras.layers.Dense(OUT_STEPS*num_features,\n",
    "                          kernel_initializer=tf.initializers.zeros()),\n",
    "    # Shape => [batch, out_steps, features]\n",
    "    tf.keras.layers.Reshape([OUT_STEPS, num_features])\n",
    "])\n",
    "\n",
    "history = compile_and_fit(multi_dense_model, multi_window)\n",
    "\n",
    "IPython.display.clear_output()\n",
    "multi_val_performance['Dense'] = multi_dense_model.evaluate(multi_window.val)\n",
    "multi_performance['Dense'] = multi_dense_model.evaluate(multi_window.test, verbose=0)\n",
    "multi_window.plot(multi_dense_model)"
   ]
  },
  {
   "cell_type": "markdown",
   "metadata": {
    "id": "icsBAjCzMaMl"
   },
   "source": [
    "#### CNN"
   ]
  },
  {
   "cell_type": "markdown",
   "metadata": {
    "id": "34lCZrWYNBwd"
   },
   "source": [
    "A convolutional model makes predictions based on a fixed-width history, which may lead to better performance than the dense model since it can see how things are changing over time:\n",
    "\n",
    "![A convolutional model sees how things change over time](https://github.com/tensorflow/docs/blob/master/site/en/tutorials/structured_data/images/multistep_conv.png?raw=1)"
   ]
  },
  {
   "cell_type": "code",
   "execution_count": null,
   "metadata": {
    "id": "0xJoIP6PMWMI"
   },
   "outputs": [],
   "source": [
    "CONV_WIDTH = 3\n",
    "multi_conv_model = tf.keras.Sequential([\n",
    "    # Shape [batch, time, features] => [batch, CONV_WIDTH, features]\n",
    "    tf.keras.layers.Lambda(lambda x: x[:, -CONV_WIDTH:, :]),\n",
    "    # Shape => [batch, 1, conv_units]\n",
    "    tf.keras.layers.Conv1D(256, activation='relu', kernel_size=(CONV_WIDTH)),\n",
    "    # Shape => [batch, 1,  out_steps*features]\n",
    "    tf.keras.layers.Dense(OUT_STEPS*num_features,\n",
    "                          kernel_initializer=tf.initializers.zeros()),\n",
    "    # Shape => [batch, out_steps, features]\n",
    "    tf.keras.layers.Reshape([OUT_STEPS, num_features])\n",
    "])\n",
    "\n",
    "history = compile_and_fit(multi_conv_model, multi_window)\n",
    "\n",
    "IPython.display.clear_output()\n",
    "\n",
    "multi_val_performance['Conv'] = multi_conv_model.evaluate(multi_window.val)\n",
    "multi_performance['Conv'] = multi_conv_model.evaluate(multi_window.test, verbose=0)\n",
    "multi_window.plot(multi_conv_model)"
   ]
  },
  {
   "cell_type": "markdown",
   "metadata": {
    "id": "weBjeZAFJOP4"
   },
   "source": [
    "#### RNN"
   ]
  },
  {
   "cell_type": "markdown",
   "metadata": {
    "id": "8022xOKxOO92"
   },
   "source": [
    "A recurrent model can learn to use a long history of inputs, if it's relevant to the predictions the model is making. Here the model will accumulate internal state for 24 hours, before making a single prediction for the next 24 hours.\n",
    "\n",
    "In this single-shot format, the LSTM only needs to produce an output at the last time step, so set `return_sequences=False` in `tf.keras.layers.LSTM`.\n",
    "\n",
    "![The LSTM accumulates state over the input window, and makes a single prediction for the next 24 hours](https://github.com/tensorflow/docs/blob/master/site/en/tutorials/structured_data/images/multistep_lstm.png?raw=1)\n"
   ]
  },
  {
   "cell_type": "code",
   "execution_count": null,
   "metadata": {
    "id": "Bf1ks6RTzF64"
   },
   "outputs": [],
   "source": [
    "multi_lstm_model = tf.keras.Sequential([\n",
    "    # Shape [batch, time, features] => [batch, lstm_units].\n",
    "    # Adding more `lstm_units` just overfits more quickly.\n",
    "    tf.keras.layers.LSTM(32, return_sequences=False),\n",
    "    # Shape => [batch, out_steps*features].\n",
    "    tf.keras.layers.Dense(OUT_STEPS*num_features,\n",
    "                          kernel_initializer=tf.initializers.zeros()),\n",
    "    # Shape => [batch, out_steps, features].\n",
    "    tf.keras.layers.Reshape([OUT_STEPS, num_features])\n",
    "])\n",
    "\n",
    "history = compile_and_fit(multi_lstm_model, multi_window)\n",
    "\n",
    "IPython.display.clear_output()\n",
    "\n",
    "multi_val_performance['LSTM'] = multi_lstm_model.evaluate(multi_window.val)\n",
    "multi_performance['LSTM'] = multi_lstm_model.evaluate(multi_window.test, verbose=0)\n",
    "multi_window.plot(multi_lstm_model)"
   ]
  },
  {
   "cell_type": "markdown",
   "metadata": {
    "id": "d5n-1cDW12Vo"
   },
   "source": [
    "### Advanced: Autoregressive model\n",
    "\n",
    "The above models all predict the entire output sequence in a single step.\n",
    "\n",
    "In some cases it may be helpful for the model to decompose this prediction into individual time steps. Then, each model's output can be fed back into itself at each step and predictions can be made conditioned on the previous one, like in the classic <a href=\"https://arxiv.org/abs/1308.0850\" class=\"external\">Generating Sequences With Recurrent Neural Networks</a>.\n",
    "\n",
    "One clear advantage to this style of model is that it can be set up to produce output with a varying length.\n",
    "\n",
    "You could take any of the single-step multi-output models trained in the first half of this tutorial and run in an autoregressive feedback loop, but here you'll focus on building a model that's been explicitly trained to do that.\n",
    "\n",
    "![Feedback a model's output to its input](https://github.com/tensorflow/docs/blob/master/site/en/tutorials/structured_data/images/multistep_autoregressive.png?raw=1)"
   ]
  },
  {
   "cell_type": "markdown",
   "metadata": {
    "id": "PKRreBbULRXY"
   },
   "source": [
    "#### RNN\n",
    "\n",
    "This tutorial only builds an autoregressive RNN model, but this pattern could be applied to any model that was designed to output a single time step.\n",
    "\n",
    "The model will have the same basic form as the single-step LSTM models from earlier: a `tf.keras.layers.LSTM` layer followed by a `tf.keras.layers.Dense` layer that converts the `LSTM` layer's outputs to model predictions.\n",
    "\n",
    "A `tf.keras.layers.LSTM` is a `tf.keras.layers.LSTMCell` wrapped in the higher level `tf.keras.layers.RNN` that manages the state and sequence results for you (Check out the [Recurrent Neural Networks (RNN) with Keras](https://www.tensorflow.org/guide/keras/rnn) guide for details).\n",
    "\n",
    "In this case, the model has to manually manage the inputs for each step, so it uses `tf.keras.layers.LSTMCell` directly for the lower level, single time step interface."
   ]
  },
  {
   "cell_type": "code",
   "execution_count": null,
   "metadata": {
    "id": "s5tz3Nu0R5JG"
   },
   "outputs": [],
   "source": [
    "class FeedBack(tf.keras.Model):\n",
    "  def __init__(self, units, out_steps):\n",
    "    super().__init__()\n",
    "    self.out_steps = out_steps\n",
    "    self.units = units\n",
    "    self.lstm_cell = tf.keras.layers.LSTMCell(units)\n",
    "    # Also wrap the LSTMCell in an RNN to simplify the `warmup` method.\n",
    "    self.lstm_rnn = tf.keras.layers.RNN(self.lstm_cell, return_state=True)\n",
    "    self.dense = tf.keras.layers.Dense(num_features)"
   ]
  },
  {
   "cell_type": "code",
   "execution_count": null,
   "metadata": {
    "id": "2OXVM9G1U7xR"
   },
   "outputs": [],
   "source": [
    "feedback_model = FeedBack(units=32, out_steps=OUT_STEPS)"
   ]
  },
  {
   "cell_type": "markdown",
   "metadata": {
    "id": "ph5uFSfTUNho"
   },
   "source": [
    "The first method this model needs is a `warmup` method to initialize its internal state based on the inputs. Once trained, this state will capture the relevant parts of the input history. This is equivalent to the single-step `LSTM` model from earlier:"
   ]
  },
  {
   "cell_type": "code",
   "execution_count": null,
   "metadata": {
    "id": "vM2K_LLdRjDZ"
   },
   "outputs": [],
   "source": [
    "def warmup(self, inputs):\n",
    "  # inputs.shape => (batch, time, features)\n",
    "  # x.shape => (batch, lstm_units)\n",
    "  x, *state = self.lstm_rnn(inputs)\n",
    "\n",
    "  # predictions.shape => (batch, features)\n",
    "  prediction = self.dense(x)\n",
    "  return prediction, state\n",
    "\n",
    "FeedBack.warmup = warmup"
   ]
  },
  {
   "cell_type": "markdown",
   "metadata": {
    "id": "6JkaSYaZ9eB7"
   },
   "source": [
    "This method returns a single time-step prediction and the internal state of the `LSTM`:"
   ]
  },
  {
   "cell_type": "code",
   "execution_count": null,
   "metadata": {
    "id": "w9Fz6NTKXXwU"
   },
   "outputs": [],
   "source": [
    "prediction, state = feedback_model.warmup(multi_window.example[0])\n",
    "prediction.shape"
   ]
  },
  {
   "cell_type": "markdown",
   "metadata": {
    "id": "S_ZdvPjdX3y3"
   },
   "source": [
    "With the `RNN`'s state, and an initial prediction you can now continue iterating the model feeding the predictions at each step back as the input.\n",
    "\n",
    "The simplest approach for collecting the output predictions is to use a Python list and a `tf.stack` after the loop."
   ]
  },
  {
   "cell_type": "markdown",
   "metadata": {
    "id": "yotTad3nZXQU"
   },
   "source": [
    "Note: Stacking a Python list like this only works with eager-execution, using `Model.compile(..., run_eagerly=True)` for training, or with a fixed length output. For a dynamic output length, you would need to use a `tf.TensorArray` instead of a Python list, and `tf.range` instead of the Python `range`."
   ]
  },
  {
   "cell_type": "code",
   "execution_count": null,
   "metadata": {
    "id": "g1GRDu3mZtr9"
   },
   "outputs": [],
   "source": [
    "def call(self, inputs, training=None):\n",
    "  # Use a TensorArray to capture dynamically unrolled outputs.\n",
    "  predictions = []\n",
    "  # Initialize the LSTM state.\n",
    "  prediction, state = self.warmup(inputs)\n",
    "\n",
    "  # Insert the first prediction.\n",
    "  predictions.append(prediction)\n",
    "\n",
    "  # Run the rest of the prediction steps.\n",
    "  for n in range(1, self.out_steps):\n",
    "    # Use the last prediction as input.\n",
    "    x = prediction\n",
    "    # Execute one lstm step.\n",
    "    x, state = self.lstm_cell(x, states=state,\n",
    "                              training=training)\n",
    "    # Convert the lstm output to a prediction.\n",
    "    prediction = self.dense(x)\n",
    "    # Add the prediction to the output.\n",
    "    predictions.append(prediction)\n",
    "\n",
    "  # predictions.shape => (time, batch, features)\n",
    "  predictions = tf.stack(predictions)\n",
    "  # predictions.shape => (batch, time, features)\n",
    "  predictions = tf.transpose(predictions, [1, 0, 2])\n",
    "  return predictions\n",
    "\n",
    "FeedBack.call = call"
   ]
  },
  {
   "cell_type": "markdown",
   "metadata": {
    "id": "Ubop-YWp15XW"
   },
   "source": [
    "Test run this model on the example inputs:"
   ]
  },
  {
   "cell_type": "code",
   "execution_count": null,
   "metadata": {
    "id": "Xja83zEYaM2D"
   },
   "outputs": [],
   "source": [
    "print('Output shape (batch, time, features): ', feedback_model(multi_window.example[0]).shape)"
   ]
  },
  {
   "cell_type": "markdown",
   "metadata": {
    "id": "qMs0rYB8be9M"
   },
   "source": [
    "Now, train the model:"
   ]
  },
  {
   "cell_type": "code",
   "execution_count": null,
   "metadata": {
    "id": "VBRVG2hnNyrO"
   },
   "outputs": [],
   "source": [
    "history = compile_and_fit(feedback_model, multi_window)\n",
    "\n",
    "IPython.display.clear_output()\n",
    "\n",
    "multi_val_performance['AR LSTM'] = feedback_model.evaluate(multi_window.val)\n",
    "multi_performance['AR LSTM'] = feedback_model.evaluate(multi_window.test, verbose=0)\n",
    "multi_window.plot(feedback_model)"
   ]
  },
  {
   "cell_type": "markdown",
   "metadata": {
    "id": "hGjcJsAQJUkI"
   },
   "source": [
    "### Performance"
   ]
  },
  {
   "cell_type": "markdown",
   "metadata": {
    "id": "sODAwr2ndtDB"
   },
   "source": [
    "There are clearly diminishing returns as a function of model complexity on this problem:"
   ]
  },
  {
   "cell_type": "code",
   "execution_count": null,
   "metadata": {
    "id": "WZwWBA8S6B3L"
   },
   "outputs": [],
   "source": [
    "x = np.arange(len(multi_performance))\n",
    "width = 0.3\n",
    "\n",
    "metric_name = 'mean_absolute_error'\n",
    "metric_index = lstm_model.metrics_names.index('mean_absolute_error')\n",
    "val_mae = [v[metric_index] for v in multi_val_performance.values()]\n",
    "test_mae = [v[metric_index] for v in multi_performance.values()]\n",
    "\n",
    "plt.bar(x - 0.17, val_mae, width, label='Validation')\n",
    "plt.bar(x + 0.17, test_mae, width, label='Test')\n",
    "plt.xticks(ticks=x, labels=multi_performance.keys(),\n",
    "           rotation=45)\n",
    "plt.ylabel(f'MAE (average over all times and outputs)')\n",
    "_ = plt.legend()"
   ]
  },
  {
   "cell_type": "markdown",
   "metadata": {
    "id": "Zq3hUsedCEmJ"
   },
   "source": [
    "The metrics for the multi-output models in the first half of this tutorial show the performance averaged across all output features. These performances are similar but also averaged across output time steps. "
   ]
  },
  {
   "cell_type": "code",
   "execution_count": null,
   "metadata": {
    "id": "jKq3eAIvH4Db"
   },
   "outputs": [],
   "source": [
    "for name, value in multi_performance.items():\n",
    "  print(f'{name:8s}: {value[1]:0.4f}')"
   ]
  },
  {
   "cell_type": "markdown",
   "metadata": {
    "id": "MpBFwfnaHP23"
   },
   "source": [
    "The gains achieved going from a dense model to convolutional and recurrent models are only a few percent (if any), and the autoregressive model performed clearly worse. So these more complex approaches may not be worth while on **this** problem, but there was no way to know without trying, and these models could be helpful for **your** problem."
   ]
  },
  {
   "cell_type": "markdown",
   "metadata": {
    "id": "pOzaIRYBhqwg"
   },
   "source": [
    "## Next steps\n",
    "\n",
    "This tutorial was a quick introduction to time series forecasting using TensorFlow.\n",
    "\n",
    "To learn more, refer to:\n",
    "\n",
    "- Chapter 15 of <a href=\"https://www.oreilly.com/library/view/hands-on-machine-learning/9781492032632/\" class=\"external\">Hands-on Machine Learning with Scikit-Learn, Keras, and TensorFlow</a>, 2nd Edition.\n",
    "- Chapter 6 of <a href=\"https://www.manning.com/books/deep-learning-with-python\" class=\"external\">Deep Learning with Python</a>.\n",
    "- Lesson 8 of <a href=\"https://www.udacity.com/course/intro-to-tensorflow-for-deep-learning--ud187\" class=\"external\">Udacity's intro to TensorFlow for deep learning</a>, including the <a href=\"https://github.com/tensorflow/examples/tree/master/courses/udacity_intro_to_tensorflow_for_deep_learning\" class=\"external\">exercise notebooks</a>.\n",
    "\n",
    "Also, remember that you can implement any <a href=\"https://otexts.com/fpp2/index.html\" class=\"external\">classical time series model</a> in TensorFlow—this tutorial just focuses on TensorFlow's built-in functionality.\n"
   ]
  },
  {
   "cell_type": "code",
   "execution_count": null,
   "metadata": {},
   "outputs": [],
   "source": []
  },
  {
   "cell_type": "code",
   "execution_count": null,
   "metadata": {},
   "outputs": [],
   "source": []
  }
 ],
 "metadata": {
  "accelerator": "GPU",
  "colab": {
   "collapsed_sections": [],
   "name": "Copy of time_series.ipynb",
   "provenance": [],
   "toc_visible": true
  },
  "kernelspec": {
   "display_name": "Python 3",
   "language": "python",
   "name": "python3"
  },
  "language_info": {
   "codemirror_mode": {
    "name": "ipython",
    "version": 3
   },
   "file_extension": ".py",
   "mimetype": "text/x-python",
   "name": "python",
   "nbconvert_exporter": "python",
   "pygments_lexer": "ipython3",
   "version": "3.8.8"
  }
 },
 "nbformat": 4,
 "nbformat_minor": 1
}
