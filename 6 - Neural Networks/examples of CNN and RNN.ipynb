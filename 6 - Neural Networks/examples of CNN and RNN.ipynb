{
 "cells": [
  {
   "cell_type": "markdown",
   "metadata": {
    "id": "izJch3vfcs0a"
   },
   "source": [
    "# Deep Learning and Neural Networks \n"
   ]
  },
  {
   "cell_type": "markdown",
   "metadata": {
    "id": "kEg4H8vN_yBo"
   },
   "source": [
    "## Deep learning / Deep neural network\n",
    "\n",
    "Deep learning is a group of machine learning algorithms that specifically focuses on utilizing neural network architecture.\n",
    "The neural network approach attempt to mimic the function of biological neurons by stacking layers of neuron units that can pass information.\n",
    "The network will pass the inforamtion back and forth to adjust the weights of neuron units using backpropagation algorithm based on the objective function (loss function, criterion) that we provide.\n",
    "\n",
    "The advantages of using deep learning approach includes:\n",
    "- Modularization\n",
    "- Universality theorem (one hidden layer is enough, but much effective while deeper)\n",
    "- End-to-end learning (less feature engineering---if you don't know what features are important at all)\n",
    "\n",
    "![adv](https://raw.githubusercontent.com/ckbjimmy/2018_mlw/master/img/adv.png)\n",
    "\n",
    "[Source] Courtesy by Prof. HY Lee (NTU)\n",
    "\n",
    "However, there are still some cons of using deep neural networks such as interpretability and heavy computation.\n",
    "\n",
    "As a promising algorithmic approach for predictive analytics (and also the hype of deep learning), we would like to introduce you how to use deep neural networks for clinical machine learning problems.\n",
    "\n",
    "The mathematical details of neural network approach will not be emphasized in the tutorial.\n",
    "The foundation of deep neural network is using **gradient descent** to update parameters, and all gradients are computed by **backpropagation algorithm**.\n",
    "Please refer to [Deep Learning book by Goodfellow et al.](http:/www.deeplearningbook.org/) for detailed information.  \n",
    "\n",
    "To build the neural network without too much efforts in python, we adopt the high-level python deep learning API, **Keras**, to train neural networks.\n",
    "\n",
    "After going through this tutorial, we hope that you will understand how to use keras to design and build simple neural network for classification problems, and how to evaluate the keras neural network models.\n",
    "\n",
    "In this tutorial, we directly use the most complicated data, PhysioNet dataset, as an example to demonstrate the performance of deep learning models.\n",
    "Please refer to tutorial Part I for all details of data preprocessing."
   ]
  },
  {
   "cell_type": "code",
   "execution_count": 1,
   "metadata": {
    "colab": {
     "base_uri": "https://localhost:8080/"
    },
    "id": "unXxMfScnBWh",
    "outputId": "51f11ec6-2e7c-4db8-e60f-ff3a2aa022a1"
   },
   "outputs": [],
   "source": [
    "! pip install -q -r requirements.txt"
   ]
  },
  {
   "cell_type": "code",
   "execution_count": 2,
   "metadata": {
    "id": "xh-d9eYuCr1x"
   },
   "outputs": [],
   "source": [
    "import numpy as np\n",
    "import pandas as pd\n",
    "from sklearn.impute import SimpleImputer as Imputer\n",
    "from sklearn.preprocessing import StandardScaler\n",
    "from sklearn.preprocessing import LabelEncoder\n",
    "from sklearn.model_selection import train_test_split\n",
    "\n",
    "df = pd.read_csv('https://raw.githubusercontent.com/ckbjimmy/2018_mlw/master/data/PhysionetChallenge2012_data.csv')\n",
    "X = df.iloc[:, 1:].values\n",
    "y = df.iloc[:, 0].values"
   ]
  },
  {
   "cell_type": "markdown",
   "metadata": {
    "id": "FevajKnfDnJ6"
   },
   "source": [
    "Before training neural network, we need to do some transformations for our data."
   ]
  },
  {
   "cell_type": "code",
   "execution_count": 3,
   "metadata": {
    "id": "Ge6DRpYGEYAH"
   },
   "outputs": [],
   "source": [
    "X = Imputer(missing_values=np.nan, strategy='mean').fit(X).transform(X)\n",
    "X = StandardScaler().fit(X).transform(X)\n",
    "\n",
    "# Encoding Categorical Data\n",
    "labelencoder = LabelEncoder()\n",
    "y = labelencoder.fit_transform(y)\n",
    "\n",
    "X_train, X_test, y_train, y_test = train_test_split(X, y, test_size = 0.2, random_state = 42)"
   ]
  },
  {
   "cell_type": "markdown",
   "metadata": {
    "id": "PKcLH75tuGRw"
   },
   "source": [
    "Next, we import keras modules and construct a very simple three-layer neural network architecture with input, hidden and output layers."
   ]
  },
  {
   "cell_type": "code",
   "execution_count": 7,
   "metadata": {},
   "outputs": [
    {
     "data": {
      "text/plain": [
       "'2.6.0'"
      ]
     },
     "execution_count": 7,
     "metadata": {},
     "output_type": "execute_result"
    }
   ],
   "source": [
    "import keras\n",
    "from keras.models import Sequential\n",
    "from keras.layers import Dense\n",
    "from keras.utils.vis_utils import plot_model\n",
    "from IPython.display import Image\n",
    "keras.__version__"
   ]
  },
  {
   "cell_type": "markdown",
   "metadata": {},
   "source": [
    "There are many variants of deep neural networks.\n",
    "\n",
    "![nn](https://raw.githubusercontent.com/ckbjimmy/2018_mlw/master/img/nn.png)\n",
    "\n",
    "[Source] Deep Learning, Chapter 1 (Goodfellow, 2016)\n",
    "\n",
    "We will start from the simplest one, feedforward neural network, which is similar to the neural network architecture shown in the following figure.\n",
    "\n",
    "![nn](https://cdn-images-1.medium.com/max/1600/1*QVIyc5HnGDWTNX3m-nIm9w.png)\n",
    "\n",
    "[Source] https://medium.com/@curiousily/tensorflow-for-hackers-part-iv-neural-network-from-scratch-1a4f504dfa8\n",
    "\n",
    "In our first neural network model, we will construct the one that\n",
    "\n",
    "- take the input and pass them into the 64-dimension first hidden layer, \n",
    "- take the output of the first layer and pass them into the  8-dimension second layer,\n",
    "- take the output of the second layer and pass them into the last layer for prediction,\n",
    "- the output of the last layer is the prediction.\n",
    "\n",
    "One more hidden layer than the above figure.\n",
    "\n",
    "In keras, we use `Sequential()` as the skeleton of the neural network model, and sequentially add the layer on it.\n",
    "After building the layers, we need to compile the model and defined the optimizer, loss function and evaluation metrics to optimize our model.\n",
    "In this example, we use the optimizer called `adam`, to minimize the value of loss function `binary_crossentropy` (if you work on the regression problem, remember to change to `mse`), and judge by accuracy."
   ]
  },
  {
   "cell_type": "code",
   "execution_count": 8,
   "metadata": {
    "colab": {
     "base_uri": "https://localhost:8080/",
     "height": 677
    },
    "id": "kK615g3AErss",
    "outputId": "2ec7f3e9-7d97-4f26-ff8e-d905a427ca1d"
   },
   "outputs": [
    {
     "name": "stdout",
     "output_type": "stream",
     "text": [
      "Model: \"sequential_1\"\n",
      "_________________________________________________________________\n",
      "Layer (type)                 Output Shape              Param #   \n",
      "=================================================================\n",
      "dense_3 (Dense)              (None, 64)                11712     \n",
      "_________________________________________________________________\n",
      "dense_4 (Dense)              (None, 8)                 520       \n",
      "_________________________________________________________________\n",
      "dense_5 (Dense)              (None, 1)                 9         \n",
      "=================================================================\n",
      "Total params: 12,241\n",
      "Trainable params: 12,241\n",
      "Non-trainable params: 0\n",
      "_________________________________________________________________\n",
      "None\n",
      "('You must install pydot (`pip install pydot`) and install graphviz (see instructions at https://graphviz.gitlab.io/download/) ', 'for plot_model/model_to_dot to work.')\n"
     ]
    }
   ],
   "source": [
    "# initialize neural network\n",
    "clf = Sequential()\n",
    "\n",
    "# first hidden layer for input data\n",
    "clf.add(Dense(units=64, \n",
    "              kernel_initializer='uniform',\n",
    "              activation='relu', \n",
    "              input_dim=X.shape[1]))\n",
    "\n",
    "# second hidden layer\n",
    "clf.add(Dense(units=8, \n",
    "              kernel_initializer='uniform', \n",
    "              activation='relu'))\n",
    "\n",
    "# the last hidden layer for output\n",
    "clf.add(Dense(units=1, \n",
    "              kernel_initializer='uniform', \n",
    "              activation='sigmoid'))\n",
    "\n",
    "# compile the network\n",
    "clf.compile(optimizer='adam', \n",
    "            loss='binary_crossentropy', \n",
    "            metrics=['accuracy'])\n",
    "\n",
    "\n",
    "print(clf.summary())"
   ]
  },
  {
   "cell_type": "markdown",
   "metadata": {
    "id": "N3dHEHTDWvy8"
   },
   "source": [
    "Then, it's time to train the model!\n",
    "Smaller batch size usually yields better performance, yet with slow speed.\n",
    "The epoch size of $n$ means that the algorithm will go through whole dataset $n$ times.\n",
    "\n",
    "After training, we visualize the training history and see how the accuracy and loss went during the process.\n",
    "We also use confusion matrix and **pycm** for computing the performance.\n"
   ]
  },
  {
   "cell_type": "code",
   "execution_count": 9,
   "metadata": {
    "colab": {
     "base_uri": "https://localhost:8080/"
    },
    "id": "qlPbkMOpVWPN",
    "outputId": "b91ec768-4837-461b-cfa1-02837d288a6a"
   },
   "outputs": [
    {
     "name": "stdout",
     "output_type": "stream",
     "text": [
      "Epoch 1/20\n",
      "26/26 [==============================] - 1s 7ms/step - loss: 0.6785 - accuracy: 0.8195 - val_loss: 0.6459 - val_accuracy: 0.8734\n",
      "Epoch 2/20\n",
      "26/26 [==============================] - 0s 2ms/step - loss: 0.5737 - accuracy: 0.8625 - val_loss: 0.4523 - val_accuracy: 0.8734\n",
      "Epoch 3/20\n",
      "26/26 [==============================] - 0s 2ms/step - loss: 0.3906 - accuracy: 0.8625 - val_loss: 0.3278 - val_accuracy: 0.8734\n",
      "Epoch 4/20\n",
      "26/26 [==============================] - 0s 2ms/step - loss: 0.3331 - accuracy: 0.8625 - val_loss: 0.3078 - val_accuracy: 0.8734\n",
      "Epoch 5/20\n",
      "26/26 [==============================] - 0s 2ms/step - loss: 0.3138 - accuracy: 0.8625 - val_loss: 0.2986 - val_accuracy: 0.8734\n",
      "Epoch 6/20\n",
      "26/26 [==============================] - 0s 2ms/step - loss: 0.3010 - accuracy: 0.8625 - val_loss: 0.2923 - val_accuracy: 0.8734\n",
      "Epoch 7/20\n",
      "26/26 [==============================] - 0s 2ms/step - loss: 0.2923 - accuracy: 0.8625 - val_loss: 0.2890 - val_accuracy: 0.8734\n",
      "Epoch 8/20\n",
      "26/26 [==============================] - 0s 2ms/step - loss: 0.2832 - accuracy: 0.8625 - val_loss: 0.2874 - val_accuracy: 0.8734\n",
      "Epoch 9/20\n",
      "26/26 [==============================] - 0s 2ms/step - loss: 0.2753 - accuracy: 0.8699 - val_loss: 0.2849 - val_accuracy: 0.8781\n",
      "Epoch 10/20\n",
      "26/26 [==============================] - 0s 2ms/step - loss: 0.2661 - accuracy: 0.8863 - val_loss: 0.2860 - val_accuracy: 0.8797\n",
      "Epoch 11/20\n",
      "26/26 [==============================] - 0s 2ms/step - loss: 0.2562 - accuracy: 0.8938 - val_loss: 0.2847 - val_accuracy: 0.8828\n",
      "Epoch 12/20\n",
      "26/26 [==============================] - 0s 2ms/step - loss: 0.2467 - accuracy: 0.8988 - val_loss: 0.2858 - val_accuracy: 0.8813\n",
      "Epoch 13/20\n",
      "26/26 [==============================] - 0s 2ms/step - loss: 0.2383 - accuracy: 0.9031 - val_loss: 0.2909 - val_accuracy: 0.8781\n",
      "Epoch 14/20\n",
      "26/26 [==============================] - 0s 2ms/step - loss: 0.2289 - accuracy: 0.9074 - val_loss: 0.2920 - val_accuracy: 0.8766\n",
      "Epoch 15/20\n",
      "26/26 [==============================] - 0s 2ms/step - loss: 0.2223 - accuracy: 0.9109 - val_loss: 0.2989 - val_accuracy: 0.8766\n",
      "Epoch 16/20\n",
      "26/26 [==============================] - 0s 2ms/step - loss: 0.2159 - accuracy: 0.9133 - val_loss: 0.3013 - val_accuracy: 0.8797\n",
      "Epoch 17/20\n",
      "26/26 [==============================] - 0s 2ms/step - loss: 0.2088 - accuracy: 0.9164 - val_loss: 0.3040 - val_accuracy: 0.8734\n",
      "Epoch 18/20\n",
      "26/26 [==============================] - 0s 2ms/step - loss: 0.2017 - accuracy: 0.9207 - val_loss: 0.3083 - val_accuracy: 0.8750\n",
      "Epoch 19/20\n",
      "26/26 [==============================] - 0s 2ms/step - loss: 0.1957 - accuracy: 0.9219 - val_loss: 0.3121 - val_accuracy: 0.8719\n",
      "Epoch 20/20\n",
      "26/26 [==============================] - 0s 2ms/step - loss: 0.1890 - accuracy: 0.9258 - val_loss: 0.3180 - val_accuracy: 0.8719\n"
     ]
    }
   ],
   "source": [
    "# fit model\n",
    "history = clf.fit(x=X_train, y=y_train,\n",
    "                    validation_split=0.2,  \n",
    "                    batch_size=100,\n",
    "                    epochs=20, \n",
    "                    verbose=1)"
   ]
  },
  {
   "cell_type": "code",
   "execution_count": 10,
   "metadata": {
    "colab": {
     "base_uri": "https://localhost:8080/",
     "height": 573
    },
    "id": "M_DCM8ZzEupD",
    "outputId": "88fe133e-c44a-41ff-8733-74da0db0c11b"
   },
   "outputs": [
    {
     "data": {
      "image/png": "[encoded data removed]",
      "text/plain": [
       "<Figure size 432x288 with 1 Axes>"
      ]
     },
     "metadata": {
      "needs_background": "light"
     },
     "output_type": "display_data"
    },
    {
     "data": {
      "image/png": "[encoded data removed]",
      "text/plain": [
       "<Figure size 432x288 with 1 Axes>"
      ]
     },
     "metadata": {
      "needs_background": "light"
     },
     "output_type": "display_data"
    }
   ],
   "source": [
    "import matplotlib.pyplot as plt  \n",
    "def show_train_history(train_history, train, validation):  \n",
    "    plt.plot(train_history.history[train])   \n",
    "    plt.plot(train_history.history[validation])  \n",
    "    plt.title('Train History')  \n",
    "    plt.ylabel(train)  \n",
    "    plt.xlabel('Epoch')  \n",
    "    plt.legend(['train', 'validation'], loc='upper left')  \n",
    "    plt.show() \n",
    "    \n",
    "show_train_history(history, 'accuracy', 'val_accuracy')\n",
    "show_train_history(history, 'loss', 'val_loss')"
   ]
  },
  {
   "cell_type": "code",
   "execution_count": 11,
   "metadata": {
    "colab": {
     "base_uri": "https://localhost:8080/"
    },
    "id": "CDwBbG8UEwek",
    "outputId": "c33bbf90-7730-4a63-fafc-95696c5d68f7"
   },
   "outputs": [
    {
     "name": "stdout",
     "output_type": "stream",
     "text": [
      "[[654  25]\n",
      " [ 78  43]]\n"
     ]
    }
   ],
   "source": [
    "# we use the trained model to predict the label of test set\n",
    "y_pred = clf.predict(X_test)\n",
    "y_pred = [1 if i[0] > 0.5 else 0 for i in y_pred]\n",
    "\n",
    "# show the performance using confusion matrix\n",
    "from sklearn.metrics import confusion_matrix\n",
    "cm = confusion_matrix(y_test, y_pred) \n",
    "print(cm)"
   ]
  },
  {
   "cell_type": "code",
   "execution_count": 12,
   "metadata": {
    "colab": {
     "base_uri": "https://localhost:8080/"
    },
    "id": "kasfl-8OGTUj",
    "outputId": "c0f66948-96c2-4fd7-cfd2-e7d8fb26aa48"
   },
   "outputs": [
    {
     "name": "stdout",
     "output_type": "stream",
     "text": [
      "Predict   0         1         \n",
      "Actual\n",
      "0         654       25        \n",
      "\n",
      "1         78        43        \n",
      "\n",
      "\n",
      "\n",
      "\n",
      "\n",
      "Overall Statistics : \n",
      "\n",
      "95% CI                                                            (0.84804,0.89446)\n",
      "ACC Macro                                                         0.87125\n",
      "ARI                                                               0.32491\n",
      "AUNP                                                              0.65928\n",
      "AUNU                                                              0.65928\n",
      "Bangdiwala B                                                      0.85019\n",
      "Bennett S                                                         0.7425\n",
      "CBA                                                               0.62441\n",
      "CSI                                                               0.42217\n",
      "Chi-Squared                                                       133.99502\n",
      "Chi-Squared DF                                                    1\n",
      "Conditional Entropy                                               0.33509\n",
      "Cramer V                                                          0.40926\n",
      "Cross Entropy                                                     0.64668\n",
      "F1 Macro                                                          0.69101\n",
      "F1 Micro                                                          0.87125\n",
      "FNR Macro                                                         0.34072\n",
      "FNR Micro                                                         0.12875\n",
      "FPR Macro                                                         0.34072\n",
      "FPR Micro                                                         0.12875\n",
      "Gwet AC1                                                          0.83737\n",
      "Hamming Loss                                                      0.12875\n",
      "Joint Entropy                                                     0.94805\n",
      "KL Divergence                                                     0.03372\n",
      "Kappa                                                             0.38847\n",
      "Kappa 95% CI                                                      (0.27823,0.49871)\n",
      "Kappa No Prevalence                                               0.7425\n",
      "Kappa Standard Error                                              0.05624\n",
      "Kappa Unbiased                                                    0.38203\n",
      "Krippendorff Alpha                                                0.38241\n",
      "Lambda A                                                          0.14876\n",
      "Lambda B                                                          0.0\n",
      "Mutual Information                                                0.08447\n",
      "NIR                                                               0.84875\n",
      "Overall ACC                                                       0.87125\n",
      "Overall CEN                                                       0.4024\n",
      "Overall J                                                         (1.15846,0.57923)\n",
      "Overall MCC                                                       0.40926\n",
      "Overall MCEN                                                      0.32059\n",
      "Overall RACC                                                      0.78946\n",
      "Overall RACCU                                                     0.79166\n",
      "P-Value                                                           0.03992\n",
      "PPV Macro                                                         0.7629\n",
      "PPV Micro                                                         0.87125\n",
      "Pearson C                                                         0.37877\n",
      "Phi-Squared                                                       0.16749\n",
      "RCI                                                               0.1378\n",
      "RR                                                                400.0\n",
      "Reference Entropy                                                 0.61296\n",
      "Response Entropy                                                  0.41956\n",
      "SOA1(Landis & Koch)                                               Fair\n",
      "SOA2(Fleiss)                                                      Poor\n",
      "SOA3(Altman)                                                      Fair\n",
      "SOA4(Cicchetti)                                                   Poor\n",
      "SOA5(Cramer)                                                      Relatively Strong\n",
      "SOA6(Matthews)                                                    Weak\n",
      "Scott PI                                                          0.38203\n",
      "Standard Error                                                    0.01184\n",
      "TNR Macro                                                         0.65928\n",
      "TNR Micro                                                         0.87125\n",
      "TPR Macro                                                         0.65928\n",
      "TPR Micro                                                         0.87125\n",
      "Zero-one Loss                                                     103\n",
      "\n",
      "Class Statistics :\n",
      "\n",
      "Classes                                                           0             1             \n",
      "ACC(Accuracy)                                                     0.87125       0.87125       \n",
      "AGF(Adjusted F-score)                                             0.7203        0.59422       \n",
      "AGM(Adjusted geometric mean)                                      0.55488       0.75865       \n",
      "AM(Difference between automatic and manual classification)        53            -53           \n",
      "AUC(Area under the ROC curve)                                     0.65928       0.65928       \n",
      "AUCI(AUC value interpretation)                                    Fair          Fair          \n",
      "AUPR(Area under the PR curve)                                     0.92831       0.49386       \n",
      "BCD(Bray-Curtis dissimilarity)                                    0.03312       0.03312       \n",
      "BM(Informedness or bookmaker informedness)                        0.31855       0.31855       \n",
      "CEN(Confusion entropy)                                            0.334         0.91298       \n",
      "DOR(Diagnostic odds ratio)                                        14.42154      14.42154      \n",
      "DP(Discriminant power)                                            0.639         0.639         \n",
      "DPI(Discriminant power interpretation)                            Poor          Poor          \n",
      "ERR(Error rate)                                                   0.12875       0.12875       \n",
      "F0.5(F0.5 score)                                                  0.90657       0.54707       \n",
      "F1(F1 score - harmonic mean of precision and sensitivity)         0.927         0.45503       \n",
      "F2(F2 score)                                                      0.94838       0.38949       \n",
      "FDR(False discovery rate)                                         0.10656       0.36765       \n",
      "FN(False negative/miss/type 2 error)                              25            78            \n",
      "FNR(Miss rate or false negative rate)                             0.03682       0.64463       \n",
      "FOR(False omission rate)                                          0.36765       0.10656       \n",
      "FP(False positive/type 1 error/false alarm)                       78            25            \n",
      "FPR(Fall-out or false positive rate)                              0.64463       0.03682       \n",
      "G(G-measure geometric mean of precision and sensitivity)          0.92766       0.47405       \n",
      "GI(Gini index)                                                    0.31855       0.31855       \n",
      "GM(G-mean geometric mean of specificity and sensitivity)          0.58505       0.58505       \n",
      "IBA(Index of balanced accuracy)                                   0.55033       0.13424       \n",
      "ICSI(Individual classification success index)                     0.85662       -0.01228      \n",
      "IS(Information score)                                             0.07404       2.06379       \n",
      "J(Jaccard index)                                                  0.86394       0.29452       \n",
      "LS(Lift score)                                                    1.05266       4.18085       \n",
      "MCC(Matthews correlation coefficient)                             0.40926       0.40926       \n",
      "MCCI(Matthews correlation coefficient interpretation)             Weak          Weak          \n",
      "MCEN(Modified confusion entropy)                                  0.50033       0.91914       \n",
      "MK(Markedness)                                                    0.5258        0.5258        \n",
      "N(Condition negative)                                             121           679           \n",
      "NLR(Negative likelihood ratio)                                    0.10361       0.66927       \n",
      "NLRI(Negative likelihood ratio interpretation)                    Fair          Negligible    \n",
      "NPV(Negative predictive value)                                    0.63235       0.89344       \n",
      "OC(Overlap coefficient)                                           0.96318       0.63235       \n",
      "OOC(Otsuka-Ochiai coefficient)                                    0.92766       0.47405       \n",
      "OP(Optimized precision)                                           0.41028       0.41028       \n",
      "P(Condition positive or support)                                  679           121           \n",
      "PLR(Positive likelihood ratio)                                    1.49417       9.6519        \n",
      "PLRI(Positive likelihood ratio interpretation)                    Poor          Fair          \n",
      "POP(Population)                                                   800           800           \n",
      "PPV(Precision or positive predictive value)                       0.89344       0.63235       \n",
      "PRE(Prevalence)                                                   0.84875       0.15125       \n",
      "Q(Yule Q - coefficient of colligation)                            0.87031       0.87031       \n",
      "QI(Yule Q interpretation)                                         Strong        Strong        \n",
      "RACC(Random accuracy)                                             0.77661       0.01286       \n",
      "RACCU(Random accuracy unbiased)                                   0.7777        0.01395       \n",
      "TN(True negative/correct rejection)                               43            654           \n",
      "TNR(Specificity or true negative rate)                            0.35537       0.96318       \n",
      "TON(Test outcome negative)                                        68            732           \n",
      "TOP(Test outcome positive)                                        732           68            \n",
      "TP(True positive/hit)                                             654           43            \n",
      "TPR(Sensitivity, recall, hit rate, or true positive rate)         0.96318       0.35537       \n",
      "Y(Youden index)                                                   0.31855       0.31855       \n",
      "dInd(Distance index)                                              0.64568       0.64568       \n",
      "sInd(Similarity index)                                            0.54344       0.54344       \n",
      "\n"
     ]
    }
   ],
   "source": [
    "# we use pycm to show the performance\n",
    "\n",
    "from pycm import ConfusionMatrix\n",
    "\n",
    "cm = ConfusionMatrix(actual_vector=y_test, predict_vector=y_pred)\n",
    "print(cm)"
   ]
  },
  {
   "cell_type": "markdown",
   "metadata": {
    "id": "IMkAhjr6BdKl"
   },
   "source": [
    "After seeing a simple example, we discuss more about the network.\n",
    "Normally, when building a neural network, we will do the following steps:\n",
    "\n",
    "### Define a set of function (Network architecture)\n",
    "We can see that the neuron unit can be regarded as a logistic regression-like operation.\n",
    "In general, the unit will do `activation_function(weight * input + bias)` computation.\n",
    "\n",
    "![ff](https://raw.githubusercontent.com/ckbjimmy/2018_mlw/master/img/ff.png)\n",
    "\n",
    "[Source] Courtesy by Prof. HY Lee (NTU)\n",
    "\n",
    "In the feedforward model, the layer function we used is `Dense` (fully-connected layer).\n",
    "For the `Dense` layer, you need to assign the input size, output size (`units`), and the activation function.\n",
    "For activation function, you can try the following options: `softplus`, `softsign`, `relu`, `tanh`, `sigmoid`, `hard_sigmoid`, `linear`, depends on your needs.\n",
    "However, `relu` are the most commonly used functions for intermediate layers, and `sigmoid`/`softmax` for the last layer (binary/multiclass).\n",
    "\n",
    "Multiple hidden layers are good, but there is no theorerical consensus how many layers / how many neurons / what hyperparameters you need to use to get the best performance. (That's why some people think that deep learning approach has become [alchemy](https://www.reddit.com/r/compsci/comments/7jiipp/lecun_vs_rahimi_has_machine_learning_become/))\n",
    "\n",
    "![stack](https://1.bp.blogspot.com/-gZ7UBZ-wiBE/WZU12kj6wDI/AAAAAAAAKNQ/U8998PG8U30fgzZUWVtQhzl5fpVlCxnSwCLcBGAs/s1600/layers.jpg))\n",
    "\n",
    "[Source] http://www.cl.cam.ac.uk/~pv273/slides/LOSSlides.pdf\n",
    "\n",
    "### Goodness of function (Define loss)\n",
    "The goal of prediction is to minimize the difference between the predicted value and the ground truth label. \n",
    "We need to decide how to compute the difference between them, we call this \"objective\" in deep learning.\n",
    "\n",
    "![loss](https://raw.githubusercontent.com/ckbjimmy/2018_mlw/master/img/loss.png)\n",
    "\n",
    "[Source] Courtesy by Prof. HY Lee (NTU)\n",
    "\n",
    "In the first case, we will use `binary_crossentropy` for the binary classification task. \n",
    "For more objectives, please refer to the [keras document](https://keras.io/objectives/).\n",
    "\n",
    "### Choose the best function (Optimization and parameter setting)\n",
    "We also need to decide which optimizer will be used in the network. \n",
    "The commonly used optimizers include: `SGD, RMSprop, Adagrad, Adadelta, Adam, Adamax, Nadam`.\n",
    "The backpropagation algorithm will use the selected optimizer to minimize the objective (loss) function we defined previously.\n",
    "Finally, we need to decide the parameters `batch_size` and `epochs` for training. \n",
    "Batch size influences the speed and performance so you have to tune it and do some experiments.\n",
    "If you have $1000$ training samples and set `batch_size=50`, then in one epoch (going through all training samples once) you need to update parameters for $\\frac{1000}{50}=20$ times, until all \"mini-batches\" are picked.\n",
    "\n",
    "For prediction, you can simply use `model.evaluate()` to get the performance metrics, and use `model.predict()` to obtain the predicted results.\n",
    "\n",
    "### (optional) Exercise of regularization\n",
    "Regularization is a pratical way to prevent from overfitting problem. \n",
    "You may try to add `BatchNormalization` (batch normalization) or `Dropout` (dropout) layers and see whether they will be helpful for modeling.\n",
    "\n"
   ]
  },
  {
   "cell_type": "markdown",
   "metadata": {
    "id": "g1r0BWxzyXea"
   },
   "source": [
    "\n",
    "## Exercise\n",
    "\n",
    "Now try to play with the breast cancer dataset and see whether deep neural network works well on the smaller dataset."
   ]
  },
  {
   "cell_type": "code",
   "execution_count": 13,
   "metadata": {
    "colab": {
     "base_uri": "https://localhost:8080/",
     "height": 1000
    },
    "id": "MPBtBuZTIJbx",
    "outputId": "d43caa47-fb9f-4a87-ba6e-f4de990b39a1"
   },
   "outputs": [
    {
     "name": "stdout",
     "output_type": "stream",
     "text": [
      "Model: \"sequential_2\"\n",
      "_________________________________________________________________\n",
      "Layer (type)                 Output Shape              Param #   \n",
      "=================================================================\n",
      "dense_6 (Dense)              (None, 16)                496       \n",
      "_________________________________________________________________\n",
      "dense_7 (Dense)              (None, 16)                272       \n",
      "_________________________________________________________________\n",
      "dense_8 (Dense)              (None, 1)                 17        \n",
      "=================================================================\n",
      "Total params: 785\n",
      "Trainable params: 785\n",
      "Non-trainable params: 0\n",
      "_________________________________________________________________\n",
      "None\n",
      "Epoch 1/50\n",
      "4/4 [==============================] - 0s 40ms/step - loss: 0.6838 - accuracy: 0.5824 - val_loss: 0.6761 - val_accuracy: 0.3626\n",
      "Epoch 2/50\n",
      "4/4 [==============================] - 0s 7ms/step - loss: 0.6707 - accuracy: 0.3736 - val_loss: 0.6745 - val_accuracy: 0.3626\n",
      "Epoch 3/50\n",
      "4/4 [==============================] - 0s 7ms/step - loss: 0.6682 - accuracy: 0.3736 - val_loss: 0.6701 - val_accuracy: 0.3626\n",
      "Epoch 4/50\n",
      "4/4 [==============================] - 0s 7ms/step - loss: 0.6609 - accuracy: 0.3736 - val_loss: 0.6604 - val_accuracy: 0.3626\n",
      "Epoch 5/50\n",
      "4/4 [==============================] - 0s 7ms/step - loss: 0.6519 - accuracy: 0.3791 - val_loss: 0.6512 - val_accuracy: 0.4396\n",
      "Epoch 6/50\n",
      "4/4 [==============================] - 0s 7ms/step - loss: 0.6430 - accuracy: 0.5330 - val_loss: 0.6414 - val_accuracy: 0.6484\n",
      "Epoch 7/50\n",
      "4/4 [==============================] - 0s 7ms/step - loss: 0.6317 - accuracy: 0.7225 - val_loss: 0.6292 - val_accuracy: 0.7143\n",
      "Epoch 8/50\n",
      "4/4 [==============================] - 0s 7ms/step - loss: 0.6177 - accuracy: 0.7088 - val_loss: 0.6154 - val_accuracy: 0.7033\n",
      "Epoch 9/50\n",
      "4/4 [==============================] - 0s 10ms/step - loss: 0.5986 - accuracy: 0.8022 - val_loss: 0.5973 - val_accuracy: 0.9011\n",
      "Epoch 10/50\n",
      "4/4 [==============================] - 0s 8ms/step - loss: 0.5793 - accuracy: 0.8901 - val_loss: 0.5769 - val_accuracy: 0.8901\n",
      "Epoch 11/50\n",
      "4/4 [==============================] - 0s 7ms/step - loss: 0.5548 - accuracy: 0.8956 - val_loss: 0.5542 - val_accuracy: 0.9011\n",
      "Epoch 12/50\n",
      "4/4 [==============================] - 0s 7ms/step - loss: 0.5289 - accuracy: 0.9203 - val_loss: 0.5290 - val_accuracy: 0.8901\n",
      "Epoch 13/50\n",
      "4/4 [==============================] - 0s 7ms/step - loss: 0.4997 - accuracy: 0.9066 - val_loss: 0.5001 - val_accuracy: 0.8901\n",
      "Epoch 14/50\n",
      "4/4 [==============================] - 0s 7ms/step - loss: 0.4702 - accuracy: 0.9011 - val_loss: 0.4682 - val_accuracy: 0.8681\n",
      "Epoch 15/50\n",
      "4/4 [==============================] - 0s 7ms/step - loss: 0.4304 - accuracy: 0.9121 - val_loss: 0.4382 - val_accuracy: 0.8681\n",
      "Epoch 16/50\n",
      "4/4 [==============================] - 0s 7ms/step - loss: 0.3933 - accuracy: 0.9093 - val_loss: 0.4165 - val_accuracy: 0.8571\n",
      "Epoch 17/50\n",
      "4/4 [==============================] - 0s 7ms/step - loss: 0.3617 - accuracy: 0.9011 - val_loss: 0.3803 - val_accuracy: 0.8791\n",
      "Epoch 18/50\n",
      "4/4 [==============================] - 0s 7ms/step - loss: 0.3293 - accuracy: 0.9121 - val_loss: 0.3674 - val_accuracy: 0.8571\n",
      "Epoch 19/50\n",
      "4/4 [==============================] - 0s 7ms/step - loss: 0.3044 - accuracy: 0.8984 - val_loss: 0.3385 - val_accuracy: 0.8681\n",
      "Epoch 20/50\n",
      "4/4 [==============================] - 0s 7ms/step - loss: 0.2838 - accuracy: 0.9121 - val_loss: 0.3215 - val_accuracy: 0.8791\n",
      "Epoch 21/50\n",
      "4/4 [==============================] - 0s 7ms/step - loss: 0.2672 - accuracy: 0.9093 - val_loss: 0.3091 - val_accuracy: 0.9011\n",
      "Epoch 22/50\n",
      "4/4 [==============================] - 0s 7ms/step - loss: 0.2543 - accuracy: 0.9121 - val_loss: 0.3096 - val_accuracy: 0.8791\n",
      "Epoch 23/50\n",
      "4/4 [==============================] - 0s 7ms/step - loss: 0.2551 - accuracy: 0.8984 - val_loss: 0.2942 - val_accuracy: 0.9011\n",
      "Epoch 24/50\n",
      "4/4 [==============================] - 0s 7ms/step - loss: 0.2479 - accuracy: 0.9093 - val_loss: 0.3138 - val_accuracy: 0.8681\n",
      "Epoch 25/50\n",
      "4/4 [==============================] - 0s 7ms/step - loss: 0.2509 - accuracy: 0.9038 - val_loss: 0.2928 - val_accuracy: 0.9011\n",
      "Epoch 26/50\n",
      "4/4 [==============================] - 0s 7ms/step - loss: 0.2578 - accuracy: 0.8956 - val_loss: 0.2878 - val_accuracy: 0.9011\n",
      "Epoch 27/50\n",
      "4/4 [==============================] - 0s 7ms/step - loss: 0.2497 - accuracy: 0.8929 - val_loss: 0.3647 - val_accuracy: 0.8571\n",
      "Epoch 28/50\n",
      "4/4 [==============================] - 0s 7ms/step - loss: 0.2455 - accuracy: 0.9066 - val_loss: 0.2870 - val_accuracy: 0.9011\n",
      "Epoch 29/50\n",
      "4/4 [==============================] - 0s 7ms/step - loss: 0.2473 - accuracy: 0.9066 - val_loss: 0.2882 - val_accuracy: 0.9011\n",
      "Epoch 30/50\n",
      "4/4 [==============================] - 0s 7ms/step - loss: 0.2363 - accuracy: 0.9066 - val_loss: 0.3011 - val_accuracy: 0.8791\n",
      "Epoch 31/50\n",
      "4/4 [==============================] - 0s 7ms/step - loss: 0.2258 - accuracy: 0.9066 - val_loss: 0.2795 - val_accuracy: 0.9011\n",
      "Epoch 32/50\n",
      "4/4 [==============================] - 0s 7ms/step - loss: 0.2308 - accuracy: 0.9066 - val_loss: 0.2888 - val_accuracy: 0.9011\n",
      "Epoch 33/50\n",
      "4/4 [==============================] - 0s 7ms/step - loss: 0.2383 - accuracy: 0.9066 - val_loss: 0.2883 - val_accuracy: 0.9011\n",
      "Epoch 34/50\n",
      "4/4 [==============================] - 0s 7ms/step - loss: 0.2217 - accuracy: 0.9066 - val_loss: 0.2795 - val_accuracy: 0.9011\n",
      "Epoch 35/50\n",
      "4/4 [==============================] - 0s 7ms/step - loss: 0.2392 - accuracy: 0.9038 - val_loss: 0.2981 - val_accuracy: 0.8791\n",
      "Epoch 36/50\n",
      "4/4 [==============================] - 0s 7ms/step - loss: 0.2261 - accuracy: 0.9176 - val_loss: 0.2795 - val_accuracy: 0.9121\n",
      "Epoch 37/50\n",
      "4/4 [==============================] - 0s 7ms/step - loss: 0.2221 - accuracy: 0.9176 - val_loss: 0.2834 - val_accuracy: 0.9011\n",
      "Epoch 38/50\n",
      "4/4 [==============================] - 0s 7ms/step - loss: 0.2251 - accuracy: 0.9093 - val_loss: 0.2766 - val_accuracy: 0.9011\n",
      "Epoch 39/50\n",
      "4/4 [==============================] - 0s 7ms/step - loss: 0.2301 - accuracy: 0.9038 - val_loss: 0.2921 - val_accuracy: 0.9011\n",
      "Epoch 40/50\n",
      "4/4 [==============================] - 0s 7ms/step - loss: 0.2247 - accuracy: 0.9038 - val_loss: 0.2719 - val_accuracy: 0.9011\n",
      "Epoch 41/50\n",
      "4/4 [==============================] - 0s 7ms/step - loss: 0.2242 - accuracy: 0.9011 - val_loss: 0.2830 - val_accuracy: 0.9011\n",
      "Epoch 42/50\n",
      "4/4 [==============================] - 0s 7ms/step - loss: 0.2194 - accuracy: 0.9093 - val_loss: 0.2933 - val_accuracy: 0.9011\n",
      "Epoch 43/50\n",
      "4/4 [==============================] - 0s 7ms/step - loss: 0.2232 - accuracy: 0.9093 - val_loss: 0.2707 - val_accuracy: 0.9011\n",
      "Epoch 44/50\n",
      "4/4 [==============================] - 0s 7ms/step - loss: 0.2217 - accuracy: 0.9066 - val_loss: 0.2843 - val_accuracy: 0.9011\n",
      "Epoch 45/50\n",
      "4/4 [==============================] - 0s 7ms/step - loss: 0.2175 - accuracy: 0.9093 - val_loss: 0.2707 - val_accuracy: 0.9011\n",
      "Epoch 46/50\n",
      "4/4 [==============================] - 0s 7ms/step - loss: 0.2176 - accuracy: 0.9121 - val_loss: 0.2766 - val_accuracy: 0.9121\n",
      "Epoch 47/50\n",
      "4/4 [==============================] - 0s 7ms/step - loss: 0.2145 - accuracy: 0.9176 - val_loss: 0.2700 - val_accuracy: 0.9011\n",
      "Epoch 48/50\n",
      "4/4 [==============================] - 0s 7ms/step - loss: 0.2167 - accuracy: 0.9176 - val_loss: 0.2726 - val_accuracy: 0.9121\n",
      "Epoch 49/50\n",
      "4/4 [==============================] - 0s 7ms/step - loss: 0.2151 - accuracy: 0.9176 - val_loss: 0.2693 - val_accuracy: 0.9011\n",
      "Epoch 50/50\n",
      "4/4 [==============================] - 0s 7ms/step - loss: 0.2161 - accuracy: 0.9093 - val_loss: 0.2659 - val_accuracy: 0.9011\n"
     ]
    },
    {
     "data": {
      "image/png": "[encoded data removed]",
      "text/plain": [
       "<Figure size 432x288 with 1 Axes>"
      ]
     },
     "metadata": {
      "needs_background": "light"
     },
     "output_type": "display_data"
    },
    {
     "data": {
      "image/png": "[encoded data removed]",
      "text/plain": [
       "<Figure size 432x288 with 1 Axes>"
      ]
     },
     "metadata": {
      "needs_background": "light"
     },
     "output_type": "display_data"
    },
    {
     "name": "stdout",
     "output_type": "stream",
     "text": [
      "Predict  0        1        \n",
      "Actual\n",
      "0        40       3        \n",
      "\n",
      "1        1        70       \n",
      "\n",
      "\n",
      "\n",
      "\n",
      "\n",
      "Overall Statistics : \n",
      "\n",
      "95% CI                                                            (0.93113,0.99869)\n",
      "ACC Macro                                                         0.96491\n",
      "ARI                                                               0.86287\n",
      "AUNP                                                              0.95807\n",
      "AUNU                                                              0.95807\n",
      "Bangdiwala B                                                      0.93579\n",
      "Bennett S                                                         0.92982\n",
      "CBA                                                               0.94457\n",
      "CSI                                                               0.92533\n",
      "Chi-Squared                                                       97.60145\n",
      "Chi-Squared DF                                                    1\n",
      "Conditional Entropy                                               0.20421\n",
      "Cramer V                                                          0.92529\n",
      "Cross Entropy                                                     0.95699\n",
      "F1 Macro                                                          0.9623\n",
      "F1 Micro                                                          0.96491\n",
      "FNR Macro                                                         0.04193\n",
      "FNR Micro                                                         0.03509\n",
      "FPR Macro                                                         0.04193\n",
      "FPR Micro                                                         0.03509\n",
      "Gwet AC1                                                          0.93437\n",
      "Hamming Loss                                                      0.03509\n",
      "Joint Entropy                                                     1.16024\n",
      "KL Divergence                                                     0.00096\n",
      "Kappa                                                             0.92463\n",
      "Kappa 95% CI                                                      (0.85207,0.99719)\n",
      "Kappa No Prevalence                                               0.92982\n",
      "Kappa Standard Error                                              0.03702\n",
      "Kappa Unbiased                                                    0.9246\n",
      "Krippendorff Alpha                                                0.92493\n",
      "Lambda A                                                          0.90698\n",
      "Lambda B                                                          0.90244\n",
      "Mutual Information                                                0.73818\n",
      "NIR                                                               0.62281\n",
      "Overall ACC                                                       0.96491\n",
      "Overall CEN                                                       0.19622\n",
      "Overall J                                                         (1.85504,0.92752)\n",
      "Overall MCC                                                       0.92529\n",
      "Overall MCEN                                                      0.16301\n",
      "Overall RACC                                                      0.53447\n",
      "Overall RACCU                                                     0.53463\n",
      "P-Value                                                           0.0\n",
      "PPV Macro                                                         0.96726\n",
      "PPV Micro                                                         0.96491\n",
      "Pearson C                                                         0.67915\n",
      "Phi-Squared                                                       0.85615\n",
      "RCI                                                               0.77213\n",
      "RR                                                                57.0\n",
      "Reference Entropy                                                 0.95604\n",
      "Response Entropy                                                  0.94239\n",
      "SOA1(Landis & Koch)                                               Almost Perfect\n",
      "SOA2(Fleiss)                                                      Excellent\n",
      "SOA3(Altman)                                                      Very Good\n",
      "SOA4(Cicchetti)                                                   Excellent\n",
      "SOA5(Cramer)                                                      Very Strong\n",
      "SOA6(Matthews)                                                    Very Strong\n",
      "Scott PI                                                          0.9246\n",
      "Standard Error                                                    0.01723\n",
      "TNR Macro                                                         0.95807\n",
      "TNR Micro                                                         0.96491\n",
      "TPR Macro                                                         0.95807\n",
      "TPR Micro                                                         0.96491\n",
      "Zero-one Loss                                                     4\n",
      "\n",
      "Class Statistics :\n",
      "\n",
      "Classes                                                           0             1             \n",
      "ACC(Accuracy)                                                     0.96491       0.96491       \n",
      "AGF(Adjusted F-score)                                             0.95149       0.97326       \n",
      "AGM(Adjusted geometric mean)                                      0.96851       0.95015       \n",
      "AM(Difference between automatic and manual classification)        -2            2             \n",
      "AUC(Area under the ROC curve)                                     0.95807       0.95807       \n",
      "AUCI(AUC value interpretation)                                    Excellent     Excellent     \n",
      "AUPR(Area under the PR curve)                                     0.95292       0.97241       \n",
      "BCD(Bray-Curtis dissimilarity)                                    0.00877       0.00877       \n",
      "BM(Informedness or bookmaker informedness)                        0.91615       0.91615       \n",
      "CEN(Confusion entropy)                                            0.24779       0.16614       \n",
      "DOR(Diagnostic odds ratio)                                        933.33333     933.33333     \n",
      "DP(Discriminant power)                                            1.63747       1.63747       \n",
      "DPI(Discriminant power interpretation)                            Limited       Limited       \n",
      "ERR(Error rate)                                                   0.03509       0.03509       \n",
      "F0.5(F0.5 score)                                                  0.96618       0.96419       \n",
      "F1(F1 score - harmonic mean of precision and sensitivity)         0.95238       0.97222       \n",
      "F2(F2 score)                                                      0.93897       0.98039       \n",
      "FDR(False discovery rate)                                         0.02439       0.0411        \n",
      "FN(False negative/miss/type 2 error)                              3             1             \n",
      "FNR(Miss rate or false negative rate)                             0.06977       0.01408       \n",
      "FOR(False omission rate)                                          0.0411        0.02439       \n",
      "FP(False positive/type 1 error/false alarm)                       1             3             \n",
      "FPR(Fall-out or false positive rate)                              0.01408       0.06977       \n",
      "G(G-measure geometric mean of precision and sensitivity)          0.95265       0.97232       \n",
      "GI(Gini index)                                                    0.91615       0.91615       \n",
      "GM(G-mean geometric mean of specificity and sensitivity)          0.95767       0.95767       \n",
      "IBA(Index of balanced accuracy)                                   0.86606       0.9682        \n",
      "ICSI(Individual classification success index)                     0.90584       0.94482       \n",
      "IS(Information score)                                             1.371         0.6226        \n",
      "J(Jaccard index)                                                  0.90909       0.94595       \n",
      "LS(Lift score)                                                    2.5865        1.53965       \n",
      "MCC(Matthews correlation coefficient)                             0.92529       0.92529       \n",
      "MCCI(Matthews correlation coefficient interpretation)             Very Strong   Very Strong   \n",
      "MCEN(Modified confusion entropy)                                  0.38825       0.27139       \n",
      "MK(Markedness)                                                    0.93451       0.93451       \n",
      "N(Condition negative)                                             71            43            \n",
      "NLR(Negative likelihood ratio)                                    0.07076       0.01514       \n",
      "NLRI(Negative likelihood ratio interpretation)                    Good          Good          \n",
      "NPV(Negative predictive value)                                    0.9589        0.97561       \n",
      "OC(Overlap coefficient)                                           0.97561       0.98592       \n",
      "OOC(Otsuka-Ochiai coefficient)                                    0.95265       0.97232       \n",
      "OP(Optimized precision)                                           0.93585       0.93585       \n",
      "P(Condition positive or support)                                  43            71            \n",
      "PLR(Positive likelihood ratio)                                    66.04651      14.13146      \n",
      "PLRI(Positive likelihood ratio interpretation)                    Good          Good          \n",
      "POP(Population)                                                   114           114           \n",
      "PPV(Precision or positive predictive value)                       0.97561       0.9589        \n",
      "PRE(Prevalence)                                                   0.37719       0.62281       \n",
      "Q(Yule Q - coefficient of colligation)                            0.99786       0.99786       \n",
      "QI(Yule Q interpretation)                                         Strong        Strong        \n",
      "RACC(Random accuracy)                                             0.13566       0.39882       \n",
      "RACCU(Random accuracy unbiased)                                   0.13573       0.39889       \n",
      "TN(True negative/correct rejection)                               70            40            \n",
      "TNR(Specificity or true negative rate)                            0.98592       0.93023       \n",
      "TON(Test outcome negative)                                        73            41            \n",
      "TOP(Test outcome positive)                                        41            73            \n",
      "TP(True positive/hit)                                             40            70            \n",
      "TPR(Sensitivity, recall, hit rate, or true positive rate)         0.93023       0.98592       \n",
      "Y(Youden index)                                                   0.91615       0.91615       \n",
      "dInd(Distance index)                                              0.07117       0.07117       \n",
      "sInd(Similarity index)                                            0.94967       0.94967       \n",
      "\n"
     ]
    }
   ],
   "source": [
    "from sklearn import datasets\n",
    "\n",
    "df_bc = datasets.load_breast_cancer()\n",
    "X = df_bc['data']\n",
    "y = df_bc['target']\n",
    "X_train, X_test, y_train, y_test = train_test_split(X, y, test_size = 0.2, random_state = 42)\n",
    "\n",
    "clf = Sequential()\n",
    "clf.add(Dense(units=16, \n",
    "              kernel_initializer='uniform',\n",
    "              activation='relu', \n",
    "              input_dim=X.shape[1]))\n",
    "clf.add(Dense(units=16, \n",
    "              kernel_initializer='uniform', \n",
    "              activation='relu'))\n",
    "clf.add(Dense(units=1, \n",
    "              kernel_initializer='uniform', \n",
    "              activation='sigmoid'))\n",
    "clf.compile(optimizer='adam', \n",
    "            loss='binary_crossentropy', \n",
    "            metrics=['accuracy'])\n",
    "print(clf.summary())\n",
    "\n",
    "history = clf.fit(x=X_train, y=y_train,\n",
    "                    validation_split=0.2,  \n",
    "                    batch_size=100,\n",
    "                    epochs=50, \n",
    "                    verbose=1)\n",
    "\n",
    "show_train_history(history, 'accuracy', 'val_accuracy')\n",
    "show_train_history(history, 'loss', 'val_loss')\n",
    "\n",
    "y_pred = clf.predict(X_test)\n",
    "y_pred = [1 if i[0] > 0.5 else 0 for i in y_pred]\n",
    "\n",
    "cm = ConfusionMatrix(actual_vector=y_test, predict_vector=y_pred)\n",
    "print(cm)"
   ]
  },
  {
   "cell_type": "markdown",
   "metadata": {
    "id": "KgwFOuGah7KL"
   },
   "source": [
    "## Convolutional neural network (CNN) for image data\n",
    "\n",
    "Sometimes we will use image instead of structured tabular data for clinical data predictive analytics.\n",
    "Here we show a very simple image classification workflow using [MNIST handwriting database](https://en.wikipedia.org/wiki/MNIST_database) since there is no small but suitable medical image dataset for simple demonstration with deep neural network.\n",
    "\n",
    "Although not business focused, MNIST is already included in the `keras` and we can simply load it through the `keras` provided functions.\n",
    "But we still need to do reshape the data to the proper format, and normalize them before feed into the model.\n",
    "\n",
    "First, we will just simply use the feedforward neural network for image classification (10 classes)."
   ]
  },
  {
   "cell_type": "code",
   "execution_count": 14,
   "metadata": {
    "colab": {
     "base_uri": "https://localhost:8080/"
    },
    "id": "x9jbyLh-iCR4",
    "outputId": "2163918d-7efc-4a62-f734-d52dc957f20b"
   },
   "outputs": [],
   "source": [
    "import numpy as np\n",
    "import pandas as pd\n",
    "from keras.utils import np_utils\n",
    "from keras.datasets import mnist\n",
    "\n",
    "# load MNIST\n",
    "(X_train, y_train), (X_test, y_test) = mnist.load_data()\n",
    "\n",
    "# reshape the data\n",
    "X_train = X_train.reshape(60000, 28*28).astype('float32')\n",
    "X_test = X_test.reshape(10000, 28*28).astype('float32')\n",
    "  \n",
    "# normalize the data\n",
    "X_train = X_train/255\n",
    "X_test = X_test/255\n",
    "\n",
    "# for keras classification, we need to use `to_categorical` to transform the label to appropriate format\n",
    "y_train = np_utils.to_categorical(y_train)\n",
    "y_test = np_utils.to_categorical(y_test)"
   ]
  },
  {
   "cell_type": "code",
   "execution_count": 15,
   "metadata": {
    "colab": {
     "base_uri": "https://localhost:8080/",
     "height": 677
    },
    "id": "a4olgmYvoi-A",
    "outputId": "629b22b8-b3b0-4c11-b01a-eeea31eb8b5b"
   },
   "outputs": [
    {
     "name": "stdout",
     "output_type": "stream",
     "text": [
      "Model: \"sequential_3\"\n",
      "_________________________________________________________________\n",
      "Layer (type)                 Output Shape              Param #   \n",
      "=================================================================\n",
      "dense_9 (Dense)              (None, 256)               200960    \n",
      "_________________________________________________________________\n",
      "dense_10 (Dense)             (None, 256)               65792     \n",
      "_________________________________________________________________\n",
      "dense_11 (Dense)             (None, 10)                2570      \n",
      "=================================================================\n",
      "Total params: 269,322\n",
      "Trainable params: 269,322\n",
      "Non-trainable params: 0\n",
      "_________________________________________________________________\n",
      "None\n"
     ]
    }
   ],
   "source": [
    "clf = Sequential()\n",
    "clf.add(Dense(units=256, \n",
    "                input_dim=784, \n",
    "                kernel_initializer='normal', \n",
    "                activation='relu'))\n",
    "clf.add(Dense(units=256, \n",
    "                input_dim=64, \n",
    "                kernel_initializer='normal', \n",
    "                activation='relu'))\n",
    "clf.add(Dense(units=10, \n",
    "                kernel_initializer='normal', \n",
    "                activation='softmax'))\n",
    "print(clf.summary())\n",
    "\n"
   ]
  },
  {
   "cell_type": "code",
   "execution_count": 16,
   "metadata": {
    "colab": {
     "base_uri": "https://localhost:8080/",
     "height": 947
    },
    "id": "dg1lEEyXZUJn",
    "outputId": "857ad702-43c2-45ab-9019-ee0b8b608295"
   },
   "outputs": [
    {
     "name": "stdout",
     "output_type": "stream",
     "text": [
      "Epoch 1/10\n",
      "240/240 - 1s - loss: 0.3741 - accuracy: 0.8956 - val_loss: 0.1708 - val_accuracy: 0.9498\n",
      "Epoch 2/10\n",
      "240/240 - 1s - loss: 0.1404 - accuracy: 0.9586 - val_loss: 0.1371 - val_accuracy: 0.9601\n",
      "Epoch 3/10\n",
      "240/240 - 1s - loss: 0.0932 - accuracy: 0.9725 - val_loss: 0.1157 - val_accuracy: 0.9643\n",
      "Epoch 4/10\n",
      "240/240 - 1s - loss: 0.0681 - accuracy: 0.9798 - val_loss: 0.0980 - val_accuracy: 0.9714\n",
      "Epoch 5/10\n",
      "240/240 - 1s - loss: 0.0492 - accuracy: 0.9856 - val_loss: 0.0864 - val_accuracy: 0.9738\n",
      "Epoch 6/10\n",
      "240/240 - 1s - loss: 0.0372 - accuracy: 0.9892 - val_loss: 0.0889 - val_accuracy: 0.9757\n",
      "Epoch 7/10\n",
      "240/240 - 1s - loss: 0.0282 - accuracy: 0.9914 - val_loss: 0.0924 - val_accuracy: 0.9748\n",
      "Epoch 8/10\n",
      "240/240 - 1s - loss: 0.0223 - accuracy: 0.9933 - val_loss: 0.0977 - val_accuracy: 0.9736\n",
      "Epoch 9/10\n",
      "240/240 - 1s - loss: 0.0183 - accuracy: 0.9945 - val_loss: 0.0999 - val_accuracy: 0.9754\n",
      "Epoch 10/10\n",
      "240/240 - 1s - loss: 0.0148 - accuracy: 0.9955 - val_loss: 0.0966 - val_accuracy: 0.9754\n"
     ]
    },
    {
     "data": {
      "image/png": "[encoded data removed]",
      "text/plain": [
       "<Figure size 432x288 with 1 Axes>"
      ]
     },
     "metadata": {
      "needs_background": "light"
     },
     "output_type": "display_data"
    },
    {
     "data": {
      "image/png": "[encoded data removed]",
      "text/plain": [
       "<Figure size 432x288 with 1 Axes>"
      ]
     },
     "metadata": {
      "needs_background": "light"
     },
     "output_type": "display_data"
    },
    {
     "name": "stdout",
     "output_type": "stream",
     "text": [
      "313/313 [==============================] - 0s 989us/step - loss: 0.0827 - accuracy: 0.9768\n",
      "Accuracy of testing data = 97.7%\n"
     ]
    }
   ],
   "source": [
    "clf.compile(loss='categorical_crossentropy', \n",
    "              optimizer='adam', \n",
    "              metrics=['accuracy'])\n",
    "\n",
    "history = clf.fit(x=X_train, y=y_train, \n",
    "                    validation_split=0.2,  \n",
    "                    batch_size=200, \n",
    "                    epochs=10,\n",
    "                    verbose=2)\n",
    "\n",
    "show_train_history(history, 'accuracy', 'val_accuracy')\n",
    "show_train_history(history, 'loss', 'val_loss')\n",
    "\n",
    "scores = clf.evaluate(X_test, y_test)  \n",
    "print(\"Accuracy of testing data = {:2.1f}%\".format(scores[1]*100.0))"
   ]
  },
  {
   "cell_type": "markdown",
   "metadata": {
    "id": "dWoLH9FGZvEP"
   },
   "source": [
    "We can see that feedforward neural network can do a very good job on image classification. \n",
    "However, we may also use **convolutional neural network** (CNN), to do classification considering spatial information.\n",
    "\n",
    "The key steps in CNN are:\n",
    "\n",
    "- Convolution\n",
    "- Pooling\n",
    "\n",
    "The idea of convolution is to have **sparse connectivity** (each neuron only connects to parts of the previous layer) and **parameter sharing** (neurons can use the same set of parameters). \n",
    "\n",
    "![conv](https://raw.githubusercontent.com/ckbjimmy/2018_mlw/master/img/conv.png)\n",
    "\n",
    "[Source] Deep Learning, Chapter 9 (Goodfellow, 2016)\n",
    "\n",
    "The pooling strategy also group the neurons corresponding to the same filter with nearby receptive fields.\n",
    "\n",
    "![pool](https://raw.githubusercontent.com/ckbjimmy/2018_mlw/master/img/pool.png)\n",
    "\n",
    "[Source] Deep Learning, Chapter 9 (Goodfellow, 2016)\n",
    "\n",
    "These characteristics preserve the spatial information, as well as reduce the model size significantly.\n",
    "\n",
    "The following figure demonstrates the process of CNN on MNIST data.\n",
    "\n",
    "![cnn](https://codetolight.files.wordpress.com/2017/11/network.png)\n",
    "\n",
    "[Source] https://codetolight.files.wordpress.com/2017/11/network.png\n",
    "\n",
    "In the following codes, we will use `keras` to build the same model and see how the performance goes using CNN on MNIST.\n",
    "You may compare the value of the figure and those in the sequential model below.\n",
    "\n",
    "We can see that the performance significantly increase using CNN approach for image data.\n",
    "\n",
    "You can also play with changing the value of parameters such as `filters`,  `activation`,  `pool_size`,  `drop_out`, `Dense` and see how the performance will change."
   ]
  },
  {
   "cell_type": "code",
   "execution_count": 17,
   "metadata": {
    "colab": {
     "base_uri": "https://localhost:8080/",
     "height": 1000
    },
    "id": "bOsDSqzho4IF",
    "outputId": "b246a500-981a-427a-89cd-6570f6f1d9d5"
   },
   "outputs": [
    {
     "name": "stdout",
     "output_type": "stream",
     "text": [
      "Model: \"sequential_4\"\n",
      "_________________________________________________________________\n",
      "Layer (type)                 Output Shape              Param #   \n",
      "=================================================================\n",
      "conv2d_1 (Conv2D)            (None, 28, 28, 10)        260       \n",
      "_________________________________________________________________\n",
      "max_pooling2d_1 (MaxPooling2 (None, 14, 14, 10)        0         \n",
      "_________________________________________________________________\n",
      "conv2d_2 (Conv2D)            (None, 14, 14, 20)        5020      \n",
      "_________________________________________________________________\n",
      "max_pooling2d_2 (MaxPooling2 (None, 7, 7, 20)          0         \n",
      "_________________________________________________________________\n",
      "dropout_1 (Dropout)          (None, 7, 7, 20)          0         \n",
      "_________________________________________________________________\n",
      "flatten_1 (Flatten)          (None, 980)               0         \n",
      "_________________________________________________________________\n",
      "dense_1 (Dense)              (None, 100)               98100     \n",
      "_________________________________________________________________\n",
      "dense_2 (Dense)              (None, 10)                1010      \n",
      "=================================================================\n",
      "Total params: 104,390\n",
      "Trainable params: 104,390\n",
      "Non-trainable params: 0\n",
      "_________________________________________________________________\n",
      "None\n"
     ]
    }
   ],
   "source": [
    "from keras.layers import Dropout, Flatten, Conv2D, MaxPool2D \n",
    "\n",
    "(X_train, y_train), (X_test, y_test) = mnist.load_data()  \n",
    "  \n",
    "X_train = X_train.reshape(X_train.shape[0], 28, 28, 1).astype('float32')  \n",
    "X_test = X_test.reshape(X_test.shape[0], 28, 28, 1).astype('float32')\n",
    "\n",
    "X_train = X_train / 255  \n",
    "X_test = X_test /255  \n",
    "  \n",
    "y_train = np_utils.to_categorical(y_train)\n",
    "y_test = np_utils.to_categorical(y_test)\n",
    "\n",
    "clf = Sequential()  \n",
    "clf.add(Conv2D(filters=10,  \n",
    "                 kernel_size=(5, 5),  \n",
    "                 padding='same',  \n",
    "                 input_shape=(28, 28, 1),  \n",
    "                 activation='relu',\n",
    "                 name='conv2d_1')) \n",
    "clf.add(MaxPool2D(pool_size=(2,2), \n",
    "                    name='max_pooling2d_1'))  \n",
    "clf.add(Conv2D(filters=20,  \n",
    "                 kernel_size=(5, 5),  \n",
    "                 padding='same',  \n",
    "                 input_shape=(28, 28, 1),  \n",
    "                 activation='relu',\n",
    "                 name='conv2d_2'))  \n",
    "clf.add(MaxPool2D(pool_size=(2,2), \n",
    "                    name='max_pooling2d_2'))  \n",
    "clf.add(Dropout(0.25, name='dropout_1'))\n",
    "clf.add(Flatten(name='flatten_1'))\n",
    "clf.add(Dense(100, activation='relu', name='dense_1'))  \n",
    "#clf.add(Dropout(0.5, name='dropout_2'))\n",
    "clf.add(Dense(10, activation='softmax', name='dense_2'))\n",
    "print(clf.summary())\n",
    "\n"
   ]
  },
  {
   "cell_type": "code",
   "execution_count": 18,
   "metadata": {
    "colab": {
     "base_uri": "https://localhost:8080/",
     "height": 947
    },
    "id": "4-mgNDeXascS",
    "outputId": "c9d558e2-81f5-49c1-f1f9-64609a83cf48"
   },
   "outputs": [
    {
     "name": "stdout",
     "output_type": "stream",
     "text": [
      "Epoch 1/10\n",
      "240/240 [==============================] - 12s 48ms/step - loss: 0.4041 - accuracy: 0.8773 - val_loss: 0.1051 - val_accuracy: 0.9690\n",
      "Epoch 2/10\n",
      "240/240 [==============================] - 12s 49ms/step - loss: 0.1001 - accuracy: 0.9688 - val_loss: 0.0676 - val_accuracy: 0.9798\n",
      "Epoch 3/10\n",
      "240/240 [==============================] - 13s 53ms/step - loss: 0.0714 - accuracy: 0.9783 - val_loss: 0.0566 - val_accuracy: 0.9827\n",
      "Epoch 4/10\n",
      "240/240 [==============================] - 13s 54ms/step - loss: 0.0580 - accuracy: 0.9818 - val_loss: 0.0462 - val_accuracy: 0.9868\n",
      "Epoch 5/10\n",
      "240/240 [==============================] - 12s 52ms/step - loss: 0.0481 - accuracy: 0.9845 - val_loss: 0.0405 - val_accuracy: 0.9880\n",
      "Epoch 6/10\n",
      "240/240 [==============================] - 12s 51ms/step - loss: 0.0414 - accuracy: 0.9865 - val_loss: 0.0387 - val_accuracy: 0.9890\n",
      "Epoch 7/10\n",
      "240/240 [==============================] - 12s 51ms/step - loss: 0.0375 - accuracy: 0.9879 - val_loss: 0.0371 - val_accuracy: 0.9884\n",
      "Epoch 8/10\n",
      "240/240 [==============================] - 12s 51ms/step - loss: 0.0317 - accuracy: 0.9898 - val_loss: 0.0390 - val_accuracy: 0.9876\n",
      "Epoch 9/10\n",
      "240/240 [==============================] - 12s 51ms/step - loss: 0.0294 - accuracy: 0.9901 - val_loss: 0.0312 - val_accuracy: 0.9901\n",
      "Epoch 10/10\n",
      "240/240 [==============================] - 12s 51ms/step - loss: 0.0272 - accuracy: 0.9909 - val_loss: 0.0355 - val_accuracy: 0.9900\n"
     ]
    },
    {
     "data": {
      "image/png": "[encoded data removed]",
      "text/plain": [
       "<Figure size 432x288 with 1 Axes>"
      ]
     },
     "metadata": {
      "needs_background": "light"
     },
     "output_type": "display_data"
    },
    {
     "data": {
      "image/png": "[encoded data removed]",
      "text/plain": [
       "<Figure size 432x288 with 1 Axes>"
      ]
     },
     "metadata": {
      "needs_background": "light"
     },
     "output_type": "display_data"
    },
    {
     "name": "stdout",
     "output_type": "stream",
     "text": [
      "313/313 [==============================] - 1s 2ms/step - loss: 0.0276 - accuracy: 0.9906\n",
      "Accuracy of testing data = 99.1%\n"
     ]
    }
   ],
   "source": [
    "clf.compile(loss='categorical_crossentropy', \n",
    "              optimizer='adam', \n",
    "              metrics=['accuracy'])  \n",
    "  \n",
    "history = clf.fit(x=X_train, y=y_train,\n",
    "                    validation_split=0.2,  \n",
    "                    batch_size=200,\n",
    "                    epochs=10, \n",
    "                    verbose=1)\n",
    "\n",
    "show_train_history(history, 'accuracy', 'val_accuracy')\n",
    "show_train_history(history, 'loss', 'val_loss')\n",
    "\n",
    "scores = clf.evaluate(X_test, y_test)  \n",
    "print(\"Accuracy of testing data = {:2.1f}%\".format(scores[1]*100.0))"
   ]
  },
  {
   "cell_type": "markdown",
   "metadata": {
    "id": "xgpjjElhiC2m"
   },
   "source": [
    "## Recurrent neural network (RNN) for sequential data / text\n",
    "\n",
    "Text data are even much important for clinical data predictive analytics since they usually include a lot of information that are not saved in the tabular data.\n",
    "However, preprocessing text data is quite messy and time-consuming (but extremely important).\n",
    "We won't cover this part in the tutorial but only quickly go through the modeling.\n",
    "\n",
    "We again show a simple text sentiment classification workflow using [IMDB Movie reviews sentiment classification database](https://keras.io/datasets/), which is already preprocessed and labeled.\n",
    "\n",
    "For your own text data, please make sure that they are in the same format as the IMDB dataset in `keras`.\n",
    "\n",
    "For text data, you will use a type of neural network, **recurrent neural network** (RNN) for the sequential information. \n",
    "RNN and its variants can be used for different kinds of sequential data such as text, speech, audio or time-series data.\n",
    "\n",
    "RNN has the feature of memorizing the previous input while training through passing the hidden state to the neural network again and again---which is suitable for sequential modeling.\n",
    "\n",
    "![rnn](https://raw.githubusercontent.com/ckbjimmy/2018_mlw/master/img/rnn.png)\n",
    "\n",
    "[Source] Deep Learning, Chapter 10 (Goodfellow, 2016)\n",
    "\n",
    "Here we just demonstrate two approaches of modeling the IMDB data:\n",
    "\n",
    "- using a RNN variant, long short term memory neural network (LSTM) for modeling,\n",
    "- combining CNN and LSTM for modeling (CNN for compressing the sequence information).\n",
    "\n",
    "For the detailed differences of neural network architecture, please check the figure of neural networks below.\n",
    "\n",
    "To make the modeling process simpler, we make all sequences (texts) the same length using zero padding."
   ]
  },
  {
   "cell_type": "code",
   "execution_count": 19,
   "metadata": {
    "colab": {
     "base_uri": "https://localhost:8080/",
     "height": 728
    },
    "id": "JoCgy6YGiF3U",
    "outputId": "b6b3254d-148b-43c0-bc82-9923ab1c2546"
   },
   "outputs": [
    {
     "name": "stdout",
     "output_type": "stream",
     "text": [
      "Model: \"sequential_5\"\n",
      "_________________________________________________________________\n",
      "Layer (type)                 Output Shape              Param #   \n",
      "=================================================================\n",
      "embedding (Embedding)        (None, 200, 32)           96000     \n",
      "_________________________________________________________________\n",
      "lstm (LSTM)                  (None, 100)               53200     \n",
      "_________________________________________________________________\n",
      "dense_12 (Dense)             (None, 1)                 101       \n",
      "=================================================================\n",
      "Total params: 149,301\n",
      "Trainable params: 149,301\n",
      "Non-trainable params: 0\n",
      "_________________________________________________________________\n",
      "None\n"
     ]
    }
   ],
   "source": [
    "from keras.datasets import imdb\n",
    "from keras.layers import LSTM\n",
    "from keras.layers.embeddings import Embedding\n",
    "from keras.preprocessing import sequence\n",
    "\n",
    "top_words = 3000\n",
    "max_review_length = 200\n",
    "embedding_vecor_length = 32\n",
    "\n",
    "(X_train, y_train), (X_test, y_test) = imdb.load_data(num_words=top_words)\n",
    "\n",
    "X_train = sequence.pad_sequences(X_train, maxlen=max_review_length)\n",
    "X_test = sequence.pad_sequences(X_test, maxlen=max_review_length)\n",
    "\n",
    "# LSTM\n",
    "clf = Sequential()\n",
    "clf.add(Embedding(top_words, embedding_vecor_length, input_length=max_review_length))\n",
    "clf.add(LSTM(100))\n",
    "clf.add(Dense(1, activation='sigmoid'))\n",
    "clf.compile(loss='binary_crossentropy', optimizer='adam', metrics=['accuracy'])\n",
    "print(clf.summary())\n",
    "\n"
   ]
  },
  {
   "cell_type": "code",
   "execution_count": 20,
   "metadata": {
    "colab": {
     "base_uri": "https://localhost:8080/",
     "height": 947
    },
    "id": "_GFrLen-dwb1",
    "outputId": "a6019445-4f68-49cc-aca4-bb2302d5ec65"
   },
   "outputs": [
    {
     "name": "stdout",
     "output_type": "stream",
     "text": [
      "Epoch 1/10\n",
      "100/100 [==============================] - 25s 243ms/step - loss: 0.5298 - accuracy: 0.7215 - val_loss: 0.3820 - val_accuracy: 0.8374\n",
      "Epoch 2/10\n",
      "100/100 [==============================] - 24s 239ms/step - loss: 0.3115 - accuracy: 0.8717 - val_loss: 0.3332 - val_accuracy: 0.8596\n",
      "Epoch 3/10\n",
      "100/100 [==============================] - 26s 262ms/step - loss: 0.2687 - accuracy: 0.8909 - val_loss: 0.3127 - val_accuracy: 0.8716\n",
      "Epoch 4/10\n",
      "100/100 [==============================] - 28s 281ms/step - loss: 0.2486 - accuracy: 0.9028 - val_loss: 0.3222 - val_accuracy: 0.8654\n",
      "Epoch 5/10\n",
      "100/100 [==============================] - 25s 253ms/step - loss: 0.2297 - accuracy: 0.9111 - val_loss: 0.3365 - val_accuracy: 0.8558\n",
      "Epoch 6/10\n",
      "100/100 [==============================] - 27s 267ms/step - loss: 0.2284 - accuracy: 0.9121 - val_loss: 0.3724 - val_accuracy: 0.8524\n",
      "Epoch 7/10\n",
      "100/100 [==============================] - 26s 259ms/step - loss: 0.2136 - accuracy: 0.9164 - val_loss: 0.3351 - val_accuracy: 0.8558\n",
      "Epoch 8/10\n",
      "100/100 [==============================] - 26s 257ms/step - loss: 0.1961 - accuracy: 0.9257 - val_loss: 0.3370 - val_accuracy: 0.8644\n",
      "Epoch 9/10\n",
      "100/100 [==============================] - 25s 255ms/step - loss: 0.1816 - accuracy: 0.9322 - val_loss: 0.3636 - val_accuracy: 0.8624\n",
      "Epoch 10/10\n",
      "100/100 [==============================] - 28s 276ms/step - loss: 0.1699 - accuracy: 0.9379 - val_loss: 0.3884 - val_accuracy: 0.8548\n"
     ]
    },
    {
     "data": {
      "image/png": "[encoded data removed]",
      "text/plain": [
       "<Figure size 432x288 with 1 Axes>"
      ]
     },
     "metadata": {
      "needs_background": "light"
     },
     "output_type": "display_data"
    },
    {
     "data": {
      "image/png": "[encoded data removed]",
      "text/plain": [
       "<Figure size 432x288 with 1 Axes>"
      ]
     },
     "metadata": {
      "needs_background": "light"
     },
     "output_type": "display_data"
    },
    {
     "name": "stdout",
     "output_type": "stream",
     "text": [
      "782/782 [==============================] - 15s 19ms/step - loss: 0.3881 - accuracy: 0.8580\n",
      "Accuracy of testing data = 85.8%\n"
     ]
    }
   ],
   "source": [
    "history = clf.fit(x=X_train, y=y_train,\n",
    "                    validation_split=0.2,  \n",
    "                    batch_size=200,\n",
    "                    epochs=10, \n",
    "                    verbose=1)\n",
    "\n",
    "show_train_history(history, 'accuracy', 'val_accuracy')\n",
    "show_train_history(history, 'loss', 'val_loss')\n",
    "\n",
    "scores = clf.evaluate(X_test, y_test)  \n",
    "print(\"Accuracy of testing data = {:2.1f}%\".format(scores[1]*100.0))"
   ]
  },
  {
   "cell_type": "markdown",
   "metadata": {
    "id": "K0iFkXtSCMgy"
   },
   "source": [
    "Finally, we would like to combine CNN and RNN for sequential modeling.\n",
    "We utilize CNN to reduce the length of sequence and the number of parameters, in order to make the RNN training much efficient and robust (less issue of long-term dependency).\n",
    "\n",
    "The basic idea is shown in the following figure.\n",
    "\n",
    "![1dcnn](https://raw.githubusercontent.com/ckbjimmy/2018_mlw/master/img/1dcnn.png)\n",
    "\n",
    "[Source] Kim, 2014\n"
   ]
  },
  {
   "cell_type": "code",
   "execution_count": 21,
   "metadata": {
    "colab": {
     "base_uri": "https://localhost:8080/",
     "height": 1000
    },
    "id": "H5H2_u-GlQ9K",
    "outputId": "d2b5b9d6-11a2-474c-8fc7-982b963d3054"
   },
   "outputs": [
    {
     "name": "stdout",
     "output_type": "stream",
     "text": [
      "Model: \"sequential_6\"\n",
      "_________________________________________________________________\n",
      "Layer (type)                 Output Shape              Param #   \n",
      "=================================================================\n",
      "embedding_1 (Embedding)      (None, 200, 32)           96000     \n",
      "_________________________________________________________________\n",
      "conv1d (Conv1D)              (None, 200, 32)           3104      \n",
      "_________________________________________________________________\n",
      "max_pooling1d (MaxPooling1D) (None, 100, 32)           0         \n",
      "_________________________________________________________________\n",
      "dropout (Dropout)            (None, 100, 32)           0         \n",
      "_________________________________________________________________\n",
      "lstm_1 (LSTM)                (None, 100)               53200     \n",
      "_________________________________________________________________\n",
      "dropout_1 (Dropout)          (None, 100)               0         \n",
      "_________________________________________________________________\n",
      "dense_13 (Dense)             (None, 1)                 101       \n",
      "=================================================================\n",
      "Total params: 152,405\n",
      "Trainable params: 152,405\n",
      "Non-trainable params: 0\n",
      "_________________________________________________________________\n",
      "None\n"
     ]
    }
   ],
   "source": [
    "from keras.layers.convolutional import Conv1D, MaxPooling1D\n",
    "\n",
    "# CNN + LSTM\n",
    "clf = Sequential()\n",
    "clf.add(Embedding(top_words, embedding_vecor_length, input_length=max_review_length))\n",
    "clf.add(Conv1D(filters=32, kernel_size=3, padding='same', activation='relu'))\n",
    "clf.add(MaxPooling1D(pool_size=2))\n",
    "clf.add(Dropout(0.2))\n",
    "clf.add(LSTM(100))\n",
    "clf.add(Dropout(0.2))\n",
    "clf.add(Dense(1, activation='sigmoid'))\n",
    "clf.compile(loss='binary_crossentropy', optimizer='adam', metrics=['accuracy'])\n",
    "\n",
    "print(clf.summary())\n"
   ]
  },
  {
   "cell_type": "code",
   "execution_count": 22,
   "metadata": {
    "colab": {
     "base_uri": "https://localhost:8080/",
     "height": 947
    },
    "id": "NQf4IqSlegvU",
    "outputId": "d5d1bcef-3e49-4a05-c098-d37eb9755153"
   },
   "outputs": [
    {
     "name": "stdout",
     "output_type": "stream",
     "text": [
      "Epoch 1/10\n",
      "100/100 [==============================] - 18s 164ms/step - loss: 0.5393 - accuracy: 0.7072 - val_loss: 0.3318 - val_accuracy: 0.8586\n",
      "Epoch 2/10\n",
      "100/100 [==============================] - 16s 160ms/step - loss: 0.2979 - accuracy: 0.8781 - val_loss: 0.3188 - val_accuracy: 0.8680\n",
      "Epoch 3/10\n",
      "100/100 [==============================] - 17s 166ms/step - loss: 0.2428 - accuracy: 0.9050 - val_loss: 0.2931 - val_accuracy: 0.8788\n",
      "Epoch 4/10\n",
      "100/100 [==============================] - 16s 163ms/step - loss: 0.2233 - accuracy: 0.9122 - val_loss: 0.3006 - val_accuracy: 0.8766\n",
      "Epoch 5/10\n",
      "100/100 [==============================] - 18s 175ms/step - loss: 0.1957 - accuracy: 0.9251 - val_loss: 0.3137 - val_accuracy: 0.8750\n",
      "Epoch 6/10\n",
      "100/100 [==============================] - 16s 161ms/step - loss: 0.1771 - accuracy: 0.9336 - val_loss: 0.3430 - val_accuracy: 0.8666\n",
      "Epoch 7/10\n",
      "100/100 [==============================] - 16s 161ms/step - loss: 0.1611 - accuracy: 0.9416 - val_loss: 0.3428 - val_accuracy: 0.8688\n",
      "Epoch 8/10\n",
      "100/100 [==============================] - 16s 159ms/step - loss: 0.1488 - accuracy: 0.9456 - val_loss: 0.3439 - val_accuracy: 0.8654\n",
      "Epoch 9/10\n",
      "100/100 [==============================] - 17s 169ms/step - loss: 0.1268 - accuracy: 0.9570 - val_loss: 0.4027 - val_accuracy: 0.8636\n",
      "Epoch 10/10\n",
      "100/100 [==============================] - 17s 175ms/step - loss: 0.1101 - accuracy: 0.9649 - val_loss: 0.3667 - val_accuracy: 0.8690\n"
     ]
    },
    {
     "data": {
      "image/png": "[encoded data removed]",
      "text/plain": [
       "<Figure size 432x288 with 1 Axes>"
      ]
     },
     "metadata": {
      "needs_background": "light"
     },
     "output_type": "display_data"
    },
    {
     "data": {
      "image/png": "[encoded data removed]",
      "text/plain": [
       "<Figure size 432x288 with 1 Axes>"
      ]
     },
     "metadata": {
      "needs_background": "light"
     },
     "output_type": "display_data"
    },
    {
     "name": "stdout",
     "output_type": "stream",
     "text": [
      "782/782 [==============================] - 10s 12ms/step - loss: 0.3683 - accuracy: 0.8664\n",
      "Accuracy of testing data = 86.6%\n"
     ]
    }
   ],
   "source": [
    "history = clf.fit(x=X_train, y=y_train,\n",
    "                    validation_split=0.2,  \n",
    "                    batch_size=200,\n",
    "                    epochs=10, \n",
    "                    verbose=1)\n",
    "\n",
    "show_train_history(history, 'accuracy', 'val_accuracy')\n",
    "show_train_history(history, 'loss', 'val_loss')\n",
    "\n",
    "scores = clf.evaluate(X_test, y_test)  \n",
    "print(\"Accuracy of testing data = {:2.1f}%\".format(scores[1]*100.0))"
   ]
  },
  {
   "cell_type": "markdown",
   "metadata": {
    "id": "0MP25XTi7-F5"
   },
   "source": [
    "Except for the CNN, RNN and LSTM layers we used in the tutorial, you may also want to play with other RNN variants such as gated recurrent units (GRU), bidirectional RNN/LSTM/GRU.\n",
    "They are all available in Keras and all you need is computational resource.\n",
    "\n",
    "Deep neural network has many variants and many hyperparameters for fine-tuning.\n",
    "We are not going to explain all functions above.\n",
    "If you are interested in the details of the models and want to fine-tune them, please definitely go to [Keras document](https://keras.io/) for more information.\n",
    "\n",
    "We hope that this tutorial helps you understand the basic of deep neural network---feedforward neural network, CNN and RNN, and how to choose and use them in your clinical machine learning problems."
   ]
  },
  {
   "cell_type": "markdown",
   "metadata": {
    "id": "LwAYzccT97E6"
   },
   "source": [
    "## Further reading\n",
    "\n",
    "### Theory and mathematics\n",
    "- [Deep learning book](http://www.deeplearningbook.org/)\n",
    "- [Stanford CS224n: Natural Language Processing with Deep Learning](http://web.stanford.edu/class/cs224n/)\n",
    "- [Stanford CS231n: Convolutional Neural Networks for Visual Recognition](http://cs231n.stanford.edu/)\n",
    "\n",
    "### Practical\n",
    "You may want to read the documents of TensorFlow, PyTorch, Keras, Scikit-learn, ... etc. to know how to use them.\n",
    "\n",
    "- [Tensorflow Programmer's Guide](https://www.tensorflow.org/programmers_guide/)\n",
    "- [PyTorch Tutorials](https://pytorch.org/tutorials/)\n",
    "- [Coursera Deep Learning Specialization](https://www.coursera.org/specializations/deep-learning)\n",
    "- [Google Machine Learning Crash Course\n",
    "](https://developers.google.com/machine-learning/crash-course/ml-intro)\n",
    "- [Coursera Machine Learning with TensorFlow on Google Cloud Platform Specialization](https://www.coursera.org/specializations/machine-learning-tensorflow-gcp)"
   ]
  }
 ],
 "metadata": {
  "colab": {
   "collapsed_sections": [],
   "name": "Copy of nb3_nn.ipynb",
   "provenance": [],
   "toc_visible": true
  },
  "kernelspec": {
   "display_name": "Python 3",
   "language": "python",
   "name": "python3"
  },
  "language_info": {
   "codemirror_mode": {
    "name": "ipython",
    "version": 3
   },
   "file_extension": ".py",
   "mimetype": "text/x-python",
   "name": "python",
   "nbconvert_exporter": "python",
   "pygments_lexer": "ipython3",
   "version": "3.8.8"
  }
 },
 "nbformat": 4,
 "nbformat_minor": 1
}
